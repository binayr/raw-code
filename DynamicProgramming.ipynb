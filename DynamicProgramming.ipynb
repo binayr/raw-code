{
 "cells": [
  {
   "cell_type": "code",
   "execution_count": 10,
   "id": "9e463f4f",
   "metadata": {},
   "outputs": [],
   "source": [
    "from pprint import pprint"
   ]
  },
  {
   "cell_type": "code",
   "execution_count": null,
   "id": "33ef8ca0",
   "metadata": {},
   "outputs": [],
   "source": []
  },
  {
   "cell_type": "code",
   "execution_count": null,
   "id": "5d401676",
   "metadata": {},
   "outputs": [],
   "source": []
  },
  {
   "cell_type": "markdown",
   "id": "5bdab91f",
   "metadata": {},
   "source": [
    "- 0-1 knapsack (6)\n",
    "- Unbounded knapsack (5)\n",
    "- Fibbonacci(7)\n",
    "- LCS (15)\n",
    "- LIS (10)\n",
    "- Kadane's algo(6)\n",
    "- Matrix chain multiplication(7)\n",
    "- DP on Trees(4)\n",
    "- DP on Grid(14)\n",
    "- Other (5)"
   ]
  },
  {
   "cell_type": "markdown",
   "id": "8ce55078",
   "metadata": {},
   "source": [
    "### 0-1 Kanpsack\n",
    "- subset sum\n",
    "- equal sum partition\n",
    "- count of subset sum\n",
    "- minimum subset sum difference\n",
    "- target sum\n",
    "- number of subset given difference"
   ]
  },
  {
   "cell_type": "markdown",
   "id": "424413b7",
   "metadata": {},
   "source": [
    "#### Subset Sum\n",
    "Any subset sum matching the given value? True or False"
   ]
  },
  {
   "cell_type": "code",
   "execution_count": 106,
   "id": "acb37615",
   "metadata": {},
   "outputs": [],
   "source": [
    "def subset_sum(arr, _sum):\n",
    "    # Create matrix\n",
    "    t = [[-1 for i in range(_sum+1)] for j in range(len(arr)+1)]\n",
    "    # Initialize the matrix\n",
    "    for i in range(len(arr)+1):\n",
    "        for j in range(_sum+1):\n",
    "            if i == 0:\n",
    "                t[i][j] = False\n",
    "            if j == 0:\n",
    "                t[i][j] = True\n",
    "    #pprint(t)\n",
    "\n",
    "    for i in range(1, len(arr)+1):\n",
    "        for j in range(1, _sum+1):\n",
    "            if arr[i-1] <= j:\n",
    "                t[i][j] = t[i-1][j-arr[i-1]] or t[i-1][j]\n",
    "            else:\n",
    "                t[i][j] = t[i-1][j]\n",
    "    #pprint(t)\n",
    "    return t[len(arr)][_sum]\n",
    "    "
   ]
  },
  {
   "cell_type": "code",
   "execution_count": 107,
   "id": "e2b0bee6",
   "metadata": {
    "scrolled": false
   },
   "outputs": [
    {
     "data": {
      "text/plain": [
       "True"
      ]
     },
     "execution_count": 107,
     "metadata": {},
     "output_type": "execute_result"
    }
   ],
   "source": [
    "subset_sum([2,3,7,8,10], 11)"
   ]
  },
  {
   "cell_type": "code",
   "execution_count": 108,
   "id": "b4329ef5",
   "metadata": {},
   "outputs": [
    {
     "data": {
      "text/plain": [
       "False"
      ]
     },
     "execution_count": 108,
     "metadata": {},
     "output_type": "execute_result"
    }
   ],
   "source": [
    "subset_sum([2,3,7,8,10], 14)"
   ]
  },
  {
   "cell_type": "markdown",
   "id": "42da4c4d",
   "metadata": {},
   "source": [
    "#### Equal Sum Partition\n",
    "Devide the matrix into 2 partition if the sum macthes with other half True else False"
   ]
  },
  {
   "cell_type": "code",
   "execution_count": 125,
   "id": "d2444773",
   "metadata": {},
   "outputs": [],
   "source": [
    "def equal_sum_part(arr):\n",
    "    _sum = sum(arr)\n",
    "    if _sum % 2:\n",
    "        return False\n",
    "    return subset_sum(arr, _sum//2)"
   ]
  },
  {
   "cell_type": "code",
   "execution_count": 126,
   "id": "d8346a4a",
   "metadata": {},
   "outputs": [
    {
     "data": {
      "text/plain": [
       "True"
      ]
     },
     "execution_count": 126,
     "metadata": {},
     "output_type": "execute_result"
    }
   ],
   "source": [
    "equal_sum_part([1,5,11,5])"
   ]
  },
  {
   "cell_type": "markdown",
   "id": "5ff8a6c5",
   "metadata": {},
   "source": [
    "#### Count of Subset Sum"
   ]
  },
  {
   "cell_type": "code",
   "execution_count": 137,
   "id": "1a17594b",
   "metadata": {},
   "outputs": [],
   "source": [
    "def count_subset_sum(arr, _sum):\n",
    "    # Create matrix\n",
    "    t = [[-1 for i in range(_sum+1)] for j in range(len(arr)+1)]\n",
    "    # Initialize the matrix\n",
    "    for i in range(len(arr)+1):\n",
    "        for j in range(_sum+1):\n",
    "            if i == 0:\n",
    "                t[i][j] = 0\n",
    "            if j == 0:\n",
    "                t[i][j] = 1\n",
    "    #pprint(t)\n",
    "    \n",
    "    for i in range(1, len(arr)+1):\n",
    "        for j in range(1, _sum+1):\n",
    "            if arr[i-1] <= j:\n",
    "                t[i][j] = t[i-1][j-arr[i-1]] + t[i-1][j]\n",
    "            else:\n",
    "                t[i][j] = t[i-1][j]\n",
    "    pprint(t)\n",
    "    return t[len(arr)][_sum]\n",
    "    "
   ]
  },
  {
   "cell_type": "code",
   "execution_count": 141,
   "id": "0cc3e799",
   "metadata": {},
   "outputs": [
    {
     "name": "stdout",
     "output_type": "stream",
     "text": [
      "[[1, 0, 0, 0, 0, 0, 0, 0, 0, 0, 0, 0],\n",
      " [1, 0, 1, 0, 0, 0, 0, 0, 0, 0, 0, 0],\n",
      " [1, 0, 1, 1, 0, 1, 0, 0, 0, 0, 0, 0],\n",
      " [1, 0, 1, 1, 0, 1, 0, 1, 0, 1, 1, 0],\n",
      " [1, 0, 1, 1, 0, 1, 0, 1, 1, 1, 2, 1],\n",
      " [1, 0, 1, 1, 0, 1, 0, 1, 1, 1, 3, 1]]\n"
     ]
    },
    {
     "data": {
      "text/plain": [
       "1"
      ]
     },
     "execution_count": 141,
     "metadata": {},
     "output_type": "execute_result"
    }
   ],
   "source": [
    "count_subset_sum([2,3,7,8,10], 11)"
   ]
  },
  {
   "cell_type": "markdown",
   "id": "efb5efa1",
   "metadata": {},
   "source": [
    "#### Minimum Subset Sum Difference\n",
    "Partition the array in such a way that the difference of both part will be minimum"
   ]
  },
  {
   "cell_type": "code",
   "execution_count": 155,
   "id": "74569da0",
   "metadata": {},
   "outputs": [],
   "source": [
    "def subset_sum(arr, _sum):\n",
    "    # Create matrix\n",
    "    t = [[-1 for i in range(_sum+1)] for j in range(len(arr)+1)]\n",
    "    # Initialize the matrix\n",
    "    for i in range(len(arr)+1):\n",
    "        for j in range(_sum+1):\n",
    "            if i == 0:\n",
    "                t[i][j] = False\n",
    "            if j == 0:\n",
    "                t[i][j] = True\n",
    "    #pprint(t)\n",
    "    \n",
    "    for i in range(1, len(arr)+1):\n",
    "        for j in range(1, _sum+1):\n",
    "            if arr[i-1] <= j:\n",
    "                t[i][j] = t[i-1][j-arr[i-1]] or t[i-1][j]\n",
    "            else:\n",
    "                t[i][j] = t[i-1][j]\n",
    "    #pprint(t)\n",
    "    return t\n",
    "\n",
    "# all the sum fall between 0 to sum(array)\n",
    "# to minimize\n",
    "# s2 - s1 -> 0\n",
    "# => sum - s1 -s1 -> 0\n",
    "# => sum - 2s1 -> 0\n",
    "# so we need to minimize (sum - 2s1) to get the solution,\n",
    "\n",
    "# also s1 will fall below half of sum and s2 will be above half of sum for the gap to minimize,\n",
    "\n",
    "def min_subset_diff(arr):\n",
    "    max_sum = sum(arr)\n",
    "    t = subset_sum(arr, max_sum)\n",
    "    vec = t[-1]\n",
    "    vec = [i for i in range(len(vec)//2) if vec[i]]\n",
    "    min_v = max_sum\n",
    "    for i in vec:\n",
    "        min_v = min(min_v, max_sum - 2*i)\n",
    "    return min_v\n",
    "    "
   ]
  },
  {
   "cell_type": "code",
   "execution_count": 156,
   "id": "172a2ecc",
   "metadata": {},
   "outputs": [
    {
     "data": {
      "text/plain": [
       "1"
      ]
     },
     "execution_count": 156,
     "metadata": {},
     "output_type": "execute_result"
    }
   ],
   "source": [
    "min_subset_diff([1,6,11,5])"
   ]
  },
  {
   "cell_type": "markdown",
   "id": "dc392e04",
   "metadata": {},
   "source": [
    "#### Target Sum"
   ]
  },
  {
   "cell_type": "code",
   "execution_count": null,
   "id": "5d8208a2",
   "metadata": {},
   "outputs": [],
   "source": []
  },
  {
   "cell_type": "markdown",
   "id": "4cc7b26a",
   "metadata": {},
   "source": [
    "### Unbounded Knapsack\n",
    "- Rod Cutting Problem\n",
    "- Coin change I\n",
    "- Coin change II\n",
    "- Maximum ribbon cut"
   ]
  },
  {
   "cell_type": "markdown",
   "id": "347ecbd2",
   "metadata": {},
   "source": [
    "#### Rod cutting problem\n",
    "```\n",
    "There is a rod of length l and price catalgue arr, Maximize the profit,\n",
    "l = 8\n",
    "arr = 1, 5, 8, 9, 10, 17, 17, 20\n",
    "```"
   ]
  },
  {
   "cell_type": "code",
   "execution_count": 161,
   "id": "2a3e2bd7",
   "metadata": {},
   "outputs": [],
   "source": [
    "def cut_rod(arr, l):\n",
    "    # Create matrix\n",
    "    t = [[-1 for i in range(l+1)] for j in range(len(arr)+1)]\n",
    "    # Initialize the matrix\n",
    "    for i in range(len(arr)+1):\n",
    "        for j in range(l+1):\n",
    "            if i == 0:\n",
    "                t[i][j] = 0\n",
    "            if j == 0:\n",
    "                t[i][j] = 0\n",
    "    pprint(t)\n",
    "    \n",
    "    for i in range(1, len(arr)+1):\n",
    "        for j in range(1, l+1):\n",
    "            if arr[i-1] <= j:\n",
    "                t[i][j] = max(arr[i-1] + t[i][j-arr[i-1]], t[i-1][j])\n",
    "            else:\n",
    "                t[i][j] = t[i-1][j]\n",
    "    pprint(t)\n",
    "    #return t"
   ]
  },
  {
   "cell_type": "code",
   "execution_count": 162,
   "id": "46cb06ea",
   "metadata": {},
   "outputs": [
    {
     "name": "stdout",
     "output_type": "stream",
     "text": [
      "[[0, 0, 0, 0, 0, 0, 0, 0, 0],\n",
      " [0, -1, -1, -1, -1, -1, -1, -1, -1],\n",
      " [0, -1, -1, -1, -1, -1, -1, -1, -1],\n",
      " [0, -1, -1, -1, -1, -1, -1, -1, -1],\n",
      " [0, -1, -1, -1, -1, -1, -1, -1, -1],\n",
      " [0, -1, -1, -1, -1, -1, -1, -1, -1],\n",
      " [0, -1, -1, -1, -1, -1, -1, -1, -1],\n",
      " [0, -1, -1, -1, -1, -1, -1, -1, -1],\n",
      " [0, -1, -1, -1, -1, -1, -1, -1, -1]]\n",
      "[[0, 0, 0, 0, 0, 0, 0, 0, 0],\n",
      " [0, 1, 2, 3, 4, 5, 6, 7, 8],\n",
      " [0, 1, 2, 3, 4, 5, 6, 7, 8],\n",
      " [0, 1, 2, 3, 4, 5, 6, 7, 8],\n",
      " [0, 1, 2, 3, 4, 5, 6, 7, 8],\n",
      " [0, 1, 2, 3, 4, 5, 6, 7, 8],\n",
      " [0, 1, 2, 3, 4, 5, 6, 7, 8],\n",
      " [0, 1, 2, 3, 4, 5, 6, 7, 8],\n",
      " [0, 1, 2, 3, 4, 5, 6, 7, 8]]\n"
     ]
    }
   ],
   "source": [
    "l = 8\n",
    "arr = 1, 5, 8, 9, 10, 17, 17, 20\n",
    "cut_rod(arr, l)"
   ]
  },
  {
   "cell_type": "code",
   "execution_count": 168,
   "id": "3628c226",
   "metadata": {},
   "outputs": [
    {
     "name": "stdout",
     "output_type": "stream",
     "text": [
      "[0, 1, 2, 3, 4, 5, 6, 7, 8]\n",
      "[1, 5, 8, 9, 10, 17, 17, 20]\n",
      "[0, 1, 5, 8, 10, 13, 17, 18, 22]\n",
      "Maximum Obtainable Value is 22\n"
     ]
    }
   ],
   "source": [
    "# A Dynamic Programming solution for Rod cutting problem\n",
    "INT_MIN = -32767\n",
    " \n",
    "# Returns the best obtainable price for a rod of length n and\n",
    "# price[] as prices of different pieces\n",
    "def cutRod(price, n):\n",
    "    val = [0 for x in range(n+1)]\n",
    "    val[0] = 0\n",
    "    # Build the table val[] in bottom up manner and return\n",
    "    # the last entry from the table\n",
    "    for i in range(1, n+1):\n",
    "        max_val = INT_MIN\n",
    "        for j in range(i):\n",
    "             max_val = max(max_val, price[j] + val[i-j-1])\n",
    "        val[i] = max_val\n",
    "    print(val)\n",
    "    return val[n]\n",
    " \n",
    "# Driver program to test above functions\n",
    "arr = [1, 5, 8, 9, 10, 17, 17, 20]\n",
    "size = len(arr)\n",
    "print(list(range(9)))\n",
    "print(arr)\n",
    "print(\"Maximum Obtainable Value is \" + str(cutRod(arr, size)))\n",
    " \n",
    "# This code is contributed by Bhavya Jain"
   ]
  },
  {
   "cell_type": "markdown",
   "id": "c25c1e86",
   "metadata": {},
   "source": [
    "#### coin change pbm I"
   ]
  },
  {
   "cell_type": "code",
   "execution_count": 177,
   "id": "b9e63c30",
   "metadata": {},
   "outputs": [],
   "source": [
    "def coin_change1(arr, target):\n",
    "    # Create matrix\n",
    "    t = [[-1 for i in range(target+1)] for j in range(len(arr)+1)]\n",
    "    # Initialize the matrix\n",
    "    for i in range(len(arr)+1):\n",
    "        for j in range(target+1):\n",
    "            if i == 0:\n",
    "                t[i][j] = 0\n",
    "            if j == 0:\n",
    "                t[i][j] = 1\n",
    "    # pprint(t)\n",
    "    \n",
    "    for i in range(1, len(arr)+1):\n",
    "        for j in range(1, target+1):\n",
    "            if arr[i-1] <= j:\n",
    "                t[i][j] = t[i][j-arr[i-1]] + t[i-1][j]\n",
    "            else:\n",
    "                t[i][j] = t[i-1][j]\n",
    "    # pprint(t)\n",
    "    return t[-1][-1]"
   ]
  },
  {
   "cell_type": "code",
   "execution_count": 178,
   "id": "ab1c80b6",
   "metadata": {},
   "outputs": [
    {
     "data": {
      "text/plain": [
       "5"
      ]
     },
     "execution_count": 178,
     "metadata": {},
     "output_type": "execute_result"
    }
   ],
   "source": [
    "coin_change1([1,2,3], 5)"
   ]
  },
  {
   "cell_type": "markdown",
   "id": "af8bdb17",
   "metadata": {},
   "source": [
    "#### coin change pbm II"
   ]
  },
  {
   "cell_type": "code",
   "execution_count": 209,
   "id": "d3210af5",
   "metadata": {},
   "outputs": [],
   "source": [
    "def coin_change2(arr, target):\n",
    "    # Create matrix\n",
    "    t = [[-1 for i in range(target+1)] for j in range(len(arr)+1)]\n",
    "    # Initialize the matrix\n",
    "    for i in range(len(arr)+1):\n",
    "        for j in range(target+1):\n",
    "            if i == 0:\n",
    "                t[i][j] = float('inf')\n",
    "            if j == 0:\n",
    "                t[i][j] = 0\n",
    "    for j in range(1, target+1):\n",
    "        if not j % arr[0]:\n",
    "            t[1][j] = j // arr[0]\n",
    "        else:\n",
    "            t[1][j] = float('inf')\n",
    "    #pprint(t)\n",
    "    \n",
    "    for i in range(2, len(arr)+1):\n",
    "        for j in range(1, target+1):\n",
    "            if arr[i-1] <= j:\n",
    "                t[i][j] = min(t[i][j-arr[i-1]]+1, t[i-1][j])\n",
    "            else:\n",
    "                t[i][j] = t[i-1][j]\n",
    "    # pprint(t)\n",
    "    return t[-1][-1]"
   ]
  },
  {
   "cell_type": "code",
   "execution_count": 210,
   "id": "d004bca0",
   "metadata": {},
   "outputs": [
    {
     "data": {
      "text/plain": [
       "2"
      ]
     },
     "execution_count": 210,
     "metadata": {},
     "output_type": "execute_result"
    }
   ],
   "source": [
    "coin_change2([1,2,3], 5)"
   ]
  },
  {
   "cell_type": "code",
   "execution_count": 211,
   "id": "d95b511e",
   "metadata": {},
   "outputs": [
    {
     "data": {
      "text/plain": [
       "1"
      ]
     },
     "execution_count": 211,
     "metadata": {},
     "output_type": "execute_result"
    }
   ],
   "source": [
    "coin_change2([3,4,5], 3)"
   ]
  },
  {
   "cell_type": "markdown",
   "id": "89d6685e",
   "metadata": {},
   "source": [
    "### LCS\n",
    "1. Longest Common Substring\n",
    "2. print LCS\n",
    "3. shortest common subsequence\n",
    "4. print scs\n",
    "5. minimum number of insertion and deletion a->b\n",
    "6. longest repeating subsequence\n",
    "7. longest subsequence in a which is a substring in b\n",
    "8. subsequence pattern matching\n",
    "9. count how many times a appears in b as a substring\n",
    "10. longest palindromic subsequence\n",
    "11. longest palindromic substring\n",
    "12. count of palindromic substring\n",
    "13. minimum number of deletion in a string to make it palindrome\n",
    "14. minimum number of insertion in a string to make it palindrome\n"
   ]
  },
  {
   "cell_type": "markdown",
   "id": "dfb65b3e",
   "metadata": {},
   "source": [
    "#### 1. Longest Common Substring"
   ]
  },
  {
   "cell_type": "code",
   "execution_count": 3,
   "id": "1d709243",
   "metadata": {},
   "outputs": [],
   "source": [
    "# Recursive\n",
    "def lcs(x, y):\n",
    "    if not x or not y:\n",
    "        return 0\n",
    "    \n",
    "    if x[-1] == y[-1]:\n",
    "        return 1 + lcs(x[:-1], y[:-1])\n",
    "    else:\n",
    "        return max(lcs(x[:-1], y), lcs(x, y[:-1]))"
   ]
  },
  {
   "cell_type": "code",
   "execution_count": 4,
   "id": "507a6161",
   "metadata": {},
   "outputs": [
    {
     "data": {
      "text/plain": [
       "4"
      ]
     },
     "execution_count": 4,
     "metadata": {},
     "output_type": "execute_result"
    }
   ],
   "source": [
    "x = 'abcdgh'\n",
    "y = 'abedfhr'\n",
    "lcs(x, y)"
   ]
  },
  {
   "cell_type": "code",
   "execution_count": 11,
   "id": "e0648d35",
   "metadata": {},
   "outputs": [],
   "source": [
    "# Memozize\n",
    "_map = [[-1 for i in range(len(y)+1)] for j in range(len(x)+1)]\n",
    "def lcs_memo(x, y, m, n):\n",
    "    if  m == 0 or n == 0:\n",
    "        return 0\n",
    "    \n",
    "    if _map[m][n] != -1: return _map[m][n]\n",
    "    \n",
    "    if x[m-1] == y[n-1]:\n",
    "        _map[m][n] =  1 + lcs(x, y, m-1, n-1)\n",
    "        return _map[m][n]\n",
    "    else:\n",
    "        _map[m][n] = max(lcs(x[:-1], y), lcs(x, y[:-1]))\n",
    "        return _map[m][n]"
   ]
  },
  {
   "cell_type": "code",
   "execution_count": 12,
   "id": "e876cc9f",
   "metadata": {},
   "outputs": [
    {
     "data": {
      "text/plain": [
       "4"
      ]
     },
     "execution_count": 12,
     "metadata": {},
     "output_type": "execute_result"
    }
   ],
   "source": [
    "lcs_memo(x, y,len(x), len(y))"
   ]
  },
  {
   "cell_type": "code",
   "execution_count": 32,
   "id": "915505e1",
   "metadata": {},
   "outputs": [],
   "source": [
    "# Top down dp\n",
    "def lcs_dp(x,y):\n",
    "    m,n = len(x), len(y)\n",
    "    \n",
    "    # Initialize\n",
    "    _map = [[-1 for i in range(n+1)] for j in range(m+1)]\n",
    "    for i in range(m+1):\n",
    "        for j in range(n+1):\n",
    "            if i ==0 or j ==0:\n",
    "                _map[i][j] = 0\n",
    "    \n",
    "    # Choice\n",
    "    for i in range(1, m+1):\n",
    "        for j in range(1, n+1):\n",
    "            if x[i-1] == y[j-1]:\n",
    "                _map[i][j] = 1 + _map[i-1][j-1]\n",
    "            else:\n",
    "                _map[i][j] = max(_map[i][j-1], _map[i-1][j])\n",
    "    \n",
    "    return _map[m][n]"
   ]
  },
  {
   "cell_type": "code",
   "execution_count": 33,
   "id": "5382403b",
   "metadata": {},
   "outputs": [
    {
     "data": {
      "text/plain": [
       "4"
      ]
     },
     "execution_count": 33,
     "metadata": {},
     "output_type": "execute_result"
    }
   ],
   "source": [
    "lcs_dp(x,y)"
   ]
  },
  {
   "cell_type": "code",
   "execution_count": 40,
   "id": "a4cdb992",
   "metadata": {},
   "outputs": [],
   "source": [
    "# sub string\n",
    "def lcstring_dp(x,y):\n",
    "    m,n = len(x), len(y)\n",
    "    out = 0\n",
    "\n",
    "    # Initialize\n",
    "    _map = [[-1 for i in range(n+1)] for j in range(m+1)]\n",
    "    for i in range(m+1):\n",
    "        for j in range(n+1):\n",
    "            if i ==0 or j ==0:\n",
    "                _map[i][j] = 0\n",
    "    \n",
    "    # Choice\n",
    "    for i in range(1, m+1):\n",
    "        for j in range(1, n+1):\n",
    "            if x[i-1] == y[j-1]:\n",
    "                _map[i][j] = 1 + _map[i-1][j-1]\n",
    "            else:\n",
    "                _map[i][j] = 0\n",
    "            out = max(out, _map[i][j])\n",
    "\n",
    "    return out"
   ]
  },
  {
   "cell_type": "code",
   "execution_count": 41,
   "id": "06e55e2b",
   "metadata": {},
   "outputs": [
    {
     "data": {
      "text/plain": [
       "2"
      ]
     },
     "execution_count": 41,
     "metadata": {},
     "output_type": "execute_result"
    }
   ],
   "source": [
    "lcstring_dp('abcde', 'abfce')"
   ]
  },
  {
   "cell_type": "markdown",
   "id": "b37432bb",
   "metadata": {},
   "source": [
    "#### 2. print LCS"
   ]
  },
  {
   "cell_type": "code",
   "execution_count": 46,
   "id": "3d35d7e7",
   "metadata": {},
   "outputs": [],
   "source": [
    "# Top down dp\n",
    "def lcs_dp_print(x,y):\n",
    "    m,n = len(x), len(y)\n",
    "    \n",
    "    # Initialize\n",
    "    _map = [[-1 for i in range(n+1)] for j in range(m+1)]\n",
    "    for i in range(m+1):\n",
    "        for j in range(n+1):\n",
    "            if i ==0 or j ==0:\n",
    "                _map[i][j] = ''\n",
    "    \n",
    "    # Choice\n",
    "    for i in range(1, m+1):\n",
    "        for j in range(1, n+1):\n",
    "            if x[i-1] == y[j-1]:\n",
    "                _map[i][j] = _map[i-1][j-1] + x[i-1]\n",
    "            else:\n",
    "                _map[i][j] = _map[i][j-1] if len(_map[i][j-1]) > len(_map[i-1][j]) else _map[i-1][j]\n",
    "    \n",
    "    return _map[m][n]"
   ]
  },
  {
   "cell_type": "code",
   "execution_count": 47,
   "id": "2eaa5a97",
   "metadata": {},
   "outputs": [
    {
     "data": {
      "text/plain": [
       "'abdh'"
      ]
     },
     "execution_count": 47,
     "metadata": {},
     "output_type": "execute_result"
    }
   ],
   "source": [
    "x = 'abcdgh'\n",
    "y = 'abedfhr'\n",
    "lcs_dp_print(x,y)"
   ]
  },
  {
   "cell_type": "markdown",
   "id": "b751718e",
   "metadata": {},
   "source": [
    "#### 3.shortest common supersequence"
   ]
  },
  {
   "cell_type": "code",
   "execution_count": 50,
   "id": "0aa0e68d",
   "metadata": {},
   "outputs": [],
   "source": [
    "# full supersequence is x + y\n",
    "# optimized supersequesce is x+y-(repeated chars or in this case lcs)\n",
    "\n",
    "\n",
    "def scs(x, y):\n",
    "    n = len(x) + len(y)\n",
    "    lcs = lcs_dp(x, y)\n",
    "    return n - lcs"
   ]
  },
  {
   "cell_type": "code",
   "execution_count": 51,
   "id": "5fd4344d",
   "metadata": {},
   "outputs": [
    {
     "data": {
      "text/plain": [
       "9"
      ]
     },
     "execution_count": 51,
     "metadata": {},
     "output_type": "execute_result"
    }
   ],
   "source": [
    "scs('abcdefg', 'cdfgxy')"
   ]
  },
  {
   "cell_type": "markdown",
   "id": "11ab2351",
   "metadata": {},
   "source": [
    "#### 4. minimum number of insertion and deletion a->b"
   ]
  },
  {
   "cell_type": "code",
   "execution_count": 56,
   "id": "943ff359",
   "metadata": {},
   "outputs": [],
   "source": [
    "# a   ---->  lcs = a - lcs (deletions)\n",
    "# lcs ---->  b   = b - lcs (insertions)\n",
    "\n",
    "def a_to_b(a, b):\n",
    "    na = len(a)\n",
    "    nb = len(b)\n",
    "    lcs = lcs_dp(a,b)\n",
    "    deletions, insertions = na - lcs, nb - lcs\n",
    "    return deletions, insertions"
   ]
  },
  {
   "cell_type": "code",
   "execution_count": 57,
   "id": "765ccc93",
   "metadata": {},
   "outputs": [
    {
     "data": {
      "text/plain": [
       "(2, 1)"
      ]
     },
     "execution_count": 57,
     "metadata": {},
     "output_type": "execute_result"
    }
   ],
   "source": [
    "a_to_b('geak', 'pea')"
   ]
  },
  {
   "cell_type": "markdown",
   "id": "181eaae3",
   "metadata": {},
   "source": [
    "#### 5. longest palindromic subsequence"
   ]
  },
  {
   "cell_type": "code",
   "execution_count": 62,
   "id": "7441a867",
   "metadata": {},
   "outputs": [],
   "source": [
    "# lps of a = lcs(a, reversed a)\n",
    "\n",
    "def lps_dp(a):\n",
    "    return lcs_dp(a, a[::-1])"
   ]
  },
  {
   "cell_type": "code",
   "execution_count": 63,
   "id": "b561676c",
   "metadata": {},
   "outputs": [
    {
     "data": {
      "text/plain": [
       "5"
      ]
     },
     "execution_count": 63,
     "metadata": {},
     "output_type": "execute_result"
    }
   ],
   "source": [
    "lps_dp('agbcba')"
   ]
  },
  {
   "cell_type": "markdown",
   "id": "e99edbd3",
   "metadata": {},
   "source": [
    "#### 6.minimum number of deletion in a string to make it palindrome"
   ]
  },
  {
   "cell_type": "code",
   "execution_count": 64,
   "id": "e0bc7ead",
   "metadata": {},
   "outputs": [],
   "source": [
    "def min_del_palindrome(a):\n",
    "    lps = lps_dp(a)\n",
    "    return len(a) - lps"
   ]
  },
  {
   "cell_type": "code",
   "execution_count": 65,
   "id": "9c02802c",
   "metadata": {},
   "outputs": [
    {
     "data": {
      "text/plain": [
       "1"
      ]
     },
     "execution_count": 65,
     "metadata": {},
     "output_type": "execute_result"
    }
   ],
   "source": [
    "min_del_palindrome('agbcba')"
   ]
  },
  {
   "cell_type": "markdown",
   "id": "3bb825f3",
   "metadata": {},
   "source": [
    "#### 7. print scs"
   ]
  },
  {
   "cell_type": "code",
   "execution_count": 77,
   "id": "50d18990",
   "metadata": {},
   "outputs": [],
   "source": [
    "# Wrong, do again\n",
    "\n",
    "# Top down dp\n",
    "def scs_dp_print(x,y):\n",
    "    m,n = len(x), len(y)\n",
    "    \n",
    "    # Initialize\n",
    "    _map = [[-1 for i in range(n+1)] for j in range(m+1)]\n",
    "    for i in range(m+1):\n",
    "        for j in range(n+1):\n",
    "            if i ==0 or j ==0:\n",
    "                _map[i][j] = ''\n",
    "    \n",
    "    # Choice\n",
    "    for i in range(1, m+1):\n",
    "        for j in range(1, n+1):\n",
    "            if x[i-1] == y[j-1]:\n",
    "                _map[i][j] = _map[i-1][j-1] + x[i-1]\n",
    "            else:\n",
    "                _map[i][j] = y[j-1] + _map[i][j-1] if len(_map[i][j-1]) > len(_map[i-1][j]) else x[i-1] + _map[i-1][j]\n",
    "    \n",
    "    return _map[m][n]"
   ]
  },
  {
   "cell_type": "code",
   "execution_count": 76,
   "id": "0dbe7bb1",
   "metadata": {},
   "outputs": [
    {
     "data": {
      "text/plain": [
       "'gfedcbyxgfda'"
      ]
     },
     "execution_count": 76,
     "metadata": {},
     "output_type": "execute_result"
    }
   ],
   "source": [
    "scs_dp_print('abcdefg', 'cdfgxy')"
   ]
  },
  {
   "cell_type": "markdown",
   "id": "ade1ca98",
   "metadata": {},
   "source": [
    "#### 8. longest repeating subsequence"
   ]
  },
  {
   "cell_type": "code",
   "execution_count": 79,
   "id": "1b486cd3",
   "metadata": {},
   "outputs": [],
   "source": [
    "# Top down dp\n",
    "def lcs_repeat_dp(x):\n",
    "    y = x\n",
    "    m,n = len(x), len(y)\n",
    "    \n",
    "    # Initialize\n",
    "    _map = [[-1 for i in range(n+1)] for j in range(m+1)]\n",
    "    for i in range(m+1):\n",
    "        for j in range(n+1):\n",
    "            if i ==0 or j ==0:\n",
    "                _map[i][j] = 0\n",
    "    \n",
    "    # Choice\n",
    "    for i in range(1, m+1):\n",
    "        for j in range(1, n+1):\n",
    "            if x[i-1] == y[j-1] and i != j:\n",
    "                _map[i][j] = 1 + _map[i-1][j-1]\n",
    "            else:\n",
    "                _map[i][j] = max(_map[i][j-1], _map[i-1][j])\n",
    "    \n",
    "    return _map[m][n]"
   ]
  },
  {
   "cell_type": "code",
   "execution_count": 80,
   "id": "944ef7fa",
   "metadata": {},
   "outputs": [
    {
     "data": {
      "text/plain": [
       "3"
      ]
     },
     "execution_count": 80,
     "metadata": {},
     "output_type": "execute_result"
    }
   ],
   "source": [
    "lcs_repeat_dp('aabcbedd')"
   ]
  },
  {
   "cell_type": "markdown",
   "id": "c8569fb5",
   "metadata": {},
   "source": [
    "#### 9.subsequence pattern matching"
   ]
  },
  {
   "cell_type": "code",
   "execution_count": 88,
   "id": "c880b726",
   "metadata": {},
   "outputs": [],
   "source": [
    "def pattern_matching(pattern, string):\n",
    "    if len(pattern) == lcs_dp(pattern, string):\n",
    "        return True\n",
    "    else:\n",
    "        return False"
   ]
  },
  {
   "cell_type": "code",
   "execution_count": 89,
   "id": "1c786ceb",
   "metadata": {},
   "outputs": [
    {
     "data": {
      "text/plain": [
       "True"
      ]
     },
     "execution_count": 89,
     "metadata": {},
     "output_type": "execute_result"
    }
   ],
   "source": [
    "pattern_matching('axy', 'adxcpy')"
   ]
  },
  {
   "cell_type": "code",
   "execution_count": 90,
   "id": "2039bf03",
   "metadata": {},
   "outputs": [
    {
     "data": {
      "text/plain": [
       "False"
      ]
     },
     "execution_count": 90,
     "metadata": {},
     "output_type": "execute_result"
    }
   ],
   "source": [
    "pattern_matching('axy', 'adxcp')"
   ]
  },
  {
   "cell_type": "markdown",
   "id": "a30a666c",
   "metadata": {},
   "source": [
    "#### 10. minimum number of insertion in a string to make it palindrome"
   ]
  },
  {
   "cell_type": "code",
   "execution_count": 91,
   "id": "5ce17cad",
   "metadata": {},
   "outputs": [],
   "source": [
    "# number pf deletion == number of insertion\n",
    "\n",
    "def min_ins_palindrome(a):\n",
    "    lps = lps_dp(a)\n",
    "    return len(a) - lps"
   ]
  },
  {
   "cell_type": "code",
   "execution_count": 92,
   "id": "6a5adf68",
   "metadata": {},
   "outputs": [
    {
     "data": {
      "text/plain": [
       "2"
      ]
     },
     "execution_count": 92,
     "metadata": {},
     "output_type": "execute_result"
    }
   ],
   "source": [
    "min_ins_palindrome('aebcbda')"
   ]
  },
  {
   "cell_type": "code",
   "execution_count": null,
   "id": "45283984",
   "metadata": {},
   "outputs": [],
   "source": []
  },
  {
   "cell_type": "code",
   "execution_count": null,
   "id": "d147d9c6",
   "metadata": {},
   "outputs": [],
   "source": []
  },
  {
   "cell_type": "code",
   "execution_count": null,
   "id": "eafa1de5",
   "metadata": {},
   "outputs": [],
   "source": []
  },
  {
   "cell_type": "code",
   "execution_count": null,
   "id": "f9a3661d",
   "metadata": {},
   "outputs": [],
   "source": []
  },
  {
   "cell_type": "code",
   "execution_count": null,
   "id": "3e3019a4",
   "metadata": {},
   "outputs": [],
   "source": []
  },
  {
   "cell_type": "code",
   "execution_count": null,
   "id": "d63d9523",
   "metadata": {},
   "outputs": [],
   "source": []
  },
  {
   "cell_type": "code",
   "execution_count": null,
   "id": "66d01af2",
   "metadata": {},
   "outputs": [],
   "source": []
  },
  {
   "cell_type": "markdown",
   "id": "c3390bfe",
   "metadata": {},
   "source": [
    "### Matrix chain multiplication(MCM)"
   ]
  },
  {
   "cell_type": "code",
   "execution_count": null,
   "id": "e7a10c82",
   "metadata": {},
   "outputs": [],
   "source": []
  },
  {
   "cell_type": "code",
   "execution_count": null,
   "id": "49c1069b",
   "metadata": {},
   "outputs": [],
   "source": []
  },
  {
   "cell_type": "code",
   "execution_count": null,
   "id": "5ed2456d",
   "metadata": {},
   "outputs": [],
   "source": []
  },
  {
   "cell_type": "code",
   "execution_count": null,
   "id": "c2a55ca5",
   "metadata": {},
   "outputs": [],
   "source": []
  },
  {
   "cell_type": "markdown",
   "id": "92fb2e13",
   "metadata": {},
   "source": [
    "#### Palindromic Partition Recursive"
   ]
  },
  {
   "cell_type": "code",
   "execution_count": 1,
   "id": "53434284",
   "metadata": {},
   "outputs": [],
   "source": [
    "def is_palindrome(st):\n",
    "    return st[::-1] == st\n",
    "\n",
    "def pal_part(inp, i, j):\n",
    "    if i >= j or is_palindrome(inp[i:j+1]):\n",
    "        return 0\n",
    "    \n",
    "    ans = float('inf')\n",
    "    \n",
    "    # i to j-1 so range(i,j)\n",
    "    for k in range(i, j):\n",
    "        temp = pal_part(inp, i, k) + pal_part(inp, k+1, j) + 1\n",
    "        ans = min(ans, temp)\n",
    "        \n",
    "    return ans"
   ]
  },
  {
   "cell_type": "code",
   "execution_count": 2,
   "id": "4583836f",
   "metadata": {},
   "outputs": [
    {
     "data": {
      "text/plain": [
       "0"
      ]
     },
     "execution_count": 2,
     "metadata": {},
     "output_type": "execute_result"
    }
   ],
   "source": [
    "inp = 'nitin'\n",
    "pal_part(inp, 0, len(inp))"
   ]
  },
  {
   "cell_type": "code",
   "execution_count": 3,
   "id": "aab124b4",
   "metadata": {},
   "outputs": [
    {
     "data": {
      "text/plain": [
       "4"
      ]
     },
     "execution_count": 3,
     "metadata": {},
     "output_type": "execute_result"
    }
   ],
   "source": [
    "inp = 'binay'\n",
    "pal_part(inp, 0, len(inp))"
   ]
  },
  {
   "cell_type": "code",
   "execution_count": 4,
   "id": "4fadc501",
   "metadata": {},
   "outputs": [
    {
     "data": {
      "text/plain": [
       "2"
      ]
     },
     "execution_count": 4,
     "metadata": {},
     "output_type": "execute_result"
    }
   ],
   "source": [
    "inp = 'nitik'\n",
    "pal_part(inp, 0, len(inp))"
   ]
  },
  {
   "cell_type": "code",
   "execution_count": 5,
   "id": "9053a591",
   "metadata": {},
   "outputs": [],
   "source": [
    "t = [[-1 for i in range(1001)] for j in range(1001)]\n",
    "def pal_part_dp(inp, i, j):\n",
    "    if i >= j or is_palindrome(inp[i:j+1]):\n",
    "        return 0\n",
    "\n",
    "    if t[i][j] != -1: return t[i][j]\n",
    "    ans = float('inf')\n",
    "    \n",
    "    # i to j-1 so range(i,j)\n",
    "    for k in range(i, j):\n",
    "        temp = pal_part(inp, i, k) + pal_part(inp, k+1, j) + 1\n",
    "        if temp < ans:\n",
    "            ans = temp\n",
    "    \n",
    "    t[i][j] = ans\n",
    "    return ans"
   ]
  },
  {
   "cell_type": "code",
   "execution_count": 6,
   "id": "afba1de8",
   "metadata": {},
   "outputs": [
    {
     "data": {
      "text/plain": [
       "2"
      ]
     },
     "execution_count": 6,
     "metadata": {},
     "output_type": "execute_result"
    }
   ],
   "source": [
    "inp = 'nitik'\n",
    "t = [[-1 for i in range(1001)] for j in range(1001)]\n",
    "pal_part_dp(inp, 0, len(inp))"
   ]
  },
  {
   "cell_type": "code",
   "execution_count": 7,
   "id": "f7b5b5c3",
   "metadata": {},
   "outputs": [],
   "source": [
    "t = [[-1 for i in range(1001)] for j in range(1001)]\n",
    "def pal_part_dp2(inp, i, j):\n",
    "    if i >= j or is_palindrome(inp[i:j+1]):\n",
    "        return 0\n",
    "\n",
    "    if t[i][j] != -1: return t[i][j]\n",
    "    ans = float('inf')\n",
    "    \n",
    "    # i to j-1 so range(i,j)\n",
    "    for k in range(i, j):\n",
    "        if t[i][k] != -1:\n",
    "            temp1 = t[i][k]\n",
    "        else:\n",
    "            temp1 = pal_part(inp, i, k)\n",
    "        \n",
    "        if t[k+1][j] != -1:\n",
    "            temp2 = t[k+1][j]\n",
    "        else:\n",
    "            temp2 = pal_part(inp, k+1, j)\n",
    "\n",
    "        temp = temp1 + temp2 + 1\n",
    "        if temp < ans:\n",
    "            ans = temp\n",
    "    \n",
    "    t[i][j] = ans\n",
    "    return ans"
   ]
  },
  {
   "cell_type": "code",
   "execution_count": 8,
   "id": "87386bad",
   "metadata": {},
   "outputs": [
    {
     "data": {
      "text/plain": [
       "2"
      ]
     },
     "execution_count": 8,
     "metadata": {},
     "output_type": "execute_result"
    }
   ],
   "source": [
    "inp = 'nitik'\n",
    "t = [[-1 for i in range(1001)] for j in range(1001)]\n",
    "pal_part_dp2(inp, 0, len(inp))"
   ]
  },
  {
   "cell_type": "markdown",
   "id": "ac9cc8e4",
   "metadata": {},
   "source": [
    "#### Evaluate Expression to True | Boolean Parenthesization Recursive"
   ]
  },
  {
   "cell_type": "code",
   "execution_count": 78,
   "id": "16fe3f39",
   "metadata": {},
   "outputs": [],
   "source": [
    "def solve_recursive(s, i, j, is_true):\n",
    "    if i >= j: return 0\n",
    "    if i == j-1 and is_true:\n",
    "        return 1 if 'T' == s[i] else 0\n",
    "    elif i == j-1 and not is_true:\n",
    "        return 1 if 'F' == s[i] else 0\n",
    "    \n",
    "    out = 0\n",
    "    for k in range(i+1, j, 2):\n",
    "        \n",
    "        lt = solve_recursive(s, i, k-1, True)\n",
    "        lf = solve_recursive(s, i, k-1, False)\n",
    "        rt = solve_recursive(s, k+1, j, True)\n",
    "        rf = solve_recursive(s, k+1, j, False)\n",
    "        \n",
    "        if s[k] == \"&\":\n",
    "            if is_true:\n",
    "                out += lt * rt\n",
    "            elif not is_true:\n",
    "                out += lt * rf + lf * rt + lf * rf\n",
    "        elif s[k] == '|':\n",
    "            if is_true:\n",
    "                out += lt * rt + lt * rf + lf * rt\n",
    "            elif not is_true:\n",
    "                out += lf * rf\n",
    "        elif s[k] == '^':\n",
    "            if is_true:\n",
    "                out += lt * rf + lf * rt\n",
    "            elif not is_true:\n",
    "                out += lt * rt + lf * rf\n",
    "                \n",
    "    return out\n",
    "\n",
    "            "
   ]
  },
  {
   "cell_type": "code",
   "execution_count": 79,
   "id": "1e84aacf",
   "metadata": {},
   "outputs": [
    {
     "data": {
      "text/plain": [
       "0"
      ]
     },
     "execution_count": 79,
     "metadata": {},
     "output_type": "execute_result"
    }
   ],
   "source": [
    "inp = 'T|F^T&F'\n",
    "solve_recursive(inp, 0, len(inp), True)"
   ]
  },
  {
   "cell_type": "code",
   "execution_count": 80,
   "id": "72d7ff70",
   "metadata": {},
   "outputs": [
    {
     "data": {
      "text/plain": [
       "1"
      ]
     },
     "execution_count": 80,
     "metadata": {},
     "output_type": "execute_result"
    }
   ],
   "source": [
    "inp = 'T'\n",
    "solve_recursive(inp, 0, len(inp), True)"
   ]
  },
  {
   "cell_type": "code",
   "execution_count": 96,
   "id": "7840cbfd",
   "metadata": {},
   "outputs": [
    {
     "data": {
      "text/plain": [
       "[1, 1, 2, [2, 3, [7, 8]], 4, 5]"
      ]
     },
     "execution_count": 96,
     "metadata": {},
     "output_type": "execute_result"
    }
   ],
   "source": [
    "x=[1,[1,2,[2,3, [7,8]]],(4,5)]\n",
    "out = []\n",
    "for i in x:\n",
    "    if isinstance(i, list) or isinstance(i, tuple):\n",
    "        out += [*i]\n",
    "    else:\n",
    "        out.append(i)\n",
    "out"
   ]
  },
  {
   "cell_type": "code",
   "execution_count": 97,
   "id": "f7e5ad21",
   "metadata": {},
   "outputs": [
    {
     "data": {
      "text/plain": [
       "[1, 1, 2, 2, 3, 7, 8, 4, 5]"
      ]
     },
     "execution_count": 97,
     "metadata": {},
     "output_type": "execute_result"
    }
   ],
   "source": [
    "x=[1,[1,2,[2,3, [7,8]]],(4,5)]\n",
    "out = []\n",
    "def flatten(x):\n",
    "    for i in x:\n",
    "        if isinstance(i, list) or isinstance(i, tuple):\n",
    "            flatten(i)\n",
    "        else:\n",
    "            out.append(i)\n",
    "flatten(x)\n",
    "out"
   ]
  },
  {
   "cell_type": "code",
   "execution_count": null,
   "id": "7360cbbf",
   "metadata": {},
   "outputs": [],
   "source": []
  },
  {
   "cell_type": "code",
   "execution_count": null,
   "id": "82e518e6",
   "metadata": {},
   "outputs": [],
   "source": []
  }
 ],
 "metadata": {
  "kernelspec": {
   "display_name": "Python 3 (ipykernel)",
   "language": "python",
   "name": "python3"
  },
  "language_info": {
   "codemirror_mode": {
    "name": "ipython",
    "version": 3
   },
   "file_extension": ".py",
   "mimetype": "text/x-python",
   "name": "python",
   "nbconvert_exporter": "python",
   "pygments_lexer": "ipython3",
   "version": "3.8.5"
  }
 },
 "nbformat": 4,
 "nbformat_minor": 5
}
