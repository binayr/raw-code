{
 "cells": [
  {
   "cell_type": "markdown",
   "id": "a882aa06",
   "metadata": {},
   "source": [
    "![title](https://cdn.emre.me/2019-10-14-sliding-window.png)"
   ]
  },
  {
   "cell_type": "markdown",
   "id": "7b21eaec",
   "metadata": {},
   "source": [
    "#### Bruteforce Approach\n",
    "\n",
    "- For every i we calculate the window the till j and compare.\n",
    "- complexity n^2"
   ]
  },
  {
   "cell_type": "markdown",
   "id": "39e8747b",
   "metadata": {},
   "source": [
    "#### Optimized Approach\n",
    "\n",
    "- Instead of calculating the full window for every i, everytime the window slides by 1 slot we add 1 slot to the right and remove 1 slot from the left. \n",
    "- Removes the way of doing multiple calculations for each round."
   ]
  },
  {
   "cell_type": "markdown",
   "id": "a5e1d85e",
   "metadata": {},
   "source": [
    "#### Types of Sliding window problems\n",
    "\n",
    "1. Fixed window size problem.\n",
    "2. Variable window size problem.\n",
    "```\n",
    "In type 1 the window size is known and some calculations need to be done.\n",
    "In type 2 the size of the window(k) is not known and that need to be calculated.\n",
    "```"
   ]
  },
  {
   "cell_type": "markdown",
   "id": "cb952a1f",
   "metadata": {},
   "source": [
    "#### 1. Fixed size Problems\n",
    "1. min/max sum subarray of size k.\n",
    "2. 1st neg number in every window size k.\n",
    "3. count all the occurances of the annagram of a given word.\n",
    "4. max of all subarray of size k.\n",
    "5. max/min of every window size.\n",
    "\n",
    "#### 2. Variable size Problems\n",
    "1. largest/smaller subarray of sum k.\n",
    "2. largest substring with k distinct character.\n",
    "3. largest substring with no repeating character.\n",
    "4. pick toy\n",
    "5. **min window substring.**"
   ]
  },
  {
   "cell_type": "markdown",
   "id": "45ccd6e6",
   "metadata": {},
   "source": [
    "Refrences: https://youtube.com/playlist?list=PL_z_8CaSLPWeM8BDJmIYDaoQ5zuwyxnfj\n",
    "\n",
    "Note: Superb explanation in the videos but the full series is very long, in hindi and code is not included.\n",
    "\n",
    "This notebook is for the python devs trying to understand sliding window."
   ]
  },
  {
   "cell_type": "markdown",
   "id": "9848b556",
   "metadata": {},
   "source": [
    "### Fixed Size Problems\n",
    "#### Identify the problems\n",
    "\n",
    "Usually for most of the cases The problems talks about few things,\n",
    "1. Array or String\n",
    "2. Subarray or substring\n",
    "3. window of size k\n",
    "\n",
    "If the problem is talking about the above 3 things. High chances It's a sliding window problem.\n",
    "\n",
    "#### Solution\n",
    "\n",
    "In case of problems of this type, we usually run a while loop as we need the index of the window.\n",
    "The solution is always a 3 step solution inside the while loop,\n",
    "```\n",
    "while condition:\n",
    "    ## Calculation for each j\n",
    "    #  If window size smaller increase window size \n",
    "    ## Find the answer from the calculation above\n",
    "    ## Slide the window and remove the calculation for i.\n",
    "    \n",
    "````\n",
    "\n",
    "#### 1.1 min/max sum subarray of size k."
   ]
  },
  {
   "cell_type": "code",
   "execution_count": 178,
   "id": "844bf1c8",
   "metadata": {},
   "outputs": [],
   "source": [
    "def max_sum_sublist(l, window):\n",
    "    i = j = 0\n",
    "    n = len(l)\n",
    "    max_val, curr = 0, 0\n",
    "    \n",
    "    while j < len(l):\n",
    "        # Calculation for j\n",
    "        curr += l[j]\n",
    "        \n",
    "        # increase the j as window size is small\n",
    "        if j-i+1 < window:\n",
    "            j +=1\n",
    "        elif j-i+1 == window:\n",
    "            # Find ans from the above calculation\n",
    "            max_val = max(curr, max_val) # min for minimum sum\n",
    "            # Removed the calculation for i\n",
    "            curr -= l[i]\n",
    "            # Slide the window\n",
    "            i +=1\n",
    "            j +=1\n",
    "    return max_val\n",
    "        "
   ]
  },
  {
   "cell_type": "code",
   "execution_count": 179,
   "id": "a75ec296",
   "metadata": {},
   "outputs": [
    {
     "data": {
      "text/plain": [
       "21"
      ]
     },
     "execution_count": 179,
     "metadata": {},
     "output_type": "execute_result"
    }
   ],
   "source": [
    "l = [4,3,7,2,7,5,1,9,8,4,6]\n",
    "n = 3\n",
    "max_sum_sublist(l, n)"
   ]
  },
  {
   "cell_type": "markdown",
   "id": "46f56805",
   "metadata": {},
   "source": [
    "#### 1.2 1st neg number in every window size k"
   ]
  },
  {
   "cell_type": "code",
   "execution_count": 180,
   "id": "ea3e64c8",
   "metadata": {},
   "outputs": [],
   "source": [
    "def first_neg_in_sublist(l, window):\n",
    "    i = j = 0\n",
    "    n = len(l)\n",
    "    neg_nums = []\n",
    "    \n",
    "    while j < len(l):\n",
    "        # calculation\n",
    "        if l[j] < 0: neg_nums.append(l[j])\n",
    "            \n",
    "        # increase window\n",
    "        if j-i+1 < window:\n",
    "            j +=1\n",
    "        elif j-i+1 == window:\n",
    "            # find ans\n",
    "            if l: print(l[i:j+1], neg_nums[0])\n",
    "            # remove calculation for i\n",
    "            if neg_nums[0] == l[i]: neg_nums.pop(0)\n",
    "            # slide the window\n",
    "            i +=1\n",
    "            j +=1\n"
   ]
  },
  {
   "cell_type": "code",
   "execution_count": 181,
   "id": "68e654e2",
   "metadata": {},
   "outputs": [
    {
     "name": "stdout",
     "output_type": "stream",
     "text": [
      "[2, -3, 4] -3\n",
      "[-3, 4, -5] -3\n",
      "[4, -5, 4] -5\n",
      "[-5, 4, 3] -5\n",
      "[4, 3, -7] -7\n",
      "[3, -7, -8] -7\n",
      "[-7, -8, 0] -7\n",
      "[-8, 0, 9] -8\n"
     ]
    }
   ],
   "source": [
    "l = [2,-3,4, -5,4,3,-7,-8,0, 9]\n",
    "n = 3\n",
    "first_neg_in_sublist(l, n)"
   ]
  },
  {
   "cell_type": "markdown",
   "id": "1dd0fec7",
   "metadata": {},
   "source": [
    "#### 1.3 count all the occurances of the annagram of a given word."
   ]
  },
  {
   "cell_type": "code",
   "execution_count": 182,
   "id": "f5ed13c9",
   "metadata": {},
   "outputs": [],
   "source": [
    "def find_anagrams(s, word):\n",
    "    i = j = 0\n",
    "    # find the window size.\n",
    "    n = len(word)\n",
    "    \n",
    "    # calculate the occurance of each letter in the window\n",
    "    mapper = {}\n",
    "    for w in word:\n",
    "        if w in mapper: mapper[w] +=1\n",
    "        else: mapper[w] = 1\n",
    "    # Track the char count falling to 0, for longer window size it's vital\n",
    "    count = len(mapper)\n",
    "    ans = []\n",
    "    \n",
    "    while j < len(s):\n",
    "        # calculation for j\n",
    "        if s[j] in mapper:\n",
    "            # if char found reduce the count in the mapper\n",
    "            mapper[s[j]] -= 1\n",
    "            # if the count in mapper 0 reduce count, indicates that one char is fully encountered.\n",
    "            if mapper[s[j]] == 0: count -=1\n",
    "                \n",
    "        # increase window size\n",
    "        if j-i+1 < n:\n",
    "            j +=1\n",
    "        elif j-i+1 == n:\n",
    "            # find the ans from the calculation, if count is 0 on window match, it's an anagram.\n",
    "            if count == 0:\n",
    "                ans.append((i, s[i:j+1]))\n",
    "            if s[i] in mapper:\n",
    "                # remove calculation for i. in this case increase count for s[i] in mapper as well as in count\n",
    "                mapper[s[i]] += 1\n",
    "                if mapper[s[i]] == 1: count += 1\n",
    "            # Slide the window\n",
    "            i +=1\n",
    "            j +=1\n",
    "    return ans"
   ]
  },
  {
   "cell_type": "code",
   "execution_count": null,
   "id": "9af18964",
   "metadata": {},
   "outputs": [],
   "source": []
  },
  {
   "cell_type": "code",
   "execution_count": 183,
   "id": "edcaddf4",
   "metadata": {},
   "outputs": [
    {
     "data": {
      "text/plain": [
       "[(0, 'aaba'), (5, 'abaa')]"
      ]
     },
     "execution_count": 183,
     "metadata": {},
     "output_type": "execute_result"
    }
   ],
   "source": [
    "s = 'aabacabaa'\n",
    "word = 'aaba'\n",
    "find_anagrams(s, word)"
   ]
  },
  {
   "cell_type": "code",
   "execution_count": null,
   "id": "289c5b53",
   "metadata": {},
   "outputs": [],
   "source": []
  },
  {
   "cell_type": "code",
   "execution_count": null,
   "id": "cb52a48e",
   "metadata": {},
   "outputs": [],
   "source": []
  },
  {
   "cell_type": "markdown",
   "id": "94ca3d0e",
   "metadata": {},
   "source": [
    "#### 1.4 max of all subarray of size k."
   ]
  },
  {
   "cell_type": "code",
   "execution_count": 184,
   "id": "baa4d71b",
   "metadata": {},
   "outputs": [],
   "source": [
    "def max_val_sublist(l, window):\n",
    "    i = j = 0\n",
    "    n = len(l)\n",
    "    # A queue to keep track of highest number as well as upcoming high\n",
    "    queue = []\n",
    "    # list to contain the answers\n",
    "    ans = []\n",
    "    \n",
    "    while j < len(l):\n",
    "        # calculation for j,\n",
    "        # if queue empty append. if elements of queue are smaller than number, delete the numbers,\n",
    "        # if elements of queue greater than number then save for future big numbers.\n",
    "        if not queue:\n",
    "            queue.append(l[j])\n",
    "        elif l[j] < queue[-1]:\n",
    "            queue.append(l[j])\n",
    "        elif l[j] > queue[-1]:\n",
    "            while queue and queue[-1] < l[j]:\n",
    "                queue.pop(-1)\n",
    "            queue.append(l[j])\n",
    "        \n",
    "        # Increase the j\n",
    "        if j-i+1 < window:\n",
    "            j +=1\n",
    "        elif j-i+1 == window:\n",
    "            # ans will always be the first element of queue\n",
    "            ans.append((queue[0], l[i:j+1]))\n",
    "            # remove calculation of i. In this case if queue[0] matches l[i] delete that from queue\n",
    "            if l[i] == queue[0]: queue.pop(0)\n",
    "            # slide the window\n",
    "            i +=1\n",
    "            j +=1\n",
    "    return ans"
   ]
  },
  {
   "cell_type": "code",
   "execution_count": 185,
   "id": "02aa5717",
   "metadata": {},
   "outputs": [
    {
     "data": {
      "text/plain": [
       "[(4, [2, -3, 4]),\n",
       " (4, [-3, 4, -5]),\n",
       " (4, [4, -5, 1]),\n",
       " (3, [-5, 1, 3]),\n",
       " (3, [1, 3, -7]),\n",
       " (3, [3, -7, -8]),\n",
       " (0, [-7, -8, 0]),\n",
       " (9, [-8, 0, 9])]"
      ]
     },
     "execution_count": 185,
     "metadata": {},
     "output_type": "execute_result"
    }
   ],
   "source": [
    "l = [2,-3,4, -5,1,3,-7,-8,0, 9]\n",
    "n = 3\n",
    "max_val_sublist(l, n)"
   ]
  },
  {
   "cell_type": "markdown",
   "id": "f31bc880",
   "metadata": {},
   "source": [
    "#### 1.5 max/min of every window size."
   ]
  },
  {
   "cell_type": "code",
   "execution_count": 186,
   "id": "b207a783",
   "metadata": {},
   "outputs": [],
   "source": [
    "# This is n**2 solve for better solution\n",
    "## Hint: keep 2 queue to track high and low as above.\n",
    "def min_val_sublist(l, window):\n",
    "    i = j = 0\n",
    "    n = len(l)\n",
    "    max_val, curr = 0, 0\n",
    "    \n",
    "    while j < len(l):\n",
    "        if j-i+1 < window:\n",
    "            j +=1\n",
    "        elif j-i+1 == window:\n",
    "            print(max(l[i:j+1]), min(l[i:j+1]))\n",
    "            i +=1\n",
    "            j +=1\n",
    "    return max_val"
   ]
  },
  {
   "cell_type": "code",
   "execution_count": 187,
   "id": "66c876d4",
   "metadata": {},
   "outputs": [
    {
     "name": "stdout",
     "output_type": "stream",
     "text": [
      "4 -3\n",
      "4 -5\n",
      "4 -5\n",
      "3 -5\n",
      "3 -7\n",
      "3 -8\n",
      "0 -8\n",
      "9 -8\n"
     ]
    },
    {
     "data": {
      "text/plain": [
       "0"
      ]
     },
     "execution_count": 187,
     "metadata": {},
     "output_type": "execute_result"
    }
   ],
   "source": [
    "l = [2,-3,4, -5,1,3,-7,-8,0, 9]\n",
    "n = 3\n",
    "min_val_sublist(l, n)"
   ]
  },
  {
   "cell_type": "code",
   "execution_count": 188,
   "id": "2e268972",
   "metadata": {},
   "outputs": [
    {
     "data": {
      "text/plain": [
       "9"
      ]
     },
     "execution_count": 188,
     "metadata": {},
     "output_type": "execute_result"
    }
   ],
   "source": [
    "x = [2,-3,4, -5,1,3,-7,-8,0, 9]\n",
    "x.pop()"
   ]
  },
  {
   "cell_type": "code",
   "execution_count": 189,
   "id": "4e03733b",
   "metadata": {},
   "outputs": [
    {
     "data": {
      "text/plain": [
       "[2, -3, 4, -5, 1, 3, -7, -8, 0]"
      ]
     },
     "execution_count": 189,
     "metadata": {},
     "output_type": "execute_result"
    }
   ],
   "source": [
    "x\n"
   ]
  },
  {
   "cell_type": "markdown",
   "id": "9dcb9878",
   "metadata": {},
   "source": [
    "### Variable size Problems"
   ]
  },
  {
   "cell_type": "markdown",
   "id": "2e3d77f6",
   "metadata": {},
   "source": [
    "#### Identify the problems\n",
    "\n",
    "Usually for most of the cases The problems talks about few things,\n",
    "1. Array or String\n",
    "2. Subarray or substring\n",
    "3. condition will be given and window size k will be asked\n",
    "\n",
    "If the problem is talking about the above 3 things. High chances It's a sliding window problem.\n",
    "\n",
    "#### Solution\n",
    "\n",
    "In case of problems of this type, we usually run a while loop as we need the index of the window.\n",
    "The solution is always a 3 step solution inside the while loop,\n",
    "```\n",
    "while condition:\n",
    "    ##  Calculation for each j\n",
    "    ##  If condition bigger than window size increase j\n",
    "    ##  Find the answer from the calculation above when cond == window\n",
    "    ##  handle cond > win, remove multiple i slots till condition = > window\n",
    "    ##  Slide the window and remove the calculation for i.\n",
    "    \n",
    "````"
   ]
  },
  {
   "cell_type": "markdown",
   "id": "4df5cf9c",
   "metadata": {},
   "source": [
    "#### 2.1 largest/smaller subarray of sum k."
   ]
  },
  {
   "cell_type": "code",
   "execution_count": 469,
   "id": "be48f377",
   "metadata": {},
   "outputs": [],
   "source": [
    "def max_len_sublist(l, condition):\n",
    "    i = j = 0\n",
    "    n = len(l)\n",
    "    max_val, curr = 0, 0\n",
    "    ans = []\n",
    "    \n",
    "    while j < len(l):\n",
    "        # Calculation for j\n",
    "        curr += l[j]\n",
    "        # increase the j as curr is smaller than given condition\n",
    "        if curr < condition:\n",
    "            j +=1\n",
    "        elif curr == condition:\n",
    "            # Find ans from the above calculation\n",
    "            ans.append(j-i+1)\n",
    "            max_val = max(j-i+1, max_val) # min for minimum sum\n",
    "            # Removed the calculation for i\n",
    "            curr -= l[i]\n",
    "            # Slide the window\n",
    "            i +=1\n",
    "            j +=1\n",
    "        # Incase the sum is more.\n",
    "        elif curr > condition:\n",
    "            j +=1\n",
    "            while curr > condition:\n",
    "                # Removed the calculation for i\n",
    "                curr -= l[i]\n",
    "                # Slide the window\n",
    "                i +=1\n",
    "    print(ans)\n",
    "    return max_val"
   ]
  },
  {
   "cell_type": "code",
   "execution_count": 470,
   "id": "af8e7c03",
   "metadata": {},
   "outputs": [
    {
     "name": "stdout",
     "output_type": "stream",
     "text": [
      "[2, 4]\n"
     ]
    },
    {
     "data": {
      "text/plain": [
       "4"
      ]
     },
     "execution_count": 470,
     "metadata": {},
     "output_type": "execute_result"
    }
   ],
   "source": [
    "l = [4,1,1,1,2,3,5]\n",
    "cond = 5\n",
    "max_len_sublist(l, cond)"
   ]
  },
  {
   "cell_type": "markdown",
   "id": "389a8f56",
   "metadata": {},
   "source": [
    "#### 2.2 largest substring with k distinct character."
   ]
  },
  {
   "cell_type": "code",
   "execution_count": 471,
   "id": "5f791e36",
   "metadata": {},
   "outputs": [],
   "source": [
    "def max_k_distinct_sublist(s, condition):\n",
    "    i = j = 0\n",
    "    n = len(s)\n",
    "    mapper = {}\n",
    "    max_val, curr = 0, 0\n",
    "    ans = []\n",
    "    \n",
    "    while j < len(s):\n",
    "        # Calculation for j\n",
    "        if s[j] in mapper: mapper[s[j]] += 1\n",
    "        else: mapper[s[j]] = 1\n",
    "\n",
    "        # check ans for condition hit\n",
    "        if len(mapper) == condition:\n",
    "            # Find ans from the above calculation\n",
    "            ans.append((s[i:j+1], len(s[i:j+1])))\n",
    "            max_val = max(len(s[i:j+1]), max_val) # min for minimum sum\n",
    "        elif len(mapper) > condition:\n",
    "            while len(mapper) > condition and all(mapper.values()):\n",
    "                # Removed the calculation for i\n",
    "                mapper[s[i]] -= 1\n",
    "                if mapper[s[i]] == 0: mapper.pop(s[i])\n",
    "                # Slide the window\n",
    "                i +=1\n",
    "        j +=1\n",
    "    print(ans)\n",
    "    return max_val"
   ]
  },
  {
   "cell_type": "code",
   "execution_count": 472,
   "id": "1c8ac9c2",
   "metadata": {},
   "outputs": [
    {
     "name": "stdout",
     "output_type": "stream",
     "text": [
      "[('aabac', 5), ('aabacb', 6), ('cbeb', 4), ('cbebe', 5), ('cbebeb', 6), ('cbebebe', 7)]\n"
     ]
    },
    {
     "data": {
      "text/plain": [
       "7"
      ]
     },
     "execution_count": 472,
     "metadata": {},
     "output_type": "execute_result"
    }
   ],
   "source": [
    "max_k_distinct_sublist('aabacbebebe', 3)"
   ]
  },
  {
   "cell_type": "markdown",
   "id": "2af17295",
   "metadata": {},
   "source": [
    "#### 2.3 largest substring with no repeating character."
   ]
  },
  {
   "cell_type": "code",
   "execution_count": 473,
   "id": "37e3c2a7",
   "metadata": {},
   "outputs": [],
   "source": [
    "def max_all_distinct_sublist(s):\n",
    "    i = j = 0\n",
    "    n = len(l)\n",
    "    mapper = {}\n",
    "    max_val, curr = 0, 0\n",
    "    ans = []\n",
    "    \n",
    "    while j < len(s):\n",
    "        # Calculation for j\n",
    "        if s[j] in mapper: mapper[s[j]] += 1\n",
    "        else: mapper[s[j]] = 1\n",
    "        # check ans for condition hit\n",
    "        if len(mapper) == j-i+1:\n",
    "            # Find ans from the above calculation\n",
    "            ans.append((s[i:j+1], len(s[i:j+1])))\n",
    "            max_val = max(len(s[i:j+1]), max_val) # min for minimum sum\n",
    "        \n",
    "        elif len(mapper) < j-i+1:\n",
    "            while len(mapper) < j-i+1:\n",
    "                # Removed the calculation for i\n",
    "                mapper[s[i]] -= 1\n",
    "                if mapper[s[i]] == 0: mapper.pop(s[i])\n",
    "                # Slide the window\n",
    "                i +=1\n",
    "        j +=1\n",
    "    print(ans)\n",
    "    return max_val"
   ]
  },
  {
   "cell_type": "code",
   "execution_count": 474,
   "id": "332fde57",
   "metadata": {},
   "outputs": [
    {
     "name": "stdout",
     "output_type": "stream",
     "text": [
      "[('p', 1), ('pw', 2), ('wk', 2), ('wke', 3)]\n"
     ]
    },
    {
     "data": {
      "text/plain": [
       "3"
      ]
     },
     "execution_count": 474,
     "metadata": {},
     "output_type": "execute_result"
    }
   ],
   "source": [
    "max_all_distinct_sublist('pwwkew')"
   ]
  },
  {
   "cell_type": "markdown",
   "id": "3874990f",
   "metadata": {},
   "source": [
    "#### 2.4 pick toy"
   ]
  },
  {
   "cell_type": "markdown",
   "id": "6aa75fb5",
   "metadata": {},
   "source": [
    "Sheldon goes to a market with his mother and sees a rack full of superhero action figures and asks her mom to buy him a lot of toys. Mom says yes but there are 2 conditions,\n",
    "1. You can only pick toys serially.\n",
    "2. There can be as many toys as you can pick that belongs to only k distinct superheros.\n",
    "\n",
    "Help Sheldon pick as much toys as possible."
   ]
  },
  {
   "cell_type": "code",
   "execution_count": 475,
   "id": "42d68934",
   "metadata": {},
   "outputs": [],
   "source": [
    "def pick_toy(s, n):\n",
    "    i = j = 0\n",
    "    mapper = {}\n",
    "    max_val, curr = 0, 0\n",
    "    ans = []\n",
    "    \n",
    "    while j < len(s):\n",
    "        # Calculation for j\n",
    "        if s[j] in mapper: mapper[s[j]] += 1\n",
    "        else: mapper[s[j]] = 1\n",
    "\n",
    "        # check ans for condition hit\n",
    "        if len(mapper) == n:\n",
    "            # Find ans from the above calculation\n",
    "            ans.append((s[i:j+1], len(s[i:j+1])))\n",
    "            max_val = max(len(s[i:j+1]), max_val) # min for minimum sum\n",
    "        elif len(mapper) > n:\n",
    "            while len(mapper) > n and all(mapper.values()):\n",
    "                # Removed the calculation for i\n",
    "                mapper[s[i]] -= 1\n",
    "                if mapper[s[i]] == 0: mapper.pop(s[i])\n",
    "                # Slide the window\n",
    "                i +=1\n",
    "        j +=1\n",
    "    print(ans)\n",
    "    return max_val"
   ]
  },
  {
   "cell_type": "code",
   "execution_count": 476,
   "id": "899bfc3c",
   "metadata": {},
   "outputs": [
    {
     "name": "stdout",
     "output_type": "stream",
     "text": [
      "[('ab', 2), ('aba', 3), ('acc', 3), ('acca', 4)]\n"
     ]
    },
    {
     "data": {
      "text/plain": [
       "4"
      ]
     },
     "execution_count": 476,
     "metadata": {},
     "output_type": "execute_result"
    }
   ],
   "source": [
    "pick_toy('abaccab', 2)"
   ]
  },
  {
   "cell_type": "markdown",
   "id": "7dde4e59",
   "metadata": {},
   "source": [
    "#### 2.5 min window substring."
   ]
  },
  {
   "cell_type": "code",
   "execution_count": 477,
   "id": "719f19ee",
   "metadata": {},
   "outputs": [],
   "source": [
    "def min_window_substring(s, t):\n",
    "    n = len(s)\n",
    "    mapper = {}\n",
    "    \n",
    "    # calculate t characters\n",
    "    for i in t:\n",
    "        if i in mapper: mapper[i] +=1\n",
    "        else: mapper[i] = 1\n",
    "    count = len(mapper)\n",
    "\n",
    "    i = j = 0\n",
    "    min_val = float(\"inf\") # set a high value\n",
    "    ans = []\n",
    "    \n",
    "    while j < len(s):\n",
    "        # Calculation for j\n",
    "        if s[j] in mapper:\n",
    "            mapper[s[j]] -= 1\n",
    "            if mapper[s[j]] == 0:\n",
    "                count -=1\n",
    "\n",
    "        # check ans for condition hit\n",
    "        if count == 0:\n",
    "            # Find ans from the above calculation\n",
    "            # optimze the solution by removing unnecessary char from start\n",
    "            while count == 0:\n",
    "                # Removed the calculation for i\n",
    "                if s[i] in mapper:\n",
    "                    mapper[s[i]] += 1\n",
    "                    if mapper[s[i]] ==1: count += 1\n",
    "                i +=1\n",
    "            ans.append((s[i-1:j+1], len(s[i-1:j+1])))\n",
    "            min_val = min(len(s[i-1:j+1]), min_val) # min for minimum sum\n",
    "        j +=1\n",
    "    print(ans)\n",
    "    return min_val"
   ]
  },
  {
   "cell_type": "code",
   "execution_count": 478,
   "id": "d00cb9d8",
   "metadata": {},
   "outputs": [
    {
     "name": "stdout",
     "output_type": "stream",
     "text": [
      "[('to prac', 7), ('o pract', 7)]\n"
     ]
    },
    {
     "data": {
      "text/plain": [
       "7"
      ]
     },
     "execution_count": 478,
     "metadata": {},
     "output_type": "execute_result"
    }
   ],
   "source": [
    "s = \"time to practice\"\n",
    "t = \"toc\"\n",
    "min_window_substring(s,t)"
   ]
  },
  {
   "cell_type": "code",
   "execution_count": 479,
   "id": "4bac29d9",
   "metadata": {},
   "outputs": [
    {
     "name": "stdout",
     "output_type": "stream",
     "text": [
      "[('tmta', 4), ('tapt', 4), ('tat', 3)]\n"
     ]
    },
    {
     "data": {
      "text/plain": [
       "3"
      ]
     },
     "execution_count": 479,
     "metadata": {},
     "output_type": "execute_result"
    }
   ],
   "source": [
    "s = \"totmtaptat\"\n",
    "t = \"tta\"\n",
    "min_window_substring(s,t)"
   ]
  },
  {
   "cell_type": "code",
   "execution_count": null,
   "id": "ac556285",
   "metadata": {},
   "outputs": [],
   "source": []
  },
  {
   "cell_type": "code",
   "execution_count": null,
   "id": "4e11b89a",
   "metadata": {},
   "outputs": [],
   "source": []
  }
 ],
 "metadata": {
  "kernelspec": {
   "display_name": "Python 3 (ipykernel)",
   "language": "python",
   "name": "python3"
  },
  "language_info": {
   "codemirror_mode": {
    "name": "ipython",
    "version": 3
   },
   "file_extension": ".py",
   "mimetype": "text/x-python",
   "name": "python",
   "nbconvert_exporter": "python",
   "pygments_lexer": "ipython3",
   "version": "3.8.5"
  }
 },
 "nbformat": 4,
 "nbformat_minor": 5
}
