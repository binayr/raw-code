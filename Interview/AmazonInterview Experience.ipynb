{
 "cells": [
  {
   "cell_type": "markdown",
   "id": "72bd0e5e",
   "metadata": {},
   "source": [
    "### Movies on Flight\n",
    "\n",
    "You are on a flight and wanna watch two movies during this flight.\n",
    "You are given int[] movie_duration which includes all the movie durations.\n",
    "You are also given the duration of the flight which is d in minutes.\n",
    "Now, you need to pick two movies and the total duration of the two movies is less than or equal to (d - 30min).\n",
    "Find the pair of movies with the longest total duration. If multiple found, return the pair with the longest movie.\n",
    "```\n",
    "e.g.\n",
    "Input\n",
    "movie_duration: [90, 85, 75, 60, 120, 150, 125]\n",
    "d: 250\n",
    "\n",
    "Output from aonecode.com\n",
    "[90, 125]\n",
    "90min + 125min = 215 is the maximum number within 220 (250min - 30min)\n",
    "```"
   ]
  },
  {
   "cell_type": "code",
   "execution_count": 30,
   "id": "9041c12f",
   "metadata": {},
   "outputs": [],
   "source": [
    "def optimum_movie(movies, d):\n",
    "    duration = d - 30\n",
    "    opt = 0\n",
    "    out = None\n",
    "    m_sorted = sorted(movies)\n",
    "    first, last = 0, len(movies)-1\n",
    "    while first < last:\n",
    "        dur = movies[first] + movies[last]\n",
    "        if dur == duration: return [movies[first], movies[last]]\n",
    "        if dur < duration and dur > opt:\n",
    "            opt = movies[first] + movies[last]\n",
    "            out = [movies[first], movies[last]]\n",
    "            first += 1\n",
    "        else:\n",
    "            last -= 1\n",
    "    return out"
   ]
  },
  {
   "cell_type": "code",
   "execution_count": 37,
   "id": "12a4261d",
   "metadata": {},
   "outputs": [
    {
     "data": {
      "text/plain": [
       "[90, 125]"
      ]
     },
     "execution_count": 37,
     "metadata": {},
     "output_type": "execute_result"
    }
   ],
   "source": [
    "optimum_movie([90, 85, 75, 60, 120, 150, 125], 250)"
   ]
  },
  {
   "cell_type": "markdown",
   "id": "868dbc49",
   "metadata": {},
   "source": [
    "### Treasure Island I\n",
    "You have a map that marks the location of a treasure island. Some of the map area has jagged rocks and dangerous reefs. Other areas are safe to sail in.\n",
    "There are other explorers trying to find the treasure. So you must figure out a shortest route to the treasure island.\n",
    "Assume the map area is a two dimensional grid, represented by a matrix of characters.\n",
    "You must start from the top-left corner of the map and can move one block up, down, left or right at a time.\n",
    "The treasure island is marked as ‘X’ in a block of the matrix. ‘X’ will not be at the top-left corner.\n",
    "Any block with dangerous rocks or reefs will be marked as ‘D’. You must not enter dangerous blocks. You cannot leave the map area.\n",
    "Other areas ‘O’ are safe to sail in. The top-left corner is always safe.\n",
    "Output the minimum number of steps to get to the treasure.\n",
    "```\n",
    "e.g.\n",
    "Input\n",
    "[\n",
    "[‘O’, ‘O’, ‘O’, ‘O’],\n",
    "[‘D’, ‘O’, ‘D’, ‘O’],\n",
    "[‘O’, ‘O’, ‘O’, ‘O’],\n",
    "[‘X’, ‘D’, ‘D’, ‘O’],\n",
    "]\n",
    "\n",
    "Output from aonecode.com\n",
    "Route is (0, 0), (0, 1), (1, 1), (2, 1), (2, 0), (3, 0) The minimum route takes 5 steps.\n",
    "```"
   ]
  },
  {
   "cell_type": "code",
   "execution_count": 38,
   "id": "d58057c6",
   "metadata": {},
   "outputs": [
    {
     "name": "stdout",
     "output_type": "stream",
     "text": [
      ">> Using dirs and BFS <<\n",
      "5\n"
     ]
    }
   ],
   "source": [
    "def func2(M):\n",
    "    from collections import deque\n",
    "    q = deque()\n",
    "    q.append((0,0))\n",
    "    dirs = [(1,0), (-1,0), (0,1), (0,-1)]\n",
    "    steps = 0\n",
    "    visited = set()\n",
    "    visited.add((0,0))\n",
    "    while q:\n",
    "        for i in range(len(q)):\n",
    "            node = q.popleft()\n",
    "            x, y = node[0], node[1]\n",
    "            \n",
    "            if M[x][y] == 'X':\n",
    "                return steps\n",
    "            \n",
    "            for dir in dirs: # inseatd of looping over d[node]\n",
    "                newX, newY = x+dir[0], y+dir[1]\n",
    "                # check bounds:\n",
    "                if newX >= 0 and newX <= len(M)-1 and newY >= 0 and newY <= len(M[0])-1:\n",
    "                    # check cell:\n",
    "                    if M[newX][newY] != 'D':\n",
    "                        # check if visited:\n",
    "                        if (newX, newY) not in visited:\n",
    "                            q.append((newX, newY))\n",
    "                            visited.add((newX, newY))\n",
    "        steps += 1\n",
    "    return steps\n",
    "    \n",
    "M = [['O', 'O', 'O', 'O'],['D', 'O', 'D', 'O'],['O', 'O', 'O', 'O'],['X', 'D', 'D', 'O']]\n",
    "print('>> Using dirs and BFS <<')\n",
    "print(func2(M))"
   ]
  },
  {
   "cell_type": "markdown",
   "id": "a923bc3e",
   "metadata": {},
   "source": [
    "### Treasure Island II\n",
    "You have a map that marks the locations of treasure islands. Some of the map area has jagged rocks and dangerous reefs. Other areas are safe to sail in.\n",
    "There are other explorers trying to find the treasure. So you must figure out a shortest route to one of the treasure island.\n",
    "Assume the map area is a two dimensional grid, represented by a matrix of characters.\n",
    "You must start from one of the starting point(marked as 'S') of the map and can move one block up, down, left or right at a time.\n",
    "The treasure island is marked as ‘X’ in a block of the matrix.\n",
    "Any block with dangerous rocks or reefs will be marked as ‘D’. You must not enter dangerous blocks. You cannot leave the map area.\n",
    "Other areas ‘O’ are safe to sail in.\n",
    "Output the minimum number of steps to get to any of the treasure.\n",
    "```\n",
    "e.g.\n",
    "Input\n",
    "[\n",
    "[‘S’, ‘O’, ‘O’, 'S', ‘S’],\n",
    "[‘D’, ‘O’, ‘D’, ‘O’, ‘D’],\n",
    "[‘O’, ‘O’, ‘O’, ‘O’, ‘X’],\n",
    "[‘X’, ‘D’, ‘D’, ‘O’, ‘O’],\n",
    "[‘X', ‘D’, ‘D’, ‘D’, ‘O’],\n",
    "]\n",
    "\n",
    "Output\n",
    "3\n",
    "Explanation\n",
    "You can start from (0,0), (0, 3) or (0, 4). The treasure locations are (2, 4) (3, 0) and (4, 0). Here the shortest route is (0, 3), (1, 3), (2, 3), (2, 4).\n",
    "```"
   ]
  },
  {
   "cell_type": "code",
   "execution_count": 41,
   "id": "f15a7436",
   "metadata": {},
   "outputs": [
    {
     "name": "stdout",
     "output_type": "stream",
     "text": [
      "4\n",
      "inf\n",
      "2\n",
      "2\n",
      "4\n",
      "3\n",
      "2\n",
      "3\n",
      "inf\n"
     ]
    }
   ],
   "source": [
    "from collections import deque\n",
    "\n",
    "class Solution:\n",
    "\n",
    "    def bestRoute(self, graph):\n",
    "        \n",
    "        minCost = float('inf')\n",
    "        for i in range(len(graph)):\n",
    "            for j in range(len(graph[0])):\n",
    "                if graph[i][j] == 'S':\n",
    "                    currCost = self.bestRouteFromSource(graph, [i, j])\n",
    "                    minCost = min(minCost, currCost)\n",
    "                    \n",
    "        return minCost\n",
    "        \n",
    "    def bestRouteFromSource(self, graph, point):\n",
    "        minCost = float('inf')\n",
    "        m = len(graph)\n",
    "        if not m:\n",
    "            return minCost\n",
    "        n = len(graph[0])\n",
    "        visited = [[False] * n for _ in range(m)]\n",
    "\n",
    "        queue = deque([(point[0], point[1], 0)])\n",
    "        while queue:\n",
    "            i, j, currCost = queue.popleft()\n",
    "            if not (0<=i<m and 0<=j<n) or visited[i][j] or graph[i][j] == 'D':\n",
    "                continue\n",
    "            if graph[i][j] == 'X':\n",
    "                minCost = min(minCost, currCost)\n",
    "                \n",
    "            visited[i][j] = True\n",
    "            for x, y in [(i-1, j), (i+1, j), (i, j-1), (i, j+1)]:\n",
    "                queue.append((x, y, currCost+1))\n",
    "                  \n",
    "        return minCost\n",
    "        \n",
    "        \n",
    "def main():\n",
    "    \n",
    "    graphs = [\n",
    "        [\n",
    "            # shortest path is 4\n",
    "            ['S', 'O', 'O', 'O'],\n",
    "            ['D', 'O', 'D', 'O'],\n",
    "            ['O', 'O', 'O', 'S'],\n",
    "            ['X', 'D', 'D', 'O']\n",
    "        ],\n",
    "        [\n",
    "            # no shortest path - inf\n",
    "            ['S', 'O', 'O', 'O'],\n",
    "            ['D', 'O', 'D', 'O'],\n",
    "            ['O', 'D', 'O', 'S'],\n",
    "            ['X', 'D', 'D', 'O']\n",
    "        ],\n",
    "        [\n",
    "            # no obstacles - 2\n",
    "            ['S', 'O', 'O', 'O'],\n",
    "            ['O', 'O', 'O', 'S'],\n",
    "            ['O', 'O', 'X', 'O'],\n",
    "            ['X', 'O', 'O', 'O']\n",
    "        ],\n",
    "        [\n",
    "            # extreme paths - 2\n",
    "            ['S', 'O', 'O', 'O'],\n",
    "            ['D', 'D', 'D', 'O'],\n",
    "            ['S', 'O', 'X', 'O'],\n",
    "            ['O', 'D', 'D', 'D'],\n",
    "            ['O', 'O', 'O', 'X'],            \n",
    "        ],\n",
    "        [\n",
    "            # some starting points are blocked - 4\n",
    "            ['S', 'D', 'S', 'O'],\n",
    "            ['D', 'D', 'O', 'O'],\n",
    "            ['D', 'D', 'O', 'O'],\n",
    "            ['O', 'X', 'D', 'X']\n",
    "        ],\n",
    "        [\n",
    "            # more than one but same shortest route - 3\n",
    "            ['S', 'O', 'O', 'S'],\n",
    "            ['O', 'D', 'O', 'O'],\n",
    "            ['O', 'D', 'O', 'O'],\n",
    "            ['S', 'O', 'O', 'X']            \n",
    "        ],\n",
    "        [\n",
    "            # single row - 2\n",
    "            ['S', 'S', 'O', 'X']\n",
    "        ],\n",
    "        [\n",
    "            # single col - \n",
    "            ['S'],\n",
    "            ['S'],\n",
    "            ['O'],\n",
    "            ['O'],\n",
    "            ['X'],\n",
    "        ],\n",
    "        [\n",
    "            # no rows, no columns\n",
    "        ],\n",
    "    ]\n",
    "    \n",
    "    s = Solution()\n",
    "    for graph in graphs:\n",
    "        print(s.bestRoute(graph))\n",
    "main()"
   ]
  },
  {
   "cell_type": "markdown",
   "id": "c79e6e6a",
   "metadata": {},
   "source": [
    "### K Nearest Post Offices\n",
    "Find the k post offices located closest to you, given your location and a list of locations of all post offices available.\n",
    "Locations are given in 2D coordinates in [X, Y], where X and Y are integers.\n",
    "Euclidean distance is applied to find the distance between you and a post office.\n",
    "Assume your location is [m, n] and the location of a post office is [p, q], the Euclidean distance between the office and you is SquareRoot((m - p) * (m - p) + (n - q) * (n - q)).\n",
    "K is a positive integer much smaller than the given number of post offices. from aonecode.com\n",
    "```\n",
    "e.g.\n",
    "Input\n",
    "you: [0, 0]\n",
    "post_offices: [[-16, 5], [-1, 2], [4, 3], [10, -2], [0, 3], [-5, -9]]\n",
    "k = 3\n",
    "\n",
    "Output from aonecode.com\n",
    "[[-1, 2], [0, 3], [4, 3]]\n",
    "```"
   ]
  },
  {
   "cell_type": "code",
   "execution_count": 44,
   "id": "dc5017e4",
   "metadata": {},
   "outputs": [
    {
     "data": {
      "text/plain": [
       "5.0"
      ]
     },
     "execution_count": 44,
     "metadata": {},
     "output_type": "execute_result"
    }
   ],
   "source": [
    "import math \n",
    "\n",
    "def find_euclidean_distance(src, dst):\n",
    "    return math.sqrt((src[0]-dst[0])**2 + (src[1]-dst[1])**2)\n",
    "\n",
    "find_euclidean_distance([0,0], [4,3])"
   ]
  },
  {
   "cell_type": "code",
   "execution_count": 50,
   "id": "676aa456",
   "metadata": {},
   "outputs": [
    {
     "data": {
      "text/plain": [
       "[[1, []], [2, []], [3, [3, 4]], [4, []], [5, []]]"
      ]
     },
     "execution_count": 50,
     "metadata": {},
     "output_type": "execute_result"
    }
   ],
   "source": [
    "def insert(l, n):\n",
    "    \n",
    "    if not l:\n",
    "        return [n]\n",
    "    # Searching for the position\n",
    "    for i in range(len(l)):\n",
    "        if l[i][0] > n[0]:\n",
    "            index = i\n",
    "            break\n",
    "      \n",
    "    # Inserting n in the list\n",
    "    l = l[:i] + [n] + l[i:]\n",
    "    return l\n",
    "\n",
    "insert([[1, []],[2, []],[4, []],[5, []]], [3, [3,4]])"
   ]
  },
  {
   "cell_type": "code",
   "execution_count": 53,
   "id": "2ad97951",
   "metadata": {
    "scrolled": false
   },
   "outputs": [],
   "source": [
    "def find_po(you, pos, k):\n",
    "    out = []\n",
    "    for po in pos:\n",
    "        distance = find_euclidean_distance(you, po)\n",
    "        out = insert(out, [distance, po])\n",
    "    return [i[1] for i in out[:k]]"
   ]
  },
  {
   "cell_type": "code",
   "execution_count": 54,
   "id": "7202851d",
   "metadata": {
    "scrolled": false
   },
   "outputs": [
    {
     "data": {
      "text/plain": [
       "[[-1, 2], [0, 3], [4, 3]]"
      ]
     },
     "execution_count": 54,
     "metadata": {},
     "output_type": "execute_result"
    }
   ],
   "source": [
    "find_po([0,0], [[-16, 5], [-1, 2], [4, 3], [10, -2], [0, 3], [-5, -9]], 3)"
   ]
  },
  {
   "cell_type": "markdown",
   "id": "22e86f00",
   "metadata": {},
   "source": [
    "### Roll Dice\n",
    "Given N dices each face ranging from 1 to 6, return the minimum number of rotations necessary for each dice show the same face.\n",
    "Notice in one rotation you can rotate the dice to the adjacent face. For example you can rotate the dice shows 1 to show 2, 3, 4, or 5. But to make it show 6, you need two rotations.\n",
    "```\n",
    "Example:\n",
    "Input: [6, 5, 4]\n",
    "Output: 2\n",
    "Rotate 6 to 4, then rotate 5 to 4.\n",
    "\n",
    "Input: [6, 6, 1]\n",
    "Output: 2\n",
    "Rotate 1 to 6, which needs two rotations.\n",
    "\n",
    "Input: [6, 1, 5, 4]\n",
    "Output: 3\n",
    "Rotate 6 to 5, rotate 1 to 5, then rotate 4 to 5\n",
    "```"
   ]
  },
  {
   "cell_type": "code",
   "execution_count": 58,
   "id": "885893b5",
   "metadata": {},
   "outputs": [
    {
     "data": {
      "text/plain": [
       "2"
      ]
     },
     "execution_count": 58,
     "metadata": {},
     "output_type": "execute_result"
    }
   ],
   "source": [
    "def number_of_rotations(dice) -> int:\n",
    "    return min(\n",
    "        sum(0 if d == v else 1 if d + v != 7 else 2 for d in dice)\n",
    "        for v in range(1, 7)\n",
    "    )\n",
    "\n",
    "number_of_rotations([6,5,4])\n"
   ]
  },
  {
   "cell_type": "code",
   "execution_count": 59,
   "id": "11b378a2",
   "metadata": {},
   "outputs": [
    {
     "data": {
      "text/plain": [
       "2"
      ]
     },
     "execution_count": 59,
     "metadata": {},
     "output_type": "execute_result"
    }
   ],
   "source": [
    "number_of_rotations([6,6,1])"
   ]
  },
  {
   "cell_type": "code",
   "execution_count": 60,
   "id": "835e64ce",
   "metadata": {},
   "outputs": [
    {
     "data": {
      "text/plain": [
       "3"
      ]
     },
     "execution_count": 60,
     "metadata": {},
     "output_type": "execute_result"
    }
   ],
   "source": [
    "number_of_rotations([6,1,5,4])"
   ]
  },
  {
   "cell_type": "markdown",
   "id": "ed4963f3",
   "metadata": {},
   "source": [
    "### Min Cost to Connect All Nodes (Minimum Spanning Tree I)\n",
    "Given an undirected graph with n nodes labeled 1..n. Some of the nodes are already connected. The i-th edge connects nodes edges[i][0] and edges[i][1] together. Your task is to augment this set of edges with additional edges to connect all the nodes. Find the minimum cost to add new edges between the nodes such that all the nodes are accessible from each other.\n",
    "```\n",
    "Input:\n",
    "n, an int representing the total number of nodes.\n",
    "edges, a list of integer pair representing the nodes already connected by an edge.\n",
    "newEdges, a list where each element is a triplet representing the pair of nodes between which an edge can be added and the cost of addition, respectively (e.g. [1, 2, 5] means to add an edge between node 1 and 2, the cost would be 5).\n",
    "\n",
    "Example:\n",
    "Input:\n",
    "n = 6, edges = [[1, 4], [4, 5], [2, 3]], newEdges = [[1, 2, 5], [1, 3, 10], [1, 6, 2], [5, 6, 5]]\n",
    "Output: 7\n",
    "Explanation:\n",
    "There are 3 connected components [1, 4, 5], [2, 3] and [6].\n",
    "We can connect these components into a single component by connecting node 1 to node 2 and node 1 to node 6 at a minimum cost of 5 + 2 = 7.\n",
    "\n",
    "hint: what’s the time complexity of your algorithm? Can you make the running time O(E * log(E)) by using Union Find?\n",
    "```"
   ]
  },
  {
   "cell_type": "code",
   "execution_count": 66,
   "id": "7619b56d",
   "metadata": {},
   "outputs": [],
   "source": [
    "import collections, heapq\n",
    "def minCostToConnectAllNodes(n, edges, newEdges):\n",
    "        q = [(0, n)]\n",
    "        visited = set()\n",
    "        G = collections.defaultdict(list)\n",
    "        for edge in edges:\n",
    "            G[edge[0]].append((0, edge[1]))\n",
    "            G[edge[1]].append((0, edge[0]))\n",
    "        for edge in newEdges:\n",
    "            G[edge[0]].append((edge[2], edge[1]))\n",
    "            G[edge[1]].append((edge[2], edge[0]))\n",
    "        total = 0\n",
    "        while q and len(visited) < n:\n",
    "            cost1, v1 = heapq.heappop(q)\n",
    "            if v1 not in visited:\n",
    "                visited.add(v1)\n",
    "                total += cost1\n",
    "                for cost2, v2 in G[v1]:\n",
    "                    heapq.heappush(q, (cost2, v2))\n",
    "        return total"
   ]
  },
  {
   "cell_type": "code",
   "execution_count": 67,
   "id": "10afa9d7",
   "metadata": {},
   "outputs": [
    {
     "data": {
      "text/plain": [
       "7"
      ]
     },
     "execution_count": 67,
     "metadata": {},
     "output_type": "execute_result"
    }
   ],
   "source": [
    "n = 6\n",
    "edges = [[1, 4], [4, 5], [2, 3]]\n",
    "newEdges = [[1, 2, 5], [1, 3, 10], [1, 6, 2], [5, 6, 5]]\n",
    "minCostToConnectAllNodes(n, edges, newEdges)"
   ]
  },
  {
   "cell_type": "markdown",
   "id": "0ba75f17",
   "metadata": {},
   "source": [
    "### Min Cost to Repair Edges (Minimum Spanning Tree II)\n",
    "There's an undirected connected graph with n nodes labeled 1..n. But some of the edges has been broken disconnecting the graph. Find the minimum cost to repair the edges so that all the nodes are once again accessible from each other.\n",
    "```\n",
    "Input:\n",
    "n, an int representing the total number of nodes.\n",
    "edges, a list of integer pair representing the nodes connected by an edge.\n",
    "edgesToRepair, a list where each element is a triplet representing the pair of nodes between which an edge is currently broken and the cost of repearing that edge, respectively (e.g. [1, 2, 12] means to repear an edge between nodes 1 and 2, the cost would be 12).\n",
    "\n",
    "Example 1:\n",
    "Input:\n",
    "n = 5, edges = [[1, 2], [2, 3], [3, 4], [4, 5], [1, 5]], edgesToRepair = [[1, 2, 12], [3, 4, 30], [1, 5, 8]]\n",
    "Output: 20\n",
    "Explanation:\n",
    "There are 3 connected components due to broken edges: [1], [2, 3] and [4, 5].\n",
    "We can connect these components into a single component by repearing the edges between nodes 1 and 2, and nodes 1 and 5 at a minimum cost 12 + 8 = 20.\n",
    "\n",
    "Example 2:\n",
    "Input:\n",
    "n = 6, edges = [[1, 2], [2, 3], [4, 5], [3, 5], [1, 6], [2, 4]], edgesToRepair = [[1, 6, 410], [2, 4, 800]]\n",
    "Output: 410\n",
    "\n",
    "Example 3:\n",
    "Input:\n",
    "n = 6, edges = [[1, 2], [2, 3], [4, 5], [5, 6], [1, 5], [2, 4], [3, 4]], edgesToRepair = [[1, 5, 110], [2, 4, 84], [3, 4, 79]]\n",
    "Output: 79\n",
    "```"
   ]
  },
  {
   "cell_type": "code",
   "execution_count": 68,
   "id": "e288d788",
   "metadata": {},
   "outputs": [
    {
     "name": "stdout",
     "output_type": "stream",
     "text": [
      "20\n",
      "410\n",
      "79\n"
     ]
    }
   ],
   "source": [
    "from collections import defaultdict\n",
    "import heapq\n",
    "\n",
    "class Solution:\n",
    "    def __init__(self):\n",
    "        pass\n",
    "    \n",
    "    def minCostForRepair(self, n, edges, edgesToRepair):\n",
    "        graph=defaultdict(list)\n",
    "        addedEdges=set()\n",
    "        for edge in edgesToRepair:\n",
    "            graph[edge[0]].append((edge[2], edge[1]))\n",
    "            graph[edge[1]].append((edge[2], edge[0]))\n",
    "            addedEdges.add((edge[0], edge[1]))\n",
    "            addedEdges.add((edge[1], edge[0]))\n",
    "        for edge in edges:\n",
    "            if tuple(edge) not in addedEdges:\n",
    "                graph[edge[0]].append((0, edge[1]))\n",
    "                graph[edge[1]].append((0, edge[0]))\n",
    "\n",
    "        res=0\n",
    "        priorityQueue=[(0, 1)]\n",
    "        heapq.heapify(priorityQueue)\n",
    "        visited=set()\n",
    "\n",
    "        while priorityQueue:\n",
    "            minCost, node=heapq.heappop(priorityQueue)\n",
    "            if node not in visited:\n",
    "                visited.add(node)\n",
    "                res+=minCost\n",
    "                for cost, connectedNode in graph[node]:\n",
    "                    if connectedNode not in visited:\n",
    "                        heapq.heappush(priorityQueue, (cost, connectedNode))\n",
    "\n",
    "        return res\n",
    "\n",
    "\n",
    "s=Solution()\n",
    "\n",
    "print(s.minCostForRepair(5, [[1, 2], [2, 3], [3, 4], [4, 5], [1, 5]], [[1, 2, 12], [3, 4, 30], [1, 5, 8]]))\n",
    "print(s.minCostForRepair(6, [[1, 2], [2, 3], [4, 5], [3, 5], [1, 6], [2, 4]], [[1, 6, 410], [2, 4, 800]]))\n",
    "print(s.minCostForRepair(6, [[1, 2], [2, 3], [4, 5], [5, 6], [1, 5], [2, 4], [3, 4]], [[1, 5, 110], [2, 4, 84], [3, 4, 79]]))"
   ]
  },
  {
   "cell_type": "markdown",
   "id": "0b776dda",
   "metadata": {},
   "source": [
    "### Favorite Genres\n",
    "Given a map Map<String, List<String>> userMap, where the key is a username and the value is a list of user's songs. Also given a map Map<String, List String>> genreMap, where the key is a genre and the value is a list of songs belonging to this genre. The task is to return a map Map<String, List String>>, where the key is a username and the value is a list of the user's favorite genres. Favorite genre is a genre with the most song.\n",
    "```\n",
    "Example :\n",
    "Input:\n",
    "\n",
    "userMap = {\n",
    "   \"David\": [\"song1\", \"song2\", \"song3\", \"song4\", \"song8\"],\n",
    "   \"Emma\":  [\"song5\", \"song6\", \"song7\"]\n",
    "},\n",
    "genreMap = {\n",
    "   \"Rock\":    [\"song1\", \"song3\"],\n",
    "   \"Dubstep\": [\"song7\"],\n",
    "   \"Techno\":  [\"song2\", \"song4\"],\n",
    "   \"Pop\":     [\"song5\", \"song6\"],\n",
    "   \"Jazz\":    [\"song8\", \"song9\"]\n",
    "}\n",
    "Output:\n",
    "{\n",
    "   \"David\": [\"Rock\", \"Techno\"],\n",
    "   \"Emma\":  [\"Pop\"]\n",
    "}\n",
    "Explanation:\n",
    "David has 2 Rock, 2 Techno and 1 Jazz song. So he has 2 favorite genres.\n",
    "Emma has 2 Pop and 1 Dubstep song. Pop is Emma's favorite genre.\n",
    "```"
   ]
  },
  {
   "cell_type": "code",
   "execution_count": 104,
   "id": "ffcbf42b",
   "metadata": {},
   "outputs": [],
   "source": [
    "def top_genres(userMap, genreMap):\n",
    "    tmp = {\n",
    "            genre: 0\n",
    "            for genre in genreMap\n",
    "    }\n",
    "    _map = {\n",
    "        user: tmp.copy()\n",
    "        for user in userMap\n",
    "    }\n",
    "    to_pop = {user:[] for user in userMap}\n",
    "    # print(_map)\n",
    "    for user in userMap:\n",
    "        for song in userMap[user]:\n",
    "            genre = list(filter(lambda x: song in genreMap[x], genreMap))\n",
    "            genre = genre[0] if genre else None\n",
    "            _map[user][genre] += 1\n",
    "        m = max(_map[user].values())\n",
    "        for genre in _map[user]:\n",
    "            if _map[user][genre] < m:\n",
    "                to_pop[user].append(genre)\n",
    "                \n",
    "    for user in to_pop:\n",
    "        for genre in to_pop[user]:\n",
    "            _map[user].pop(genre)\n",
    "            \n",
    "    _map = {\n",
    "        user: _map[user].keys()\n",
    "        for user in _map\n",
    "    }\n",
    "    return _map\n"
   ]
  },
  {
   "cell_type": "code",
   "execution_count": 105,
   "id": "cec9935f",
   "metadata": {},
   "outputs": [
    {
     "data": {
      "text/plain": [
       "{'David': dict_keys(['Rock', 'Techno']), 'Emma': dict_keys(['Pop'])}"
      ]
     },
     "execution_count": 105,
     "metadata": {},
     "output_type": "execute_result"
    }
   ],
   "source": [
    "userMap = {\n",
    "   \"David\": [\"song1\", \"song2\", \"song3\", \"song4\", \"song8\"],\n",
    "   \"Emma\":  [\"song5\", \"song6\", \"song7\"]\n",
    "}\n",
    "genreMap = {\n",
    "   \"Rock\":    [\"song1\", \"song3\"],\n",
    "   \"Dubstep\": [\"song7\"],\n",
    "   \"Techno\":  [\"song2\", \"song4\"],\n",
    "   \"Pop\":     [\"song5\", \"song6\"],\n",
    "   \"Jazz\":    [\"song8\", \"song9\"]\n",
    "}\n",
    "top_genres(userMap, genreMap)"
   ]
  },
  {
   "cell_type": "code",
   "execution_count": 106,
   "id": "b6030487",
   "metadata": {},
   "outputs": [],
   "source": [
    "def favGenres(userSongs, songGenres):\n",
    "    output = {}\n",
    "    for user in userSongs:\n",
    "        song_list = userSongs[user]\n",
    "        count = {}\n",
    "\n",
    "        for song in song_list:\n",
    "            for genre in songGenres:\n",
    "                if(song in songGenres[genre]):\n",
    "                    count[genre] = count.get(genre,0) + 1\n",
    "\n",
    "        output[user] = [key for key, val in count.items() if val == max(count.values())]\n",
    "    \n",
    "    return output"
   ]
  },
  {
   "cell_type": "code",
   "execution_count": 107,
   "id": "9c7121df",
   "metadata": {},
   "outputs": [
    {
     "data": {
      "text/plain": [
       "{'David': ['Rock', 'Techno'], 'Emma': ['Pop']}"
      ]
     },
     "execution_count": 107,
     "metadata": {},
     "output_type": "execute_result"
    }
   ],
   "source": [
    "favGenres(userMap, genreMap)"
   ]
  },
  {
   "cell_type": "markdown",
   "id": "046996ff",
   "metadata": {},
   "source": [
    "### Longest String Made Up Of Only Vowels\n",
    "Given a string of lower charasters, remove at most two substrings of any length from the given string such that the remaining string contains vowels('a','e','i','o','u') only.\n",
    "\n",
    "Your aim is to maximise the length of the remaining string. Output the length of remaining string after removal of at most two substrings.\n",
    "\n",
    "NOTE: The answer may be 0, i.e. removing the entire string.\n",
    "\n",
    "```\n",
    "Example1:\n",
    "Input:\n",
    "earthproblem\n",
    "Output:\n",
    "2\n",
    "Example2:\n",
    "Input:\n",
    "letsgosomewhere\n",
    "Output:\n",
    "3\n",
    "```"
   ]
  },
  {
   "cell_type": "code",
   "execution_count": 108,
   "id": "57fd0c10",
   "metadata": {},
   "outputs": [],
   "source": [
    "def longestVowelsOnlySubstring(S):\n",
    "    temp, aux, vowels = 0, [], set('aeiou')\n",
    "    # Count the length of each vowel substring\n",
    "    for c in S + 'z':\n",
    "        if c in vowels:\n",
    "            temp += 1\n",
    "        elif temp:\n",
    "            aux.append(temp)\n",
    "            temp = 0\n",
    "    # If the first letter is not vowel, you must cut the head\n",
    "    if S[0] not in vowels: aux = [0] + aux\n",
    "    # If the last letter is not vowel, you must cut the tail\n",
    "    if S[-1] not in vowels: aux += [0]\n",
    "    # Max length = max head + max tail + max middle\n",
    "    return aux[0] + aux[-1] + max(aux[1:-1]) if len(aux) >= 3 else sum(aux)"
   ]
  },
  {
   "cell_type": "markdown",
   "id": "1e0d60ed",
   "metadata": {},
   "source": [
    "### Longest String Without 3 Consecutive Characters\n",
    "Given A, B, C, find any string of maximum length that can be created such that no 3 consecutive characters are same. There can be at max A 'a', B 'b' and C 'c'.\n",
    "```\n",
    "Example 1:\n",
    "\n",
    "Input: A = 1, B = 1, C = 6\n",
    "Output: \"ccbccacc\"\n",
    "\n",
    "Example 2:\n",
    "\n",
    "Input: A = 1, B = 2, C = 3\n",
    "Output: \"acbcbc\"\n",
    "```"
   ]
  },
  {
   "cell_type": "code",
   "execution_count": 145,
   "id": "e6d627c9",
   "metadata": {},
   "outputs": [],
   "source": [
    "def create_str(inp):\n",
    "    high = max(inp, key=lambda x: inp[x])\n",
    "    out = \"\"\n",
    "    while len(out) <= sum(inp.values()):\n",
    "        if inp[high] > 2:\n",
    "            out += 2 * high\n",
    "            inp[high] -= 2\n",
    "        for i in inp:\n",
    "            if inp[i] and out[-1] != i:\n",
    "                out += i\n",
    "                inp[i] -= 1\n",
    "                if inp[high] > 2:\n",
    "                    out += 2 * high\n",
    "                    inp[high] -= 2\n",
    "    else:\n",
    "        for i in inp:\n",
    "            if inp[i]:\n",
    "                out += inp[i] * i\n",
    "                inp[i] -= inp[i]\n",
    "    \n",
    "    return out\n"
   ]
  },
  {
   "cell_type": "code",
   "execution_count": 146,
   "id": "959987f8",
   "metadata": {},
   "outputs": [
    {
     "data": {
      "text/plain": [
       "'CCACCBCC'"
      ]
     },
     "execution_count": 146,
     "metadata": {},
     "output_type": "execute_result"
    }
   ],
   "source": [
    "x = {\"A\": 1, \"B\": 1, \"C\": 6}\n",
    "create_str(x)"
   ]
  },
  {
   "cell_type": "code",
   "execution_count": 147,
   "id": "72419add",
   "metadata": {},
   "outputs": [
    {
     "data": {
      "text/plain": [
       "'CCABCB'"
      ]
     },
     "execution_count": 147,
     "metadata": {},
     "output_type": "execute_result"
    }
   ],
   "source": [
    "x = {\"A\": 1, \"B\": 2, \"C\": 3}\n",
    "create_str(x)"
   ]
  },
  {
   "cell_type": "code",
   "execution_count": 148,
   "id": "3923c6cb",
   "metadata": {},
   "outputs": [
    {
     "data": {
      "text/plain": [
       "'AABCABCC'"
      ]
     },
     "execution_count": 148,
     "metadata": {},
     "output_type": "execute_result"
    }
   ],
   "source": [
    "x = {\"A\": 3, \"B\": 2, \"C\": 3}\n",
    "create_str(x)"
   ]
  },
  {
   "cell_type": "code",
   "execution_count": 149,
   "id": "be828263",
   "metadata": {},
   "outputs": [
    {
     "data": {
      "text/plain": [
       "'AABCABCBC'"
      ]
     },
     "execution_count": 149,
     "metadata": {},
     "output_type": "execute_result"
    }
   ],
   "source": [
    "x = {\"A\": 3, \"B\": 3, \"C\": 3}\n",
    "create_str(x)"
   ]
  },
  {
   "cell_type": "code",
   "execution_count": null,
   "id": "570865d5",
   "metadata": {},
   "outputs": [],
   "source": [
    "# def skill(skill, )"
   ]
  },
  {
   "cell_type": "code",
   "execution_count": 2,
   "id": "5b343507",
   "metadata": {},
   "outputs": [
    {
     "data": {
      "text/plain": [
       "' this is a question'"
      ]
     },
     "execution_count": 2,
     "metadata": {},
     "output_type": "execute_result"
    }
   ],
   "source": [
    "\"\"\"\n",
    "You are given a sentence with no spaces and a dictionary containing words.\n",
    "Write a program to reconstruct the sentence by inserting spaces in the appropriate positions.\n",
    "\n",
    "Examples:\n",
    "\n",
    "sentence: \"thisisaquestion\"\n",
    "output: \"this is a question\"\n",
    "\n",
    "sentence: \"thisisananswer\"\n",
    "output: \"this is an an an swer\"\n",
    "\"\"\"\n",
    "\n",
    "dictionary = {\"this\", \"is\", \"an\", \"answer\", \"a\", \"question\"}\n",
    "\n",
    "def reconstruct(sentence):\n",
    "    out = \"\"\n",
    "    last_word = \"\"\n",
    "    i, j = 0, 1\n",
    "    while i <= len(sentence) and j <= len(sentence):\n",
    "        if sentence[i:j] in dictionary and sentence[i:j] != last_word:\n",
    "            out += \" \" + sentence[i:j]\n",
    "            last_word = sentence[i:j]\n",
    "            i = j\n",
    "            j = i+1\n",
    "        else:\n",
    "            j += 1\n",
    "\n",
    "    return out\n",
    "\n",
    "            \n",
    "reconstruct(\"thisisaquestion\")\n"
   ]
  },
  {
   "cell_type": "markdown",
   "id": "2f021820",
   "metadata": {},
   "source": [
    "## Final Round questions\n",
    "\n",
    "### Q1"
   ]
  },
  {
   "cell_type": "code",
   "execution_count": null,
   "id": "425314b6",
   "metadata": {},
   "outputs": [],
   "source": [
    "# /*\n",
    "# Amazon is having a site-wide sale; everything is 20% off. \n",
    "# Can you write me a function that takes a sentence from the Amazon retail website and if there is a price present, \n",
    "# discounts the price and finally returns the modified sentence.\n",
    "# Example: \"Amazon Echos are $50 today.\"\n",
    "# \"Amazon Echos are $40 today.\"\n",
    "\n",
    "# input: \"Amazon Echos are $40  and t-shirts are $10.\"\n",
    "# input: \"Amazon Echos are awesome\"\n",
    "# input: \"Amazon Echos are €9,99  and t-shirts are $10.\" - > ['9,99', '10']\n",
    "# input: \"Amazon Echos are $9.99  and t-shirts are $10.\"\n",
    "# input: \"5 Echos are $9.99 today.\"\n",
    "# */\n",
    "\n",
    "import re\n",
    "\n",
    "def replace_discount(inp: str, discount: float)->str:\n",
    "    pattern = re.pattern(\"{$,}\\d+{.|,}\\d+\")\n",
    "    amount = re.search(pattern, inp)\n",
    "    if not amount: return inp\n",
    "    \n",
    "    amount = dict(zip(amount, ['' for i in amount])) # {\"9,99\": '', \"10\": ''}\n",
    "    \n",
    "    for i in amount:\n",
    "        am = i[1:]\n",
    "        am = float(i.replace(',', '.'))\n",
    "        discount = am * discount\n",
    "        amount[i] = '.2d'.format(am - discount)\n",
    "        inp = re.sub(i, amount[i], inp)\n",
    "    \n",
    "    return inp"
   ]
  },
  {
   "cell_type": "markdown",
   "id": "2656504b",
   "metadata": {},
   "source": [
    "### Q2"
   ]
  },
  {
   "cell_type": "code",
   "execution_count": 1,
   "id": "84273afc",
   "metadata": {},
   "outputs": [
    {
     "data": {
      "text/plain": [
       "'\\nFor an input stream of data of visited pages, find out the top 3 page sequence of most visit\\neg,\\nT1,C1,A\\nT2,C1,B\\nT2,C2,B\\nT3,C1,C\\nT4,C2,C\\nT5,C2,D\\nT6,C2,A\\nT7,C1,D\\nT8,C1,E\\nT9,C2,E\\n\\nOut: BCD\\n'"
      ]
     },
     "execution_count": 1,
     "metadata": {},
     "output_type": "execute_result"
    }
   ],
   "source": [
    "\"\"\"\n",
    "For an input stream of data of visited pages, find out the top 3 page sequence of most visit\n",
    "eg,\n",
    "T1,C1,A\n",
    "T2,C1,B\n",
    "T2,C2,B\n",
    "T3,C1,C\n",
    "T4,C2,C\n",
    "T5,C2,D\n",
    "T6,C2,A\n",
    "T7,C1,D\n",
    "T8,C1,E\n",
    "T9,C2,E\n",
    "\n",
    "Out: BCD\n",
    "\"\"\"\n",
    "\n"
   ]
  },
  {
   "cell_type": "markdown",
   "id": "792ac627",
   "metadata": {},
   "source": [
    "### Q3"
   ]
  },
  {
   "cell_type": "code",
   "execution_count": 5,
   "id": "f4823168",
   "metadata": {},
   "outputs": [
    {
     "ename": "NameError",
     "evalue": "name 'VisaAuth' is not defined",
     "output_type": "error",
     "traceback": [
      "\u001b[0;31m---------------------------------------------------------------------------\u001b[0m",
      "\u001b[0;31mNameError\u001b[0m                                 Traceback (most recent call last)",
      "\u001b[0;32m/var/folders/73/zb97djqs0vl0rlrb9xlkdl9w0000gn/T/ipykernel_46178/417689969.py\u001b[0m in \u001b[0;36m<module>\u001b[0;34m\u001b[0m\n\u001b[1;32m     24\u001b[0m         \u001b[0;32mpass\u001b[0m\u001b[0;34m\u001b[0m\u001b[0;34m\u001b[0m\u001b[0m\n\u001b[1;32m     25\u001b[0m \u001b[0;34m\u001b[0m\u001b[0m\n\u001b[0;32m---> 26\u001b[0;31m \u001b[0;32mclass\u001b[0m \u001b[0mPayment\u001b[0m\u001b[0;34m:\u001b[0m\u001b[0;34m\u001b[0m\u001b[0;34m\u001b[0m\u001b[0m\n\u001b[0m\u001b[1;32m     27\u001b[0m     mapper = {\n\u001b[1;32m     28\u001b[0m         \u001b[0;34m(\u001b[0m\u001b[0;36m100000\u001b[0m\u001b[0;34m,\u001b[0m \u001b[0;36m299999\u001b[0m\u001b[0;34m)\u001b[0m\u001b[0;34m:\u001b[0m \u001b[0mVisaAuth\u001b[0m\u001b[0;34m,\u001b[0m\u001b[0;34m\u001b[0m\u001b[0;34m\u001b[0m\u001b[0m\n",
      "\u001b[0;32m/var/folders/73/zb97djqs0vl0rlrb9xlkdl9w0000gn/T/ipykernel_46178/417689969.py\u001b[0m in \u001b[0;36mPayment\u001b[0;34m()\u001b[0m\n\u001b[1;32m     26\u001b[0m \u001b[0;32mclass\u001b[0m \u001b[0mPayment\u001b[0m\u001b[0;34m:\u001b[0m\u001b[0;34m\u001b[0m\u001b[0;34m\u001b[0m\u001b[0m\n\u001b[1;32m     27\u001b[0m     mapper = {\n\u001b[0;32m---> 28\u001b[0;31m         \u001b[0;34m(\u001b[0m\u001b[0;36m100000\u001b[0m\u001b[0;34m,\u001b[0m \u001b[0;36m299999\u001b[0m\u001b[0;34m)\u001b[0m\u001b[0;34m:\u001b[0m \u001b[0mVisaAuth\u001b[0m\u001b[0;34m,\u001b[0m\u001b[0;34m\u001b[0m\u001b[0;34m\u001b[0m\u001b[0m\n\u001b[0m\u001b[1;32m     29\u001b[0m         \u001b[0;34m(\u001b[0m\u001b[0;36m300000\u001b[0m\u001b[0;34m,\u001b[0m \u001b[0;36m499999\u001b[0m\u001b[0;34m)\u001b[0m\u001b[0;34m:\u001b[0m \u001b[0mMCAuth\u001b[0m\u001b[0;34m,\u001b[0m\u001b[0;34m\u001b[0m\u001b[0;34m\u001b[0m\u001b[0m\n\u001b[1;32m     30\u001b[0m         \u001b[0;34m(\u001b[0m\u001b[0;36m500000\u001b[0m\u001b[0;34m,\u001b[0m \u001b[0;36m699999\u001b[0m\u001b[0;34m)\u001b[0m\u001b[0;34m:\u001b[0m \u001b[0mAmericanExpress\u001b[0m\u001b[0;34m\u001b[0m\u001b[0;34m\u001b[0m\u001b[0m\n",
      "\u001b[0;31mNameError\u001b[0m: name 'VisaAuth' is not defined"
     ]
    }
   ],
   "source": [
    "# OOP Design\n",
    "# /*\n",
    "# BIN range Processor\n",
    "# 100000-299999 VISA\n",
    "# 300000-499999 MasterCard\n",
    "# 500000-699999 AmericanExpress\n",
    "# */\n",
    "\n",
    "# class VisaAuth {\n",
    "#   public boolean auth(String creditCardNumber);\n",
    "# }\n",
    "# class MCAuth {\n",
    "#   public boolean authCard(long creditCardNumber);\n",
    "# }\n",
    "\n",
    "# class VisaAuthWrapper {\n",
    "#     def auth(creditCardNumber){\n",
    "#         return visaAuth.auth(creditCardNumber);\n",
    "#     }\n",
    "# }\n",
    "\n",
    "class AmericanExpress:\n",
    "    def authExpress(creditCatdNumber): # // checks if it is integer inside\n",
    "        pass\n",
    "\n",
    "class Payment:\n",
    "    mapper = {\n",
    "        (100000, 299999): VisaAuth,\n",
    "        (300000, 499999): MCAuth,\n",
    "        (500000, 699999): AmericanExpress\n",
    "    }\n",
    "    def __init__(self, cardNumber):\n",
    "        self.card_number = cardNumber\n",
    "        self.card_auth = self.get_auth(cardNumber)\n",
    "    \n",
    "    def get_auth(self):\n",
    "        idenitfier = int(self.card_number[:7])\n",
    "        \n",
    "        for i in mapper:\n",
    "            if i[0] <= identifier <= i[1]:\n",
    "                return mapper[i]\n",
    "        raise Exception(\"Invalid card type\")\n",
    "    \n",
    "    def auth(self):\n",
    "        if isinstace(card_auth, VisaAuth):\n",
    "            return self.card_auth.auth(str(self.cardNumber))\n",
    "        elif isinstace(card_auth, MCAuth):\n",
    "            return self.card_auth.authCard(int(self.cardNumber))\n",
    "\n",
    "# // \"1111222233334444\"\n",
    "cardNumber = input()\n",
    "payment = Payment(cardNumber)\n",
    "payment.auth()\n",
    "\n",
    "\n",
    "        \n",
    "        \n",
    "    \n",
    "    "
   ]
  },
  {
   "cell_type": "markdown",
   "id": "e2232442",
   "metadata": {},
   "source": []
  }
 ],
 "metadata": {
  "kernelspec": {
   "display_name": "Python 3 (ipykernel)",
   "language": "python",
   "name": "python3"
  },
  "language_info": {
   "codemirror_mode": {
    "name": "ipython",
    "version": 3
   },
   "file_extension": ".py",
   "mimetype": "text/x-python",
   "name": "python",
   "nbconvert_exporter": "python",
   "pygments_lexer": "ipython3",
   "version": "3.8.5"
  }
 },
 "nbformat": 4,
 "nbformat_minor": 5
}
