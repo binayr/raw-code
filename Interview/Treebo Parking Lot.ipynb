{
 "cells": [
  {
   "cell_type": "markdown",
   "metadata": {},
   "source": [
    "### Multilevel parking system\n",
    "- Number of levels/floor will be: **N**\n",
    "- On each level **x** number parking slots will be there\n",
    "\n",
    "#### APIs\n",
    "```\n",
    "park(reg_no, color)\n",
    "unpark(reg_no)\n",
    "fetch_slots_by_reg_no(reg_no)\n",
    "fetch_slots_by_color(red)\n",
    "```\n",
    "\n",
    "- Filling of slots can be sequential or random\n",
    "- Design should be pluggable"
   ]
  },
  {
   "cell_type": "code",
   "execution_count": 16,
   "metadata": {},
   "outputs": [],
   "source": [
    "from enum import IntEnum"
   ]
  },
  {
   "cell_type": "code",
   "execution_count": 101,
   "metadata": {},
   "outputs": [],
   "source": [
    "class Status(IntEnum):\n",
    "    UNAVIALABLE = -1\n",
    "    UNOCCUPIED = 0\n",
    "    OCCUPIED = 1\n",
    "\n",
    "class Slot:\n",
    "    def __init__(self, floor, no):\n",
    "        self.floor = floor\n",
    "        self.no = no\n",
    "        self.comb = (floor, no)\n",
    "        self.id = int(\"{0}{1:0=3d}\".format(floor, no))\n",
    "        self.status = Status.UNOCCUPIED\n",
    "        self.reg_no = None\n",
    "        self.color = None\n",
    "        \n",
    "    def __repr__(self):\n",
    "        return \"{0} with Status: {1} & Reg no: {2}\".format(self.id, self.status, self.reg_no)\n",
    "    \n",
    "    def park(self, reg_no, color):\n",
    "        self.status = Status.OCCUPIED\n",
    "        self.reg_no = reg_no\n",
    "        self.color = color\n",
    "    \n",
    "    def unpark(self):\n",
    "        self.status = Status.UNOCCUPIED\n",
    "        self.reg_no = None\n",
    "        self.color = None"
   ]
  },
  {
   "cell_type": "code",
   "execution_count": 102,
   "metadata": {},
   "outputs": [
    {
     "data": {
      "text/plain": [
       "1004 with Status: 0 & Reg no: None"
      ]
     },
     "execution_count": 102,
     "metadata": {},
     "output_type": "execute_result"
    }
   ],
   "source": [
    "s1 = Slot(1, 4)\n",
    "s1"
   ]
  },
  {
   "cell_type": "code",
   "execution_count": 103,
   "metadata": {},
   "outputs": [
    {
     "data": {
      "text/plain": [
       "1004 with Status: 1 & Reg no: 43r233"
      ]
     },
     "execution_count": 103,
     "metadata": {},
     "output_type": "execute_result"
    }
   ],
   "source": [
    "s1.park('43r233', 'red')\n",
    "s1"
   ]
  },
  {
   "cell_type": "code",
   "execution_count": 104,
   "metadata": {},
   "outputs": [
    {
     "data": {
      "text/plain": [
       "1004 with Status: 0 & Reg no: None"
      ]
     },
     "execution_count": 104,
     "metadata": {},
     "output_type": "execute_result"
    }
   ],
   "source": [
    "s1.unpark()\n",
    "s1"
   ]
  },
  {
   "cell_type": "code",
   "execution_count": 151,
   "metadata": {},
   "outputs": [],
   "source": [
    "class ParkingLot:\n",
    "    def __init__(self, floors, slots):\n",
    "        self.floor_count = floors\n",
    "        self.slot_count = slots\n",
    "        self.capacity = floors * slots\n",
    "        self.occupied = 0\n",
    "        self.occupied_slots = []\n",
    "        self.vacancy = []\n",
    "        self.data = {\n",
    "            i: {\n",
    "                \"status\": Status.UNOCCUPIED,\n",
    "                \"slots\": [Slot(i, j) for j in range(1, slots+1)]\n",
    "            }\n",
    "            for i in range(1, floors+1)\n",
    "        }\n",
    "        self._prepare_vacancy()\n",
    "\n",
    "    def __repr__(self):\n",
    "        return \"Parking Lot with {0} floors and {1} slots per floor.\".format(self.floor_count, self.slot_count)\n",
    "    \n",
    "    def _prepare_vacancy(self):\n",
    "        data = []\n",
    "        for f in self.data:\n",
    "            data.extend([i.comb for i in self.data[f]['slots']])\n",
    "        self.vacancy = data\n",
    "        \n",
    "    def fetch_slot_by_reg_no(self, reg_no):\n",
    "        x = list(filter(lambda x: x[1].reg_no == reg_no, enumerate(self.occupied_slots)))\n",
    "        if x:\n",
    "            return x[0]\n",
    "        else:\n",
    "            raise Exception(\"Vehicle not found\")\n",
    "            \n",
    "    def fetch_slots_by_color(self, color):\n",
    "        return list(filter(lambda x: x.color == color, self.occupied_slots))\n",
    "    \n",
    "    def park(self, reg_no, color):\n",
    "        if self.occupied < self.capacity:\n",
    "            slot = self.vacancy.pop(0)\n",
    "            obj = self.data[slot[0]]['slots'][slot[1]-1]\n",
    "            obj.park(reg_no, color)\n",
    "            self.occupied_slots.append(obj)\n",
    "            self.occupied += 1\n",
    "        else:\n",
    "            raise Exception(\"Parking Full\")\n",
    "            \n",
    "    def unpark(self, reg_no):\n",
    "        if self.occupied:\n",
    "            n, slot = self.fetch_slot_by_reg_no(reg_no)\n",
    "            self.vacancy.append(slot.comb)\n",
    "            self.occupied_slots.pop(n)\n",
    "            self.occupied -= 1\n",
    "            slot.unpark()\n",
    "        else:\n",
    "            raise Exception(\"Parking Lot is Empty\")\n",
    "            \n",
    "            "
   ]
  },
  {
   "cell_type": "code",
   "execution_count": 152,
   "metadata": {},
   "outputs": [],
   "source": [
    "p = ParkingLot(4, 10)\n",
    "p.capacity = 3"
   ]
  },
  {
   "cell_type": "code",
   "execution_count": 153,
   "metadata": {},
   "outputs": [
    {
     "ename": "Exception",
     "evalue": "Parking Full",
     "output_type": "error",
     "traceback": [
      "\u001b[0;31m---------------------------------------------------------------------------\u001b[0m",
      "\u001b[0;31mException\u001b[0m                                 Traceback (most recent call last)",
      "\u001b[0;32m/var/folders/73/zb97djqs0vl0rlrb9xlkdl9w0000gn/T/ipykernel_14685/3643639354.py\u001b[0m in \u001b[0;36m<module>\u001b[0;34m\u001b[0m\n\u001b[1;32m      2\u001b[0m \u001b[0mp\u001b[0m\u001b[0;34m.\u001b[0m\u001b[0mpark\u001b[0m\u001b[0;34m(\u001b[0m\u001b[0;34m'322e1'\u001b[0m\u001b[0;34m,\u001b[0m \u001b[0;34m'green'\u001b[0m\u001b[0;34m)\u001b[0m\u001b[0;34m\u001b[0m\u001b[0;34m\u001b[0m\u001b[0m\n\u001b[1;32m      3\u001b[0m \u001b[0mp\u001b[0m\u001b[0;34m.\u001b[0m\u001b[0mpark\u001b[0m\u001b[0;34m(\u001b[0m\u001b[0;34m'322ee'\u001b[0m\u001b[0;34m,\u001b[0m \u001b[0;34m'blue'\u001b[0m\u001b[0;34m)\u001b[0m\u001b[0;34m\u001b[0m\u001b[0;34m\u001b[0m\u001b[0m\n\u001b[0;32m----> 4\u001b[0;31m \u001b[0mp\u001b[0m\u001b[0;34m.\u001b[0m\u001b[0mpark\u001b[0m\u001b[0;34m(\u001b[0m\u001b[0;34m'322e134'\u001b[0m\u001b[0;34m,\u001b[0m \u001b[0;34m'yellow'\u001b[0m\u001b[0;34m)\u001b[0m\u001b[0;34m\u001b[0m\u001b[0;34m\u001b[0m\u001b[0m\n\u001b[0m",
      "\u001b[0;32m/var/folders/73/zb97djqs0vl0rlrb9xlkdl9w0000gn/T/ipykernel_14685/649677130.py\u001b[0m in \u001b[0;36mpark\u001b[0;34m(self, reg_no, color)\u001b[0m\n\u001b[1;32m     43\u001b[0m             \u001b[0mself\u001b[0m\u001b[0;34m.\u001b[0m\u001b[0moccupied\u001b[0m \u001b[0;34m+=\u001b[0m \u001b[0;36m1\u001b[0m\u001b[0;34m\u001b[0m\u001b[0;34m\u001b[0m\u001b[0m\n\u001b[1;32m     44\u001b[0m         \u001b[0;32melse\u001b[0m\u001b[0;34m:\u001b[0m\u001b[0;34m\u001b[0m\u001b[0;34m\u001b[0m\u001b[0m\n\u001b[0;32m---> 45\u001b[0;31m             \u001b[0;32mraise\u001b[0m \u001b[0mException\u001b[0m\u001b[0;34m(\u001b[0m\u001b[0;34m\"Parking Full\"\u001b[0m\u001b[0;34m)\u001b[0m\u001b[0;34m\u001b[0m\u001b[0;34m\u001b[0m\u001b[0m\n\u001b[0m\u001b[1;32m     46\u001b[0m \u001b[0;34m\u001b[0m\u001b[0m\n\u001b[1;32m     47\u001b[0m     \u001b[0;32mdef\u001b[0m \u001b[0munpark\u001b[0m\u001b[0;34m(\u001b[0m\u001b[0mself\u001b[0m\u001b[0;34m,\u001b[0m \u001b[0mreg_no\u001b[0m\u001b[0;34m)\u001b[0m\u001b[0;34m:\u001b[0m\u001b[0;34m\u001b[0m\u001b[0;34m\u001b[0m\u001b[0m\n",
      "\u001b[0;31mException\u001b[0m: Parking Full"
     ]
    }
   ],
   "source": [
    "p.park('322e12e', 'red')\n",
    "p.park('322e1', 'green')\n",
    "p.park('322ee', 'blue')\n",
    "p.park('322e134', 'yellow')"
   ]
  },
  {
   "cell_type": "code",
   "execution_count": 154,
   "metadata": {},
   "outputs": [
    {
     "data": {
      "text/plain": [
       "{1: {'status': <Status.UNOCCUPIED: 0>,\n",
       "  'slots': [1001 with Status: 1 & Reg no: 322e12e,\n",
       "   1002 with Status: 1 & Reg no: 322e1,\n",
       "   1003 with Status: 1 & Reg no: 322ee,\n",
       "   1004 with Status: 0 & Reg no: None,\n",
       "   1005 with Status: 0 & Reg no: None,\n",
       "   1006 with Status: 0 & Reg no: None,\n",
       "   1007 with Status: 0 & Reg no: None,\n",
       "   1008 with Status: 0 & Reg no: None,\n",
       "   1009 with Status: 0 & Reg no: None,\n",
       "   1010 with Status: 0 & Reg no: None]},\n",
       " 2: {'status': <Status.UNOCCUPIED: 0>,\n",
       "  'slots': [2001 with Status: 0 & Reg no: None,\n",
       "   2002 with Status: 0 & Reg no: None,\n",
       "   2003 with Status: 0 & Reg no: None,\n",
       "   2004 with Status: 0 & Reg no: None,\n",
       "   2005 with Status: 0 & Reg no: None,\n",
       "   2006 with Status: 0 & Reg no: None,\n",
       "   2007 with Status: 0 & Reg no: None,\n",
       "   2008 with Status: 0 & Reg no: None,\n",
       "   2009 with Status: 0 & Reg no: None,\n",
       "   2010 with Status: 0 & Reg no: None]},\n",
       " 3: {'status': <Status.UNOCCUPIED: 0>,\n",
       "  'slots': [3001 with Status: 0 & Reg no: None,\n",
       "   3002 with Status: 0 & Reg no: None,\n",
       "   3003 with Status: 0 & Reg no: None,\n",
       "   3004 with Status: 0 & Reg no: None,\n",
       "   3005 with Status: 0 & Reg no: None,\n",
       "   3006 with Status: 0 & Reg no: None,\n",
       "   3007 with Status: 0 & Reg no: None,\n",
       "   3008 with Status: 0 & Reg no: None,\n",
       "   3009 with Status: 0 & Reg no: None,\n",
       "   3010 with Status: 0 & Reg no: None]},\n",
       " 4: {'status': <Status.UNOCCUPIED: 0>,\n",
       "  'slots': [4001 with Status: 0 & Reg no: None,\n",
       "   4002 with Status: 0 & Reg no: None,\n",
       "   4003 with Status: 0 & Reg no: None,\n",
       "   4004 with Status: 0 & Reg no: None,\n",
       "   4005 with Status: 0 & Reg no: None,\n",
       "   4006 with Status: 0 & Reg no: None,\n",
       "   4007 with Status: 0 & Reg no: None,\n",
       "   4008 with Status: 0 & Reg no: None,\n",
       "   4009 with Status: 0 & Reg no: None,\n",
       "   4010 with Status: 0 & Reg no: None]}}"
      ]
     },
     "execution_count": 154,
     "metadata": {},
     "output_type": "execute_result"
    }
   ],
   "source": [
    "p.data"
   ]
  },
  {
   "cell_type": "code",
   "execution_count": 155,
   "metadata": {},
   "outputs": [
    {
     "data": {
      "text/plain": [
       "[(1, 4),\n",
       " (1, 5),\n",
       " (1, 6),\n",
       " (1, 7),\n",
       " (1, 8),\n",
       " (1, 9),\n",
       " (1, 10),\n",
       " (2, 1),\n",
       " (2, 2),\n",
       " (2, 3),\n",
       " (2, 4),\n",
       " (2, 5),\n",
       " (2, 6),\n",
       " (2, 7),\n",
       " (2, 8),\n",
       " (2, 9),\n",
       " (2, 10),\n",
       " (3, 1),\n",
       " (3, 2),\n",
       " (3, 3),\n",
       " (3, 4),\n",
       " (3, 5),\n",
       " (3, 6),\n",
       " (3, 7),\n",
       " (3, 8),\n",
       " (3, 9),\n",
       " (3, 10),\n",
       " (4, 1),\n",
       " (4, 2),\n",
       " (4, 3),\n",
       " (4, 4),\n",
       " (4, 5),\n",
       " (4, 6),\n",
       " (4, 7),\n",
       " (4, 8),\n",
       " (4, 9),\n",
       " (4, 10)]"
      ]
     },
     "execution_count": 155,
     "metadata": {},
     "output_type": "execute_result"
    }
   ],
   "source": [
    "p.vacancy"
   ]
  },
  {
   "cell_type": "code",
   "execution_count": 156,
   "metadata": {},
   "outputs": [],
   "source": [
    "p.unpark('322e1')"
   ]
  },
  {
   "cell_type": "code",
   "execution_count": 157,
   "metadata": {},
   "outputs": [
    {
     "data": {
      "text/plain": [
       "(1, 1003 with Status: 1 & Reg no: 322ee)"
      ]
     },
     "execution_count": 157,
     "metadata": {},
     "output_type": "execute_result"
    }
   ],
   "source": [
    "p.fetch_slot_by_reg_no(\"322ee\")"
   ]
  },
  {
   "cell_type": "code",
   "execution_count": 158,
   "metadata": {},
   "outputs": [
    {
     "data": {
      "text/plain": [
       "[1001 with Status: 1 & Reg no: 322e12e]"
      ]
     },
     "execution_count": 158,
     "metadata": {},
     "output_type": "execute_result"
    }
   ],
   "source": [
    "p.fetch_slots_by_color(\"red\")"
   ]
  },
  {
   "cell_type": "code",
   "execution_count": null,
   "metadata": {},
   "outputs": [],
   "source": []
  },
  {
   "cell_type": "code",
   "execution_count": null,
   "metadata": {},
   "outputs": [],
   "source": []
  }
 ],
 "metadata": {
  "kernelspec": {
   "display_name": "Python 3 (ipykernel)",
   "language": "python",
   "name": "python3"
  },
  "language_info": {
   "codemirror_mode": {
    "name": "ipython",
    "version": 3
   },
   "file_extension": ".py",
   "mimetype": "text/x-python",
   "name": "python",
   "nbconvert_exporter": "python",
   "pygments_lexer": "ipython3",
   "version": "3.8.5"
  }
 },
 "nbformat": 4,
 "nbformat_minor": 4
}
