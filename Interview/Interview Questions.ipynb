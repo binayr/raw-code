{
 "cells": [
  {
   "cell_type": "markdown",
   "id": "9d0cf793",
   "metadata": {},
   "source": [
    "## Sense HQ\n",
    "\n",
    "### Q1. Tree boundry traversal anti clockwise\n",
    "```\n",
    "Input:\n",
    "                   1\n",
    "       -2                      3           \n",
    "  4           5             6      -7\n",
    "    9       2   4         3   9\n",
    "  5   6                     6\n",
    "\n",
    "Output:   1, -2, 4, 9, 5, 6, 2, 4, 3, 6, 9, -7, 3\n",
    "```\n",
    "\n",
    "### Q2. Find Intersection point of 2 linked list.\n",
    "```\n",
    "input:\n",
    "11 -> 21 -> 3 -> 4 -> 5 (size m)\n",
    "3 -> 3 -> 4 -> 5  (size n)\n",
    "\n",
    "output: 3\n",
    "```"
   ]
  },
  {
   "cell_type": "markdown",
   "id": "54de24ba",
   "metadata": {},
   "source": [
    "### Ans1. Tree boundry traversal anti clockwise\n",
    "\n",
    "1. Print the left boundary in top-down manner. \n",
    "\n",
    "2. Print all leaf nodes from left to right, which can again be sub-divided into two sub-parts:\n",
    "\n",
    "    2.1 Print all leaf nodes of left sub-tree from left to right. \n",
    "\n",
    "    2.2 Print all leaf nodes of right subtree from left to right. \n",
    "\n",
    "3. Print the right boundary in bottom-up manner.\n",
    "\n",
    "We need to take care of one thing that nodes are not printed again. e.g. The left most node is also the leaf node of the tree."
   ]
  },
  {
   "cell_type": "code",
   "execution_count": 39,
   "id": "bd258ebc",
   "metadata": {},
   "outputs": [
    {
     "name": "stdout",
     "output_type": "stream",
     "text": [
      "20 -> 8 -> 4 -> 10 -> 14 -> 25 -> 22 -> "
     ]
    }
   ],
   "source": [
    "class Node:\n",
    "    def __init__(self, val):\n",
    "        self.val = val\n",
    "        self.left = None\n",
    "        self.right = None\n",
    "\n",
    "def print_left(head):\n",
    "    #print(head.val, head and head.left, head and head.right)\n",
    "    if head and head.left:\n",
    "        print(head.val, end=\" -> \")\n",
    "        print_left(head.left)\n",
    "    elif head and head.right:\n",
    "        print(head.val, end=\" -> \")\n",
    "        print_left(head.right)\n",
    "\n",
    "def print_leaves(head):\n",
    "    #print(head.val)\n",
    "    if not head: return\n",
    "    print_leaves(head.left)\n",
    "    if not head.left and not head.right:\n",
    "        print(head.val, end=\" -> \")\n",
    "    print_leaves(head.right)\n",
    "\n",
    "def print_right(head):\n",
    "    if head and head.right:\n",
    "        print(head.val, end=\" -> \")\n",
    "        print_right(head.right)\n",
    "    elif head and head.left:\n",
    "        print(head.val, end=\" -> \")\n",
    "        print_right(head.left)\n",
    "\n",
    "def print_boundry(head):\n",
    "    print(head.val, end=\" -> \")\n",
    "    print_left(head.left)\n",
    "    print_leaves(head.left)\n",
    "    print_leaves(head.right)\n",
    "    print_right(head.right)\n",
    "    \n",
    "# Driver program to test above function\n",
    "root = Node(20)\n",
    "root.left = Node(8)\n",
    "root.left.left = Node(4)\n",
    "root.left.right = Node(12)\n",
    "root.left.right.left = Node(10)\n",
    "root.left.right.right = Node(14)\n",
    "root.right = Node(22)\n",
    "root.right.right = Node(25)\n",
    "print_boundry(root)\n",
    " "
   ]
  },
  {
   "cell_type": "code",
   "execution_count": 43,
   "id": "cb0f2a34",
   "metadata": {},
   "outputs": [
    {
     "name": "stdout",
     "output_type": "stream",
     "text": [
      "1 -> -2 -> 4 -> 9 -> 5 -> 6 -> 2 -> 4 -> 3 -> 9 -> -7 -> 3 -> "
     ]
    }
   ],
   "source": [
    "#                 1\n",
    "#       -2                      3           \n",
    "#  4           5             6      -7\n",
    "#    9       2   4         3   9\n",
    "#  5   6                  \n",
    "# Output:   1, -2, 4, 9, 5, 6, 2, 4, 3, 9, -7, 3\n",
    "\n",
    "root = Node(1)\n",
    "root.left = Node(-2)\n",
    "root.left.left = Node(4)\n",
    "root.left.right = Node(5)\n",
    "root.left.left.right = Node(9)\n",
    "root.left.left.right.left = Node(5)\n",
    "root.left.left.right.right = Node(6)\n",
    "root.left.right.left = Node(2)\n",
    "root.left.right.right = Node(4)\n",
    "\n",
    "root.right = Node(3)\n",
    "root.right.left = Node(6)\n",
    "root.right.right = Node(-7)\n",
    "root.right.left.left = Node(3)\n",
    "root.right.left.right = Node(9)\n",
    "\n",
    "print_boundry(root)"
   ]
  },
  {
   "cell_type": "code",
   "execution_count": null,
   "id": "8d911404",
   "metadata": {},
   "outputs": [],
   "source": []
  },
  {
   "cell_type": "code",
   "execution_count": null,
   "id": "7d104efc",
   "metadata": {},
   "outputs": [],
   "source": []
  },
  {
   "cell_type": "code",
   "execution_count": null,
   "id": "22798c31",
   "metadata": {},
   "outputs": [],
   "source": []
  }
 ],
 "metadata": {
  "kernelspec": {
   "display_name": "Python 3 (ipykernel)",
   "language": "python",
   "name": "python3"
  },
  "language_info": {
   "codemirror_mode": {
    "name": "ipython",
    "version": 3
   },
   "file_extension": ".py",
   "mimetype": "text/x-python",
   "name": "python",
   "nbconvert_exporter": "python",
   "pygments_lexer": "ipython3",
   "version": "3.8.5"
  }
 },
 "nbformat": 4,
 "nbformat_minor": 5
}
