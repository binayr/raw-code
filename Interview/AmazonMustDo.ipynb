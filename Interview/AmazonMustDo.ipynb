{
 "cells": [
  {
   "cell_type": "code",
   "execution_count": 4,
   "metadata": {},
   "outputs": [],
   "source": [
    "from typing import List, Optional"
   ]
  },
  {
   "cell_type": "markdown",
   "metadata": {},
   "source": [
    "# 1. Longest Substring without repeating character"
   ]
  },
  {
   "cell_type": "markdown",
   "metadata": {},
   "source": [
    "Create a hashmap to save the count of each character in a window to find the max window. Everytime a char is repeated the window slides."
   ]
  },
  {
   "cell_type": "code",
   "execution_count": 2,
   "metadata": {},
   "outputs": [],
   "source": [
    "class Solution:\n",
    "    def lengthOfLongestSubstring(self, s: str) -> int:\n",
    "        if not s: return 0\n",
    "        if len(s) == 1: return 1\n",
    "        count = 0\n",
    "        i = j = 0\n",
    "        mapper = {s[0]: 1}\n",
    "        while j+1 < len(s):\n",
    "            if s[j+1] not in mapper or mapper[s[j+1]] == 0:\n",
    "                j +=1\n",
    "                mapper[s[j]] = 1\n",
    "                count = max(count, j-i+1)\n",
    "            else:\n",
    "                mapper[s[i]] -= 1\n",
    "                i +=1\n",
    "        return count\n",
    "s = Solution()"
   ]
  },
  {
   "cell_type": "code",
   "execution_count": 3,
   "metadata": {},
   "outputs": [
    {
     "data": {
      "text/plain": [
       "3"
      ]
     },
     "execution_count": 3,
     "metadata": {},
     "output_type": "execute_result"
    }
   ],
   "source": [
    "s.lengthOfLongestSubstring(s = \"abcabcbb\")"
   ]
  },
  {
   "cell_type": "markdown",
   "metadata": {},
   "source": [
    "# 2. Longest Palindromic Substring - good for learning dp"
   ]
  },
  {
   "cell_type": "markdown",
   "metadata": {},
   "source": [
    "- First step is to create and funct that will scan the string to find the palindrome rather than change the string like [::-1]\n",
    "- Second step is to scan the string with i and i + 1 to find the max value."
   ]
  },
  {
   "cell_type": "code",
   "execution_count": 4,
   "metadata": {},
   "outputs": [],
   "source": [
    "class Solution:\n",
    "    def longestPalindrome(self, s: str) -> str:\n",
    "        res = \"\"\n",
    "        for i in range(len(s)):\n",
    "            finder1 = self.find_pal(s, i, i)\n",
    "            finder2 = self.find_pal(s, i, i+1)\n",
    "            res = max(res, finder1, finder2, key=len)\n",
    "\n",
    "        return res\n",
    "\n",
    "    def find_pal(self, s, left, right):\n",
    "        pal = ''\n",
    "        while left >=0 and right <= len(s)-1:\n",
    "            if s[left] != s[right]:\n",
    "                break\n",
    "            pal = s[left:right+1]\n",
    "            left -=1\n",
    "            right +=1\n",
    "        return pal\n",
    "\n",
    "s = Solution()"
   ]
  },
  {
   "cell_type": "code",
   "execution_count": 5,
   "metadata": {},
   "outputs": [
    {
     "data": {
      "text/plain": [
       "'bab'"
      ]
     },
     "execution_count": 5,
     "metadata": {},
     "output_type": "execute_result"
    }
   ],
   "source": [
    "s.longestPalindrome(s = \"babad\")"
   ]
  },
  {
   "cell_type": "markdown",
   "metadata": {},
   "source": [
    "# 3. Container with most water"
   ]
  },
  {
   "cell_type": "markdown",
   "metadata": {},
   "source": [
    "start from the left most and end from the right most, calculate the container and reduce the size."
   ]
  },
  {
   "cell_type": "code",
   "execution_count": 6,
   "metadata": {},
   "outputs": [],
   "source": [
    "class Solution:\n",
    "    def maxArea(self, height: List[int]) -> int:\n",
    "        max_window = 0\n",
    "        start = 0\n",
    "        end = len(height) - 1\n",
    "\n",
    "        while start != end:\n",
    "            max_window = max(max_window, (end-start)*(min(height[start], height[end])))\n",
    "            if height[start] < height[end]:\n",
    "                start +=1\n",
    "            else:\n",
    "                end -=1\n",
    "\n",
    "        return max_window\n",
    "s = Solution()"
   ]
  },
  {
   "cell_type": "code",
   "execution_count": 7,
   "metadata": {},
   "outputs": [
    {
     "data": {
      "text/plain": [
       "49"
      ]
     },
     "execution_count": 7,
     "metadata": {},
     "output_type": "execute_result"
    }
   ],
   "source": [
    "s.maxArea(height = [1,8,6,2,5,4,8,3,7])"
   ]
  },
  {
   "cell_type": "markdown",
   "metadata": {},
   "source": [
    "# 4. 3 sum, 4 sum, n-sum…. "
   ]
  },
  {
   "cell_type": "code",
   "execution_count": 29,
   "metadata": {},
   "outputs": [],
   "source": [
    "class Solution:\n",
    "    def threeSum(self, nums: List[int]) -> List[List[int]]:\n",
    "        triplets = []\n",
    "        nums.sort()\n",
    "        for i in range(len(nums)-2):\n",
    "            if nums[i] > 0: break\n",
    "            if i > 0 and nums[i] == nums[i-1]: continue\n",
    "            j = i+1\n",
    "            k = len(nums)-1\n",
    "            while j < k:\n",
    "                s = nums[i] + nums[j] + nums[k]\n",
    "                if s > 0: k -= 1\n",
    "                elif s < 0: j += 1\n",
    "                else:\n",
    "                    triplets.append([nums[i], nums[j], nums[k]])\n",
    "                    while j < k and nums[j] == nums[j+1]: j += 1\n",
    "                    while j < k and nums[k] == nums[k-1]: k -= 1\n",
    "                    j += 1\n",
    "                    k -= 1\n",
    "        return triplets\n",
    "\n",
    "    def threeSumClosest(self, nums: List[int], target: int) -> int:\n",
    "        nums.sort()\n",
    "        closest = float('inf')\n",
    "        for i in range(len(nums)-2):\n",
    "            j, k = i + 1, len(nums)-1\n",
    "            while j < k:\n",
    "                val = nums[i] + nums[j] + nums[k]\n",
    "                # print(val)\n",
    "                if abs(closest-target) > abs(val-target):\n",
    "                    closest = val\n",
    "                if val > target:\n",
    "                    k -= 1\n",
    "                elif val < target:\n",
    "                    j += 1\n",
    "                elif val == target:\n",
    "                    return val\n",
    "        return closest\n",
    "\n",
    "    def fourSum(self, nums: List[int], target: int) -> List[List[int]]:\n",
    "\t\n",
    "        def kSum(nums: List[int], target: int, k: int) -> List[List[int]]:\n",
    "            res = []\n",
    "            \n",
    "            # If we have run out of numbers to add, return res.\n",
    "            if not nums:\n",
    "                return res\n",
    "            \n",
    "            # There are k remaining values to add to the sum. The \n",
    "            # average of these values is at least target // k.\n",
    "            average_value = target // k\n",
    "            \n",
    "            # We cannot obtain a sum of target if the smallest value\n",
    "            # in nums is greater than target // k or if the largest \n",
    "            # value in nums is smaller than target // k.\n",
    "            if average_value < nums[0] or nums[-1] < average_value:\n",
    "                return res\n",
    "            \n",
    "            if k == 2:\n",
    "                return twoSum(nums, target)\n",
    "    \n",
    "            for i in range(len(nums)):\n",
    "                if i == 0 or nums[i - 1] != nums[i]:\n",
    "                    for subset in kSum(nums[i + 1:], target - nums[i], k - 1):\n",
    "                        res.append([nums[i]] + subset)\n",
    "    \n",
    "            return res\n",
    "\n",
    "        def twoSum(nums: List[int], target: int) -> List[List[int]]:\n",
    "            res = []\n",
    "            s = set()\n",
    "    \n",
    "            for i in range(len(nums)):\n",
    "                if len(res) == 0 or res[-1][1] != nums[i]:\n",
    "                    if target - nums[i] in s:\n",
    "                        res.append([target - nums[i], nums[i]])\n",
    "                s.add(nums[i])\n",
    "    \n",
    "            return res\n",
    "\n",
    "        nums.sort()\n",
    "        return kSum(nums, target, 4)\n",
    "\n",
    "s = Solution()"
   ]
  },
  {
   "cell_type": "code",
   "execution_count": 30,
   "metadata": {},
   "outputs": [
    {
     "data": {
      "text/plain": [
       "[[-1, -1, 2], [-1, 0, 1]]"
      ]
     },
     "execution_count": 30,
     "metadata": {},
     "output_type": "execute_result"
    }
   ],
   "source": [
    "s.threeSum(nums = [-1,0,1,2,-1,-4])"
   ]
  },
  {
   "cell_type": "code",
   "execution_count": 31,
   "metadata": {},
   "outputs": [
    {
     "data": {
      "text/plain": [
       "2"
      ]
     },
     "execution_count": 31,
     "metadata": {},
     "output_type": "execute_result"
    }
   ],
   "source": [
    "s.threeSumClosest(nums = [-1,2,1,-4], target = 1)"
   ]
  },
  {
   "cell_type": "code",
   "execution_count": 32,
   "metadata": {},
   "outputs": [
    {
     "data": {
      "text/plain": [
       "[[-2, -1, 1, 2], [-2, 0, 0, 2], [-1, 0, 0, 1]]"
      ]
     },
     "execution_count": 32,
     "metadata": {},
     "output_type": "execute_result"
    }
   ],
   "source": [
    "s.fourSum(nums = [1,0,-1,0,-2,2], target = 0\n",
    ")"
   ]
  },
  {
   "cell_type": "markdown",
   "metadata": {},
   "source": [
    "# 5. Generate parenthesis - good for learning recursion"
   ]
  },
  {
   "cell_type": "markdown",
   "metadata": {},
   "source": [
    "Add the braces to list \"S\". if len(S) == twice of n (one to open one to close) \"(\" for i < n and \")\" n < i < 2n"
   ]
  },
  {
   "cell_type": "code",
   "execution_count": 14,
   "metadata": {},
   "outputs": [],
   "source": [
    "class Solution:\n",
    "    def generateParenthesis(self, n: int) -> List[str]:\n",
    "        ans = []\n",
    "        def backtrack(S = [], left = 0, right = 0):\n",
    "            if len(S) == 2 * n:\n",
    "                ans.append(\"\".join(S))\n",
    "                return\n",
    "            if left < n:\n",
    "                S.append(\"(\")\n",
    "                backtrack(S, left+1, right)\n",
    "                S.pop()\n",
    "            if right < left:\n",
    "                S.append(\")\")\n",
    "                backtrack(S, left, right+1)\n",
    "                S.pop()\n",
    "        backtrack()\n",
    "        return ans\n",
    "s = Solution()"
   ]
  },
  {
   "cell_type": "code",
   "execution_count": 15,
   "metadata": {},
   "outputs": [
    {
     "data": {
      "text/plain": [
       "['((()))', '(()())', '(())()', '()(())', '()()()']"
      ]
     },
     "execution_count": 15,
     "metadata": {},
     "output_type": "execute_result"
    }
   ],
   "source": [
    "s.generateParenthesis(3)"
   ]
  },
  {
   "cell_type": "markdown",
   "metadata": {},
   "source": [
    "# 6. Combination sum "
   ]
  },
  {
   "cell_type": "markdown",
   "metadata": {},
   "source": [
    "Unbounded knapsack problem. "
   ]
  },
  {
   "cell_type": "code",
   "execution_count": 33,
   "metadata": {},
   "outputs": [],
   "source": [
    "class Solution:\n",
    "    def combinationSum(self, candidates: List[int], target: int) -> List[List[int]]:\n",
    "        # sort the array for avoiding unwanted recursion\n",
    "        candidates.sort()\n",
    "        ans = []\n",
    "\t\t\n",
    "        def recurse(lst, target, arr):\n",
    "            nonlocal ans\n",
    "            for i in range(len(lst)):\n",
    "                if lst[i]<=target:\n",
    "                    arr.append(lst[i])\n",
    "                    target-=lst[i]\n",
    "\t\t\t\t\t\n",
    "\t\t\t\t\t#\twhen target is zero add the tuple to answer and backtrack\n",
    "                    if (target==0):\n",
    "                        ans.append(tuple(arr))\n",
    "                        arr.pop()\n",
    "                        target+=lst[i]\n",
    "                        break\n",
    "                    else:\n",
    "\t\t\t\t\t# recurse for the remaining elements\n",
    "                        recurse(lst[i:], target, arr)\n",
    "                        target+=lst[i]\n",
    "                        arr.pop()\n",
    "                else:\n",
    "                    break\n",
    "        recurse(candidates, target, [])\n",
    "        return ans\n",
    "s = Solution()"
   ]
  },
  {
   "cell_type": "code",
   "execution_count": 17,
   "metadata": {},
   "outputs": [
    {
     "data": {
      "text/plain": [
       "[(2, 2, 3), (7,)]"
      ]
     },
     "execution_count": 17,
     "metadata": {},
     "output_type": "execute_result"
    }
   ],
   "source": [
    "s.combinationSum(candidates = [2,3,6,7], target = 7)"
   ]
  },
  {
   "cell_type": "markdown",
   "metadata": {},
   "source": [
    "# 7. Jump Game"
   ]
  },
  {
   "cell_type": "markdown",
   "metadata": {},
   "source": [
    "Start from the end if you can reach -- check again"
   ]
  },
  {
   "cell_type": "code",
   "execution_count": 18,
   "metadata": {},
   "outputs": [],
   "source": [
    "class Solution:\n",
    "    def canJump(self, nums: List[int]) -> bool:\n",
    "        n = len(nums)\n",
    "        last = n-1\n",
    "        for i in range(n-2, -1, -1):\n",
    "            if i + nums[i] >= last:\n",
    "                last = i\n",
    "        return last == 0\n",
    "\n",
    "    def jump(self, nums: List[int]) -> int:\n",
    "        left_idx, right_idx, steps= 0, 0, 0\n",
    "        while 1:\n",
    "            if right_idx >= len(nums) - 1:\n",
    "                return steps\n",
    "            for i in range(left_idx, min(right_idx + 1, len(nums))):\n",
    "                right_idx = max(right_idx, i + nums[i])\n",
    "            steps += 1\n",
    "            left_idx = i\n",
    "\n",
    "s = Solution()"
   ]
  },
  {
   "cell_type": "code",
   "execution_count": 19,
   "metadata": {},
   "outputs": [
    {
     "data": {
      "text/plain": [
       "True"
      ]
     },
     "execution_count": 19,
     "metadata": {},
     "output_type": "execute_result"
    }
   ],
   "source": [
    "s.canJump(nums = [2,3,1,1,4])"
   ]
  },
  {
   "cell_type": "code",
   "execution_count": 20,
   "metadata": {},
   "outputs": [
    {
     "data": {
      "text/plain": [
       "2"
      ]
     },
     "execution_count": 20,
     "metadata": {},
     "output_type": "execute_result"
    }
   ],
   "source": [
    "s.jump(nums = [2,3,1,1,4])"
   ]
  },
  {
   "cell_type": "markdown",
   "metadata": {},
   "source": [
    "# 8. Permutations"
   ]
  },
  {
   "cell_type": "markdown",
   "metadata": {},
   "source": [
    "check again"
   ]
  },
  {
   "cell_type": "code",
   "execution_count": 21,
   "metadata": {},
   "outputs": [],
   "source": [
    "class Solution:\n",
    "    def permute(self, nums: List[int]) -> List[List[int]]:\n",
    "        out = []\n",
    "        \n",
    "        if len(nums) == 1:\n",
    "            return [nums[:]]\n",
    "        \n",
    "        for i in range(len(nums)):\n",
    "            n = nums.pop(0)\n",
    "            perms = self.permute(nums)\n",
    "            for perm in perms:\n",
    "                perm.append(n)\n",
    "            out.extend(perms)\n",
    "            nums.append(n)\n",
    "            \n",
    "        return out\n",
    "\n",
    "s = Solution()"
   ]
  },
  {
   "cell_type": "code",
   "execution_count": 22,
   "metadata": {},
   "outputs": [
    {
     "data": {
      "text/plain": [
       "[[3, 2, 1], [2, 3, 1], [1, 3, 2], [3, 1, 2], [2, 1, 3], [1, 2, 3]]"
      ]
     },
     "execution_count": 22,
     "metadata": {},
     "output_type": "execute_result"
    }
   ],
   "source": [
    "s.permute(nums = [1,2,3])"
   ]
  },
  {
   "cell_type": "markdown",
   "metadata": {},
   "source": [
    "# 9. Rotate image"
   ]
  },
  {
   "cell_type": "code",
   "execution_count": 25,
   "metadata": {},
   "outputs": [],
   "source": [
    "class Solution:\n",
    "    def rotate(self, matrix: List[List[int]]) -> None:\n",
    "        \"\"\"\n",
    "        Do not return anything, modify matrix in-place instead.\n",
    "        \"\"\"\n",
    "        n = len(matrix[0])\n",
    "        for i in range(n // 2 + n % 2):\n",
    "            for j in range(n // 2):\n",
    "                tmp = matrix[n - 1 - j][i]\n",
    "                matrix[n - 1 - j][i] = matrix[n - 1 - i][n - j - 1]\n",
    "                matrix[n - 1 - i][n - j - 1] = matrix[j][n - 1 -i]\n",
    "                matrix[j][n - 1 - i] = matrix[i][j]\n",
    "                matrix[i][j] = tmp\n",
    "        return matrix\n",
    "\n",
    "s = Solution()"
   ]
  },
  {
   "cell_type": "code",
   "execution_count": 26,
   "metadata": {},
   "outputs": [
    {
     "data": {
      "text/plain": [
       "[[7, 4, 1], [8, 5, 2], [9, 6, 3]]"
      ]
     },
     "execution_count": 26,
     "metadata": {},
     "output_type": "execute_result"
    }
   ],
   "source": [
    "s.rotate(matrix = [[1,2,3],[4,5,6],[7,8,9]])"
   ]
  },
  {
   "cell_type": "markdown",
   "metadata": {},
   "source": [
    "# 10. Group anagrams"
   ]
  },
  {
   "cell_type": "markdown",
   "metadata": {},
   "source": []
  },
  {
   "cell_type": "code",
   "execution_count": 27,
   "metadata": {},
   "outputs": [],
   "source": [
    "class Solution:\n",
    "    def groupAnagrams(self, strs: list) -> list:\n",
    "        mapper = {}\n",
    "        for word in strs:\n",
    "            count = self.get_counts(word, {})\n",
    "            if count in mapper: mapper[count].append(word)\n",
    "            else: mapper[count] = [word]\n",
    "        return mapper.values()\n",
    "    \n",
    "    def get_counts(self, st, d={}):\n",
    "        for s in st:\n",
    "            if s in d:\n",
    "                d[s] +=1\n",
    "            else:\n",
    "                d[s] = 1\n",
    "        keys = sorted(d.keys())\n",
    "        values = [d[i] for i in keys]\n",
    "        return tuple(zip(keys, values))\n",
    "\n",
    "s = Solution()"
   ]
  },
  {
   "cell_type": "code",
   "execution_count": 28,
   "metadata": {},
   "outputs": [
    {
     "data": {
      "text/plain": [
       "dict_values([['eat', 'tea', 'ate'], ['tan', 'nat'], ['bat']])"
      ]
     },
     "execution_count": 28,
     "metadata": {},
     "output_type": "execute_result"
    }
   ],
   "source": [
    "s.groupAnagrams(strs = [\"eat\",\"tea\",\"tan\",\"ate\",\"nat\",\"bat\"])"
   ]
  },
  {
   "cell_type": "markdown",
   "metadata": {},
   "source": [
    "# 11. Spiral matrix"
   ]
  },
  {
   "cell_type": "code",
   "execution_count": 34,
   "metadata": {},
   "outputs": [],
   "source": [
    "class Solution:\n",
    "    def spiralOrder(self, matrix):\n",
    "        result = []\n",
    "        row, col = len(matrix), len(matrix[0])\n",
    "        left, top = 0, 0\n",
    "        right = col - 1\n",
    "        bottom = row - 1\n",
    "        \n",
    "        while len(result) < row * col:\n",
    "            \n",
    "            # top walk\n",
    "            for i in range(left, right+1):\n",
    "                result.append(matrix[top][i])\n",
    "            \n",
    "            if not len(result) < row * col: break\n",
    "            # right walk\n",
    "            for i in range(top+1, bottom+1):\n",
    "                result.append(matrix[i][right])\n",
    "\n",
    "            if not len(result) < row * col: break\n",
    "            # bottom walk\n",
    "            for i in range(right-1, left-1, -1):\n",
    "                result.append(matrix[bottom][i])\n",
    "            \n",
    "            if not len(result) < row * col: break\n",
    "            # left walk\n",
    "            for i in range(bottom-1, top, -1):\n",
    "                result.append(matrix[i][left])\n",
    "                \n",
    "            left += 1\n",
    "            top += 1\n",
    "            right -= 1\n",
    "            bottom -= 1\n",
    "            \n",
    "        return result\n",
    "                \n",
    "s = Solution()"
   ]
  },
  {
   "cell_type": "code",
   "execution_count": 35,
   "metadata": {},
   "outputs": [
    {
     "data": {
      "text/plain": [
       "[1, 2, 3, 6, 9, 8, 7, 4, 5]"
      ]
     },
     "execution_count": 35,
     "metadata": {},
     "output_type": "execute_result"
    }
   ],
   "source": [
    "s.spiralOrder([[1,2,3],[4,5,6],[7,8,9]])"
   ]
  },
  {
   "cell_type": "markdown",
   "metadata": {},
   "source": [
    "# 12. Unique paths - good for learning dp"
   ]
  },
  {
   "cell_type": "code",
   "execution_count": 36,
   "metadata": {},
   "outputs": [],
   "source": [
    "class Solution:\n",
    "    def uniquePaths(self, m: int, n: int) -> int:\n",
    "        # setup matrix\n",
    "        mat = [[0 for _ in range(m)] for __ in range(n)]\n",
    "        # print(mat)\n",
    "        # Initialize matrix\n",
    "        for i in range(m):\n",
    "            for j in range(n):\n",
    "                if i == 0 or j == 0:\n",
    "                    mat[j][i] = 1\n",
    "        # print(mat)\n",
    "        # update matrix\n",
    "        for i in range(1, n):\n",
    "            for j in range(1, m):\n",
    "                mat[i][j] = mat[i-1][j] + mat[i][j-1]\n",
    "        # print(mat)\n",
    "        return mat[-1][-1]\n",
    "\n",
    "s = Solution()"
   ]
  },
  {
   "cell_type": "code",
   "execution_count": 37,
   "metadata": {},
   "outputs": [
    {
     "data": {
      "text/plain": [
       "28"
      ]
     },
     "execution_count": 37,
     "metadata": {},
     "output_type": "execute_result"
    }
   ],
   "source": [
    "s.uniquePaths(3, 7)"
   ]
  },
  {
   "cell_type": "markdown",
   "metadata": {},
   "source": [
    "# 13. Word Search"
   ]
  },
  {
   "cell_type": "code",
   "execution_count": null,
   "metadata": {},
   "outputs": [],
   "source": [
    "class Solution:\n",
    "    def exist(self, board: List[List[str]], word: str) -> bool:\n",
    "        rows = len(board)\n",
    "        cols = len(board[rows-1])\n",
    "        word_length = len(word)\n",
    "        \n",
    "        def dfs(i,j,k):\n",
    "            if k >= word_length:\n",
    "                return True\n",
    "            elif i < 0 or i >= rows or j < 0 or j >= cols or board[i][j] != word[k]:\n",
    "                return False\n",
    "            \n",
    "            temp, board[i][j] = board[i][j], '#'\n",
    "            res = dfs(i+1,j,k+1) or dfs(i-1,j,k+1) or dfs(i,j+1,k+1) or dfs(i,j-1,k+1)\n",
    "            board[i][j] = temp\n",
    "            \n",
    "            return res\n",
    "        \n",
    "        for i in range(rows):\n",
    "            for j in range(cols):\n",
    "                if dfs(i,j,0):\n",
    "                    return True\n",
    "                \n",
    "        return False\n",
    "\n",
    "    "
   ]
  },
  {
   "cell_type": "markdown",
   "metadata": {},
   "source": [
    "# 14. Subsets"
   ]
  },
  {
   "cell_type": "code",
   "execution_count": 38,
   "metadata": {},
   "outputs": [],
   "source": [
    "class Solution:\n",
    "    def subsets(self, nums: List[int]) -> List[List[int]]:\n",
    "        def backTrack(start, cur_list):\n",
    "            ans.append(cur_list[:])\n",
    "\n",
    "            for j in range(start, n):\n",
    "                cur_list.append(nums[j])\n",
    "                backTrack(j+1, cur_list)\n",
    "                cur_list.pop()\n",
    "\n",
    "        n = len(nums)\n",
    "        ans = []\n",
    "\n",
    "        backTrack(0, [])\n",
    "\n",
    "        return ans\n",
    "    \n",
    "    def subsetsWithDup(self, nums: List[int]) -> List[List[int]]:\n",
    "        res = [[]]\n",
    "        seen = set()\n",
    "        nums.sort()\n",
    "        \n",
    "        for num in nums:\n",
    "            size = len(res)\n",
    "            for i in range(size):\n",
    "                item = res[i] + [num]\n",
    "                hashable = tuple(item)\n",
    "                if hashable not in seen:\n",
    "                    seen.add(hashable)\n",
    "                    res.append(item)\n",
    "        return res\n",
    "\n",
    "s = Solution()"
   ]
  },
  {
   "cell_type": "code",
   "execution_count": 39,
   "metadata": {},
   "outputs": [
    {
     "data": {
      "text/plain": [
       "[[], [1], [1, 2], [1, 2, 3], [1, 3], [2], [2, 3], [3]]"
      ]
     },
     "execution_count": 39,
     "metadata": {},
     "output_type": "execute_result"
    }
   ],
   "source": [
    "s.subsets(nums = [1,2,3])"
   ]
  },
  {
   "cell_type": "code",
   "execution_count": 40,
   "metadata": {},
   "outputs": [
    {
     "data": {
      "text/plain": [
       "[[], [1], [2], [1, 2], [2, 2], [1, 2, 2]]"
      ]
     },
     "execution_count": 40,
     "metadata": {},
     "output_type": "execute_result"
    }
   ],
   "source": [
    "s.subsetsWithDup(nums = [1,2,2])"
   ]
  },
  {
   "cell_type": "markdown",
   "metadata": {},
   "source": [
    "# 15. Unique BST\n",
    "\n",
    "Permutations of the tree is permutation of left subtree * permutations of right sub tree"
   ]
  },
  {
   "cell_type": "code",
   "execution_count": 42,
   "metadata": {},
   "outputs": [],
   "source": [
    "class Solution:\n",
    "    def numTrees(self, n):\n",
    "        dp = [0 for i in range(n+1)]\n",
    "        dp[0], dp[1] = 1, 1\n",
    "        for i in range(2, len(dp)):\n",
    "            for j in range(1, i+1):\n",
    "                dp[i] += dp[j - 1] * dp[i - j]\n",
    "        return dp[n]\n",
    "s = Solution()"
   ]
  },
  {
   "cell_type": "code",
   "execution_count": 43,
   "metadata": {},
   "outputs": [
    {
     "data": {
      "text/plain": [
       "5"
      ]
     },
     "execution_count": 43,
     "metadata": {},
     "output_type": "execute_result"
    }
   ],
   "source": [
    "s.numTrees(3)"
   ]
  },
  {
   "cell_type": "markdown",
   "metadata": {},
   "source": [
    "# 16. Set matrix zeroes"
   ]
  },
  {
   "cell_type": "code",
   "execution_count": 44,
   "metadata": {},
   "outputs": [],
   "source": [
    "class Solution:\n",
    "    def setZeroes(self, matrix) -> None:\n",
    "        \"\"\"\n",
    "        Do not return anything, modify matrix in-place instead.\n",
    "        \"\"\"\n",
    "        m = len(matrix)\n",
    "        n = len(matrix[0])\n",
    "        row, col = set(), set()\n",
    "\n",
    "        for i in range(m):\n",
    "            for j in range(n):\n",
    "                if matrix[i][j] == 0:\n",
    "                    row.add(i)\n",
    "                    col.add(j)\n",
    "        \n",
    "        for i in range(m):\n",
    "            for j in range(n):\n",
    "                if i in row or j in col:\n",
    "                    matrix[i][j] = 0\n",
    "\n",
    "s = Solution()"
   ]
  },
  {
   "cell_type": "code",
   "execution_count": 45,
   "metadata": {},
   "outputs": [
    {
     "data": {
      "text/plain": [
       "[[1, 0, 1], [0, 0, 0], [1, 0, 1]]"
      ]
     },
     "execution_count": 45,
     "metadata": {},
     "output_type": "execute_result"
    }
   ],
   "source": [
    "matrix = [[1,1,1],[1,0,1],[1,1,1]]\n",
    "s.setZeroes(matrix)\n",
    "matrix"
   ]
  },
  {
   "cell_type": "markdown",
   "metadata": {},
   "source": [
    "# 17. Validate bst"
   ]
  },
  {
   "cell_type": "code",
   "execution_count": 47,
   "metadata": {},
   "outputs": [],
   "source": [
    "# Definition for a binary tree node.\n",
    "class TreeNode:\n",
    "    def __init__(self, val=0, left=None, right=None):\n",
    "        self.val = val\n",
    "        self.left = left\n",
    "        self.right = right\n",
    "\n",
    "class Solution:\n",
    "    def isValidBST(self, root: Optional[TreeNode], left=None, right=None) -> bool:\n",
    "        if not root: return True\n",
    "        if left and root.val <= left.val: return False\n",
    "        if right and root.val >= right.val: return False\n",
    "        return self.isValidBST(root.left, left, root) and self.isValidBST(root.right, root, right)"
   ]
  },
  {
   "cell_type": "markdown",
   "metadata": {},
   "source": [
    "# 18. Binary tree traversals - all and binary tree views - top, bottom left right\n",
    "\n",
    "Refer tree notebook"
   ]
  },
  {
   "cell_type": "markdown",
   "metadata": {},
   "source": [
    "# 19. Path sum"
   ]
  },
  {
   "cell_type": "code",
   "execution_count": 48,
   "metadata": {},
   "outputs": [],
   "source": [
    "# Definition for a binary tree node.\n",
    "class TreeNode:\n",
    "    def __init__(self, val=0, left=None, right=None):\n",
    "        self.val = val\n",
    "        self.left = left\n",
    "        self.right = right\n",
    "\n",
    "class Solution:\n",
    "    def hasPathSum(self, root: Optional[TreeNode], targetSum: int) -> bool:\n",
    "        def findSum(root, targetSum):\n",
    "            if root is not None:\n",
    "                targetSum -= root.val\n",
    "                if root.left is None and root.right is None and targetSum == 0:\n",
    "                    return True\n",
    "                return findSum(root.left, targetSum) or findSum(root.right, targetSum)\n",
    "            else:\n",
    "                return False\n",
    "        \n",
    "        return findSum(root, targetSum)\n",
    "\n",
    "    def pathSum(self, root: Optional[TreeNode], targetSum: int) -> List[List[int]]:\n",
    "        if root is None: return []\n",
    "\n",
    "        out = []\n",
    "\n",
    "        def helper(root, path):\n",
    "            if root.left is None and root.right is None and sum(path) == targetSum:\n",
    "                out.append(path)\n",
    "            \n",
    "            if root.left is not None:\n",
    "                helper(root.left, path + [root.left.val])\n",
    "            if root.right is not None:\n",
    "                helper(root.right, path + [root.right.val])\n",
    "\n",
    "        helper(root, [root.val])\n",
    "        return out\n",
    "    \n",
    "    def sumRootToLeafNumbers(self, root: Optional[TreeNode]) -> int:\n",
    "        def dfs(root, summ):\n",
    "            if not root:\n",
    "                return 0\n",
    "            if not root.left and not root.right:\n",
    "                return summ + str(root.val) \n",
    "            summ += str(root.val)\n",
    "            return int(dfs(root.left, summ)) + int(dfs(root.right, summ))\n",
    "        \n",
    "        return dfs(root, \"\")\n",
    "    \n",
    "s = Solution()\n",
    "\n",
    "    "
   ]
  },
  {
   "cell_type": "code",
   "execution_count": 50,
   "metadata": {},
   "outputs": [],
   "source": [
    "# has sum\n",
    "root = [5,4,8,11,None,13,4,7,2,None,None,None,1]\n",
    "targetSum = 22"
   ]
  },
  {
   "cell_type": "code",
   "execution_count": 52,
   "metadata": {},
   "outputs": [],
   "source": [
    "# path sum\n",
    "root = [5,4,8,11,None,13,4,7,2,None,None,5,1]\n",
    "targetSum = 22"
   ]
  },
  {
   "cell_type": "code",
   "execution_count": 53,
   "metadata": {},
   "outputs": [],
   "source": [
    "# root to leaf sum\n",
    "root = [1,2,3]"
   ]
  },
  {
   "cell_type": "markdown",
   "metadata": {},
   "source": [
    "# 20. Flatten binary tree to linked list - good for learning both trees and linked list "
   ]
  },
  {
   "cell_type": "code",
   "execution_count": 54,
   "metadata": {},
   "outputs": [],
   "source": [
    "# Definition for a binary tree node.\n",
    "class TreeNode:\n",
    "    def __init__(self, val=0, left=None, right=None):\n",
    "        self.val = val\n",
    "        self.left = left\n",
    "        self.right = right\n",
    "\n",
    "class Solution:\n",
    "    def flatten(self, root: Optional[TreeNode]) -> None:\n",
    "        \"\"\"\n",
    "        Do not return anything, modify root in-place instead.\n",
    "        \"\"\"\n",
    "        def flat(root):\n",
    "            if root is None: return\n",
    "            if root.left is not None:\n",
    "                temp = root.right\n",
    "                root.right = root.left\n",
    "                node = root.right\n",
    "                while node.right is not None:\n",
    "                    node = node.right\n",
    "                node.right = temp\n",
    "                root.left = None\n",
    "            flat(root.left)\n",
    "            flat(root.right)\n",
    "        flat(root)\n",
    "        return root"
   ]
  },
  {
   "cell_type": "code",
   "execution_count": 55,
   "metadata": {},
   "outputs": [],
   "source": [
    "root = [1,2,5,3,4,None,6]"
   ]
  },
  {
   "cell_type": "markdown",
   "metadata": {},
   "source": [
    "# 21. Best time to buy and sell stocks - good for learning the peak valley approach"
   ]
  },
  {
   "cell_type": "code",
   "execution_count": 56,
   "metadata": {},
   "outputs": [],
   "source": [
    "class Solution:\n",
    "    def maxProfit(self, prices: List[int]) -> int:\n",
    "        minprice = float('inf')\n",
    "        maxprofit = 0\n",
    "        \n",
    "        for i in prices:\n",
    "            if i < minprice:\n",
    "                minprice = i;\n",
    "            elif i - minprice > maxprofit:\n",
    "                maxprofit = i - minprice\n",
    "        return maxprofit\n",
    "\n",
    "    def maxProfit2(self, prices: List[int]) -> int:\n",
    "        profit = 0\n",
    "        i, n = 1, len(prices)\n",
    "        \n",
    "        while i < n:\n",
    "            if prices[i] > prices[i-1]:\n",
    "                profit += prices[i] - prices[i-1]\n",
    "            i+=1\n",
    "            \n",
    "        return profit\n",
    "\n",
    "    def maxProfitWithCooldown(self, prices: List[int]) -> int:\n",
    "        #note that the optimal solution will have a last day on which stock is sold, OR the overall profit will be 0\n",
    "        #let x[i] denote the maximum profit gained from days 0:i, given that stock must be sold on day [i]\n",
    "        #then the maximum profit gained from days 0:i is y[i] = max(0, x[1],x[2],...,x[i])\n",
    "        \n",
    "        #the stock sold on day i must have been bought on some day j<i. then, stock cannot have been sold on day j-1, and stock \n",
    "\t\t#cannot have been bought on day j-1. then we conclude the max profit given that we sell on day j is y[j-2]+prices[i]-prices[j]\n",
    "\t\t#as the stock sold on day i must have been bought on some day j<i, we conclude that \n",
    "        # x[i] = max( max_[2<= j < i] (y[j-2]-prices[j])+prices[i] , prices[i]-prices[0], prices[i]-prices[1])\n",
    "        \n",
    "        #so, to keep track of x[i], we need to keep track of max_[ j<= y[j-2]+prices[j]]. what about base cases?\n",
    "        #x[1] = prices[1]-prices[0]\n",
    "        #x[2] = max(prices[1]-prices[0], prices[2]-prices[1],prices[2]-prices[0])\n",
    "        #y[0]=0, y[1]=max(x[1],0)\n",
    "        \n",
    "        #we can do this in O(n) time and O(1) space\n",
    "        \n",
    "        n = len(prices)\n",
    "        if n == 1:\n",
    "            return 0\n",
    "        elif n==2:\n",
    "            return max(0,prices[1]-prices[0])\n",
    "        elif n == 3:\n",
    "            return max(0,prices[1]-prices[0],max(prices[2]-prices[0], prices[2]-prices[1]))\n",
    "        \n",
    "        #let z[i] = max(max_{2<= j < i} y[j-2]-prices[j],-prices[0],-prices[1]). \n",
    "        #then x[i+1]= prices[i+1] + z[i]\n",
    "        #then y[i+1] = max(x[i+1], y[i])\n",
    "        #then z[i+1] = max(y[i-1]-prices[i+1],z[i])\n",
    "        \n",
    "        y_0 = max(0,prices[1]-prices[0])\n",
    "        y_1 =  max(0,prices[1]-prices[0],max(prices[2]-prices[0], prices[2]-prices[1]))\n",
    "        x_1 = max(prices[2]-prices[0], prices[2]-prices[1])\n",
    "        \n",
    "        z_1 = max(-prices[0], -prices[1], -prices[2])\n",
    "        \n",
    "        for i in range(3,len(prices)):\n",
    "            x_2 = prices[i]+z_1\n",
    "            y_2 = max(x_2, y_1)\n",
    "            z_2 = max(y_0 - prices[i],z_1)\n",
    "            \n",
    "            y_1, y_0 = y_2, y_1\n",
    "            x_1, z_1 = x_2, z_2\n",
    "        \n",
    "        return y_1\n",
    "\n",
    "s = Solution()"
   ]
  },
  {
   "cell_type": "code",
   "execution_count": 57,
   "metadata": {},
   "outputs": [
    {
     "data": {
      "text/plain": [
       "5"
      ]
     },
     "execution_count": 57,
     "metadata": {},
     "output_type": "execute_result"
    }
   ],
   "source": [
    "s.maxProfit(prices = [7,1,5,3,6,4])"
   ]
  },
  {
   "cell_type": "code",
   "execution_count": 58,
   "metadata": {},
   "outputs": [
    {
     "data": {
      "text/plain": [
       "7"
      ]
     },
     "execution_count": 58,
     "metadata": {},
     "output_type": "execute_result"
    }
   ],
   "source": [
    "s.maxProfit2(prices = [7,1,5,3,6,4])"
   ]
  },
  {
   "cell_type": "code",
   "execution_count": 59,
   "metadata": {},
   "outputs": [
    {
     "data": {
      "text/plain": [
       "3"
      ]
     },
     "execution_count": 59,
     "metadata": {},
     "output_type": "execute_result"
    }
   ],
   "source": [
    "s.maxProfitWithCooldown(prices = [1,2,3,0,2])"
   ]
  },
  {
   "cell_type": "markdown",
   "metadata": {},
   "source": [
    "# 22. Longest consequetive sequence"
   ]
  },
  {
   "cell_type": "code",
   "execution_count": 60,
   "metadata": {},
   "outputs": [],
   "source": [
    "class Solution:\n",
    "    def longestConsecutive(self, nums):\n",
    "        longest_streak = 0\n",
    "        num_set = set(nums)\n",
    "\n",
    "        for num in num_set:\n",
    "            if num - 1 not in num_set:\n",
    "                current_num = num\n",
    "                current_streak = 1\n",
    "\n",
    "                while current_num + 1 in num_set:\n",
    "                    current_num += 1\n",
    "                    current_streak += 1\n",
    "\n",
    "                longest_streak = max(longest_streak, current_streak)\n",
    "\n",
    "        return longest_streak\n",
    "\n",
    "s = Solution()"
   ]
  },
  {
   "cell_type": "code",
   "execution_count": 61,
   "metadata": {},
   "outputs": [
    {
     "data": {
      "text/plain": [
       "4"
      ]
     },
     "execution_count": 61,
     "metadata": {},
     "output_type": "execute_result"
    }
   ],
   "source": [
    "s.longestConsecutive(nums = [100,4,200,1,3,2])"
   ]
  },
  {
   "cell_type": "code",
   "execution_count": 62,
   "metadata": {},
   "outputs": [
    {
     "data": {
      "text/plain": [
       "9"
      ]
     },
     "execution_count": 62,
     "metadata": {},
     "output_type": "execute_result"
    }
   ],
   "source": [
    "s.longestConsecutive(nums = [0,3,7,2,5,8,4,6,0,1])"
   ]
  },
  {
   "cell_type": "markdown",
   "metadata": {},
   "source": [
    "# 23. Palindromic partitioning\n",
    "todo"
   ]
  },
  {
   "cell_type": "code",
   "execution_count": 66,
   "metadata": {},
   "outputs": [],
   "source": [
    "class Solution:\n",
    "    def partition(self, s: str) -> List[List[str]]:\n",
    "        def palindrome(s, start, end):\n",
    "            while start < end:\n",
    "                if s[start] == s[end]:\n",
    "                    start += 1\n",
    "                    end -= 1\n",
    "                else:\n",
    "                    return False\n",
    "            else:\n",
    "                return True\n",
    "\n",
    "        def backTrack(start, cur_list):\n",
    "            if start >= n:\n",
    "                ans.append(cur_list[:])\n",
    "\n",
    "            for j in range(start, n):\n",
    "                if palindrome(s, start, j):\n",
    "                    cur_list.append(s[start:j+1])\n",
    "                    backTrack(j+1, cur_list)\n",
    "                    cur_list.pop()\n",
    "        \n",
    "        n = len(s)\n",
    "        ans = []\n",
    "        backTrack(0, [])\n",
    "        return ans"
   ]
  },
  {
   "cell_type": "markdown",
   "metadata": {},
   "source": [
    "# 24. Copy list with random pointer - very good problem on linked list"
   ]
  },
  {
   "cell_type": "code",
   "execution_count": 67,
   "metadata": {},
   "outputs": [],
   "source": [
    "class Solution:\n",
    "    def copyRandomList(self, head: 'Optional[Node]') -> 'Optional[Node]':\n",
    "        new_nodes = {}\n",
    "        \n",
    "        temp = head\n",
    "        \n",
    "        while temp:\n",
    "            new_nodes[temp] = Node(temp.val)\n",
    "            temp = temp.next\n",
    "        \n",
    "        temp = head\n",
    "        ans = res = Node(0)\n",
    "        \n",
    "        while temp:\n",
    "            res.next = new_nodes[temp]\n",
    "            \n",
    "            res.next.random = new_nodes.get(temp.random)\n",
    "            res.next.next = new_nodes.get(temp.next)\n",
    "            \n",
    "            res = res.next\n",
    "            temp = temp.next\n",
    "        \n",
    "        return ans.next"
   ]
  },
  {
   "cell_type": "markdown",
   "metadata": {},
   "source": [
    "# 25. Word break\n"
   ]
  },
  {
   "cell_type": "code",
   "execution_count": 63,
   "metadata": {},
   "outputs": [],
   "source": [
    "class Solution:\n",
    "    def wordBreak(self, s: str, wordDict: List[str]) -> bool:\n",
    "        dp = [False] * len(s)\n",
    "        for w in wordDict:\n",
    "            if s.startswith(w):\n",
    "                dp[len(w) - 1] = True\n",
    "        \n",
    "        for j in range(len(s)):\n",
    "            for w in wordDict:\n",
    "                if (1 + j) - len(w) >= 0 and s[j - len(w) + 1: j+1] == w:\n",
    "                    dp[j] = dp[j] or dp[j - len(w)]\n",
    "        return dp[-1]\n",
    "\n",
    "s = Solution()"
   ]
  },
  {
   "cell_type": "code",
   "execution_count": 64,
   "metadata": {},
   "outputs": [
    {
     "data": {
      "text/plain": [
       "True"
      ]
     },
     "execution_count": 64,
     "metadata": {},
     "output_type": "execute_result"
    }
   ],
   "source": [
    "s.wordBreak(s = \"leetcode\", wordDict = [\"leet\",\"code\"])"
   ]
  },
  {
   "cell_type": "markdown",
   "metadata": {},
   "source": [
    "# 26. LRU Cache "
   ]
  },
  {
   "cell_type": "code",
   "execution_count": 65,
   "metadata": {},
   "outputs": [],
   "source": [
    "class LRUCache:\n",
    "\n",
    "    def __init__(self, capacity: int):\n",
    "        self.capacity = capacity\n",
    "        self.container = {}\n",
    "        self.count = 0\n",
    "\n",
    "    def check_and_update_recent(self, key):\n",
    "        \n",
    "        if self.count > self.capacity:\n",
    "            self.container.pop(list(self.container.keys())[0])\n",
    "            self.count -= 1\n",
    "        \n",
    "    def get(self, key: int) -> int:\n",
    "        if key in self.container:\n",
    "            val = self.container[key]\n",
    "            self.check_and_update_recent(key)\n",
    "        else:\n",
    "            return -1\n",
    "        self.container[key] = val\n",
    "        return val\n",
    "\n",
    "    def put(self, key: int, value: int) -> None:\n",
    "        if key not in self.container:\n",
    "            self.count += 1\n",
    "        self.check_and_update_recent(key)\n",
    "        self.container[key] = value\n",
    "\n",
    "\n",
    "\n",
    "\n",
    "# Your LRUCache object will be instantiated and called as such:\n",
    "# obj = LRUCache(capacity)\n",
    "# param_1 = obj.get(key)\n",
    "# obj.put(key,value)"
   ]
  },
  {
   "cell_type": "markdown",
   "metadata": {},
   "source": [
    "# 27. Find minimum in rotated sorted array"
   ]
  },
  {
   "cell_type": "code",
   "execution_count": 69,
   "metadata": {},
   "outputs": [],
   "source": [
    "class Solution:\n",
    "    def findMin(self, nums: List[int]) -> int:\n",
    "        start, end = 0, len(nums)-1\n",
    "        while start < end:\n",
    "            mid = (start + end)//2\n",
    "            if nums[mid+1] < nums[mid]:\n",
    "                return nums[mid+1]\n",
    "            elif nums[mid] < nums[mid-1]:\n",
    "                return nums[mid]\n",
    "            elif nums[mid] > nums[end]:\n",
    "                start = mid\n",
    "            else:\n",
    "                end = mid-1\n",
    "        return None if not nums else nums[0]\n",
    "\n",
    "s = Solution()"
   ]
  },
  {
   "cell_type": "code",
   "execution_count": 70,
   "metadata": {},
   "outputs": [
    {
     "data": {
      "text/plain": [
       "1"
      ]
     },
     "execution_count": 70,
     "metadata": {},
     "output_type": "execute_result"
    }
   ],
   "source": [
    "s.findMin([3,4,5,1,2])"
   ]
  },
  {
   "cell_type": "markdown",
   "metadata": {},
   "source": [
    "# 28. House Robber"
   ]
  },
  {
   "cell_type": "code",
   "execution_count": 74,
   "metadata": {},
   "outputs": [],
   "source": [
    "class Solution:\n",
    "    def rob(self, nums: List[int]) -> int:\n",
    "        memo = {}\n",
    "        def helper(i):\n",
    "            if i >= len(nums):\n",
    "                return 0\n",
    "            if i in memo:\n",
    "                return memo[i]\n",
    "            memo[i] = nums[i] + max(helper(i + 2), helper(i + 3))\n",
    "            return memo[i]\n",
    "\n",
    "        if len(nums) < 3:\n",
    "            return max(nums)\n",
    "        memo[len(nums) - 1] = nums[-1]\n",
    "        memo[len(nums) - 2] = nums[-2]\n",
    "\n",
    "        return max(helper(0), helper(1))\n",
    "\n",
    "    def rob2(self, nums: List[int]) -> int:\n",
    "        a = b = c = d = 0\n",
    "        for i in range(len(nums)-1):\n",
    "            a, b = b, max(b, a + nums[i])\n",
    "            c, d = d, max(d, c + nums[i+1])\n",
    "        \n",
    "        return max(b, d, nums[0])\n",
    "\n",
    "    def rob3(self, root)-> int:\n",
    "        @cache\n",
    "        def search(node, k):\n",
    "            '''\n",
    "            0: not taken\n",
    "            1: taken\n",
    "            2: undecided\n",
    "            '''\n",
    "            if not node:\n",
    "                return 0\n",
    "            if k == 2:\n",
    "                return max(node.val + search(node.left, 0) + search(node.right, 0), search(node.left, 2) + search(node.right, 2))\n",
    "            if k == 1:\n",
    "                return node.val + search(node.left, 0) + search(node.right, 0)\n",
    "            if k == 0:\n",
    "                return search(node.left, 2) + search(node.right, 2)\n",
    "            \n",
    "        return search(root, 2)\n",
    "    "
   ]
  },
  {
   "cell_type": "markdown",
   "metadata": {},
   "source": [
    "# 29. Number of islands "
   ]
  },
  {
   "cell_type": "code",
   "execution_count": 75,
   "metadata": {},
   "outputs": [],
   "source": [
    "class Solution:\n",
    "    def numIslands(self, grid: List[List[str]]) -> int:\n",
    "        def DFS(r, c):\n",
    "            if r == -1 or r == n_row or c == n_col or c == -1:\n",
    "                return\n",
    "            if grid[r][c] == '1':\n",
    "                grid[r][c] = '#'\n",
    "                DFS(r+1, c)\n",
    "                DFS(r, c+1)\n",
    "                DFS(r-1, c)\n",
    "                DFS(r, c-1)\n",
    "        n_islands = 0\n",
    "        n_row, n_col = len(grid), len(grid[0])\n",
    "        for r in range(n_row):\n",
    "            for c in range(n_col):\n",
    "                if grid[r][c] == '1':\n",
    "                    DFS(r, c)\n",
    "                    n_islands += 1\n",
    "        return n_islands"
   ]
  },
  {
   "cell_type": "markdown",
   "metadata": {},
   "source": [
    "# 30. Course schedule - topological sort"
   ]
  },
  {
   "cell_type": "code",
   "execution_count": 76,
   "metadata": {},
   "outputs": [],
   "source": [
    "class Solution:\n",
    "    def dfs(self,node,par,vis,g):\n",
    "        par[node]=1\n",
    "        ok =True\n",
    "        for child in g[node]:\n",
    "            if par[child]:\n",
    "                return False\n",
    "            if vis[child]==False:\n",
    "                vis[child]=True\n",
    "                # print(node,child)\n",
    "                ok = ok & self.dfs(child,par,vis,g)\n",
    "        par[node]=0\n",
    "        return ok\n",
    "                \n",
    "            \n",
    "    def canFinish(self, numCourses: int, prerequisites: List[List[int]]) -> bool:\n",
    "        n = numCourses\n",
    "        g = [[] for i in range(n)]\n",
    "        for i,j in prerequisites:\n",
    "            a,b = i,j\n",
    "            g[a].append(b)\n",
    "        vis = [False]*n \n",
    "        par = [0]*n\n",
    "        for i in range(n):\n",
    "            if vis[i]==0:\n",
    "                vis[i]=1\n",
    "                if self.dfs(i,par,vis,g)==False:\n",
    "                    return False\n",
    "        return True"
   ]
  },
  {
   "cell_type": "markdown",
   "metadata": {},
   "source": [
    "# 31. Kth largest element in an array\n",
    "- good for practicing heaps\n",
    "- in general if any question asks for kth largest or smallest 1st thing that should come to your mind is heap\n"
   ]
  },
  {
   "cell_type": "code",
   "execution_count": 72,
   "metadata": {},
   "outputs": [],
   "source": [
    "class Solution:\n",
    "    def findKthLargest(self, nums: List[int], k: int) -> int:\n",
    "        heap = []\n",
    "        for idx, i  in enumerate(nums):\n",
    "            heapq.heappush(heap, -1 * i)\n",
    "        heapq.heapify(heap)\n",
    "        while(k > 0):\n",
    "            element = heapq.heappop(heap)\n",
    "            k -= 1\n",
    "        return -element"
   ]
  },
  {
   "cell_type": "markdown",
   "metadata": {},
   "source": [
    "# 32. Longest Increasing subsequence"
   ]
  },
  {
   "cell_type": "code",
   "execution_count": 73,
   "metadata": {},
   "outputs": [],
   "source": [
    "class Solution:\n",
    "    def lengthOfLIS(self, nums: List[int]) -> int:\n",
    "        \n",
    "        def bsearch(n,low,high,val):\n",
    "            while low<=high:\n",
    "                m = (low+high)//2\n",
    "                if dp[m]>=val:\n",
    "                    res = m\n",
    "                    high = m-1\n",
    "                else:\n",
    "                    low = m+1\n",
    "            return res\n",
    "        \n",
    "        dp = [nums[0]]\n",
    "        for v in nums[1:]:\n",
    "            if dp[-1]<v:\n",
    "                dp.append(v)\n",
    "            else:\n",
    "                ind = bsearch(nums,0,len(dp),v)\n",
    "                dp[ind] = v\n",
    "        return len(dp)"
   ]
  },
  {
   "cell_type": "markdown",
   "metadata": {},
   "source": [
    "# 33. Coin change\n",
    "- very important for learning the include/exclude principle in dp"
   ]
  },
  {
   "cell_type": "code",
   "execution_count": 77,
   "metadata": {},
   "outputs": [],
   "source": [
    "class Solution:\n",
    "    def coinChange(self, coins: List[int], amount: int) -> int:\n",
    "        n, m = len(coins) + 1, amount +1\n",
    "        dp = [[0]*m for i in range(n)]\n",
    "        for i in range(n):\n",
    "            for j in range(m):\n",
    "                if i == 0:\n",
    "                    dp[i][j] = float('inf')\n",
    "                    \n",
    "        dp[0][0] = 0\n",
    "        \n",
    "        for i in range(1, n):\n",
    "            for j in range(1, m):\n",
    "                if coins[i-1] > j:\n",
    "                    dp[i][j] = dp[i-1][j]\n",
    "                else:\n",
    "                    dp[i][j] = min(dp[i-1][j], 1 + dp[i][j-coins[i-1]])\n",
    "        \n",
    "        \n",
    "        # print(dp)\n",
    "        return -1 if dp[-1][-1] == float('inf') else dp[-1][-1]"
   ]
  },
  {
   "cell_type": "markdown",
   "metadata": {},
   "source": [
    "# 34. Pacific Atlantic water flow"
   ]
  },
  {
   "cell_type": "code",
   "execution_count": null,
   "metadata": {},
   "outputs": [],
   "source": []
  },
  {
   "cell_type": "markdown",
   "metadata": {},
   "source": [
    "# 35. Next greater element\n",
    "- good stack problem\n",
    "- It will never be asked directly but knowing the concept may help applying in other questions\n"
   ]
  },
  {
   "cell_type": "code",
   "execution_count": 79,
   "metadata": {},
   "outputs": [],
   "source": [
    "class Solution:\n",
    "    def nextGreaterElement(self, nums1: List[int], nums2: List[int]) -> List[int]:\n",
    "        out = []\n",
    "        n = len(nums2)\n",
    "        for i in nums1:\n",
    "            start = nums2.index(i)\n",
    "            if start == n-1:\n",
    "                out.append(-1)\n",
    "            else:\n",
    "                found = False\n",
    "                for j in nums2[start:]:\n",
    "                    if not found and j > i:\n",
    "                        out.append(j)\n",
    "                        found = True\n",
    "                else:\n",
    "                    if not found:\n",
    "                        out.append(-1)\n",
    "        return out\n",
    "                        \n",
    "                "
   ]
  },
  {
   "cell_type": "markdown",
   "metadata": {},
   "source": [
    "# 36. Longest palindromic subsequence"
   ]
  },
  {
   "cell_type": "code",
   "execution_count": 80,
   "metadata": {},
   "outputs": [],
   "source": [
    "x = str(100)"
   ]
  },
  {
   "cell_type": "code",
   "execution_count": 83,
   "metadata": {},
   "outputs": [
    {
     "data": {
      "text/plain": [
       "['1', '0', '0']"
      ]
     },
     "execution_count": 83,
     "metadata": {},
     "output_type": "execute_result"
    }
   ],
   "source": [
    "list(x)"
   ]
  },
  {
   "cell_type": "markdown",
   "metadata": {},
   "source": [
    "# 37. is Graph Bipartite - not done"
   ]
  },
  {
   "cell_type": "code",
   "execution_count": 84,
   "metadata": {},
   "outputs": [],
   "source": [
    "class Solution:\n",
    "    def isBipartite(self, graph: List[List[int]]) -> bool:\n",
    "        marked = [0] * len(graph)\n",
    "        \n",
    "        def dfs(node, color):\n",
    "            mark = color + 1\n",
    "            \n",
    "            if marked[node]:\n",
    "                return marked[node] == mark\n",
    "            \n",
    "            marked[node] = mark\n",
    "            \n",
    "            for neighbor in graph[node]:\n",
    "                if not dfs(neighbor, not color):\n",
    "                    return False\n",
    "            \n",
    "            return True\n",
    "        \n",
    "        for i in range(len(graph)):\n",
    "            if not marked[i] and not dfs(i, False):\n",
    "                return False\n",
    "            \n",
    "        return True"
   ]
  },
  {
   "cell_type": "markdown",
   "metadata": {},
   "source": [
    "# 38. Cheapest Flight within k stops - not done"
   ]
  },
  {
   "cell_type": "code",
   "execution_count": 88,
   "metadata": {},
   "outputs": [],
   "source": [
    "from collections import defaultdict, deque\n",
    "\n",
    "class Solution:\n",
    "    def findCheapestPrice(self, n: int, flights: List[List[int]], src: int, dst: int, k: int) -> int:\n",
    "        dict = defaultdict(list)\n",
    "        for start, end, price in flights:\n",
    "            dict[start].append((end, price))\n",
    "            visit = [float('inf')] * n    # This array can record the minimum cost to per idx\n",
    "            queue = deque([(src, 0, k)])\n",
    "            while queue:\n",
    "                s, cost, n = queue.popleft()\n",
    "                if n < 0 or s == dst:\n",
    "                    continue\n",
    "                for end, price in dict[s]:\n",
    "                    \"\"\"\n",
    "                    If the cost of current path is already larger than previous path, we don't need to continue this path anymore, \n",
    "                    which is a waste of time. This step can prevent the TLE. \n",
    "                    \"\"\"\t\n",
    "                    if cost + price > visit[end]:      \n",
    "                        continue\n",
    "                    visit[end] = cost + price\n",
    "                    queue.append((end, cost+price, n-1))\n",
    "        return visit[dst] if visit[dst] != float('inf') else -1"
   ]
  },
  {
   "cell_type": "markdown",
   "metadata": {},
   "source": [
    "# 39. The Skyline Problem - note done"
   ]
  },
  {
   "cell_type": "code",
   "execution_count": 93,
   "metadata": {},
   "outputs": [],
   "source": [
    "\n",
    "class Solution:\n",
    "    def getSkyline(self, buildings: List[List[int]]) -> List[List[int]]:\n",
    "        outline = []\n",
    "        \n",
    "        for left, right, height in buildings:\n",
    "            outline.append([left, -height, 'start'])\n",
    "            # the \"-\" before height for left position is due to the corner cases \n",
    "            # because the algorithm is input-order-sensitive \n",
    "            # later in priority queue, we need to remove the \"-\"\n",
    "            outline.append([right, height, 'end'])\n",
    "            \n",
    "        outline.sort()\n",
    "        ans, pq, prev = [], [0], 0\n",
    "        \n",
    "        for position, height, ty in outline:\n",
    "            if ty == 'start':\n",
    "                bisect.insort_right(pq, -height)  \n",
    "                # we can use both insort_right or insort_left\n",
    "                # both are AC \n",
    "            else:\n",
    "                index = bisect.bisect_left(pq, height) \n",
    "                # avoid the out of range due to bisect_right/bisect\n",
    "                pq.pop(index)\n",
    "            \n",
    "            curr_height = pq[-1]   #pq is a non decreasing pq\n",
    "            \n",
    "            if prev == curr_height:\n",
    "                # if outline remains the same height, continure without any output\n",
    "                continue\n",
    "            else:\n",
    "                # report the change of height in output\n",
    "                ans.append([position, curr_height])\n",
    "                prev = curr_height\n",
    "                \n",
    "        return ans"
   ]
  },
  {
   "cell_type": "markdown",
   "metadata": {},
   "source": [
    "# 40. All nodes distance k in binary tree - not done"
   ]
  },
  {
   "cell_type": "code",
   "execution_count": 94,
   "metadata": {},
   "outputs": [],
   "source": [
    "class Solution(object):\n",
    "    def distanceK(self, root, target, K):\n",
    "        ans = []\n",
    "\n",
    "        # Return distance from node to target if exists, else -1\n",
    "        # Vertex distance: the # of vertices on the path from node to target\n",
    "        def dfs(node):\n",
    "            if not node:\n",
    "                return -1\n",
    "            elif node is target:\n",
    "                subtree_add(node, 0)\n",
    "                return 1\n",
    "            else:\n",
    "                L, R = dfs(node.left), dfs(node.right)\n",
    "                if L != -1:\n",
    "                    if L == K: ans.append(node.val)\n",
    "                    subtree_add(node.right, L + 1)\n",
    "                    return L + 1\n",
    "                elif R != -1:\n",
    "                    if R == K: ans.append(node.val)\n",
    "                    subtree_add(node.left, R + 1)\n",
    "                    return R + 1\n",
    "                else:\n",
    "                    return -1\n",
    "\n",
    "        # Add all nodes 'K - dist' from the node to answer.\n",
    "        def subtree_add(node, dist):\n",
    "            if not node:\n",
    "                return\n",
    "            elif dist == K:\n",
    "                ans.append(node.val)\n",
    "            else:\n",
    "                subtree_add(node.left, dist + 1)\n",
    "                subtree_add(node.right, dist + 1)\n",
    "\n",
    "        dfs(root)\n",
    "        return ans"
   ]
  },
  {
   "cell_type": "markdown",
   "metadata": {},
   "source": [
    "# 41. All possible full binary tree - not done"
   ]
  },
  {
   "cell_type": "code",
   "execution_count": 95,
   "metadata": {},
   "outputs": [],
   "source": [
    "class Solution(object):\n",
    "    memo = {0: [], 1: [TreeNode(0)]}\n",
    "\n",
    "    def allPossibleFBT(self, N):\n",
    "        if N not in Solution.memo:\n",
    "            ans = []\n",
    "            for x in xrange(N):\n",
    "                y = N - 1 - x\n",
    "                for left in self.allPossibleFBT(x):\n",
    "                    for right in self.allPossibleFBT(y):\n",
    "                        bns = TreeNode(0)\n",
    "                        bns.left = left\n",
    "                        bns.right = right\n",
    "                        ans.append(bns)\n",
    "            Solution.memo[N] = ans\n",
    "\n",
    "        return Solution.memo[N]"
   ]
  },
  {
   "cell_type": "markdown",
   "metadata": {},
   "source": [
    "# 42. Rotting oranges - not done"
   ]
  },
  {
   "cell_type": "code",
   "execution_count": 96,
   "metadata": {},
   "outputs": [],
   "source": [
    "from collections import deque\n",
    "class Solution:\n",
    "    def orangesRotting(self, grid: List[List[int]]) -> int:\n",
    "        \"\"\"\n",
    "        The idea here is to start from multiple sources at the same time\n",
    "        if we have fresh oranges & we have rottened organes we will get an answer\n",
    "        If not we can return early\n",
    "        If we couldn't reach all fresh oranges we return impossible -1\n",
    "        \"\"\"\n",
    "        queue=deque()\n",
    "        n=len(grid)\n",
    "        m=len(grid[0])\n",
    "        seen=set()\n",
    "        count_fresh=0\n",
    "        \n",
    "        for i in range(n):\n",
    "            for j in range(m):\n",
    "                if(grid[i][j]==2):\n",
    "                    queue.append((i,j,0))\n",
    "                    seen.add((i,j))\n",
    "                elif(grid[i][j]==1):\n",
    "                    count_fresh+=1\n",
    "        # There are no fresh oranges\n",
    "        if count_fresh==0:\n",
    "            return 0\n",
    "        # There is fresh oranges but we don't have rottened so all oranges will be safe\n",
    "        if len(seen)==0:\n",
    "            return -1\n",
    "        \n",
    "        \n",
    "        reached_fresh=0\n",
    "        max_time=0\n",
    "        while queue:\n",
    "            row,column,time=queue.popleft()\n",
    "            #Found a fresh orange, count it and update maximmum time\n",
    "            if grid[row][column]==1:\n",
    "                reached_fresh+=1\n",
    "                max_time=max(max_time,time)\n",
    "            for next_row,next_column in self.generate_moves(row,column):\n",
    "                # Add next cell if it is in the grid, not an empty cell and we didn't see it so far\n",
    "                if self.is_valid(next_row,next_column,grid,n,m,seen):\n",
    "                    queue.append((next_row,next_column,time+1))\n",
    "                    seen.add((next_row,next_column))\n",
    "                    \n",
    "        # There is fresh oranges we couldn't reach\n",
    "        if reached_fresh!=count_fresh:\n",
    "            return -1\n",
    "\n",
    "        return max_time\n",
    "                    \n",
    "    def generate_moves(self,row,column):\n",
    "        return [(row+1,column),(row-1,column),(row,column+1),(row,column-1)]\n",
    "    def is_valid(self,row,column,grid,n,m,seen):\n",
    "        if row<0 or column<0 or row>=n or column>=m:\n",
    "            return False\n",
    "        if grid[row][column]==0:\n",
    "            return False\n",
    "        if ((row,column) in seen):\n",
    "            return False\n",
    "        return True"
   ]
  },
  {
   "cell_type": "markdown",
   "metadata": {},
   "source": [
    "# 43. Longest common subsequence"
   ]
  },
  {
   "cell_type": "code",
   "execution_count": 97,
   "metadata": {},
   "outputs": [],
   "source": [
    "class Solution:\n",
    "    def longestCommonSubsequence(self, text1: str, text2: str) -> int:\n",
    "        x,y = text1, text2\n",
    "        m,n = len(x), len(y)\n",
    "\n",
    "        # Initialize\n",
    "        _map = [[-1 for i in range(n+1)] for j in range(m+1)]\n",
    "        for i in range(m+1):\n",
    "            for j in range(n+1):\n",
    "                if i ==0 or j ==0:\n",
    "                    _map[i][j] = ''\n",
    "\n",
    "        # Choice\n",
    "        for i in range(1, m+1):\n",
    "            for j in range(1, n+1):\n",
    "                if x[i-1] == y[j-1]:\n",
    "                    _map[i][j] = _map[i-1][j-1] + x[i-1]\n",
    "                else:\n",
    "                    _map[i][j] = _map[i][j-1] if len(_map[i][j-1]) > len(_map[i-1][j]) else _map[i-1][j]\n",
    "\n",
    "        return len(_map[m][n])"
   ]
  },
  {
   "cell_type": "markdown",
   "metadata": {},
   "source": [
    "# 44. Number of closed islands - not done"
   ]
  },
  {
   "cell_type": "code",
   "execution_count": 98,
   "metadata": {},
   "outputs": [],
   "source": [
    "class Solution:\n",
    "    def closedIsland(self, grid: List[List[int]]) -> int:\n",
    "        R, C = len(grid), len(grid[0])\n",
    "        result = 0\n",
    "        for r in range(R):\n",
    "            for c in range(C):\n",
    "                if grid[r][c]==0:\n",
    "                    result += self.is_island(grid, r, c)\n",
    "        return result\n",
    "        \n",
    "    def is_island(self, grid, r,c):\n",
    "        grid[r][c] = -1\n",
    "        island_status = True\n",
    "        if r==0 or c==0 or r==len(grid)-1 or c==len(grid[0])-1:\n",
    "            island_status = False\n",
    "\n",
    "        directions = [(r+1, c), (r-1,c), (r, c+1), (r, c-1)]\n",
    "        for (x,y) in directions:\n",
    "            if (\n",
    "                0<=x<len(grid) and 0<=y<len(grid[0]) and\n",
    "                grid[x][y]==0\n",
    "            ):\n",
    "                visit_status = self.is_island(grid, x, y)\n",
    "                island_status &= visit_status\n",
    "        return island_status"
   ]
  },
  {
   "cell_type": "markdown",
   "metadata": {},
   "source": [
    "# 45. Merge k sorted lists  - not done\n",
    "- will never be asked directly but knowing the concept may help applying in other questions\n"
   ]
  },
  {
   "cell_type": "code",
   "execution_count": 99,
   "metadata": {},
   "outputs": [],
   "source": [
    "class Solution(object):\n",
    "    def mergeKLists(self, lists):\n",
    "        \"\"\"\n",
    "        :type lists: List[ListNode]\n",
    "        :rtype: ListNode\n",
    "        \"\"\"\n",
    "        amount = len(lists)\n",
    "        interval = 1\n",
    "        while interval < amount:\n",
    "            for i in range(0, amount - interval, interval * 2):\n",
    "                lists[i] = self.merge2Lists(lists[i], lists[i + interval])\n",
    "            interval *= 2\n",
    "        return lists[0] if amount > 0 else None\n",
    "\n",
    "    def merge2Lists(self, l1, l2):\n",
    "        head = point = ListNode(0)\n",
    "        while l1 and l2:\n",
    "            if l1.val <= l2.val:\n",
    "                point.next = l1\n",
    "                l1 = l1.next\n",
    "            else:\n",
    "                point.next = l2\n",
    "                l2 = l1\n",
    "                l1 = point.next.next\n",
    "            point = point.next\n",
    "        if not l1:\n",
    "            point.next=l2\n",
    "        else:\n",
    "            point.next=l1\n",
    "        return head.next"
   ]
  },
  {
   "cell_type": "markdown",
   "metadata": {},
   "source": [
    "# 46. Reverse nodes in k group - not done"
   ]
  },
  {
   "cell_type": "code",
   "execution_count": 101,
   "metadata": {},
   "outputs": [],
   "source": [
    "class ListNode:\n",
    "    def __init__(self, val, next=None):\n",
    "        self.val = val\n",
    "        self.next = next\n",
    "\n",
    "class Solution:\n",
    "    def reverseKGroup(self, head: Optional[ListNode], k: int) -> Optional[ListNode]:\n",
    "        if head is None:\n",
    "            return head\n",
    "        arr = []\n",
    "\n",
    "        curr, i = head, 0\n",
    "        while curr:\n",
    "            arr.append(curr)\n",
    "            curr = curr.next\n",
    "            i += 1\n",
    "\n",
    "        i, s = 0, 0\n",
    "        while i < len(arr):\n",
    "            if (i + 1) % k == 0:\n",
    "                m, n = s, i\n",
    "                while m < n:\n",
    "                    arr[m], arr[n] = arr[n], arr[m]\n",
    "                    m += 1\n",
    "                    n -= 1\n",
    "                s = i + 1\n",
    "            i += 1\n",
    "\n",
    "        final = ListNode(None)\n",
    "        f = final\n",
    "        for i in range(len(arr)):\n",
    "            arr[i].next = None\n",
    "            f.next = arr[i]\n",
    "            f = f.next\n",
    "\n",
    "        return final.next"
   ]
  },
  {
   "cell_type": "markdown",
   "metadata": {},
   "source": [
    "# 47. Trapping rain water"
   ]
  },
  {
   "cell_type": "code",
   "execution_count": 102,
   "metadata": {},
   "outputs": [],
   "source": [
    "class Solution:\n",
    "    def trap(self, height: List[int]) -> int:\n",
    "        if not height: return 0\n",
    "        n = len(height)\n",
    "        ans = 0\n",
    "        left_max, right_max = [0 for i in range(n)], [0 for i in range(n)]\n",
    "        left_max[0] = height[0]\n",
    "        right_max[-1] = height[-1]\n",
    "        \n",
    "        for i in range(1, n):\n",
    "            left_max[i] = max(height[i], left_max[i - 1])\n",
    "        \n",
    "        for i in range(n-2, -1, -1):\n",
    "            right_max[i] = max(height[i], right_max[i + 1])\n",
    "        \n",
    "        for i in range(1, n):\n",
    "            ans += min(left_max[i], right_max[i]) - height[i]\n",
    "        \n",
    "        return ans"
   ]
  },
  {
   "cell_type": "markdown",
   "metadata": {},
   "source": [
    "# 48. Edit distance - very imp concept to learn"
   ]
  },
  {
   "cell_type": "code",
   "execution_count": 103,
   "metadata": {},
   "outputs": [],
   "source": [
    "class Solution:\n",
    "    def minDistance(self, word1: str, word2: str) -> int:\n",
    "        if word1 is None or word2 is None:\n",
    "            return -1\n",
    "            \n",
    "        n, m = len(word1), len(word2)\n",
    "        # state\n",
    "        dp = [[0] * (m + 1) for _ in range(n + 1)]\n",
    "        \n",
    "        # initialization\n",
    "        for i in range(n + 1):\n",
    "            dp[i][0] = i\n",
    "        for j in range(m + 1):\n",
    "            dp[0][j] = j\n",
    "\n",
    "        # function\n",
    "        for i in range(1, n + 1):\n",
    "            for j in range(1, m + 1):\n",
    "                dp[i][j] = min(dp[i - 1][j], dp[i][j - 1]) + 1\n",
    "                if word2[j - 1] == word1[i - 1]:\n",
    "                    dp[i][j] = min(dp[i][j], dp[i - 1][j - 1])\n",
    "                else:\n",
    "                    dp[i][j] = min(dp[i][j], dp[i - 1][j - 1] + 1)\n",
    "                    \n",
    "        # answer\n",
    "        return dp[n][m]\n"
   ]
  },
  {
   "cell_type": "markdown",
   "metadata": {},
   "source": [
    "# 49. Sliding window max - not done"
   ]
  },
  {
   "cell_type": "code",
   "execution_count": 31,
   "metadata": {},
   "outputs": [],
   "source": [
    "from collections import deque\n",
    "\n",
    "class Solution:\n",
    "    def maxSlidingWindow(self, nums: List[int], k: int) -> List[int]:\n",
    "        mono_que = deque()\n",
    "        res = []\n",
    "        \n",
    "        for i, v in enumerate(nums):\n",
    "            while mono_que and mono_que[-1][1] < v:\n",
    "                mono_que.pop()\n",
    "            mono_que.append((i, v))\n",
    "            while i - mono_que[0][0] >= k:\n",
    "                mono_que.popleft()\n",
    "            res.append(mono_que[0][1])\n",
    "            \n",
    "        return res[k-1:]\n",
    "                \n",
    "        \n",
    "\n",
    "\n",
    "\n",
    "s = Solution()"
   ]
  },
  {
   "cell_type": "code",
   "execution_count": 32,
   "metadata": {},
   "outputs": [
    {
     "data": {
      "text/plain": [
       "[1, -1]"
      ]
     },
     "execution_count": 32,
     "metadata": {},
     "output_type": "execute_result"
    }
   ],
   "source": [
    "s.maxSlidingWindow([1,-1],1)"
   ]
  },
  {
   "cell_type": "markdown",
   "metadata": {},
   "source": [
    "# 50. Word ladder - not done - Dijkstra's algo"
   ]
  },
  {
   "cell_type": "code",
   "execution_count": 104,
   "metadata": {},
   "outputs": [],
   "source": [
    "class Solution:\n",
    "    def ladderLength(self, beginWord: str, endWord: str, wordList: List[str]) -> int:\n",
    "        if beginWord is None or endWord is None or len(wordList) == 0:\n",
    "            return 0\n",
    "        if endWord not in wordList:\n",
    "            return 0\n",
    "        \n",
    "        N ,res = len(beginWord), float('inf')\n",
    "        visited = collections.defaultdict(bool)\n",
    "        data = collections.defaultdict(list) \n",
    "        queue = collections.deque()\n",
    "        \n",
    "        for word in wordList:\n",
    "            for i in range(N):\n",
    "                data[word[:i]+'*'+word[i+1:]].append(word)\n",
    "        \n",
    "        queue.append((beginWord,0))\n",
    "        while queue:\n",
    "            curr, depth = queue.popleft()\n",
    "            if visited[curr]:\n",
    "                continue\n",
    "            visited[curr] = True\n",
    "            if curr == endWord:\n",
    "                res=min(res,depth)\n",
    "                continue\n",
    "            for i in range(N):\n",
    "                for j in data[curr[:i]+'*'+curr[i+1:]]:\n",
    "                    queue.append((j,depth+1))\n",
    "        \n",
    "        if res > len(wordList)+1:\n",
    "            return 0\n",
    "        return res+1"
   ]
  },
  {
   "cell_type": "markdown",
   "metadata": {},
   "source": [
    "# 51. Serialize and deserialize a binary tree - not done"
   ]
  },
  {
   "cell_type": "code",
   "execution_count": 105,
   "metadata": {},
   "outputs": [],
   "source": [
    "# Definition for a binary tree node.\n",
    "# class TreeNode(object):\n",
    "#     def __init__(self, x):\n",
    "#         self.val = x\n",
    "#         self.left = None\n",
    "#         self.right = None\n",
    "\n",
    "class Codec:\n",
    "\n",
    "    def serialize(self, root):\n",
    "        \"\"\"Encodes a tree to a single string.\n",
    "\n",
    "        :type root: TreeNode\n",
    "        :rtype: str\n",
    "        \"\"\"\n",
    "        ret_str = ''\n",
    "        if not root:\n",
    "            return ret_str\n",
    "        stack = [root]\n",
    "        while stack:\n",
    "            node = stack.pop(0)\n",
    "            if node:\n",
    "                ret_str += str(node.val) + ','\n",
    "                stack.append(node.left)\n",
    "                stack.append(node.right)\n",
    "            else:\n",
    "                ret_str += 'N' + ','\n",
    "        return ret_str\n",
    "\n",
    "\n",
    "\n",
    "    def deserialize(self, data):\n",
    "        \"\"\"Decodes your encoded data to tree.\n",
    "\n",
    "        :type data: str\n",
    "        :rtype: TreeNode\n",
    "        \"\"\"\n",
    "        if data == '':\n",
    "            return None\n",
    "        data_list = data.split(',')\n",
    "        start_node = TreeNode(int(data_list.pop(0)))\n",
    "        node_list = [start_node]\n",
    "        print(data)\n",
    "        while data_list and node_list:\n",
    "            node = node_list.pop(0)\n",
    "            left_val = data_list.pop(0)\n",
    "            if left_val != 'N':\n",
    "                node.left = TreeNode(int(left_val))\n",
    "                node_list.append(node.left)\n",
    "            else:\n",
    "                node.left = None\n",
    "            if data_list:\n",
    "                right_val = data_list.pop(0)\n",
    "                if right_val != 'N':\n",
    "                    node.right = TreeNode(int(right_val))\n",
    "                    node_list.append(node.right)\n",
    "                else:\n",
    "                    node.right = None\n",
    "        return start_node\n",
    "        \n",
    "\n",
    "# Your Codec object will be instantiated and called as such:\n",
    "# ser = Codec()\n",
    "# deser = Codec()\n",
    "# ans = deser.deserialize(ser.serialize(root))"
   ]
  },
  {
   "cell_type": "markdown",
   "metadata": {},
   "source": [
    "# Dijkstra's Algo overall"
   ]
  },
  {
   "cell_type": "code",
   "execution_count": null,
   "metadata": {},
   "outputs": [],
   "source": []
  }
 ],
 "metadata": {
  "interpreter": {
   "hash": "aee8b7b246df8f9039afb4144a1f6fd8d2ca17a180786b69acc140d282b71a49"
  },
  "kernelspec": {
   "display_name": "Python 3.8.5 64-bit",
   "language": "python",
   "name": "python3"
  },
  "language_info": {
   "codemirror_mode": {
    "name": "ipython",
    "version": 3
   },
   "file_extension": ".py",
   "mimetype": "text/x-python",
   "name": "python",
   "nbconvert_exporter": "python",
   "pygments_lexer": "ipython3",
   "version": "3.8.5"
  },
  "orig_nbformat": 4
 },
 "nbformat": 4,
 "nbformat_minor": 2
}
