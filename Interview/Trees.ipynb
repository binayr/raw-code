{
 "cells": [
  {
   "cell_type": "code",
   "execution_count": 2,
   "id": "428ad203",
   "metadata": {},
   "outputs": [],
   "source": [
    "from pprint import pprint"
   ]
  },
  {
   "cell_type": "markdown",
   "id": "aa0af636",
   "metadata": {},
   "source": [
    "\n",
    "<img src=\"https://res.cloudinary.com/teepublic/image/private/s--aYHQ0tOn--/t_Resized%20Artwork/c_fit,g_north_west,h_954,w_954/co_000000,e_outline:48/co_000000,e_outline:inner_fill:48/co_ffffff,e_outline:48/co_ffffff,e_outline:inner_fill:48/co_bbbbbb,e_outline:3:1000/c_mpad,g_center,h_1260,w_1260/b_rgb:eeeeee/t_watermark_lock/c_limit,f_auto,h_630,q_90,w_630/v1570107363/production/designs/6190962_0.jpg\" width=260 height=260 />\n"
   ]
  },
  {
   "cell_type": "markdown",
   "id": "0670180d",
   "metadata": {},
   "source": [
    "### Binary Tree"
   ]
  },
  {
   "cell_type": "code",
   "execution_count": 3,
   "id": "eb3c7476",
   "metadata": {},
   "outputs": [],
   "source": [
    "class TreeNode:\n",
    "    def __init__(self, val):\n",
    "        self.val = val\n",
    "        self.left = None\n",
    "        self.right = None\n",
    "        \n",
    "    def __repr__(self):\n",
    "        return str(self.val)"
   ]
  },
  {
   "cell_type": "code",
   "execution_count": 4,
   "id": "9f482a5d",
   "metadata": {},
   "outputs": [],
   "source": [
    "root = TreeNode(1)\n",
    "root.left = TreeNode(2)\n",
    "root.right = TreeNode(3)\n",
    "root.right.left = TreeNode(4)\n",
    "root.right.right = TreeNode(5)"
   ]
  },
  {
   "cell_type": "code",
   "execution_count": 21,
   "id": "71f917fa",
   "metadata": {},
   "outputs": [],
   "source": [
    "def preorder(root):\n",
    "    if not root: return\n",
    "    \n",
    "    preorder(root.left)\n",
    "    preorder(root.right)\n",
    "    print(root.val, end=\" \")\n",
    "    \n",
    "def inorder(root):\n",
    "    if not root: return\n",
    "    \n",
    "    inorder(root.left)\n",
    "    print(root.val, end=\" \")\n",
    "    inorder(root.right)\n",
    "\n",
    "def postorder(root):\n",
    "    if not root: return\n",
    "    \n",
    "    print(root.val, end=\" \")\n",
    "    postorder(root.left)\n",
    "    postorder(root.right)\n",
    "    \n",
    "def level_order(root, level):\n",
    "    if root:\n",
    "        if level in out:\n",
    "            out[level].append(root.val)\n",
    "        else:\n",
    "            out[level] = [root.val]\n",
    "        level_order(root.left, level+1)\n",
    "        level_order(root.right, level+1)\n",
    "        \n",
    "\n",
    "def boundry(root: TreeNode):\n",
    "    def lefts(root: TreeNode):\n",
    "        if root:\n",
    "            if root.left is not None:\n",
    "                print(root, end=\" \")\n",
    "                lefts(root.left)\n",
    "            elif root.right is not None:\n",
    "                print(root, end=\" \")\n",
    "                lefts(root.right)\n",
    "            \n",
    "    def leaf(root: TreeNode):\n",
    "        if root is None: return\n",
    "        \n",
    "        if root.left is None and root.right is None:\n",
    "            print(root, end=\" \")\n",
    "        leaf(root.left)\n",
    "        leaf(root.right)\n",
    "        \n",
    "    def right(root: TreeNode):\n",
    "        if root:\n",
    "            if root.right is not None:\n",
    "                right(root.right)\n",
    "                print(root, end=\" \")\n",
    "            elif root.left is not None:\n",
    "                right(root.left)\n",
    "                print(root, end=\" \")\n",
    "    \n",
    "    \n",
    "    lefts(root)\n",
    "    leaf(root)\n",
    "    right(root)\n",
    "        \n",
    "def blanket(root: TreeNode):\n",
    "    def lefts(root: TreeNode):\n",
    "        if root:\n",
    "            lefts(root.left)\n",
    "            print(root, end=\" \")\n",
    "    \n",
    "    def right(root: TreeNode):\n",
    "        if root:\n",
    "            if root.right:\n",
    "                print(root.right, end=\" \")\n",
    "            right(root.right)\n",
    "                \n",
    "    lefts(root)\n",
    "    right(root)\n",
    "\n",
    "def level_order_2(root):\n",
    "    if root is None: return\n",
    "\n",
    "    queue = [root]\n",
    "    while len(queue) > 0:\n",
    "        node = queue.pop(0)\n",
    "        print(node.val, end=\" \")\n",
    "\n",
    "        if node.left is not None:\n",
    "            queue.append(node.left)\n",
    "\n",
    "        if node.right is not None:\n",
    "            queue.append(node.right)"
   ]
  },
  {
   "cell_type": "code",
   "execution_count": 22,
   "id": "8331e954",
   "metadata": {},
   "outputs": [
    {
     "name": "stdout",
     "output_type": "stream",
     "text": [
      "8 4 2 1 3 7 15 "
     ]
    }
   ],
   "source": [
    "root = TreeNode(1)\n",
    "\n",
    "root.left = TreeNode(2)\n",
    "root.left.right = TreeNode(5)\n",
    "root.left.left = TreeNode(4)\n",
    "\n",
    "root.left.left.right = TreeNode(9)\n",
    "root.left.left.left = TreeNode(8)\n",
    "\n",
    "root.left.right.right = TreeNode(11)\n",
    "root.left.right.left = TreeNode(10)\n",
    "\n",
    "\n",
    "root.right = TreeNode(3)\n",
    "root.right.right = TreeNode(7)\n",
    "root.right.left = TreeNode(6)\n",
    "\n",
    "root.right.left.right = TreeNode(13)\n",
    "root.right.left.left = TreeNode(12)\n",
    "\n",
    "root.right.right.right = TreeNode(15)\n",
    "root.right.right.left = TreeNode(14)\n",
    "\n",
    "blanket(root)"
   ]
  },
  {
   "cell_type": "code",
   "execution_count": 23,
   "id": "a67662c8",
   "metadata": {},
   "outputs": [
    {
     "name": "stdout",
     "output_type": "stream",
     "text": [
      "1 2 3 4 5 6 7 8 9 10 11 12 13 14 15 "
     ]
    }
   ],
   "source": [
    "level_order_2(root)"
   ]
  },
  {
   "cell_type": "code",
   "execution_count": 24,
   "id": "ffc26aa4",
   "metadata": {},
   "outputs": [
    {
     "name": "stdout",
     "output_type": "stream",
     "text": [
      "8 4 9 2 10 5 11 1 12 6 13 3 14 7 15 "
     ]
    }
   ],
   "source": [
    "inorder(root)"
   ]
  },
  {
   "cell_type": "code",
   "execution_count": 25,
   "id": "5bd8f01d",
   "metadata": {},
   "outputs": [
    {
     "data": {
      "text/plain": [
       "{0: [1], 1: [2, 3], 2: [4, 5, 6, 7], 3: [8, 9, 10, 11, 12, 13, 14, 15]}"
      ]
     },
     "execution_count": 25,
     "metadata": {},
     "output_type": "execute_result"
    }
   ],
   "source": [
    "out = {}\n",
    "level_order(root, 0)\n",
    "out"
   ]
  },
  {
   "cell_type": "code",
   "execution_count": 26,
   "id": "a2dd7349",
   "metadata": {},
   "outputs": [
    {
     "name": "stdout",
     "output_type": "stream",
     "text": [
      "1 2 4 8 9 10 11 12 13 14 15 7 3 1 "
     ]
    }
   ],
   "source": [
    "root = TreeNode(1)\n",
    "\n",
    "root.left = TreeNode(2)\n",
    "root.left.right = TreeNode(5)\n",
    "root.left.left = TreeNode(4)\n",
    "\n",
    "root.left.left.right = TreeNode(9)\n",
    "root.left.left.left = TreeNode(8)\n",
    "\n",
    "root.left.right.right = TreeNode(11)\n",
    "root.left.right.left = TreeNode(10)\n",
    "\n",
    "\n",
    "root.right = TreeNode(3)\n",
    "root.right.right = TreeNode(7)\n",
    "root.right.left = TreeNode(6)\n",
    "\n",
    "root.right.left.right = TreeNode(13)\n",
    "root.right.left.left = TreeNode(12)\n",
    "\n",
    "root.right.right.right = TreeNode(15)\n",
    "root.right.right.left = TreeNode(14)\n",
    "\n",
    "boundry(root)"
   ]
  },
  {
   "cell_type": "markdown",
   "id": "70da68e7",
   "metadata": {},
   "source": [
    "### Binary Search Tree (BST)"
   ]
  },
  {
   "cell_type": "code",
   "execution_count": null,
   "id": "48e30ba3",
   "metadata": {},
   "outputs": [],
   "source": []
  },
  {
   "cell_type": "code",
   "execution_count": 27,
   "id": "f42513fa",
   "metadata": {},
   "outputs": [],
   "source": [
    "class TreeNode:\n",
    "    def __init__(self, val):\n",
    "        self.val = val\n",
    "        self.left = None\n",
    "        self.right = None\n",
    "        \n",
    "    def __repr__(self):\n",
    "        return str(self.val)\n",
    "        \n",
    "class BST:\n",
    "    def insert(self, root, key):\n",
    "        if root is None:\n",
    "            return TreeNode(key)\n",
    "\n",
    "        if key < root.val:\n",
    "            root.left = self.insert(root.left, key)\n",
    "        elif key >= root.val:\n",
    "            root.right = self.insert(root.right, key)\n",
    "        return root\n",
    "    \n",
    "    def search(self, root, key):\n",
    "        if root is None:\n",
    "            return False\n",
    "        if root.val == key:\n",
    "            return True\n",
    "        \n",
    "        return self.search(root.left, key) or self.search(root.right, key)\n",
    "    \n",
    "    def _get_min(self, root):\n",
    "        if root is None: return root\n",
    "        current = root\n",
    "        while current.left is not None:\n",
    "            current = current.left\n",
    "        return current\n",
    "    \n",
    "    def delete(self, root, key):\n",
    "        if root is None:\n",
    "            return root\n",
    "        \n",
    "        if key < root.val:\n",
    "            root.left = self.delete(root.left, key)\n",
    "        elif key > root.val:\n",
    "            root.right = self.delete(root.right, key)\n",
    "        else:\n",
    "            if root.left is None:\n",
    "                temp = root.right\n",
    "                root = None\n",
    "                return temp\n",
    "            elif root.right is None:\n",
    "                temp = root.left\n",
    "                root = None\n",
    "                return temp\n",
    "            \n",
    "            min_node = self._get_min(root)\n",
    "            root.val = min_node.val\n",
    "            root.right = self.delete(root.right, min_node.val)\n",
    "        return root"
   ]
  },
  {
   "cell_type": "code",
   "execution_count": 28,
   "id": "e22fd3ce",
   "metadata": {},
   "outputs": [
    {
     "name": "stdout",
     "output_type": "stream",
     "text": [
      "1 2 3 4 5 6 7 8 9 "
     ]
    }
   ],
   "source": [
    "bst = BST()\n",
    "root = head = TreeNode(3)\n",
    "bst.insert(root, 1)\n",
    "bst.insert(head, 2)\n",
    "bst.insert(root, 4)\n",
    "bst.insert(root, 5)\n",
    "bst.insert(root, 6)\n",
    "bst.insert(root, 7)\n",
    "bst.insert(root, 8)\n",
    "bst.insert(root, 9)\n",
    "inorder(root)"
   ]
  },
  {
   "cell_type": "code",
   "execution_count": 29,
   "id": "be3179bc",
   "metadata": {},
   "outputs": [
    {
     "data": {
      "text/plain": [
       "(True, False)"
      ]
     },
     "execution_count": 29,
     "metadata": {},
     "output_type": "execute_result"
    }
   ],
   "source": [
    "bst.search(root, 6), bst.search(root, 16)"
   ]
  },
  {
   "cell_type": "code",
   "execution_count": 30,
   "id": "bf785bc9",
   "metadata": {},
   "outputs": [
    {
     "name": "stdout",
     "output_type": "stream",
     "text": [
      "1 2 3 5 6 7 8 9 "
     ]
    }
   ],
   "source": [
    "inorder(bst.delete(root, 4))"
   ]
  },
  {
   "cell_type": "code",
   "execution_count": 31,
   "id": "7a9b18c3",
   "metadata": {},
   "outputs": [
    {
     "data": {
      "text/plain": [
       "{0: [3], 1: [1, 5], 2: [2, 6], 3: [7], 4: [8], 5: [9]}"
      ]
     },
     "execution_count": 31,
     "metadata": {},
     "output_type": "execute_result"
    }
   ],
   "source": [
    "out = {}\n",
    "level_order(root, 0)\n",
    "out"
   ]
  },
  {
   "cell_type": "code",
   "execution_count": null,
   "id": "5e9a4fb0",
   "metadata": {},
   "outputs": [],
   "source": []
  },
  {
   "cell_type": "markdown",
   "id": "53330053",
   "metadata": {},
   "source": [
    "### n-ary Tree"
   ]
  },
  {
   "cell_type": "code",
   "execution_count": 10,
   "id": "c313eb61",
   "metadata": {},
   "outputs": [],
   "source": [
    "class nTreeNode:\n",
    "    def __init__(self, val):\n",
    "        self.val = val\n",
    "        self.children = []"
   ]
  },
  {
   "cell_type": "code",
   "execution_count": 11,
   "id": "774d28d6",
   "metadata": {},
   "outputs": [],
   "source": [
    "root = nTreeNode(1)\n",
    "root.children = [nTreeNode(2), nTreeNode(3), nTreeNode(4), nTreeNode(5)]\n",
    "root.children[0].children = [nTreeNode(6), nTreeNode(7)]\n",
    "root.children[1].children = [nTreeNode(8), nTreeNode(9), nTreeNode(10)]\n",
    "root.children[2].children = [nTreeNode(11)]\n",
    "root.children[3].children = [nTreeNode(12), nTreeNode(13), nTreeNode(14), nTreeNode(15)]"
   ]
  },
  {
   "cell_type": "code",
   "execution_count": 12,
   "id": "dccc084f",
   "metadata": {},
   "outputs": [],
   "source": [
    "# same can be applied for level order traversal of binary tree with minimal changes\n",
    "out = {}\n",
    "def traverse(root, level):\n",
    "    if root:\n",
    "        if level in out:\n",
    "            out[level].append(root.val)\n",
    "        else:\n",
    "            out[level] = [root.val]\n",
    "    for child in root.children:\n",
    "        traverse(child, level+1)\n",
    "        \n",
    "def pre_traverse(root):\n",
    "    if root:\n",
    "        print(root.val, end=\" \")\n",
    "    for child in root.children:\n",
    "        pre_traverse(child)\n",
    "        \n",
    "def post_traverse(root):\n",
    "    for child in root.children:\n",
    "        post_traverse(child)\n",
    "    if root:\n",
    "        print(root.val, end=\" \")"
   ]
  },
  {
   "cell_type": "code",
   "execution_count": 13,
   "id": "641dd793",
   "metadata": {},
   "outputs": [
    {
     "data": {
      "text/plain": [
       "{0: [1], 1: [2, 3, 4, 5], 2: [6, 7, 8, 9, 10, 11, 12, 13, 14, 15]}"
      ]
     },
     "execution_count": 13,
     "metadata": {},
     "output_type": "execute_result"
    }
   ],
   "source": [
    "traverse(root, 0)\n",
    "out"
   ]
  },
  {
   "cell_type": "code",
   "execution_count": 14,
   "id": "350d0fb9",
   "metadata": {},
   "outputs": [
    {
     "name": "stdout",
     "output_type": "stream",
     "text": [
      "1 2 6 7 3 8 9 10 4 11 5 12 13 14 15 "
     ]
    }
   ],
   "source": [
    "pre_traverse(root)"
   ]
  },
  {
   "cell_type": "code",
   "execution_count": 15,
   "id": "1b196c90",
   "metadata": {},
   "outputs": [
    {
     "name": "stdout",
     "output_type": "stream",
     "text": [
      "6 7 2 8 9 10 3 11 4 12 13 14 15 5 1 "
     ]
    }
   ],
   "source": [
    "post_traverse(root)"
   ]
  },
  {
   "cell_type": "markdown",
   "id": "e8e8440c",
   "metadata": {},
   "source": [
    "### Trie"
   ]
  },
  {
   "cell_type": "code",
   "execution_count": 3,
   "id": "5e945733",
   "metadata": {},
   "outputs": [
    {
     "name": "stdout",
     "output_type": "stream",
     "text": [
      "{'b': {'a': {'r': {'__end__': True}, 'z': {'__end__': True}}},\n",
      " 'f': {'o': {'o': {'__end__': True}}}}\n"
     ]
    }
   ],
   "source": [
    "data = {}\n",
    "\n",
    "class Trie:\n",
    "    _end = '__end__'\n",
    "\n",
    "    def create(self, *words):\n",
    "        root = dict()\n",
    "        for word in words:\n",
    "            current_dict = root\n",
    "            for letter in word:\n",
    "                current_dict = current_dict.setdefault(letter, {})\n",
    "            # Instead of True it can be incremented to keep track of the number of occurances.\n",
    "            current_dict[self._end] = True\n",
    "        return root\n",
    "    \n",
    "    def search(self, data, word):\n",
    "        try:\n",
    "            if len(word) == 1 and self._end in data[word[0]] and data[word[0]][self._end] == True:\n",
    "                return True\n",
    "            elif len(word) == 1 and (self._end not in data[word[0]] or data[word[0]][self._end] == False):\n",
    "                return False\n",
    "        except KeyError:\n",
    "            return False\n",
    "        # if word[0] in data:\n",
    "        return self.search(data[word[0]], word[1:])\n",
    "    \n",
    "    def insert(self, data, word):\n",
    "        try:\n",
    "            res = self.search(data, word)\n",
    "            if res: return\n",
    "        except:\n",
    "            pass\n",
    "        self._insert_item(data, word)\n",
    "            \n",
    "    def _insert_item(self, data, word):\n",
    "        if len(word) == 1:\n",
    "            data[word] = {self._end: True}\n",
    "            return\n",
    "        \n",
    "        if word[0] not in data:\n",
    "            data[word[0]] = {}\n",
    "        \n",
    "        self._insert_item(data[word[0]], word[1:])\n",
    "    \n",
    "    def delete(self, data, word):\n",
    "        res = self.search(data, word)\n",
    "        if not res: return \"Not Found\"\n",
    "        self._delete_item(data, word)\n",
    "    \n",
    "    def _delete_item(self, data, word):\n",
    "        if len(word) == 1 and self._end in data[word[0]]:\n",
    "            data[word[0]][self._end] = False\n",
    "            return\n",
    "\n",
    "        self._delete_item(data[word[0]], word[1:])\n",
    "            \n",
    "    \n",
    "trie = Trie()\n",
    "data = trie.create('foo', 'bar', 'baz')\n",
    "pprint(data)"
   ]
  },
  {
   "cell_type": "code",
   "execution_count": 7,
   "id": "119ab372",
   "metadata": {},
   "outputs": [],
   "source": []
  },
  {
   "cell_type": "code",
   "execution_count": 8,
   "id": "f8e1cf50",
   "metadata": {},
   "outputs": [
    {
     "name": "stdout",
     "output_type": "stream",
     "text": [
      "False\n",
      "True\n",
      "True\n",
      "{'a': {'b': {'__end__': True}}} ab\n",
      "True\n",
      "{'a': {'b': {'__end__': True}}} ab\n",
      "True\n"
     ]
    }
   ],
   "source": [
    "[\"Trie\",\"search\",\"insert\",\"search\",\"search\",\"startsWith\",\"startsWith\"]\n",
    "[[],[\"ab\"],[\"ab\"],[\"ab\"],[\"ab\"],[\"ab\"],[\"ab\"]]\n",
    "\n",
    "obj = Trie()\n",
    "print(obj.search('ab'))\n",
    "obj.insert('ab')\n",
    "print(obj.search('ab'))\n",
    "print(obj.search('ab'))\n",
    "print(obj.startsWith('ab'))\n",
    "print(obj.startsWith('ab'))"
   ]
  },
  {
   "cell_type": "code",
   "execution_count": null,
   "id": "d48d5e37",
   "metadata": {},
   "outputs": [],
   "source": []
  },
  {
   "cell_type": "code",
   "execution_count": null,
   "id": "4269848b",
   "metadata": {},
   "outputs": [],
   "source": []
  },
  {
   "cell_type": "code",
   "execution_count": null,
   "id": "f4197864",
   "metadata": {},
   "outputs": [],
   "source": []
  },
  {
   "cell_type": "code",
   "execution_count": 17,
   "id": "b6e971df",
   "metadata": {},
   "outputs": [],
   "source": [
    "trie.insert(data, 'bark')\n",
    "trie.insert(data, 'barclays')"
   ]
  },
  {
   "cell_type": "code",
   "execution_count": 18,
   "id": "c3dd1f94",
   "metadata": {},
   "outputs": [
    {
     "name": "stdout",
     "output_type": "stream",
     "text": [
      "{'b': {'a': {'r': {'__end__': True,\n",
      "                   'c': {'l': {'a': {'y': {'s': {'__end__': True}}}}},\n",
      "                   'k': {'__end__': True}},\n",
      "             'z': {'__end__': True}}},\n",
      " 'f': {'o': {'o': {'__end__': True}}}}\n"
     ]
    }
   ],
   "source": [
    "pprint(data)"
   ]
  },
  {
   "cell_type": "code",
   "execution_count": 19,
   "id": "860d18f9",
   "metadata": {},
   "outputs": [
    {
     "data": {
      "text/plain": [
       "False"
      ]
     },
     "execution_count": 19,
     "metadata": {},
     "output_type": "execute_result"
    }
   ],
   "source": [
    "trie.search(data, 'barcla')"
   ]
  },
  {
   "cell_type": "code",
   "execution_count": 20,
   "id": "dd47db47",
   "metadata": {},
   "outputs": [
    {
     "data": {
      "text/plain": [
       "False"
      ]
     },
     "execution_count": 20,
     "metadata": {},
     "output_type": "execute_result"
    }
   ],
   "source": [
    "trie.search(data, 'bam')"
   ]
  },
  {
   "cell_type": "code",
   "execution_count": 21,
   "id": "25a6587e",
   "metadata": {},
   "outputs": [
    {
     "data": {
      "text/plain": [
       "True"
      ]
     },
     "execution_count": 21,
     "metadata": {},
     "output_type": "execute_result"
    }
   ],
   "source": [
    "trie.search(data, 'bar')"
   ]
  },
  {
   "cell_type": "code",
   "execution_count": 22,
   "id": "7cb46635",
   "metadata": {},
   "outputs": [
    {
     "data": {
      "text/plain": [
       "True"
      ]
     },
     "execution_count": 22,
     "metadata": {},
     "output_type": "execute_result"
    }
   ],
   "source": [
    "trie.search(data, 'barclays')"
   ]
  },
  {
   "cell_type": "code",
   "execution_count": 23,
   "id": "615da164",
   "metadata": {},
   "outputs": [
    {
     "data": {
      "text/plain": [
       "True"
      ]
     },
     "execution_count": 23,
     "metadata": {},
     "output_type": "execute_result"
    }
   ],
   "source": [
    "trie.search(data, 'baz')"
   ]
  },
  {
   "cell_type": "code",
   "execution_count": 24,
   "id": "02e7ef33",
   "metadata": {},
   "outputs": [],
   "source": [
    "trie.delete(data, 'baz')"
   ]
  },
  {
   "cell_type": "code",
   "execution_count": 25,
   "id": "2a453500",
   "metadata": {},
   "outputs": [
    {
     "data": {
      "text/plain": [
       "{'f': {'o': {'o': {'__end__': True}}},\n",
       " 'b': {'a': {'r': {'__end__': True,\n",
       "    'k': {'__end__': True},\n",
       "    'c': {'l': {'a': {'y': {'s': {'__end__': True}}}}}},\n",
       "   'z': {'__end__': False}}}}"
      ]
     },
     "execution_count": 25,
     "metadata": {},
     "output_type": "execute_result"
    }
   ],
   "source": [
    "data"
   ]
  },
  {
   "cell_type": "code",
   "execution_count": 26,
   "id": "8a88c01b",
   "metadata": {},
   "outputs": [
    {
     "data": {
      "text/plain": [
       "False"
      ]
     },
     "execution_count": 26,
     "metadata": {},
     "output_type": "execute_result"
    }
   ],
   "source": [
    "trie.search(data, 'baz')"
   ]
  },
  {
   "cell_type": "code",
   "execution_count": null,
   "id": "14697675",
   "metadata": {},
   "outputs": [],
   "source": []
  },
  {
   "cell_type": "markdown",
   "id": "d80d5b1d",
   "metadata": {},
   "source": [
    "### Height Balanced Binary Tree"
   ]
  },
  {
   "cell_type": "code",
   "execution_count": 31,
   "id": "49546d8c",
   "metadata": {},
   "outputs": [],
   "source": [
    "class TreeNode:\n",
    "    def __init__(self, val):\n",
    "        self.val = val\n",
    "        self.left = None\n",
    "        self.right = None"
   ]
  },
  {
   "cell_type": "code",
   "execution_count": null,
   "id": "09214f03",
   "metadata": {},
   "outputs": [],
   "source": []
  },
  {
   "cell_type": "code",
   "execution_count": 36,
   "id": "90d87e99",
   "metadata": {},
   "outputs": [],
   "source": [
    "def height(root: TreeNode):\n",
    "    if root is None: return 0\n",
    "    return 1 + max(height(root.left), height(root.right))\n",
    "\n",
    "def is_balanced(root: TreeNode):\n",
    "    if root is None: return True\n",
    "    \n",
    "    return True if abs(height(root.left) - height(root.right)) < 1 else False\n",
    "    "
   ]
  },
  {
   "cell_type": "code",
   "execution_count": 43,
   "id": "90c2d80e",
   "metadata": {},
   "outputs": [
    {
     "data": {
      "text/plain": [
       "True"
      ]
     },
     "execution_count": 43,
     "metadata": {},
     "output_type": "execute_result"
    }
   ],
   "source": [
    "root = TreeNode(1)\n",
    "root.left = TreeNode(2)\n",
    "root.left.left = TreeNode(20)\n",
    "root.right = TreeNode(3)\n",
    "root.right.left = TreeNode(4)\n",
    "root.right.right = TreeNode(5)\n",
    "is_balanced(root)"
   ]
  },
  {
   "cell_type": "code",
   "execution_count": 44,
   "id": "fd0c751c",
   "metadata": {},
   "outputs": [
    {
     "data": {
      "text/plain": [
       "False"
      ]
     },
     "execution_count": 44,
     "metadata": {},
     "output_type": "execute_result"
    }
   ],
   "source": [
    "root = TreeNode(1)\n",
    "root.left = TreeNode(2)\n",
    "root.right = TreeNode(3)\n",
    "root.right.left = TreeNode(4)\n",
    "root.right.right = TreeNode(5)\n",
    "is_balanced(root)"
   ]
  },
  {
   "cell_type": "code",
   "execution_count": 45,
   "id": "46ad346d",
   "metadata": {},
   "outputs": [
    {
     "data": {
      "text/plain": [
       "3"
      ]
     },
     "execution_count": 45,
     "metadata": {},
     "output_type": "execute_result"
    }
   ],
   "source": [
    "height(root)"
   ]
  },
  {
   "cell_type": "markdown",
   "id": "1a2c18fe",
   "metadata": {},
   "source": [
    "### AVL TREE"
   ]
  },
  {
   "cell_type": "code",
   "execution_count": 46,
   "id": "96ac6415",
   "metadata": {},
   "outputs": [],
   "source": [
    "# Python code to insert a node in AVL tree\n",
    "\n",
    "# Generic tree node class\n",
    "class TreeNode(object):\n",
    "    def __init__(self, val):\n",
    "        self.val = val\n",
    "        self.left = None\n",
    "        self.right = None\n",
    "        self.height = 1\n",
    "\n",
    "# AVL tree class which supports the\n",
    "# Insert operation\n",
    "class AVL_Tree(object):\n",
    "\n",
    "    # Recursive function to insert key in\n",
    "    # subtree rooted with node and returns\n",
    "    # new root of subtree.\n",
    "    def insert(self, root, key):\n",
    "    \n",
    "        # Step 1 - Perform normal BST\n",
    "        if not root:\n",
    "            return TreeNode(key)\n",
    "        elif key < root.val:\n",
    "            root.left = self.insert(root.left, key)\n",
    "        else:\n",
    "            root.right = self.insert(root.right, key)\n",
    "\n",
    "        # Step 2 - Update the height of the\n",
    "        # ancestor node\n",
    "        root.height = 1 + max(self.getHeight(root.left),\n",
    "                        self.getHeight(root.right))\n",
    "\n",
    "        # Step 3 - Get the balance factor\n",
    "        balance = self.getBalance(root)\n",
    "\n",
    "        # Step 4 - If the node is unbalanced,\n",
    "        # then try out the 4 cases\n",
    "        # Case 1 - Left Left\n",
    "        if balance > 1 and key < root.left.val:\n",
    "            return self.rightRotate(root)\n",
    "\n",
    "        # Case 2 - Right Right\n",
    "        if balance < -1 and key > root.right.val:\n",
    "            return self.leftRotate(root)\n",
    "\n",
    "        # Case 3 - Left Right\n",
    "        if balance > 1 and key > root.left.val:\n",
    "            root.left = self.leftRotate(root.left)\n",
    "            return self.rightRotate(root)\n",
    "\n",
    "        # Case 4 - Right Left\n",
    "        if balance < -1 and key < root.right.val:\n",
    "            root.right = self.rightRotate(root.right)\n",
    "            return self.leftRotate(root)\n",
    "\n",
    "        return root\n",
    "\n",
    "    def leftRotate(self, z):\n",
    "\n",
    "        y = z.right\n",
    "        T2 = y.left\n",
    "\n",
    "        # Perform rotation\n",
    "        y.left = z\n",
    "        z.right = T2\n",
    "\n",
    "        # Update heights\n",
    "        z.height = 1 + max(self.getHeight(z.left),\n",
    "                        self.getHeight(z.right))\n",
    "        y.height = 1 + max(self.getHeight(y.left),\n",
    "                        self.getHeight(y.right))\n",
    "\n",
    "        # Return the new root\n",
    "        return y\n",
    "\n",
    "    def rightRotate(self, z):\n",
    "\n",
    "        y = z.left\n",
    "        T3 = y.right\n",
    "\n",
    "        # Perform rotation\n",
    "        y.right = z\n",
    "        z.left = T3\n",
    "\n",
    "        # Update heights\n",
    "        z.height = 1 + max(self.getHeight(z.left),\n",
    "                        self.getHeight(z.right))\n",
    "        y.height = 1 + max(self.getHeight(y.left),\n",
    "                        self.getHeight(y.right))\n",
    "\n",
    "        # Return the new root\n",
    "        return y\n",
    "\n",
    "    def getHeight(self, root):\n",
    "        if not root:\n",
    "            return 0\n",
    "\n",
    "        return root.height\n",
    "\n",
    "    def getBalance(self, root):\n",
    "        if not root:\n",
    "            return 0\n",
    "\n",
    "        return self.getHeight(root.left) - self.getHeight(root.right)\n",
    "\n",
    "    def preOrder(self, root):\n",
    "\n",
    "        if not root:\n",
    "            return\n",
    "\n",
    "        print(\"{0} \".format(root.val), end=\"\")\n",
    "        self.preOrder(root.left)\n",
    "        self.preOrder(root.right)\n",
    "\n",
    "\n"
   ]
  },
  {
   "cell_type": "code",
   "execution_count": 47,
   "id": "69500575",
   "metadata": {},
   "outputs": [
    {
     "name": "stdout",
     "output_type": "stream",
     "text": [
      "Preorder traversal of the constructed AVL tree is\n",
      "30 20 10 25 40 50 \n"
     ]
    }
   ],
   "source": [
    "# Driver program to test above function\n",
    "myTree = AVL_Tree()\n",
    "root = None\n",
    "\n",
    "root = myTree.insert(root, 10)\n",
    "root = myTree.insert(root, 20)\n",
    "root = myTree.insert(root, 30)\n",
    "root = myTree.insert(root, 40)\n",
    "root = myTree.insert(root, 50)\n",
    "root = myTree.insert(root, 25)\n",
    "\n",
    "\"\"\"\n",
    "The constructed AVL Tree would be\n",
    "        30\n",
    "       /  \\\n",
    "      20   40\n",
    "     /  \\    \\\n",
    "    10   25   50\n",
    "\"\"\"\n",
    "\n",
    "# Preorder Traversal\n",
    "print(\"Preorder traversal of the constructed AVL tree is\")\n",
    "myTree.preOrder(root)\n",
    "print()\n"
   ]
  },
  {
   "cell_type": "markdown",
   "id": "14529394",
   "metadata": {},
   "source": [
    "### Reb Black Tree"
   ]
  },
  {
   "cell_type": "code",
   "execution_count": null,
   "id": "1d8958c2",
   "metadata": {},
   "outputs": [],
   "source": []
  },
  {
   "cell_type": "code",
   "execution_count": null,
   "id": "41f3503b",
   "metadata": {},
   "outputs": [],
   "source": []
  },
  {
   "cell_type": "code",
   "execution_count": null,
   "id": "cc7033b2",
   "metadata": {},
   "outputs": [],
   "source": []
  },
  {
   "cell_type": "code",
   "execution_count": null,
   "id": "802f849b",
   "metadata": {},
   "outputs": [],
   "source": []
  },
  {
   "cell_type": "markdown",
   "id": "60b93724",
   "metadata": {},
   "source": [
    "### Red Black Tree"
   ]
  },
  {
   "cell_type": "code",
   "execution_count": 314,
   "id": "609080db",
   "metadata": {},
   "outputs": [],
   "source": [
    "import random\n",
    "\n",
    "\n",
    "class RBNode:\n",
    "    def __init__(self, val):\n",
    "        self.red = False\n",
    "        self.parent = None\n",
    "        self.val = val\n",
    "        self.left = None\n",
    "        self.right = None\n",
    "\n",
    "\n",
    "class RBTree:\n",
    "    def __init__(self):\n",
    "        self.nil = RBNode(0)\n",
    "        self.nil.red = False\n",
    "        self.nil.left = None\n",
    "        self.nil.right = None\n",
    "        self.root = self.nil\n",
    "\n",
    "    def insert(self, val):\n",
    "        # Ordinary Binary Search Insertion\n",
    "        new_node = RBNode(val)\n",
    "        new_node.parent = None\n",
    "        new_node.left = self.nil\n",
    "        new_node.right = self.nil\n",
    "        new_node.red = True  # new node must be red\n",
    "\n",
    "        parent = None\n",
    "        current = self.root\n",
    "        while current != self.nil:\n",
    "            parent = current\n",
    "            if new_node.val < current.val:\n",
    "                current = current.left\n",
    "            elif new_node.val > current.val:\n",
    "                current = current.right\n",
    "            else:\n",
    "                return\n",
    "\n",
    "        # Set the parent and insert the new node\n",
    "        new_node.parent = parent\n",
    "        if parent == None:\n",
    "            self.root = new_node\n",
    "        elif new_node.val < parent.val:\n",
    "            parent.left = new_node\n",
    "        else:\n",
    "            parent.right = new_node\n",
    "\n",
    "        # Fix the tree\n",
    "        self.fix_insert(new_node)\n",
    "\n",
    "    def fix_insert(self, new_node):\n",
    "        while new_node != self.root and new_node.parent.red:\n",
    "            if new_node.parent == new_node.parent.parent.right:\n",
    "                u = new_node.parent.parent.left  # uncle\n",
    "                if u.red:\n",
    "                    u.red = False\n",
    "                    new_node.parent.red = False\n",
    "                    new_node.parent.parent.red = True\n",
    "                    new_node = new_node.parent.parent\n",
    "                else:\n",
    "                    if new_node == new_node.parent.left:\n",
    "                        new_node = new_node.parent\n",
    "                        self.rotate_right(new_node)\n",
    "                    new_node.parent.red = False\n",
    "                    new_node.parent.parent.red = True\n",
    "                    self.rotate_left(new_node.parent.parent)\n",
    "            else:\n",
    "                u = new_node.parent.parent.right  # uncle\n",
    "\n",
    "                if u.red:\n",
    "                    u.red = False\n",
    "                    new_node.parent.red = False\n",
    "                    new_node.parent.parent.red = True\n",
    "                    new_node = new_node.parent.parent\n",
    "                else:\n",
    "                    if new_node == new_node.parent.right:\n",
    "                        new_node = new_node.parent\n",
    "                        self.rotate_left(new_node)\n",
    "                    new_node.parent.red = False\n",
    "                    new_node.parent.parent.red = True\n",
    "                    self.rotate_right(new_node.parent.parent)\n",
    "        self.root.red = False\n",
    "\n",
    "    def exists(self, val):\n",
    "        curr = self.root\n",
    "        while curr != self.nil and val != curr.val:\n",
    "            if val < curr.val:\n",
    "                curr = curr.left\n",
    "            else:\n",
    "                curr = curr.right\n",
    "        return curr\n",
    "\n",
    "    # rotate left at node x\n",
    "    def rotate_left(self, x):\n",
    "        y = x.right\n",
    "        x.right = y.left\n",
    "        if y.left != self.nil:\n",
    "            y.left.parent = x\n",
    "\n",
    "        y.parent = x.parent\n",
    "        if x.parent == None:\n",
    "            self.root = y\n",
    "        elif x == x.parent.left:\n",
    "            x.parent.left = y\n",
    "        else:\n",
    "            x.parent.right = y\n",
    "        y.left = x\n",
    "        x.parent = y\n",
    "\n",
    "    # rotate right at node x\n",
    "    def rotate_right(self, x):\n",
    "        y = x.left\n",
    "        x.left = y.right\n",
    "        if y.right != self.nil:\n",
    "            y.right.parent = x\n",
    "\n",
    "        y.parent = x.parent\n",
    "        if x.parent == None:\n",
    "            self.root = y\n",
    "        elif x == x.parent.right:\n",
    "            x.parent.right = y\n",
    "        else:\n",
    "            x.parent.left = y\n",
    "        y.right = x\n",
    "        x.parent = y\n",
    "\n",
    "    def __repr__(self):\n",
    "        lines = []\n",
    "        print_tree(self.root, lines)\n",
    "        return '\\n'.join(lines)\n",
    "\n",
    "\n",
    "def print_tree(node, lines, level=0):\n",
    "    if node.val != 0:\n",
    "        print_tree(node.left, lines, level + 1)\n",
    "        lines.append('-' * 4 * level + '> ' +\n",
    "                     str(node.val) + ' ' + ('r' if node.red else 'b'))\n",
    "        print_tree(node.right, lines, level + 1)\n",
    "\n",
    "\n",
    "def get_nums(num):\n",
    "    random.seed(1)\n",
    "    nums = []\n",
    "    for _ in range(num):\n",
    "        nums.append(random.randint(1, num-1))\n",
    "    return nums\n",
    "\n",
    "\n",
    "def main():\n",
    "    tree = RBTree()\n",
    "    for x in range(1, 10):\n",
    "        tree.insert(x)\n",
    "    print(tree)\n",
    "    return tree\n",
    "\n"
   ]
  },
  {
   "cell_type": "code",
   "execution_count": 315,
   "id": "ec0606cd",
   "metadata": {},
   "outputs": [
    {
     "name": "stdout",
     "output_type": "stream",
     "text": [
      "--------> 1 b\n",
      "----> 2 r\n",
      "--------> 3 b\n",
      "> 4 b\n",
      "--------> 5 b\n",
      "----> 6 r\n",
      "------------> 7 r\n",
      "--------> 8 b\n",
      "------------> 9 r\n"
     ]
    }
   ],
   "source": [
    "tree = main()"
   ]
  },
  {
   "cell_type": "code",
   "execution_count": null,
   "id": "b2450c59",
   "metadata": {},
   "outputs": [],
   "source": []
  },
  {
   "cell_type": "markdown",
   "id": "e87feb04",
   "metadata": {},
   "source": [
    "### Problems"
   ]
  },
  {
   "cell_type": "code",
   "execution_count": 40,
   "id": "2a139a0d",
   "metadata": {},
   "outputs": [],
   "source": [
    "from typing import Optional, List"
   ]
  },
  {
   "cell_type": "markdown",
   "id": "2bdf3809",
   "metadata": {},
   "source": [
    "#### Path sum"
   ]
  },
  {
   "cell_type": "code",
   "execution_count": 41,
   "id": "0bd7439b",
   "metadata": {},
   "outputs": [],
   "source": [
    "class Solution:\n",
    "    def hasPathSum(self, root: Optional[TreeNode], targetSum: int) -> bool:\n",
    "        def findSum(root, targetSum):\n",
    "            if root is not None:\n",
    "                targetSum -= root.val\n",
    "                if root.left is None and root.right is None and targetSum == 0:\n",
    "                    return True\n",
    "                return findSum(root.left, targetSum) or findSum(root.right, targetSum)\n",
    "            else:\n",
    "                return False\n",
    "        \n",
    "        return findSum(root, targetSum)"
   ]
  },
  {
   "cell_type": "markdown",
   "id": "4e41215d",
   "metadata": {},
   "source": [
    "#### Path Sum 2"
   ]
  },
  {
   "cell_type": "code",
   "execution_count": 38,
   "id": "8d196e87",
   "metadata": {},
   "outputs": [],
   "source": [
    "class Solution:\n",
    "    def pathSum(self, root: Optional[TreeNode], targetSum: int) -> List[List[int]]:\n",
    "        if root is None: return []\n",
    "\n",
    "        out = []\n",
    "\n",
    "        def helper(root, path):\n",
    "            if root.left is None and root.right is None and sum(path) == targetSum:\n",
    "                out.append(path)\n",
    "            \n",
    "            if root.left is not None:\n",
    "                helper(root.left, path + [root.left.val])\n",
    "            if root.right is not None:\n",
    "                helper(root.right, path + [root.right.val])\n",
    "\n",
    "        helper(root, [root.val])\n",
    "        return out\n",
    "\n",
    "s = Solution()"
   ]
  },
  {
   "cell_type": "code",
   "execution_count": 39,
   "id": "7d8f4c57",
   "metadata": {},
   "outputs": [
    {
     "data": {
      "text/plain": [
       "[[5, 4, 11, 2], [5, 8, 4, 5]]"
      ]
     },
     "execution_count": 39,
     "metadata": {},
     "output_type": "execute_result"
    }
   ],
   "source": [
    "root = TreeNode(5)\n",
    "root.left = TreeNode(4)\n",
    "root.right = TreeNode(8)\n",
    "root.left.left = TreeNode(11)\n",
    "root.left.left.left = TreeNode(7)\n",
    "root.left.left.right = TreeNode(2)\n",
    "\n",
    "root.right.left = TreeNode(13)\n",
    "root.right.right = TreeNode(4)\n",
    "root.right.right.left = TreeNode(5)\n",
    "root.right.right.right = TreeNode(1)\n",
    "s.pathSum(root, 22)"
   ]
  },
  {
   "cell_type": "markdown",
   "id": "140a1801",
   "metadata": {},
   "source": [
    "### Find all ancestors of a node\n",
    "\n",
    "              1\n",
    "          /      \\\n",
    "         2        3\n",
    "       /   \\     /  \\\n",
    "      4     5   6     7\n",
    "                  \\     \\\n",
    "                    8     9\n",
    "\n",
    "```\n",
    "find_ancestor(root, target)\n",
    "\n",
    "in: 9\n",
    "out: 7, 3, 1\n",
    "\n",
    "in: 5\n",
    "out: 2, 1\n",
    "```"
   ]
  },
  {
   "cell_type": "code",
   "execution_count": 6,
   "id": "aac7b6d3",
   "metadata": {},
   "outputs": [],
   "source": [
    "def find_ancestors(root, target):\n",
    "    def helper(root, container=[]):\n",
    "        if root is not None and root.val == target:\n",
    "            return container[::-1]\n",
    "        elif root is None:\n",
    "            return []\n",
    "        return helper(root.left, container+[root.val]) or helper(root.right, container+[root.val])\n",
    "    return helper(root, [])\n",
    "\n"
   ]
  },
  {
   "cell_type": "code",
   "execution_count": 7,
   "id": "59bcdcb2",
   "metadata": {},
   "outputs": [],
   "source": [
    "root = TreeNode(1)\n",
    "root.left = TreeNode(2)\n",
    "root.right = TreeNode(3)\n",
    "root.left.left = TreeNode(4)\n",
    "root.left.right = TreeNode(5)\n",
    "root.right.left = TreeNode(6)\n",
    "root.right.right = TreeNode(7)\n",
    "root.right.left.right = TreeNode(8)\n",
    "root.right.right.right = TreeNode(9)\n",
    "\n"
   ]
  },
  {
   "cell_type": "code",
   "execution_count": 8,
   "id": "2bca603b",
   "metadata": {},
   "outputs": [
    {
     "data": {
      "text/plain": [
       "[7, 3, 1]"
      ]
     },
     "execution_count": 8,
     "metadata": {},
     "output_type": "execute_result"
    }
   ],
   "source": [
    "find_ancestors(root, 9)"
   ]
  },
  {
   "cell_type": "code",
   "execution_count": 9,
   "id": "bc8d5134",
   "metadata": {},
   "outputs": [
    {
     "data": {
      "text/plain": [
       "[2, 1]"
      ]
     },
     "execution_count": 9,
     "metadata": {},
     "output_type": "execute_result"
    }
   ],
   "source": [
    "find_ancestors(root, 5)"
   ]
  },
  {
   "cell_type": "code",
   "execution_count": 10,
   "id": "75403d0e",
   "metadata": {},
   "outputs": [],
   "source": [
    "import queue"
   ]
  },
  {
   "cell_type": "code",
   "execution_count": 12,
   "id": "3e20c1f0",
   "metadata": {},
   "outputs": [],
   "source": [
    "q = queue.PriorityQueue()"
   ]
  },
  {
   "cell_type": "code",
   "execution_count": 13,
   "id": "6d365800",
   "metadata": {},
   "outputs": [
    {
     "name": "stdout",
     "output_type": "stream",
     "text": [
      "\u001b[0;31mSignature:\u001b[0m \u001b[0mq\u001b[0m\u001b[0;34m.\u001b[0m\u001b[0mput\u001b[0m\u001b[0;34m(\u001b[0m\u001b[0mitem\u001b[0m\u001b[0;34m,\u001b[0m \u001b[0mblock\u001b[0m\u001b[0;34m=\u001b[0m\u001b[0;32mTrue\u001b[0m\u001b[0;34m,\u001b[0m \u001b[0mtimeout\u001b[0m\u001b[0;34m=\u001b[0m\u001b[0;32mNone\u001b[0m\u001b[0;34m)\u001b[0m\u001b[0;34m\u001b[0m\u001b[0;34m\u001b[0m\u001b[0m\n",
      "\u001b[0;31mDocstring:\u001b[0m\n",
      "Put an item into the queue.\n",
      "\n",
      "If optional args 'block' is true and 'timeout' is None (the default),\n",
      "block if necessary until a free slot is available. If 'timeout' is\n",
      "a non-negative number, it blocks at most 'timeout' seconds and raises\n",
      "the Full exception if no free slot was available within that time.\n",
      "Otherwise ('block' is false), put an item on the queue if a free slot\n",
      "is immediately available, else raise the Full exception ('timeout'\n",
      "is ignored in that case).\n",
      "\u001b[0;31mFile:\u001b[0m      /Library/Frameworks/Python.framework/Versions/3.8/lib/python3.8/queue.py\n",
      "\u001b[0;31mType:\u001b[0m      method\n"
     ]
    }
   ],
   "source": [
    "q.put?"
   ]
  },
  {
   "cell_type": "code",
   "execution_count": null,
   "id": "ce12f578",
   "metadata": {},
   "outputs": [],
   "source": []
  }
 ],
 "metadata": {
  "kernelspec": {
   "display_name": "Python 3 (ipykernel)",
   "language": "python",
   "name": "python3"
  },
  "language_info": {
   "codemirror_mode": {
    "name": "ipython",
    "version": 3
   },
   "file_extension": ".py",
   "mimetype": "text/x-python",
   "name": "python",
   "nbconvert_exporter": "python",
   "pygments_lexer": "ipython3",
   "version": "3.8.5"
  }
 },
 "nbformat": 4,
 "nbformat_minor": 5
}
