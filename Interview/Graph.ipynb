{
 "cells": [
  {
   "cell_type": "code",
   "execution_count": 1,
   "metadata": {},
   "outputs": [],
   "source": [
    "graph = {\n",
    "    \"a\": [\"b\", \"c\"],\n",
    "    \"b\": [\"a\", \"d\", \"e\"],\n",
    "    \"c\": [\"a\", \"d\"],\n",
    "    \"d\": [\"b\", \"c\"],\n",
    "    \"e\": [\"b\", \"f\"],\n",
    "    \"f\": [\"e\"]\n",
    "}"
   ]
  },
  {
   "cell_type": "markdown",
   "metadata": {},
   "source": [
    "```\n",
    "a ---------- c\n",
    "|            |\n",
    "|            |\n",
    "b ---------- d\n",
    "|\n",
    "|\n",
    "e ---------- f\n",
    "```"
   ]
  },
  {
   "cell_type": "code",
   "execution_count": 2,
   "metadata": {},
   "outputs": [],
   "source": [
    "def dfs(graph, src):\n",
    "    stack = [src]\n",
    "    seen = set()\n",
    "\n",
    "    while stack:\n",
    "        node = stack.pop()\n",
    "        seen.add(node)\n",
    "        print(node)\n",
    "        nodes = [n for n in graph[node] if n not in seen]\n",
    "        stack.extend(nodes)\n",
    "\n"
   ]
  },
  {
   "cell_type": "code",
   "execution_count": 3,
   "metadata": {},
   "outputs": [
    {
     "name": "stdout",
     "output_type": "stream",
     "text": [
      "a\n",
      "c\n",
      "d\n",
      "b\n",
      "e\n",
      "f\n",
      "b\n"
     ]
    }
   ],
   "source": [
    "dfs(graph, 'a')"
   ]
  },
  {
   "cell_type": "code",
   "execution_count": 6,
   "metadata": {},
   "outputs": [],
   "source": [
    "def bfs(graph, src):\n",
    "    q = [src]\n",
    "    seen = set()\n",
    "\n",
    "    while q:\n",
    "        node = q.pop(0)\n",
    "        seen.add(node)\n",
    "        print(node)\n",
    "        nodes = [n for n in graph[node] if n not in seen]\n",
    "        q.extend(nodes)\n",
    "\n"
   ]
  },
  {
   "cell_type": "code",
   "execution_count": 7,
   "metadata": {},
   "outputs": [
    {
     "name": "stdout",
     "output_type": "stream",
     "text": [
      "a\n",
      "b\n",
      "c\n",
      "d\n",
      "e\n",
      "d\n",
      "f\n"
     ]
    }
   ],
   "source": [
    "bfs(graph, 'a')"
   ]
  },
  {
   "cell_type": "code",
   "execution_count": 8,
   "metadata": {},
   "outputs": [],
   "source": [
    "graph = {\n",
    "    \"a\": [\"b\", \"c\"],\n",
    "    \"b\": [\"e\"],\n",
    "    \"c\": [\"d\"],\n",
    "    \"d\": [],\n",
    "    \"e\": [\"f\"],\n",
    "    \"f\": []\n",
    "}"
   ]
  },
  {
   "cell_type": "markdown",
   "metadata": {},
   "source": [
    "# Has Path"
   ]
  },
  {
   "cell_type": "markdown",
   "metadata": {},
   "source": [
    "```\n",
    "a ---------- c\n",
    "|            |\n",
    "|            |\n",
    "b            d\n",
    "|\n",
    "|\n",
    "e ---------- f\n",
    "```"
   ]
  },
  {
   "cell_type": "code",
   "execution_count": 11,
   "metadata": {},
   "outputs": [],
   "source": [
    "def has_path(graph, src, dst):\n",
    "    q = [src]\n",
    "    while q:\n",
    "        node = q.pop(0)\n",
    "        if node == dst: return True\n",
    "        q.extend(graph[node])\n",
    "    return False\n"
   ]
  },
  {
   "cell_type": "code",
   "execution_count": 14,
   "metadata": {},
   "outputs": [
    {
     "data": {
      "text/plain": [
       "False"
      ]
     },
     "execution_count": 14,
     "metadata": {},
     "output_type": "execute_result"
    }
   ],
   "source": [
    "has_path(graph, 'b', 'd')"
   ]
  },
  {
   "cell_type": "markdown",
   "metadata": {},
   "source": [
    "# undirected path\n",
    "- Write a function, undirected_path, that takes in a list of edges for an undirected graph and two nodes (node_A, node_B). The function should return a boolean indicating whether or not there exists a path between node_A and node_B."
   ]
  },
  {
   "cell_type": "code",
   "execution_count": 17,
   "metadata": {},
   "outputs": [
    {
     "data": {
      "text/plain": [
       "True"
      ]
     },
     "execution_count": 17,
     "metadata": {},
     "output_type": "execute_result"
    }
   ],
   "source": [
    "def undirected_path(edges, node_A, node_B):\n",
    "  def make_graph(edges):\n",
    "    graph = {}\n",
    "    for edge in edges:\n",
    "      a,b = edge\n",
    "      if a not in graph:\n",
    "        graph[a] = [b]\n",
    "      else:\n",
    "        graph[a].append(b)\n",
    "        \n",
    "      if b not in graph:\n",
    "        graph[b] = [a]\n",
    "      else:\n",
    "        graph[b].append(a)\n",
    "      \n",
    "    return graph\n",
    "  \n",
    "  q = [node_A]\n",
    "  seen = set(node_A)\n",
    "  graph = make_graph(edges)\n",
    "  while q:\n",
    "    node = q.pop(0)\n",
    "    seen.add(node)\n",
    "    if node == node_B: return True\n",
    "    q.extend([i for i in graph[node] if i not in seen])\n",
    "    \n",
    "  return False\n",
    "  \n",
    "  print(make_graph(edges))\n",
    "  \n",
    "  \n",
    "edges = [\n",
    "  ('i', 'j'),\n",
    "  ('k', 'i'),\n",
    "  ('m', 'k'),\n",
    "  ('k', 'l'),\n",
    "  ('o', 'n')\n",
    "]\n",
    "\n",
    "undirected_path(edges, 'j', 'm')\n",
    "      "
   ]
  },
  {
   "cell_type": "markdown",
   "metadata": {},
   "source": [
    "# Connected Components Count\n",
    "- Write a function, connected_components_count, that takes in the adjacency list of an undirected graph. The function should return the number of connected components within the graph."
   ]
  },
  {
   "cell_type": "code",
   "execution_count": 18,
   "metadata": {},
   "outputs": [
    {
     "data": {
      "text/plain": [
       "2"
      ]
     },
     "execution_count": 18,
     "metadata": {},
     "output_type": "execute_result"
    }
   ],
   "source": [
    "def connected_components_count(graph):\n",
    "  seen = set()\n",
    "\n",
    "  def find_component(graph, src, seen):\n",
    "    q = [src]\n",
    "    while q:\n",
    "      node = q.pop(0)\n",
    "      seen.add(node)\n",
    "      # if node == node_B: return True\n",
    "      q.extend([i for i in graph[node] if i not in seen])\n",
    "\n",
    "  count = 0\n",
    "  for node in graph:\n",
    "    if node not in seen:\n",
    "      find_component(graph, node, seen)\n",
    "      count += 1\n",
    "  return count\n",
    "\n",
    "connected_components_count({\n",
    "  0: [8, 1, 5],\n",
    "  1: [0],\n",
    "  5: [0, 8],\n",
    "  8: [0, 5],\n",
    "  2: [3, 4],\n",
    "  3: [2, 4],\n",
    "  4: [3, 2]\n",
    "}) # -> 2\n"
   ]
  },
  {
   "cell_type": "markdown",
   "metadata": {},
   "source": [
    "# Largest Component\n",
    "- Write a function, largest_component, that takes in the adjacency list of an undirected graph. The function should return the size of the largest connected component in the graph."
   ]
  },
  {
   "cell_type": "code",
   "execution_count": null,
   "metadata": {},
   "outputs": [],
   "source": [
    "def largest_component(graph):\n",
    "  seen = set()\n",
    "\n",
    "  def find_component(graph, src, seen):\n",
    "    seenHere = set()\n",
    "    q = [src]\n",
    "    while q:\n",
    "      node = q.pop(0)\n",
    "      seen.add(node)\n",
    "      seenHere.add(node)\n",
    "      # if node == node_B: return True\n",
    "      q.extend([i for i in graph[node] if i not in seen])\n",
    "    return len(seenHere)\n",
    "\n",
    "  countMax = 0\n",
    "  for node in graph:\n",
    "    if node not in seen:\n",
    "      count = find_component(graph, node, seen)\n",
    "      countMax = max(countMax, count)\n",
    "  return countMax\n",
    "\n",
    "print(largest_component({\n",
    "  0: [8, 1, 5],\n",
    "  1: [0],\n",
    "  5: [0, 8],\n",
    "  8: [0, 5],\n",
    "  2: [3, 4],\n",
    "  3: [2, 4],\n",
    "  4: [3, 2]\n",
    "})) # -> 2"
   ]
  },
  {
   "cell_type": "markdown",
   "metadata": {},
   "source": [
    "# Shortest Path\n",
    "- Write a function, shortest_path, that takes in a list of edges for an undirected graph and two nodes (node_A, node_B). The function should return the length of the shortest path between A and B. Consider the length as the number of edges in the path, not the number of nodes. If there is no path between A and B, then return -1."
   ]
  },
  {
   "cell_type": "code",
   "execution_count": 20,
   "metadata": {},
   "outputs": [
    {
     "data": {
      "text/plain": [
       "2"
      ]
     },
     "execution_count": 20,
     "metadata": {},
     "output_type": "execute_result"
    }
   ],
   "source": [
    "def shortest_path(edges, node_A, node_B):\n",
    "  if node_A == node_B: return 0\n",
    "  def make_graph(edges):\n",
    "    graph = {}\n",
    "    for edge in edges:\n",
    "      a,b = edge\n",
    "      if a not in graph:\n",
    "        graph[a] = [b]\n",
    "      else:\n",
    "        graph[a].append(b)\n",
    "        \n",
    "      if b not in graph:\n",
    "        graph[b] = [a]\n",
    "      else:\n",
    "        graph[b].append(a)\n",
    "      \n",
    "    return graph\n",
    "  graph = make_graph(edges)\n",
    "  \n",
    "  seen = set()\n",
    "  q = [(node_A, 0)]\n",
    "  out = 0\n",
    "  while q:\n",
    "    node = q.pop(0)\n",
    "    if node[0] == node_B: return node[1]\n",
    "    if node[0] not in seen:\n",
    "      seen.add(node[0])\n",
    "      q.extend([(i, node[1]+1) for i in graph[node[0]] if i not in seen])\n",
    "      \n",
    "  return -1\n",
    "      \n",
    "    \n",
    "edges = [\n",
    "  ['w', 'x'],\n",
    "  ['x', 'y'],\n",
    "  ['z', 'y'],\n",
    "  ['z', 'v'],\n",
    "  ['w', 'v']\n",
    "]\n",
    "\n",
    "shortest_path(edges, 'w', 'z')"
   ]
  },
  {
   "cell_type": "markdown",
   "metadata": {},
   "source": [
    "# island count\n",
    "- Write a function, island_count, that takes in a grid containing Ws and Ls. W represents water and L represents land. The function should return the number of islands on the grid. An island is a vertically or horizontally connected region of land."
   ]
  },
  {
   "cell_type": "code",
   "execution_count": 23,
   "metadata": {},
   "outputs": [
    {
     "name": "stdout",
     "output_type": "stream",
     "text": [
      "4\n"
     ]
    }
   ],
   "source": [
    "def island_count(grid):\n",
    "  if not grid: return 0\n",
    "  seen = set()\n",
    "  n,m = len(grid), len(grid[0])\n",
    "  count = 0\n",
    "  \n",
    "  for r in range(n+1):\n",
    "    for c in range(m+1):\n",
    "    #   print(r,c)\n",
    "      if find_islands(grid, r,c,seen):\n",
    "        # print(\"->\", r,c)\n",
    "        count += 1\n",
    "  return count\n",
    "\n",
    "def find_islands(grid, i,j, seen):\n",
    "    row_inbounds = 0 <= i < len(grid)\n",
    "    col_inbounds = 0 <= j < len(grid[0])\n",
    "    if not row_inbounds or not col_inbounds:\n",
    "      return False\n",
    "    if grid[i][j] == \"W\": return False\n",
    "    if (i,j) in seen: return False\n",
    "    seen.add((i,j))\n",
    "\n",
    "    find_islands(grid, i-1, j, seen)\n",
    "    find_islands(grid, i+1, j, seen)\n",
    "    find_islands(grid, i, j-1, seen)\n",
    "    find_islands(grid, i, j+1, seen)\n",
    "    return True\n",
    "\n",
    "grid = [\n",
    "  ['W', 'L', 'W', 'W', 'W'],\n",
    "  ['W', 'L', 'W', 'W', 'W'],\n",
    "  ['W', 'W', 'W', 'L', 'W'],\n",
    "  ['W', 'W', 'L', 'L', 'W'],\n",
    "  ['L', 'W', 'W', 'L', 'L'],\n",
    "  ['L', 'L', 'W', 'W', 'W'],\n",
    "]\n",
    "grid1 = [\n",
    "  ['L', 'W', 'W', 'L', 'W'],\n",
    "  ['L', 'W', 'W', 'L', 'L'],\n",
    "  ['W', 'L', 'W', 'L', 'W'],\n",
    "  ['W', 'W', 'W', 'W', 'W'],\n",
    "  ['W', 'W', 'L', 'L', 'L'],\n",
    "]\n",
    "\n",
    "print(island_count(grid1))\n",
    "  "
   ]
  },
  {
   "cell_type": "markdown",
   "metadata": {},
   "source": [
    "# minimum island\n",
    "- Write a function, minimum_island, that takes in a grid containing Ws and Ls. W represents water and L represents land. The function should return the size of the smallest island. An island is a vertically or horizontally connected region of land.\n",
    "\n",
    "You may assume that the grid contains at least one island."
   ]
  },
  {
   "cell_type": "code",
   "execution_count": null,
   "metadata": {},
   "outputs": [],
   "source": [
    "def minimum_island(grid):\n",
    "  if not grid: return 0\n",
    "  seen = set()\n",
    "  n,m = len(grid), len(grid[0])\n",
    "  count = float('inf')\n",
    "  \n",
    "  for r in range(n+1):\n",
    "    for c in range(m+1):\n",
    "    #   print(r,c)\n",
    "      size = find_islands(grid, r,c,seen)\n",
    "      if size > 0:\n",
    "        count = min(size, count)\n",
    "        # print(\"->\", r,c)\n",
    "  return count\n",
    "\n",
    "def find_islands(grid, i,j, seen):\n",
    "    row_inbounds = 0 <= i < len(grid)\n",
    "    col_inbounds = 0 <= j < len(grid[0])\n",
    "    if not row_inbounds or not col_inbounds:\n",
    "      return 0\n",
    "    if grid[i][j] == \"W\": return 0\n",
    "    if (i,j) in seen: return 0\n",
    "    seen.add((i,j))\n",
    "\n",
    "    size = 1\n",
    "    size += find_islands(grid, i-1, j, seen)\n",
    "    size += find_islands(grid, i+1, j, seen)\n",
    "    size += find_islands(grid, i, j-1, seen)\n",
    "    size += find_islands(grid, i, j+1, seen)\n",
    "    return size\n",
    "  \n",
    "grid = [\n",
    "  ['W', 'L', 'W', 'W', 'W'],\n",
    "  ['W', 'L', 'W', 'W', 'W'],\n",
    "  ['W', 'W', 'W', 'L', 'W'],\n",
    "  ['W', 'W', 'L', 'L', 'W'],\n",
    "  ['L', 'W', 'W', 'L', 'L'],\n",
    "  ['L', 'L', 'W', 'W', 'W'],\n",
    "]\n",
    "\n",
    "print(minimum_island(grid))"
   ]
  }
 ],
 "metadata": {
  "interpreter": {
   "hash": "aee8b7b246df8f9039afb4144a1f6fd8d2ca17a180786b69acc140d282b71a49"
  },
  "kernelspec": {
   "display_name": "Python 3.8.5 64-bit",
   "language": "python",
   "name": "python3"
  },
  "language_info": {
   "codemirror_mode": {
    "name": "ipython",
    "version": 3
   },
   "file_extension": ".py",
   "mimetype": "text/x-python",
   "name": "python",
   "nbconvert_exporter": "python",
   "pygments_lexer": "ipython3",
   "version": "3.8.5"
  },
  "orig_nbformat": 4
 },
 "nbformat": 4,
 "nbformat_minor": 2
}
