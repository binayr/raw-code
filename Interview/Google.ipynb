{
 "cells": [
  {
   "cell_type": "markdown",
   "id": "8b611b90",
   "metadata": {},
   "source": [
    "```\n",
    "d = {\n",
    "    Rob : [A, B, C]\n",
    "    A : [B, C, D, E, Rob]\n",
    "    B : [A, C, D, F, Rob]\n",
    "    C : [A, B, J, Rob]\n",
    "    D : [B, A, F]\n",
    "    G : [H, J]\n",
    "    J : [H, G, K, M]\n",
    "}\n",
    " \n",
    "FriendSuggest(Rob, 2) = [D, E, F, J, G, K, M]\n",
    "```\n"
   ]
  },
  {
   "cell_type": "code",
   "execution_count": 56,
   "id": "94b33a26",
   "metadata": {},
   "outputs": [
    {
     "data": {
      "text/plain": [
       "{'Rob': ['A', 'B', 'C'],\n",
       " 'A': ['B', 'C', 'D', 'E', 'Rob'],\n",
       " 'B': ['A', 'C', 'D', 'F', 'Rob'],\n",
       " 'C': ['A', 'B', 'J', 'Rob'],\n",
       " 'D': ['B', 'A', 'F'],\n",
       " 'G': ['H', 'J'],\n",
       " 'J': ['H', 'G', 'K', 'M'],\n",
       " 'M': ['X', 'Y']}"
      ]
     },
     "execution_count": 56,
     "metadata": {},
     "output_type": "execute_result"
    }
   ],
   "source": [
    "d = {\n",
    "    \"Rob\" : [\"A\", \"B\", \"C\"],\n",
    "    \"A\" : [\"B\", \"C\", \"D\", \"E\", \"Rob\"],\n",
    "    \"B\" : [\"A\", \"C\", \"D\", \"F\", \"Rob\"],\n",
    "    \"C\" : [\"A\", \"B\", \"J\", \"Rob\"],\n",
    "    \"D\" : [\"B\", \"A\", \"F\"],\n",
    "    \"G\" : [\"H\", \"J\"],\n",
    "    \"J\" : [\"H\", \"G\", \"K\", \"M\"],\n",
    "    \"M\" : [\"X\", \"Y\"]\n",
    "}\n",
    "d"
   ]
  },
  {
   "cell_type": "code",
   "execution_count": 59,
   "id": "9e0e71c1",
   "metadata": {},
   "outputs": [],
   "source": [
    "def first_order_friends(db, name):\n",
    "    out = set()\n",
    "    exclude = set([name] + db[name])\n",
    "    for friend in db[name]:\n",
    "        if friend in db:\n",
    "            out = out.union(set(db[friend]))\n",
    "    out = out - exclude\n",
    "    return out\n",
    "\n",
    "def get_second_order_friend(db, name):\n",
    "    out = set()\n",
    "    for friend in db[name]:\n",
    "        out = out.union(first_order_friends(db, friend))\n",
    "    return list(out)"
   ]
  },
  {
   "cell_type": "code",
   "execution_count": 60,
   "id": "84c32bb6",
   "metadata": {},
   "outputs": [
    {
     "data": {
      "text/plain": [
       "['J', 'K', 'F', 'G', 'M', 'H', 'D', 'E']"
      ]
     },
     "execution_count": 60,
     "metadata": {},
     "output_type": "execute_result"
    }
   ],
   "source": [
    "get_second_order_friend(d, \"Rob\")"
   ]
  },
  {
   "cell_type": "code",
   "execution_count": null,
   "id": "f13ae826",
   "metadata": {},
   "outputs": [],
   "source": []
  },
  {
   "cell_type": "code",
   "execution_count": null,
   "id": "37b9d9d3",
   "metadata": {},
   "outputs": [],
   "source": []
  },
  {
   "cell_type": "code",
   "execution_count": null,
   "id": "86770dfd",
   "metadata": {},
   "outputs": [],
   "source": []
  },
  {
   "cell_type": "code",
   "execution_count": null,
   "id": "ae15cdce",
   "metadata": {},
   "outputs": [],
   "source": []
  },
  {
   "cell_type": "code",
   "execution_count": null,
   "id": "1c3e3e4a",
   "metadata": {},
   "outputs": [],
   "source": []
  },
  {
   "cell_type": "code",
   "execution_count": null,
   "id": "aef29049",
   "metadata": {},
   "outputs": [],
   "source": []
  },
  {
   "cell_type": "code",
   "execution_count": null,
   "id": "00a2a8b4",
   "metadata": {},
   "outputs": [],
   "source": []
  },
  {
   "cell_type": "code",
   "execution_count": 1,
   "id": "faac224f",
   "metadata": {},
   "outputs": [
    {
     "ename": "IndentationError",
     "evalue": "expected an indented block (3202375321.py, line 3)",
     "output_type": "error",
     "traceback": [
      "\u001b[0;36m  File \u001b[0;32m\"/var/folders/73/zb97djqs0vl0rlrb9xlkdl9w0000gn/T/ipykernel_99815/3202375321.py\"\u001b[0;36m, line \u001b[0;32m3\u001b[0m\n\u001b[0;31m    for j in d[i]:\u001b[0m\n\u001b[0m    ^\u001b[0m\n\u001b[0;31mIndentationError\u001b[0m\u001b[0;31m:\u001b[0m expected an indented block\n"
     ]
    }
   ],
   "source": [
    "def fetch_suggest_list(d,l,already_friends):\n",
    "    for i in l:\n",
    "    for j in d[i]:\n",
    "        if j not in already_friends and j not in suggest_list:\n",
    "            suggest_list.append(j)\n",
    "    return suggest_list\n",
    "\n",
    "def FriendSuggest(person, n):\n",
    "    #we find the list of Rob first\n",
    "    # Rob - [A,B,C]\n",
    "    try:\n",
    "        l = d[person]\n",
    "    except:\n",
    "        print(\"The person is not present in the list\")\n",
    "\n",
    "    for i in range(0,n):\n",
    "        suggest_list = []\n",
    "        # person + friends\n",
    "        already_friends = l\n",
    "\n",
    "    if i != n-1:\n",
    "        already_friends = l.append(person)\n",
    "        l = fetch_suggest_list(d,l,already_friends)\n",
    "\n"
   ]
  },
  {
   "cell_type": "code",
   "execution_count": 5,
   "id": "c4f05f5a",
   "metadata": {},
   "outputs": [],
   "source": [
    "from typing import NewType\n",
    "\n",
    "UserId = NewType('UserId', int)\n",
    "some_id = UserId(524313)"
   ]
  },
  {
   "cell_type": "code",
   "execution_count": 6,
   "id": "3a79af2c",
   "metadata": {},
   "outputs": [
    {
     "data": {
      "text/plain": [
       "524313"
      ]
     },
     "execution_count": 6,
     "metadata": {},
     "output_type": "execute_result"
    }
   ],
   "source": [
    "some_id"
   ]
  },
  {
   "cell_type": "code",
   "execution_count": 7,
   "id": "05c94720",
   "metadata": {},
   "outputs": [],
   "source": [
    "some_id = UserId(5243.13)"
   ]
  },
  {
   "cell_type": "code",
   "execution_count": 8,
   "id": "cf0aa091",
   "metadata": {},
   "outputs": [
    {
     "data": {
      "text/plain": [
       "5243.13"
      ]
     },
     "execution_count": 8,
     "metadata": {},
     "output_type": "execute_result"
    }
   ],
   "source": [
    "some_id"
   ]
  },
  {
   "cell_type": "code",
   "execution_count": 9,
   "id": "e2a290b5",
   "metadata": {},
   "outputs": [],
   "source": [
    "output = UserId(23413) + UserId(54341)"
   ]
  },
  {
   "cell_type": "code",
   "execution_count": 10,
   "id": "1c383fb3",
   "metadata": {},
   "outputs": [
    {
     "data": {
      "text/plain": [
       "77754"
      ]
     },
     "execution_count": 10,
     "metadata": {},
     "output_type": "execute_result"
    }
   ],
   "source": [
    "output"
   ]
  },
  {
   "cell_type": "code",
   "execution_count": 24,
   "id": "295a2195",
   "metadata": {},
   "outputs": [],
   "source": [
    "from dataclasses import dataclass\n",
    "from decimal import Decimal\n",
    "import logging\n",
    "from enum import IntEnum\n",
    "from typing import Any, NewType\n",
    "\n",
    "\n",
    "logger = logging.getLogger(__name__)\n",
    "\n",
    "\n",
    "AccountNo = NewType(\"AccountNo\", str)\n",
    "\n",
    "\n",
    "class CountryNotSupportedException(Exception):\n",
    "    pass\n",
    "\n",
    "\n",
    "class AwardType(IntEnum):\n",
    "    CASH = 1\n",
    "    VOUCHER = 2\n",
    "\n",
    "\n",
    "@dataclass(frozen=True)\n",
    "class Cash50Eur:\n",
    "    type: AwardType = AwardType.CASH\n",
    "    points: int = 1000\n",
    "    amount: int = 50\n",
    "\n",
    "\n",
    "@dataclass(frozen=True)\n",
    "class Voucher:\n",
    "    type: AwardType = AwardType.VOUCHER\n",
    "    points: int = 2000\n",
    "    amount: int = 100\n",
    "    description: str = \"Amazon Gift Card\"\n",
    "\n",
    "\n",
    "class AbstractClass(object):\n",
    "    pass\n",
    "\n",
    "\n",
    "class BaseUser(AbstractClass):\n",
    "    def __init__(self, points, id, account_no):\n",
    "        self._points = points\n",
    "        self.id = id\n",
    "        self.account_no = account_no\n",
    "\n",
    "    @property\n",
    "    def points(self):\n",
    "        return self._points\n",
    "\n",
    "    def get_name(self):\n",
    "        raise NotImplementedError\n",
    "\n",
    "    def get_number_of_points(self):\n",
    "        raise NotImplementedError\n",
    "\n",
    "    def transfer_money(self, amount):\n",
    "        raise NotImplementedError\n",
    "\n",
    "\n",
    "class UserInGermany(BaseUser):\n",
    "    def get_number_of_points(self):\n",
    "        return 0\n",
    "\n",
    "    def transfer_money(self, amount):\n",
    "        print(f\"Transfering {amount} to the user\")\n",
    "\n",
    "\n",
    "class UserInFrance(BaseUser):\n",
    "    def transfer_money(self, amount):\n",
    "        raise NotImplementedError\n",
    "\n",
    "    def redeem_voucher(self, award_id):\n",
    "        RedemptionService().redeem_voucher(award_id)\n",
    "\n",
    "\n",
    "class PaymentGateway:\n",
    "    def transfer(self, account_no: AccountNo, amount: Decimal) -> None:\n",
    "        logger.info(f\"Successfully transferred {amount} to {account_no}\")\n",
    "\n",
    "\n",
    "class RedemptionService:\n",
    "    def __init__(self, payment_gateway) -> None:\n",
    "        self._payment_gateway = payment_gateway\n",
    "\n",
    "    def redeem(self, user, award) -> Any:\n",
    "        # Assumption: user will redeem `amount` of money.\n",
    "        # We're not supporting other types of awards.\n",
    "        try:\n",
    "            if isinstance(user, UserInFrance):\n",
    "                logger.info(f\"Redeemed {award}, for a {user}\")\n",
    "                return self.redeem_voucher(user, award)\n",
    "            else:\n",
    "                if user.points > award.points:\n",
    "                    if award.type is AwardType.CASH:\n",
    "                        self._payment_gateway(user.account_no, award.amount)\n",
    "                        logger.info(f\"Redeemed {award}, for a {user}\")\n",
    "                        return True\n",
    "        except CountryNotSupportedException as e:\n",
    "            print('>>>>',e)\n",
    "            return False\n",
    "        else:\n",
    "            return False\n",
    "\n",
    "    def redeem_voucher(self, user, award):\n",
    "        if not isinstance(user, UserInFrance) or award.type == AwardType.CASH:\n",
    "            raise CountryNotSupportedException()\n",
    "        return f\"Here is your {award.description}\""
   ]
  },
  {
   "cell_type": "code",
   "execution_count": 38,
   "id": "1ed2d8ac",
   "metadata": {},
   "outputs": [],
   "source": [
    "r = RedemptionService(PaymentGateway().transfer)"
   ]
  },
  {
   "cell_type": "code",
   "execution_count": 39,
   "id": "02b59414",
   "metadata": {},
   "outputs": [],
   "source": [
    "fu = UserInFrance(5000, 1, '4123242123')\n",
    "fg = UserInGermany(8000, 2, '8765435289')"
   ]
  },
  {
   "cell_type": "code",
   "execution_count": 40,
   "id": "a4720c0d",
   "metadata": {},
   "outputs": [],
   "source": [
    "ca = Cash50Eur()\n",
    "va = Voucher()"
   ]
  },
  {
   "cell_type": "code",
   "execution_count": null,
   "id": "638b74a4",
   "metadata": {},
   "outputs": [],
   "source": []
  },
  {
   "cell_type": "code",
   "execution_count": 41,
   "id": "9352b5e5",
   "metadata": {},
   "outputs": [
    {
     "name": "stdout",
     "output_type": "stream",
     "text": [
      ">>>> \n"
     ]
    },
    {
     "data": {
      "text/plain": [
       "False"
      ]
     },
     "execution_count": 41,
     "metadata": {},
     "output_type": "execute_result"
    }
   ],
   "source": [
    "r.redeem(fu, ca)"
   ]
  },
  {
   "cell_type": "code",
   "execution_count": 42,
   "id": "d3e3a5fd",
   "metadata": {},
   "outputs": [
    {
     "data": {
      "text/plain": [
       "True"
      ]
     },
     "execution_count": 42,
     "metadata": {},
     "output_type": "execute_result"
    }
   ],
   "source": [
    "r.redeem(fg, ca)"
   ]
  },
  {
   "cell_type": "code",
   "execution_count": 43,
   "id": "08fe015f",
   "metadata": {},
   "outputs": [
    {
     "data": {
      "text/plain": [
       "'Here is your Amazon Gift Card'"
      ]
     },
     "execution_count": 43,
     "metadata": {},
     "output_type": "execute_result"
    }
   ],
   "source": [
    "r.redeem(fu, va)"
   ]
  },
  {
   "cell_type": "code",
   "execution_count": null,
   "id": "3e079e94",
   "metadata": {},
   "outputs": [],
   "source": []
  }
 ],
 "metadata": {
  "kernelspec": {
   "display_name": "Python 3 (ipykernel)",
   "language": "python",
   "name": "python3"
  },
  "language_info": {
   "codemirror_mode": {
    "name": "ipython",
    "version": 3
   },
   "file_extension": ".py",
   "mimetype": "text/x-python",
   "name": "python",
   "nbconvert_exporter": "python",
   "pygments_lexer": "ipython3",
   "version": "3.8.5"
  }
 },
 "nbformat": 4,
 "nbformat_minor": 5
}
