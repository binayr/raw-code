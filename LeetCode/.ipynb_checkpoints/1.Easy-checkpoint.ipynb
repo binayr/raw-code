{
 "cells": [
  {
   "cell_type": "markdown",
   "id": "919f1cfb",
   "metadata": {},
   "source": [
    "### 1. Two Sum\n",
    "Given an array of integers nums and an integer target, return indices of the two numbers such that they add up to target.\n",
    "\n",
    "You may assume that each input would have exactly one solution, and you may not use the same element twice.\n",
    "\n",
    "You can return the answer in any order.\n",
    "\n",
    " \n",
    "\n",
    "Example 1:\n",
    "```\n",
    "Input: nums = [2,7,11,15], target = 9\n",
    "Output: [0,1]\n",
    "Output: Because nums[0] + nums[1] == 9, we return [0, 1].\n",
    "Example 2:\n",
    "\n",
    "Input: nums = [3,2,4], target = 6\n",
    "Output: [1,2]\n",
    "Example 3:\n",
    "\n",
    "Input: nums = [3,3], target = 6\n",
    "Output: [0,1]\n",
    " ```\n",
    "\n",
    "Constraints:\n",
    "```\n",
    "2 <= nums.length <= 104\n",
    "-109 <= nums[i] <= 109\n",
    "-109 <= target <= 109\n",
    "Only one valid answer exists.\n",
    " ```\n",
    "\n",
    "Follow-up: Can you come up with an algorithm that is less than O(n2) time complexity?"
   ]
  },
  {
   "cell_type": "code",
   "execution_count": 58,
   "id": "bc908e90",
   "metadata": {},
   "outputs": [],
   "source": [
    "def twoSum(nums, target):\n",
    "    for n, num in enumerate(nums):\n",
    "        if target - num in nums[n+1:]:\n",
    "            return n, nums[n+1:].index(target-num) + n + 1"
   ]
  },
  {
   "cell_type": "code",
   "execution_count": 60,
   "id": "75b17170",
   "metadata": {},
   "outputs": [
    {
     "data": {
      "text/plain": [
       "(1, 2)"
      ]
     },
     "execution_count": 60,
     "metadata": {},
     "output_type": "execute_result"
    }
   ],
   "source": [
    "nums = [3,2,4]\n",
    "target = 6\n",
    "twoSum(nums, target)"
   ]
  },
  {
   "cell_type": "code",
   "execution_count": 61,
   "id": "a6e95389",
   "metadata": {},
   "outputs": [
    {
     "data": {
      "text/plain": [
       "(0, 1)"
      ]
     },
     "execution_count": 61,
     "metadata": {},
     "output_type": "execute_result"
    }
   ],
   "source": [
    "nums = [3,3]\n",
    "target = 6\n",
    "twoSum(nums, target)"
   ]
  },
  {
   "cell_type": "code",
   "execution_count": null,
   "id": "22452153",
   "metadata": {},
   "outputs": [],
   "source": []
  },
  {
   "cell_type": "markdown",
   "id": "a29f1000",
   "metadata": {},
   "source": [
    "### 2. Reverse Int\n",
    "\n",
    "Given a signed 32-bit integer x, return x with its digits reversed. If reversing x causes the value to go outside the signed 32-bit integer range [-231, 231 - 1], then return 0.\n",
    "\n",
    "Assume the environment does not allow you to store 64-bit integers (signed or unsigned).\n",
    "\n",
    " \n",
    "```\n",
    "Example 1:\n",
    "\n",
    "Input: x = 123\n",
    "Output: 321\n",
    "Example 2:\n",
    "\n",
    "Input: x = -123\n",
    "Output: -321\n",
    "Example 3:\n",
    "\n",
    "Input: x = 120\n",
    "Output: 21\n",
    "Example 4:\n",
    "\n",
    "Input: x = 0\n",
    "Output: 0\n",
    " ```\n",
    "\n",
    "Constraints:\n",
    "```\n",
    "-231 <= x <= 231 - 1\n",
    "```"
   ]
  },
  {
   "cell_type": "code",
   "execution_count": 128,
   "id": "c4cdca89",
   "metadata": {},
   "outputs": [],
   "source": [
    "def str_reverse(inp):\n",
    "    if inp < 0:\n",
    "        out = int('-' + str(abs(inp))[::-1])\n",
    "    elif inp:\n",
    "        out = int(str(abs(inp))[::-1])\n",
    "    else:\n",
    "        return 0\n",
    "    return out if -2**31< out <((2**31) - 1) else 0"
   ]
  },
  {
   "cell_type": "code",
   "execution_count": 129,
   "id": "eb7ba858",
   "metadata": {},
   "outputs": [
    {
     "data": {
      "text/plain": [
       "876764"
      ]
     },
     "execution_count": 129,
     "metadata": {},
     "output_type": "execute_result"
    }
   ],
   "source": [
    "str_reverse(467678)"
   ]
  },
  {
   "cell_type": "code",
   "execution_count": 130,
   "id": "da60c77d",
   "metadata": {},
   "outputs": [
    {
     "data": {
      "text/plain": [
       "-23826"
      ]
     },
     "execution_count": 130,
     "metadata": {},
     "output_type": "execute_result"
    }
   ],
   "source": [
    "str_reverse(-62832)"
   ]
  },
  {
   "cell_type": "code",
   "execution_count": 131,
   "id": "c0724301",
   "metadata": {},
   "outputs": [
    {
     "data": {
      "text/plain": [
       "0"
      ]
     },
     "execution_count": 131,
     "metadata": {},
     "output_type": "execute_result"
    }
   ],
   "source": [
    "str_reverse(0)"
   ]
  },
  {
   "cell_type": "code",
   "execution_count": 132,
   "id": "b0bbac05",
   "metadata": {},
   "outputs": [
    {
     "data": {
      "text/plain": [
       "234"
      ]
     },
     "execution_count": 132,
     "metadata": {},
     "output_type": "execute_result"
    }
   ],
   "source": [
    "str_reverse(43200)"
   ]
  },
  {
   "cell_type": "code",
   "execution_count": 134,
   "id": "1f533a69",
   "metadata": {},
   "outputs": [
    {
     "data": {
      "text/plain": [
       "0"
      ]
     },
     "execution_count": 134,
     "metadata": {},
     "output_type": "execute_result"
    }
   ],
   "source": [
    "str_reverse(1534236469)"
   ]
  },
  {
   "cell_type": "markdown",
   "id": "2fd44054",
   "metadata": {},
   "source": [
    "### 3. Palindrome Number\n",
    "\n",
    "Given an integer x, return true if x is palindrome integer.\n",
    "\n",
    "An integer is a palindrome when it reads the same backward as forward. For example, 121 is palindrome while 123 is not.\n",
    "\n",
    " \n",
    "```\n",
    "Example 1:\n",
    "\n",
    "Input: x = 121\n",
    "Output: true\n",
    "Example 2:\n",
    "\n",
    "Input: x = -121\n",
    "Output: false\n",
    "Explanation: From left to right, it reads -121. From right to left, it becomes 121-. Therefore it is not a palindrome.\n",
    "Example 3:\n",
    "\n",
    "Input: x = 10\n",
    "Output: false\n",
    "Explanation: Reads 01 from right to left. Therefore it is not a palindrome.\n",
    "Example 4:\n",
    "\n",
    "Input: x = -101\n",
    "Output: false\n",
    " ```\n",
    "\n",
    "Constraints:\n",
    "```\n",
    "-231 <= x <= 231 - 1\n",
    " ```\n",
    "\n",
    "Follow up: Could you solve it without converting the integer to a string?"
   ]
  },
  {
   "cell_type": "code",
   "execution_count": 214,
   "id": "bc65873f",
   "metadata": {},
   "outputs": [],
   "source": [
    "## Fast and high performance better than 97% but includes str conversion\n",
    "def is_palindrome(num):\n",
    "    if str(num) == str(num)[::-1]:\n",
    "        return True\n",
    "    else:\n",
    "        return False"
   ]
  },
  {
   "cell_type": "code",
   "execution_count": 215,
   "id": "c309f36f",
   "metadata": {},
   "outputs": [
    {
     "data": {
      "text/plain": [
       "True"
      ]
     },
     "execution_count": 215,
     "metadata": {},
     "output_type": "execute_result"
    }
   ],
   "source": [
    "is_palindrome(121)"
   ]
  },
  {
   "cell_type": "code",
   "execution_count": 216,
   "id": "ab35354d",
   "metadata": {},
   "outputs": [
    {
     "data": {
      "text/plain": [
       "False"
      ]
     },
     "execution_count": 216,
     "metadata": {},
     "output_type": "execute_result"
    }
   ],
   "source": [
    "is_palindrome(-121)"
   ]
  },
  {
   "cell_type": "code",
   "execution_count": 217,
   "id": "646dc71d",
   "metadata": {},
   "outputs": [],
   "source": [
    "# Slow only better than 10%\n",
    "def pop_digits(num, out=[]):\n",
    "    if num == 0: return (out)\n",
    "    digit = num % 10\n",
    "    out.append(digit)\n",
    "    num = (num - digit) // 10\n",
    "    return pop_digits(num, out)\n",
    "\n",
    "def create_num(digits):\n",
    "    result = 0\n",
    "    tot = len(digits) - 1\n",
    "    for i in digits:\n",
    "        result += i * 10**tot\n",
    "        tot -=1\n",
    "    return result\n",
    "\n",
    "def is_palindrome(num):\n",
    "    if num <0: return False\n",
    "    rev = pop_digits(num, [])\n",
    "    if num == create_num(rev): return True\n",
    "    else: return False"
   ]
  },
  {
   "cell_type": "code",
   "execution_count": 209,
   "id": "7f01672c",
   "metadata": {},
   "outputs": [
    {
     "data": {
      "text/plain": [
       "[7, 6, 5]"
      ]
     },
     "execution_count": 209,
     "metadata": {},
     "output_type": "execute_result"
    }
   ],
   "source": [
    "pop_digits(567)"
   ]
  },
  {
   "cell_type": "code",
   "execution_count": 210,
   "id": "f858a129",
   "metadata": {},
   "outputs": [
    {
     "data": {
      "text/plain": [
       "765"
      ]
     },
     "execution_count": 210,
     "metadata": {},
     "output_type": "execute_result"
    }
   ],
   "source": [
    "create_num([7, 6, 5])"
   ]
  },
  {
   "cell_type": "code",
   "execution_count": 211,
   "id": "0f974c58",
   "metadata": {},
   "outputs": [
    {
     "data": {
      "text/plain": [
       "False"
      ]
     },
     "execution_count": 211,
     "metadata": {},
     "output_type": "execute_result"
    }
   ],
   "source": [
    "is_palindrome(567)"
   ]
  },
  {
   "cell_type": "code",
   "execution_count": 212,
   "id": "bc8faad3",
   "metadata": {},
   "outputs": [
    {
     "data": {
      "text/plain": [
       "True"
      ]
     },
     "execution_count": 212,
     "metadata": {},
     "output_type": "execute_result"
    }
   ],
   "source": [
    "is_palindrome(121)"
   ]
  },
  {
   "cell_type": "code",
   "execution_count": 213,
   "id": "af8a1397",
   "metadata": {},
   "outputs": [
    {
     "data": {
      "text/plain": [
       "False"
      ]
     },
     "execution_count": 213,
     "metadata": {},
     "output_type": "execute_result"
    }
   ],
   "source": [
    "is_palindrome(-121)"
   ]
  },
  {
   "cell_type": "markdown",
   "id": "e24aba5f",
   "metadata": {},
   "source": [
    "#### 4. Roman to Integer\n",
    "```\n",
    "Symbol       Value\n",
    "I             1\n",
    "V             5\n",
    "X             10\n",
    "L             50\n",
    "C             100\n",
    "D             500\n",
    "M             1000\n",
    "\n",
    "Input: s = \"MCMXCIV\"\n",
    "Output: 1994\n",
    "Explanation: M = 1000, CM = 900, XC = 90 and IV = 4.\n",
    "```"
   ]
  },
  {
   "cell_type": "code",
   "execution_count": null,
   "id": "50a5953c",
   "metadata": {},
   "outputs": [],
   "source": []
  },
  {
   "cell_type": "code",
   "execution_count": 235,
   "id": "eda06358",
   "metadata": {},
   "outputs": [
    {
     "data": {
      "text/plain": [
       "'MMCMLCIV'"
      ]
     },
     "execution_count": 235,
     "metadata": {},
     "output_type": "execute_result"
    }
   ],
   "source": [
    "def int_to_roman(num):\n",
    "    out = []\n",
    "    nums = list(map(int, list(str(num))))\n",
    "    n = len(nums) - 1\n",
    "    for i in nums:\n",
    "        out.append(i * 10**n)\n",
    "        n -= 1\n",
    "    mapper = {\n",
    "        \"I\" : 1,\n",
    "        \"V\" : 5,\n",
    "        \"X\" : 10,\n",
    "        \"L\" : 50,\n",
    "        \"C\" : 100,\n",
    "        \"D\" : 500,\n",
    "        \"M\" : 1000\n",
    "    }\n",
    "    result = []\n",
    "    for i in out:\n",
    "        if i < 4: result.append(i * 'I')\n",
    "        if i == 4: result.append('IV')\n",
    "        if i == 5: result.append('V')\n",
    "        if 5 < i < 10: result.append('V' + (i - 5)*'I')\n",
    "        if i == 10: result.append('X')\n",
    "        if i in (20, 30): result.append(i//10 * 'X')\n",
    "        if i == 40: result.append('XL')    \n",
    "        if i == 50: result.append('L')\n",
    "        if i in (60, 70, 80): result.append(\"L\"+(i//10 - 5) * 'X')\n",
    "        if i == 90: result.append('LC')    \n",
    "        if i == 100: result.append('C')\n",
    "        if i in (200, 300): result.append((i//100) * 'C')\n",
    "        if i == 400: result.append('CD')    \n",
    "        if i == 500: result.append('D')\n",
    "        if i in (600, 700, 800): result.append(\"D\"+(i//100 - 5) * 'C')\n",
    "        if i == 900: result.append('CM')    \n",
    "        if i == 1000: result.append('M')\n",
    "        if not i % 1000: result.append((i//1000)*'M')\n",
    "    return \"\".join(result)\n",
    "        \n",
    "    \n",
    "    \n",
    "int_to_roman(1994)"
   ]
  },
  {
   "cell_type": "code",
   "execution_count": 253,
   "id": "d4e5ef79",
   "metadata": {},
   "outputs": [],
   "source": [
    "def roman_to_int(inp):\n",
    "    mapper = {\n",
    "        \"I\" : 1,\n",
    "        \"V\" : 5,\n",
    "        \"X\" : 10,\n",
    "        \"L\" : 50,\n",
    "        \"C\" : 100,\n",
    "        \"D\" : 500,\n",
    "        \"M\" : 1000\n",
    "    }\n",
    "    separate = list(inp)\n",
    "    out = []\n",
    "    skip = False\n",
    "    for n in range(len(separate)):\n",
    "        if skip: skip = False; continue\n",
    "        if separate[n] == \"I\" and n+1 < len(separate) and separate[n+1] == \"V\":\n",
    "            out.append(4); skip = True;continue\n",
    "        if separate[n] == \"I\" and n+1 < len(separate) and  separate[n+1] == \"X\":\n",
    "            out.append(9); skip = True;continue\n",
    "        if separate[n] == \"X\" and n+1 < len(separate) and  separate[n+1] == \"L\":\n",
    "            out.append(40); skip = True;continue\n",
    "        if separate[n] == \"X\" and n+1 < len(separate) and  separate[n+1] == \"C\":\n",
    "            out.append(90); skip = True;continue\n",
    "        if separate[n] == \"C\" and n+1 < len(separate) and  separate[n+1] == \"D\":\n",
    "            out.append(400); skip = True;continue\n",
    "        if separate[n] == \"C\" and n+1 < len(separate) and  separate[n+1] == \"M\":\n",
    "            out.append(900); skip = True;continue\n",
    "        out.append(mapper[separate[n]])\n",
    "    return sum(out)"
   ]
  },
  {
   "cell_type": "code",
   "execution_count": 254,
   "id": "eeeb5abc",
   "metadata": {},
   "outputs": [
    {
     "data": {
      "text/plain": [
       "1"
      ]
     },
     "execution_count": 254,
     "metadata": {},
     "output_type": "execute_result"
    }
   ],
   "source": [
    "roman_to_int(\"I\")"
   ]
  },
  {
   "cell_type": "markdown",
   "id": "0a1d0414",
   "metadata": {},
   "source": [
    "Better than 47% solution. Need to improve"
   ]
  },
  {
   "cell_type": "markdown",
   "id": "d1e1aaaa",
   "metadata": {},
   "source": [
    "### Good Solutions"
   ]
  },
  {
   "cell_type": "markdown",
   "id": "702f39e1",
   "metadata": {},
   "source": [
    "### 1. 2 sum"
   ]
  },
  {
   "cell_type": "code",
   "execution_count": 256,
   "id": "24488c76",
   "metadata": {},
   "outputs": [],
   "source": [
    "## Tradeoff at hashmap for in\n",
    "\n",
    "def twoSum(nums, target):\n",
    "    hashmap = {}\n",
    "    for i in range(len(nums)):\n",
    "        complement = target - nums[i]\n",
    "        if complement in hashmap:\n",
    "            return [i, hashmap[complement]]\n",
    "        hashmap[nums[i]] = i"
   ]
  },
  {
   "cell_type": "markdown",
   "id": "c5aadb47",
   "metadata": {},
   "source": [
    "### 2. reverse"
   ]
  },
  {
   "cell_type": "markdown",
   "id": "58c657b1",
   "metadata": {},
   "source": [
    "We have the good solution"
   ]
  },
  {
   "cell_type": "markdown",
   "id": "be040cf7",
   "metadata": {},
   "source": [
    "### 3. Palindrome number"
   ]
  },
  {
   "cell_type": "code",
   "execution_count": 258,
   "id": "89fbab57",
   "metadata": {},
   "outputs": [],
   "source": [
    "## This may be something\n",
    "\n",
    "class Solution:\n",
    "    def isPalindrome(self, x):\n",
    "        if x > 0:\n",
    "            temp = x\n",
    "            rev_int_elements = []\n",
    "            while temp > 0:\n",
    "                digit = temp % 10\n",
    "                rev_int_elements.append(digit)\n",
    "                temp = temp // 10\n",
    "            org_int_elements = rev_int_elements[::-1]\n",
    "            return rev_int_elements == org_int_elements\n",
    "        elif x == 0:\n",
    "            return True\n",
    "        else:\n",
    "            return False"
   ]
  },
  {
   "cell_type": "markdown",
   "id": "56d482a2",
   "metadata": {},
   "source": [
    "### 4. roman to integer"
   ]
  },
  {
   "cell_type": "code",
   "execution_count": 259,
   "id": "1c04aa11",
   "metadata": {},
   "outputs": [],
   "source": [
    "class Solution:\n",
    "    def romanToInt(self, s: str) -> int:\n",
    "        map = {\"I\": 1, \"V\": 5, \"X\": 10, \"L\":50,\"C\":100, \"D\": 500,\"M\": 1000}\n",
    "        sum = map[s[len(s)-1]]\n",
    "        for i in range(len(s)-1, 0, -1):\n",
    "            if s[i-1] == 'I' and (s[i] == 'V' or s[i] == 'X'):\n",
    "                sum = sum - 1\n",
    "            elif s[i-1] == 'X' and (s[i] == 'L' or s[i] == 'C'):\n",
    "                sum = sum - 10\n",
    "            elif s[i-1] == 'C' and (s[i] == 'D' or s[i] == 'M'):\n",
    "                sum = sum - 100\n",
    "            else:\n",
    "                sum = sum + map[s[i-1]]\n",
    "        return sum"
   ]
  },
  {
   "cell_type": "code",
   "execution_count": null,
   "id": "555a229e",
   "metadata": {},
   "outputs": [],
   "source": []
  },
  {
   "cell_type": "code",
   "execution_count": null,
   "id": "af797488",
   "metadata": {},
   "outputs": [],
   "source": []
  }
 ],
 "metadata": {
  "kernelspec": {
   "display_name": "Python 3 (ipykernel)",
   "language": "python",
   "name": "python3"
  },
  "language_info": {
   "codemirror_mode": {
    "name": "ipython",
    "version": 3
   },
   "file_extension": ".py",
   "mimetype": "text/x-python",
   "name": "python",
   "nbconvert_exporter": "python",
   "pygments_lexer": "ipython3",
   "version": "3.8.5"
  }
 },
 "nbformat": 4,
 "nbformat_minor": 5
}
