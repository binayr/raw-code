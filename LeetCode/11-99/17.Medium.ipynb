{
 "cells": [
  {
   "cell_type": "code",
   "execution_count": 9,
   "id": "250a0bb9",
   "metadata": {},
   "outputs": [],
   "source": [
    "from typing import List, Optional"
   ]
  },
  {
   "cell_type": "code",
   "execution_count": 66,
   "id": "66d093eb",
   "metadata": {},
   "outputs": [],
   "source": [
    "# Definition for singly-linked list.\n",
    "class ListNode:\n",
    "    def __init__(self, val=0, next=None):\n",
    "        self.val = val\n",
    "        self.next = next\n",
    "\n",
    "def traverse(h):\n",
    "    print('-----')\n",
    "    while h:\n",
    "        print(h.val, end=\" \")\n",
    "        h = h.next\n",
    "    print(\"\\n =====\")\n",
    "\n",
    "class Solution:\n",
    "    def oddEvenList(self, head: Optional[ListNode]) -> Optional[ListNode]:\n",
    "        idx = 1\n",
    "        even_head = even = ListNode(0)\n",
    "        curr = head\n",
    "        while head is not None:\n",
    "            if idx %2:\n",
    "                # for Odd ended\n",
    "                if head.next is not None and head.next.next is not None:\n",
    "                    even.next = ListNode(head.next.val)\n",
    "                    even = even.next\n",
    "                    head.next = head.next.next \n",
    "                    head = head.next\n",
    "                    idx += 2\n",
    "                # for even ended\n",
    "                elif head.next is not None and head.next.next is None:\n",
    "                    even.next = ListNode(head.next.val)\n",
    "                    even = even.next\n",
    "                    head.next = even_head.next\n",
    "                    break\n",
    "                else:\n",
    "                    head.next = even_head.next\n",
    "                    break\n",
    "        return curr\n",
    "\n",
    "s = Solution()\n",
    "\n"
   ]
  },
  {
   "cell_type": "code",
   "execution_count": 67,
   "id": "3c2f913c",
   "metadata": {},
   "outputs": [],
   "source": [
    "[1,2,3,4,5]\n",
    "head = ListNode(1)\n",
    "head.next = ListNode(2)\n",
    "head.next.next = ListNode(3)\n",
    "head.next.next.next = ListNode(4)\n",
    "head.next.next.next.next = ListNode(5)\n",
    "\n",
    "h = s.oddEvenList(head)"
   ]
  },
  {
   "cell_type": "code",
   "execution_count": 68,
   "id": "fe34fa1a",
   "metadata": {},
   "outputs": [
    {
     "name": "stdout",
     "output_type": "stream",
     "text": [
      "-----\n",
      "1 3 5 2 4 \n",
      " =====\n"
     ]
    }
   ],
   "source": [
    "traverse(h)"
   ]
  },
  {
   "cell_type": "code",
   "execution_count": 69,
   "id": "943ea533",
   "metadata": {},
   "outputs": [
    {
     "name": "stdout",
     "output_type": "stream",
     "text": [
      "-----\n",
      "1 3 5 7 2 4 6 8 \n",
      " =====\n"
     ]
    }
   ],
   "source": [
    "[1,2,3,4,5,6,7,8]\n",
    "head = ListNode(1)\n",
    "head.next = ListNode(2)\n",
    "head.next.next = ListNode(3)\n",
    "head.next.next.next = ListNode(4)\n",
    "head.next.next.next.next = ListNode(5)\n",
    "head.next.next.next.next.next = ListNode(6)\n",
    "head.next.next.next.next.next.next = ListNode(7)\n",
    "head.next.next.next.next.next.next.next = ListNode(8)\n",
    "\n",
    "h = s.oddEvenList(head)\n",
    "traverse(h)"
   ]
  },
  {
   "cell_type": "code",
   "execution_count": null,
   "id": "421cd3f9",
   "metadata": {},
   "outputs": [],
   "source": []
  },
  {
   "cell_type": "code",
   "execution_count": null,
   "id": "c7c5c3ee",
   "metadata": {},
   "outputs": [],
   "source": []
  },
  {
   "cell_type": "markdown",
   "id": "fdad540c",
   "metadata": {},
   "source": [
    "### Minimum Path Sum"
   ]
  },
  {
   "cell_type": "code",
   "execution_count": 3,
   "id": "9b9c7c8b",
   "metadata": {},
   "outputs": [],
   "source": [
    "class Solution:\n",
    "    def minPathSum(self, grid: List[List[int]]) -> int:\n",
    "        n = len(grid)\n",
    "        m = len(grid[0])\n",
    "        \n",
    "        #initailze dp \n",
    "        dp = [[0 for i in range(m)] for i in range(n)]\n",
    "        # assign first row and first col\n",
    "        dp[0][0] = grid[0][0]\n",
    "        for j in range(1,m):\n",
    "            dp[0][j] = grid[0][j] + dp[0][j-1]\n",
    "        for i in range(1,n):\n",
    "            dp[i][0] = grid[i][0] + dp[i-1][0]\n",
    "        #assign all rest\n",
    "        for i in range(1,n):\n",
    "            for j in range(1,m):\n",
    "                dp[i][j] = min(dp[i-1][j] + grid[i][j], dp[i][j-1] + grid[i][j])\n",
    "        \n",
    "        return dp[n-1][m-1]"
   ]
  },
  {
   "cell_type": "code",
   "execution_count": 6,
   "id": "51c6ce09",
   "metadata": {},
   "outputs": [
    {
     "data": {
      "text/plain": [
       "97"
      ]
     },
     "execution_count": 6,
     "metadata": {},
     "output_type": "execute_result"
    }
   ],
   "source": [
    "ord('a')"
   ]
  },
  {
   "cell_type": "code",
   "execution_count": 10,
   "id": "1636b0e9",
   "metadata": {},
   "outputs": [
    {
     "data": {
      "text/plain": [
       "'A'"
      ]
     },
     "execution_count": 10,
     "metadata": {},
     "output_type": "execute_result"
    }
   ],
   "source": [
    "chr(65)"
   ]
  },
  {
   "cell_type": "code",
   "execution_count": 14,
   "id": "6eb13adf",
   "metadata": {},
   "outputs": [
    {
     "data": {
      "text/plain": [
       "90"
      ]
     },
     "execution_count": 14,
     "metadata": {},
     "output_type": "execute_result"
    }
   ],
   "source": [
    "(65 + 25)"
   ]
  },
  {
   "cell_type": "code",
   "execution_count": 21,
   "id": "435dfe8f",
   "metadata": {},
   "outputs": [],
   "source": [
    "class Solution:\n",
    "    def convertToTitle(self, columnNumber: int) -> str:\n",
    "        if columnNumber==0:\n",
    "            return ''\n",
    "        \n",
    "        q,r=divmod(columnNumber-1,26)\n",
    "        \n",
    "        return self.convertToTitle(q)+chr(r+ord('A'))"
   ]
  },
  {
   "cell_type": "code",
   "execution_count": 19,
   "id": "537f0b81",
   "metadata": {},
   "outputs": [
    {
     "data": {
      "text/plain": [
       "'ZW'"
      ]
     },
     "execution_count": 19,
     "metadata": {},
     "output_type": "execute_result"
    }
   ],
   "source": [
    "s.convertToTitle(2147483647)"
   ]
  },
  {
   "cell_type": "code",
   "execution_count": 20,
   "id": "e845e1ee",
   "metadata": {},
   "outputs": [
    {
     "data": {
      "text/plain": [
       "82595524"
      ]
     },
     "execution_count": 20,
     "metadata": {},
     "output_type": "execute_result"
    }
   ],
   "source": [
    "2147483647//26"
   ]
  },
  {
   "cell_type": "code",
   "execution_count": 47,
   "id": "5b51b24d",
   "metadata": {},
   "outputs": [
    {
     "data": {
      "text/plain": [
       "964176192"
      ]
     },
     "execution_count": 47,
     "metadata": {},
     "output_type": "execute_result"
    }
   ],
   "source": [
    "n = int('00000010100101000001111010011100', 2)\n",
    "unpadded_binary = bin(n)[2:]\n",
    "# unpadded_binary\n",
    "pad_bits = ['0'] * (32 - len(unpadded_binary))\n",
    "# pad_bits\n",
    "padded_binary = ''.join(pad_bits) + unpadded_binary\n",
    "# padded_binary\n",
    "reversed_bits = padded_binary[::-1]\n",
    "int(reversed_bits, 2)"
   ]
  },
  {
   "cell_type": "code",
   "execution_count": 38,
   "id": "486658e8",
   "metadata": {},
   "outputs": [
    {
     "data": {
      "text/plain": [
       "'001110111110011011110010000111110110111000011111110000010100100111100011010110100001'"
      ]
     },
     "execution_count": 38,
     "metadata": {},
     "output_type": "execute_result"
    }
   ],
   "source": [
    "reversed_bits"
   ]
  },
  {
   "cell_type": "code",
   "execution_count": 48,
   "id": "c60941e9",
   "metadata": {},
   "outputs": [],
   "source": []
  },
  {
   "cell_type": "markdown",
   "id": "aaef27b1",
   "metadata": {},
   "source": [
    "### Grey Code"
   ]
  },
  {
   "cell_type": "code",
   "execution_count": 49,
   "id": "46140a28",
   "metadata": {},
   "outputs": [],
   "source": [
    "class Solution:\n",
    "    def grayCode(self, n: int) -> List[int]:\n",
    "        x = 1\n",
    "        res = [0, 1]\n",
    "        while x < n:\n",
    "            base = 1 << x\n",
    "            res.extend([base + t for t in res[::-1]])\n",
    "            \n",
    "            x += 1\n",
    "            \n",
    "        return res"
   ]
  },
  {
   "cell_type": "markdown",
   "id": "b2ae3142",
   "metadata": {},
   "source": [
    "### Minimum arrow require to burst all baloons"
   ]
  },
  {
   "cell_type": "code",
   "execution_count": 51,
   "id": "05383f2b",
   "metadata": {},
   "outputs": [],
   "source": [
    "class Solution:\n",
    "    def findMinArrowShots(self, points):\n",
    "        n = len(points)\n",
    "        if n<2:\n",
    "            return n\n",
    "\n",
    "        #sort by start and end point\n",
    "        START, END = 0,1\n",
    "        points.sort(key=lambda i: (i[START],i[END]) )\n",
    "        prev, cur = points[0], None\n",
    "        darts = 0\n",
    "\n",
    "        for i in range(1, n):\n",
    "            cur = points[i]\n",
    "\n",
    "            if cur[START] <= prev[END]:\n",
    "                #overlap, wait for more overlap to throw dart\n",
    "                prev = [cur[START], min(cur[END],prev[END])]\n",
    "            else:\n",
    "                #no overlap, throw dart at previous\n",
    "                darts += 1\n",
    "                prev = cur\n",
    "\t\t\n",
    "\t\t#pop the last balloon and return\n",
    "        return darts+1\n",
    "\n",
    "s = Solution()"
   ]
  },
  {
   "cell_type": "code",
   "execution_count": 52,
   "id": "5ec5f1fe",
   "metadata": {},
   "outputs": [
    {
     "data": {
      "text/plain": [
       "2"
      ]
     },
     "execution_count": 52,
     "metadata": {},
     "output_type": "execute_result"
    }
   ],
   "source": [
    "points = [[10,16],[2,8],[1,6],[7,12]]\n",
    "s.findMinArrowShots(points)"
   ]
  },
  {
   "cell_type": "code",
   "execution_count": 53,
   "id": "7886dd8e",
   "metadata": {},
   "outputs": [
    {
     "data": {
      "text/plain": [
       "4"
      ]
     },
     "execution_count": 53,
     "metadata": {},
     "output_type": "execute_result"
    }
   ],
   "source": [
    "points = [[1,2],[3,4],[5,6],[7,8]]\n",
    "s.findMinArrowShots(points)"
   ]
  },
  {
   "cell_type": "code",
   "execution_count": 54,
   "id": "aeb76585",
   "metadata": {},
   "outputs": [
    {
     "data": {
      "text/plain": [
       "2"
      ]
     },
     "execution_count": 54,
     "metadata": {},
     "output_type": "execute_result"
    }
   ],
   "source": [
    "points = [[1,2],[2,3],[3,4],[4,5]]\n",
    "s.findMinArrowShots(points)"
   ]
  },
  {
   "cell_type": "code",
   "execution_count": 55,
   "id": "ad0f43be",
   "metadata": {},
   "outputs": [
    {
     "data": {
      "text/plain": [
       "2"
      ]
     },
     "execution_count": 55,
     "metadata": {},
     "output_type": "execute_result"
    }
   ],
   "source": [
    "points = [[3,9],[7,12],[3,8],[6,8],[9,10],[2,9],[0,9],[3,9],[0,6],[2,8]]\n",
    "s.findMinArrowShots(points)"
   ]
  },
  {
   "cell_type": "code",
   "execution_count": 69,
   "id": "d843853d",
   "metadata": {},
   "outputs": [],
   "source": [
    "# Definition for singly-linked list.\n",
    "class ListNode:\n",
    "    def __init__(self, val=0, next=None):\n",
    "        self.val = val\n",
    "        self.next = next\n",
    "\n",
    "def traverse(head):\n",
    "    while head:\n",
    "        print(head.val)\n",
    "        head = head.next\n",
    "\n",
    "class Solution:\n",
    "    def removeElements(self, head: Optional[ListNode], val: int) -> Optional[ListNode]:\n",
    "        if head is None: return []\n",
    "\n",
    "        prev = head\n",
    "        curr = head.next\n",
    "\n",
    "        while curr is not None:\n",
    "            if curr.val == val:\n",
    "                curr = curr.next\n",
    "                prev.next = curr\n",
    "            else:\n",
    "                curr = curr.next\n",
    "                prev = prev.next\n",
    "        if head.val == val:\n",
    "            head = head.next\n",
    "        return head\n",
    "\n",
    "s = Solution()"
   ]
  },
  {
   "cell_type": "code",
   "execution_count": 70,
   "id": "38eaa3f0",
   "metadata": {},
   "outputs": [
    {
     "name": "stdout",
     "output_type": "stream",
     "text": [
      "1\n",
      "2\n",
      "3\n",
      "4\n",
      "5\n"
     ]
    }
   ],
   "source": [
    "head = ListNode(1)\n",
    "head.next = ListNode(2)\n",
    "head.next.next = ListNode(6)\n",
    "head.next.next.next = ListNode(3)\n",
    "head.next.next.next.next = ListNode(4)\n",
    "head.next.next.next.next.next = ListNode(5)\n",
    "head.next.next.next.next.next.next = ListNode(6)\n",
    "traverse(s.removeElements(head , val = 6))"
   ]
  },
  {
   "cell_type": "code",
   "execution_count": 72,
   "id": "878d41d7",
   "metadata": {},
   "outputs": [],
   "source": [
    "head = ListNode(6)\n",
    "head.next = ListNode(6)\n",
    "head.next.next = ListNode(6)\n",
    "head.next.next.next = ListNode(6)\n",
    "head.next.next.next.next = ListNode(6)\n",
    "head.next.next.next.next.next = ListNode(6)\n",
    "head.next.next.next.next.next.next = ListNode(6)\n",
    "traverse(s.removeElements(head , val = 6))"
   ]
  },
  {
   "cell_type": "markdown",
   "id": "bd738e38",
   "metadata": {},
   "source": []
  },
  {
   "cell_type": "code",
   "execution_count": 20,
   "id": "0f492116",
   "metadata": {},
   "outputs": [],
   "source": [
    "class Solution:\n",
    "    def maxDistToClosest(self, seats: List[int]) -> int:\n",
    "        f1, f2, out, f1pos = None, None, 0, 0\n",
    "        for i in range(len(seats)):\n",
    "            print('-----')\n",
    "            print('i: ',i)\n",
    "            if f1 is None and seats[i] == 1:\n",
    "                f1 = i\n",
    "            print('f1: ',f1)\n",
    "            if (f2  is None and f1  is not None) and seats[i] == 1 and f1 != i:\n",
    "                f2 = i\n",
    "            print('f2: ',f2)\n",
    "            if f2  is not None and f1  is not None:\n",
    "                if (f2-f1)//2 > out:\n",
    "                    out = (f2 - f1)//2\n",
    "                    f1pos = f1\n",
    "                f1, f2 = None, None\n",
    "            print('out, f1pos: ',out, f1pos)\n",
    "        return out + f1pos\n",
    "\n",
    "s = Solution()"
   ]
  },
  {
   "cell_type": "code",
   "execution_count": 21,
   "id": "8bc714c8",
   "metadata": {},
   "outputs": [
    {
     "name": "stdout",
     "output_type": "stream",
     "text": [
      "-----\n",
      "i:  0\n",
      "f1:  0\n",
      "f2:  None\n",
      "out, f1pos:  0 0\n",
      "-----\n",
      "i:  1\n",
      "f1:  0\n",
      "f2:  None\n",
      "out, f1pos:  0 0\n",
      "-----\n",
      "i:  2\n",
      "f1:  0\n",
      "f2:  None\n",
      "out, f1pos:  0 0\n",
      "-----\n",
      "i:  3\n",
      "f1:  0\n",
      "f2:  None\n",
      "out, f1pos:  0 0\n",
      "-----\n",
      "i:  4\n",
      "f1:  0\n",
      "f2:  4\n",
      "out, f1pos:  2 0\n",
      "-----\n",
      "i:  5\n",
      "f1:  None\n",
      "f2:  None\n",
      "out, f1pos:  2 0\n",
      "-----\n",
      "i:  6\n",
      "f1:  6\n",
      "f2:  None\n",
      "out, f1pos:  2 0\n"
     ]
    },
    {
     "data": {
      "text/plain": [
       "2"
      ]
     },
     "execution_count": 21,
     "metadata": {},
     "output_type": "execute_result"
    }
   ],
   "source": [
    "s.maxDistToClosest([1,0,0,0,1,0,1])"
   ]
  },
  {
   "cell_type": "code",
   "execution_count": 22,
   "id": "84436738",
   "metadata": {},
   "outputs": [
    {
     "name": "stdout",
     "output_type": "stream",
     "text": [
      "-----\n",
      "i:  0\n",
      "f1:  0\n",
      "f2:  None\n",
      "out, f1pos:  0 0\n",
      "-----\n",
      "i:  1\n",
      "f1:  0\n",
      "f2:  None\n",
      "out, f1pos:  0 0\n",
      "-----\n",
      "i:  2\n",
      "f1:  0\n",
      "f2:  None\n",
      "out, f1pos:  0 0\n",
      "-----\n",
      "i:  3\n",
      "f1:  0\n",
      "f2:  None\n",
      "out, f1pos:  0 0\n"
     ]
    },
    {
     "data": {
      "text/plain": [
       "0"
      ]
     },
     "execution_count": 22,
     "metadata": {},
     "output_type": "execute_result"
    }
   ],
   "source": [
    "s.maxDistToClosest([1,0,0,0])"
   ]
  },
  {
   "cell_type": "code",
   "execution_count": 23,
   "id": "31991ec7",
   "metadata": {},
   "outputs": [
    {
     "data": {
      "text/plain": [
       "0"
      ]
     },
     "execution_count": 23,
     "metadata": {},
     "output_type": "execute_result"
    }
   ],
   "source": [
    "seats = [1,0,1,0]\n",
    "seats.index(1)"
   ]
  },
  {
   "cell_type": "code",
   "execution_count": 1,
   "id": "eb013778",
   "metadata": {},
   "outputs": [],
   "source": [
    "def palindrome(s, start, end):\n",
    "        while start < end:\n",
    "            if s[start] == s[end]:\n",
    "                start += 1\n",
    "                end -= 1\n",
    "            else:\n",
    "                return False\n",
    "        else:\n",
    "            return True"
   ]
  },
  {
   "cell_type": "code",
   "execution_count": 9,
   "id": "a7c0e2aa",
   "metadata": {},
   "outputs": [
    {
     "data": {
      "text/plain": [
       "True"
      ]
     },
     "execution_count": 9,
     "metadata": {},
     "output_type": "execute_result"
    }
   ],
   "source": [
    "palindrome('abababa', 0, 2)"
   ]
  },
  {
   "cell_type": "markdown",
   "id": "84064b36",
   "metadata": {},
   "source": [
    "### Gas Station"
   ]
  },
  {
   "cell_type": "code",
   "execution_count": 12,
   "id": "16a57b33",
   "metadata": {},
   "outputs": [],
   "source": [
    "class Solution:\n",
    "    def canCompleteCircuit(self, gas: List[int], cost: List[int]) -> int:\n",
    "        n, total_surplus, surplus, start = len(gas), 0, 0, 0\n",
    "        \n",
    "        for i in range(n):\n",
    "            total_surplus += gas[i] - cost[i]\n",
    "            surplus += gas[i] - cost[i]\n",
    "            if surplus < 0:\n",
    "                surplus = 0\n",
    "                start = i + 1\n",
    "        return -1 if (total_surplus < 0) else start"
   ]
  },
  {
   "cell_type": "markdown",
   "id": "d43341bd",
   "metadata": {},
   "source": [
    "### Sequential digits"
   ]
  },
  {
   "cell_type": "code",
   "execution_count": 14,
   "id": "7170f2e8",
   "metadata": {},
   "outputs": [],
   "source": [
    "class Solution:\n",
    "    def sequentialDigits(self, low: int, high: int) -> List[int]:\n",
    "        digits = \"123456789\"\n",
    "        res = []\n",
    "        nl = len(str(low))\n",
    "        nh = len(str(high))\n",
    "        \n",
    "        for i in range(nl, nh + 1):\n",
    "            for j in range(0, 10 - i):\n",
    "                num = int(digits[j: j + i])\n",
    "                if num >= low and num <= high: res.append(num)\n",
    "        return res"
   ]
  },
  {
   "cell_type": "code",
   "execution_count": 29,
   "id": "13998c9f",
   "metadata": {},
   "outputs": [],
   "source": [
    "class Solution:\n",
    "    def wiggleMaxLength(self, nums: List[int]) -> int:\n",
    "        n = len(nums)\n",
    "        best = 0\n",
    "        curr = 0\n",
    "        last = 0\n",
    "        for i in range(1, n):\n",
    "            diff = nums[i] - nums[i-1]\n",
    "            print(i, best, curr, last)\n",
    "            if last in (0, -1) and diff > 0:\n",
    "                last = 1\n",
    "                curr += 1\n",
    "            elif last in (0, 1) and diff < 0:\n",
    "                last = -1\n",
    "                curr += 1\n",
    "            else:\n",
    "                best = max(best, curr)\n",
    "                curr = 0\n",
    "                last = 0\n",
    "        else:\n",
    "            if curr > 0:\n",
    "                best = max(best, curr)\n",
    "                \n",
    "        return best+1\n",
    "                \n",
    "s = Solution()"
   ]
  },
  {
   "cell_type": "code",
   "execution_count": 30,
   "id": "ca0503ee",
   "metadata": {},
   "outputs": [
    {
     "name": "stdout",
     "output_type": "stream",
     "text": [
      "1 0 0 0\n",
      "2 0 1 1\n",
      "3 0 2 -1\n",
      "4 0 3 1\n",
      "5 3 0 0\n",
      "6 3 1 1\n",
      "7 3 2 -1\n",
      "8 3 0 0\n",
      "9 3 1 1\n"
     ]
    },
    {
     "data": {
      "text/plain": [
       "4"
      ]
     },
     "execution_count": 30,
     "metadata": {},
     "output_type": "execute_result"
    }
   ],
   "source": [
    "s.wiggleMaxLength([1,17,5,10,13,15,10,5,16,8])"
   ]
  },
  {
   "cell_type": "code",
   "execution_count": 1,
   "id": "a969de4e",
   "metadata": {},
   "outputs": [],
   "source": [
    "class Solution:\n",
    "    def isSubsequence(self, s: str, t: str) -> bool:\n",
    "        if len(s) == 0: return True\n",
    "        if len(t) == 0: return False\n",
    "        index = 0\n",
    "        for i in range(len(t)):\n",
    "            if s[index] == t[i]: index += 1\n",
    "            if index == len(s): return True\n",
    "        return False\n",
    "\n",
    "s = Solution()"
   ]
  },
  {
   "cell_type": "code",
   "execution_count": 2,
   "id": "87c01de6",
   "metadata": {},
   "outputs": [
    {
     "data": {
      "text/plain": [
       "True"
      ]
     },
     "execution_count": 2,
     "metadata": {},
     "output_type": "execute_result"
    }
   ],
   "source": [
    "s.isSubsequence('leetcode', 'yyyyyyyyyyyylyyyyyyeyyyyyyyeyyyyyyyyyyyyytyyyyyycyyyyyyyoyyyyyyyyyyyyydyyyyyyyyeyyyyyyyyyyy')"
   ]
  },
  {
   "cell_type": "code",
   "execution_count": 3,
   "id": "0f41585e",
   "metadata": {},
   "outputs": [
    {
     "data": {
      "text/plain": [
       "True"
      ]
     },
     "execution_count": 3,
     "metadata": {},
     "output_type": "execute_result"
    }
   ],
   "source": [
    "s.isSubsequence(\"abc\", \"ahbgdc\")"
   ]
  },
  {
   "cell_type": "code",
   "execution_count": 4,
   "id": "cd534cf0",
   "metadata": {},
   "outputs": [
    {
     "data": {
      "text/plain": [
       "False"
      ]
     },
     "execution_count": 4,
     "metadata": {},
     "output_type": "execute_result"
    }
   ],
   "source": [
    "s.isSubsequence(\"axc\",\"ahbgdc\")"
   ]
  },
  {
   "cell_type": "code",
   "execution_count": 5,
   "id": "8f70c494",
   "metadata": {},
   "outputs": [
    {
     "data": {
      "text/plain": [
       "True"
      ]
     },
     "execution_count": 5,
     "metadata": {},
     "output_type": "execute_result"
    }
   ],
   "source": [
    "s.isSubsequence(\"\",\"abc\")"
   ]
  },
  {
   "cell_type": "code",
   "execution_count": 6,
   "id": "b6f99cfa",
   "metadata": {},
   "outputs": [
    {
     "data": {
      "text/plain": [
       "False"
      ]
     },
     "execution_count": 6,
     "metadata": {},
     "output_type": "execute_result"
    }
   ],
   "source": [
    "s.isSubsequence(\"abc\",\"\")"
   ]
  },
  {
   "cell_type": "code",
   "execution_count": 7,
   "id": "ca041d53",
   "metadata": {},
   "outputs": [
    {
     "data": {
      "text/plain": [
       "False"
      ]
     },
     "execution_count": 7,
     "metadata": {},
     "output_type": "execute_result"
    }
   ],
   "source": [
    "s.isSubsequence(\"acb\",\"ahbgdc\")"
   ]
  },
  {
   "cell_type": "code",
   "execution_count": 12,
   "id": "267bccef",
   "metadata": {},
   "outputs": [],
   "source": [
    "class Solution:\n",
    "    def change(self, amount: int, coins: List[int]) -> int:\n",
    "        dp = [0]*(amount+1)\n",
    "        dp[0] = 1\n",
    "        print(dp)\n",
    "        for coin in coins:\n",
    "            for i in range(amount+1):\n",
    "                if i+coin <= amount:\n",
    "                    dp[i+coin] += dp[i]\n",
    "                    print(dp)\n",
    "        \n",
    "        return dp[amount]\n",
    "\n",
    "s = Solution()"
   ]
  },
  {
   "cell_type": "code",
   "execution_count": 13,
   "id": "8f37920a",
   "metadata": {},
   "outputs": [
    {
     "name": "stdout",
     "output_type": "stream",
     "text": [
      "[1, 0, 0, 0, 0, 0]\n",
      "[1, 1, 0, 0, 0, 0]\n",
      "[1, 1, 1, 0, 0, 0]\n",
      "[1, 1, 1, 1, 0, 0]\n",
      "[1, 1, 1, 1, 1, 0]\n",
      "[1, 1, 1, 1, 1, 1]\n",
      "[1, 1, 2, 1, 1, 1]\n",
      "[1, 1, 2, 2, 1, 1]\n",
      "[1, 1, 2, 2, 3, 1]\n",
      "[1, 1, 2, 2, 3, 3]\n",
      "[1, 1, 2, 2, 3, 4]\n"
     ]
    },
    {
     "data": {
      "text/plain": [
       "4"
      ]
     },
     "execution_count": 13,
     "metadata": {},
     "output_type": "execute_result"
    }
   ],
   "source": [
    "s.change(amount = 5, coins = [1,2,5])"
   ]
  },
  {
   "cell_type": "code",
   "execution_count": 14,
   "id": "e3177221",
   "metadata": {},
   "outputs": [],
   "source": [
    "import math"
   ]
  },
  {
   "cell_type": "code",
   "execution_count": 15,
   "id": "f28699d4",
   "metadata": {},
   "outputs": [
    {
     "data": {
      "text/plain": [
       "4.0"
      ]
     },
     "execution_count": 15,
     "metadata": {},
     "output_type": "execute_result"
    }
   ],
   "source": [
    "math.sqrt(16)"
   ]
  },
  {
   "cell_type": "code",
   "execution_count": 16,
   "id": "d1c45a72",
   "metadata": {},
   "outputs": [
    {
     "data": {
      "text/plain": [
       "3.872983346207417"
      ]
     },
     "execution_count": 16,
     "metadata": {},
     "output_type": "execute_result"
    }
   ],
   "source": [
    "math.sqrt(15)"
   ]
  },
  {
   "cell_type": "markdown",
   "id": "88bf1734",
   "metadata": {},
   "source": [
    "### Find All Anagrams in a String"
   ]
  },
  {
   "cell_type": "code",
   "execution_count": 40,
   "id": "36e9ddbe",
   "metadata": {},
   "outputs": [],
   "source": [
    "class Solution:\n",
    "    def findAnagrams(self, s: str, p: str) -> List[int]:\n",
    "        i = j = 0\n",
    "        # find the window size.\n",
    "        n = len(p)\n",
    "        \n",
    "        # calculate the occurance of each letter in the window\n",
    "        mapper = {}\n",
    "        for w in p:\n",
    "            if w in mapper: mapper[w] +=1\n",
    "            else: mapper[w] = 1\n",
    "        # Track the char count falling to 0, for longer window size it's vital\n",
    "        count = len(mapper)\n",
    "        ans = []\n",
    "        \n",
    "        while j < len(s):\n",
    "            # calculation for j\n",
    "            if s[j] in mapper:\n",
    "                # if char found reduce the count in the mapper\n",
    "                mapper[s[j]] -= 1\n",
    "                # if the count in mapper 0 reduce count, indicates that one char is fully encountered.\n",
    "                if mapper[s[j]] == 0: count -=1\n",
    "                    \n",
    "            # increase window size\n",
    "            if j-i+1 < n:\n",
    "                j +=1\n",
    "            elif j-i+1 == n:\n",
    "                # find the ans from the calculation, if count is 0 on window match, it's an anagram.\n",
    "                if count == 0:\n",
    "                    ans.append(i)\n",
    "                if s[i] in mapper:\n",
    "                    # remove calculation for i. in this case increase count for s[i] in mapper as well as in count\n",
    "                    mapper[s[i]] += 1\n",
    "                    if mapper[s[i]] == 1: count += 1\n",
    "                # Slide the window\n",
    "                i +=1\n",
    "                j +=1\n",
    "        return ans\n",
    "s = Solution()"
   ]
  },
  {
   "cell_type": "code",
   "execution_count": 41,
   "id": "d15c2629",
   "metadata": {},
   "outputs": [
    {
     "data": {
      "text/plain": [
       "[0, 6]"
      ]
     },
     "execution_count": 41,
     "metadata": {},
     "output_type": "execute_result"
    }
   ],
   "source": [
    "s.findAnagrams(s = \"cbaebabacd\", p = \"abc\")"
   ]
  },
  {
   "cell_type": "code",
   "execution_count": 76,
   "id": "aa7a4f16",
   "metadata": {},
   "outputs": [],
   "source": [
    "class Solution:\n",
    "    def findMaxLength(self, nums: List[int]) -> int:\n",
    "        i,j,n = 0,0,len(nums)\n",
    "        c0, c1 = 0,0\n",
    "        out = 0\n",
    "        while i < n:\n",
    "            if j < n:\n",
    "                if nums[j] == 0:\n",
    "                    c0 += 1\n",
    "                else:\n",
    "                    c1 += 1\n",
    "                j += 1\n",
    "                \n",
    "            elif j == n:\n",
    "                if nums[i] == 0:\n",
    "                    c0 -= 1\n",
    "                else:\n",
    "                    c1 -= 1\n",
    "                i += 1\n",
    "\n",
    "            if c0 == c1:\n",
    "                print(i, j, c0,c1, out)\n",
    "                out = max(out, j-i)\n",
    "        return out\n",
    "s = Solution()"
   ]
  },
  {
   "cell_type": "code",
   "execution_count": 77,
   "id": "7d7aff04",
   "metadata": {},
   "outputs": [
    {
     "name": "stdout",
     "output_type": "stream",
     "text": [
      "2 8 3 3 0\n",
      "4 8 2 2 6\n",
      "8 8 0 0 6\n"
     ]
    },
    {
     "data": {
      "text/plain": [
       "6"
      ]
     },
     "execution_count": 77,
     "metadata": {},
     "output_type": "execute_result"
    }
   ],
   "source": [
    "s.findMaxLength([0,0,1,0,0,0,1,1])"
   ]
  },
  {
   "cell_type": "code",
   "execution_count": 78,
   "id": "fcfb568b",
   "metadata": {},
   "outputs": [
    {
     "name": "stdout",
     "output_type": "stream",
     "text": [
      "0 2 1 1 0\n",
      "2 2 0 0 2\n"
     ]
    },
    {
     "data": {
      "text/plain": [
       "2"
      ]
     },
     "execution_count": 78,
     "metadata": {},
     "output_type": "execute_result"
    }
   ],
   "source": [
    "s.findMaxLength([0,1])"
   ]
  },
  {
   "cell_type": "code",
   "execution_count": 79,
   "id": "a0734b34",
   "metadata": {},
   "outputs": [
    {
     "name": "stdout",
     "output_type": "stream",
     "text": [
      "0 2 1 1 0\n",
      "1 3 1 1 2\n",
      "3 3 0 0 2\n"
     ]
    },
    {
     "data": {
      "text/plain": [
       "2"
      ]
     },
     "execution_count": 79,
     "metadata": {},
     "output_type": "execute_result"
    }
   ],
   "source": [
    "s.findMaxLength([0,1,0])"
   ]
  },
  {
   "cell_type": "code",
   "execution_count": 80,
   "id": "b5627197",
   "metadata": {},
   "outputs": [
    {
     "name": "stdout",
     "output_type": "stream",
     "text": [
      "0 2 1 1 0\n",
      "0 4 2 2 2\n",
      "0 8 4 4 4\n",
      "64 100 18 18 8\n",
      "66 100 17 17 36\n",
      "68 100 16 16 36\n",
      "70 100 15 15 36\n",
      "72 100 14 14 36\n",
      "92 100 4 4 36\n",
      "94 100 3 3 36\n",
      "96 100 2 2 36\n",
      "100 100 0 0 36\n"
     ]
    },
    {
     "data": {
      "text/plain": [
       "36"
      ]
     },
     "execution_count": 80,
     "metadata": {},
     "output_type": "execute_result"
    }
   ],
   "source": [
    "s.findMaxLength([0,1,0,1,1,1,0,0,1,1,0,1,1,1,1,1,1,0,1,1,0,1,1,0,0,0,1,0,1,0,0,1,0,1,1,1,1,1,1,0,0,0,0,1,0,0,0,1,1,1,0,1,0,0,1,1,1,1,1,0,0,1,1,1,1,0,0,1,0,1,1,0,0,0,0,0,0,1,0,1,0,1,1,0,0,1,1,0,1,1,1,1,0,1,1,0,0,0,1,1])"
   ]
  },
  {
   "cell_type": "markdown",
   "id": "18d2169a",
   "metadata": {},
   "source": [
    "### Merge K Sorted Lists"
   ]
  },
  {
   "cell_type": "code",
   "execution_count": 82,
   "id": "18039768",
   "metadata": {},
   "outputs": [],
   "source": [
    "# Definition for singly-linked list.\n",
    "# class ListNode:\n",
    "#     def __init__(self, val=0, next=None):\n",
    "#         self.val = val\n",
    "#         self.next = next\n",
    "import queue\n",
    "from dataclasses import dataclass, field\n",
    "\n",
    "@dataclass(order=True)\n",
    "class PrioritizedItem:\n",
    "    data: int = field(compare=True)\n",
    "    node: object = field(compare=False)\n",
    "\n",
    "\n",
    "class Solution(object):\n",
    "    def mergeKLists(self, lists):\n",
    "        \"\"\"\n",
    "        :type lists: List[ListNode]\n",
    "        :rtype: ListNode\n",
    "        \"\"\"\n",
    "        head = point = ListNode(0)\n",
    "        q = queue.PriorityQueue()\n",
    "        for l in lists:\n",
    "            if l:\n",
    "                item = PrioritizedItem(l.val, l)\n",
    "                q.put(item)\n",
    "        while not q.empty():\n",
    "            item = q.get()\n",
    "            val, node = item.data, item.node\n",
    "            point.next = ListNode(val)\n",
    "            point = point.next\n",
    "            node = node.next\n",
    "            if node:\n",
    "                item = PrioritizedItem(node.val, node)\n",
    "                q.put(item)\n",
    "        return head.next"
   ]
  },
  {
   "cell_type": "code",
   "execution_count": 84,
   "id": "46c9f654",
   "metadata": {},
   "outputs": [
    {
     "data": {
      "text/plain": [
       "2"
      ]
     },
     "execution_count": 84,
     "metadata": {},
     "output_type": "execute_result"
    }
   ],
   "source": [
    "def helper(num):\n",
    "    if len(str(num)) == 1:\n",
    "        return num\n",
    "    \n",
    "    return helper(sum(map(int, list(str(num)))))\n",
    "\n",
    "helper(38)"
   ]
  },
  {
   "cell_type": "code",
   "execution_count": 1,
   "id": "9a29c8d3",
   "metadata": {},
   "outputs": [],
   "source": [
    "from collections import Counter"
   ]
  },
  {
   "cell_type": "code",
   "execution_count": 3,
   "id": "516f0186",
   "metadata": {},
   "outputs": [
    {
     "data": {
      "text/plain": [
       "Counter({1: 2, 2: 1, 3: 1, 4: 1})"
      ]
     },
     "execution_count": 3,
     "metadata": {},
     "output_type": "execute_result"
    }
   ],
   "source": [
    "Counter([1,2,1,3,4])"
   ]
  },
  {
   "cell_type": "code",
   "execution_count": null,
   "id": "e114d2e0",
   "metadata": {},
   "outputs": [],
   "source": []
  },
  {
   "cell_type": "code",
   "execution_count": null,
   "id": "d021d816",
   "metadata": {},
   "outputs": [],
   "source": []
  },
  {
   "cell_type": "code",
   "execution_count": 13,
   "id": "519ac1e8",
   "metadata": {},
   "outputs": [
    {
     "name": "stdout",
     "output_type": "stream",
     "text": [
      "2 100\n",
      "3 2\n",
      "-1 2\n",
      "5 1\n",
      "2 1\n",
      "-1\n"
     ]
    }
   ],
   "source": [
    "# Write your code here\n",
    "def getmin(a):\n",
    "    mindist = 100\n",
    "    m = a[0]\n",
    "\n",
    "    for i in a:\n",
    "        print(i, mindist)\n",
    "        if abs(i) == mindist:\n",
    "            m = max(i, m)\n",
    "        elif abs(i) < mindist:\n",
    "            m = i\n",
    "            mindist = abs(i)\n",
    "    return m\n",
    "\n",
    "\n",
    "def get_inputs():\n",
    "    n = int(input())\n",
    "    A = input()\n",
    "    # print(A)\n",
    "    a = [int(i) for i in A.split(' ')]\n",
    "    # print(list(a))\n",
    "    return a\n",
    "\n",
    "# data = get_inputs()\n",
    "print(getmin([2,3,-1,5,2]))"
   ]
  },
  {
   "cell_type": "code",
   "execution_count": null,
   "id": "2e968d9f",
   "metadata": {},
   "outputs": [],
   "source": []
  },
  {
   "cell_type": "code",
   "execution_count": null,
   "id": "8dfef6be",
   "metadata": {},
   "outputs": [],
   "source": []
  },
  {
   "cell_type": "code",
   "execution_count": null,
   "id": "a9edf20d",
   "metadata": {},
   "outputs": [],
   "source": []
  }
 ],
 "metadata": {
  "kernelspec": {
   "display_name": "Python 3 (ipykernel)",
   "language": "python",
   "name": "python3"
  },
  "language_info": {
   "codemirror_mode": {
    "name": "ipython",
    "version": 3
   },
   "file_extension": ".py",
   "mimetype": "text/x-python",
   "name": "python",
   "nbconvert_exporter": "python",
   "pygments_lexer": "ipython3",
   "version": "3.8.5"
  }
 },
 "nbformat": 4,
 "nbformat_minor": 5
}
