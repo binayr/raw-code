{
 "cells": [
  {
   "cell_type": "markdown",
   "id": "5e906811",
   "metadata": {},
   "source": [
    "### 49. Min stack"
   ]
  },
  {
   "cell_type": "code",
   "execution_count": 13,
   "id": "e9aa1773",
   "metadata": {},
   "outputs": [],
   "source": [
    "class MinStack:\n",
    "\n",
    "    def __init__(self):\n",
    "        \"\"\"\n",
    "        initialize your data structure here.\n",
    "        \"\"\"\n",
    "        self.container = []\n",
    "        self.min_queue = []\n",
    "\n",
    "    def push(self, val: int) -> None:\n",
    "        self.container.append(val)\n",
    "        if not self.min_queue or self.min_queue[-1] < val:\n",
    "            self.min_queue.append(val)\n",
    "        elif self.min_queue[0] > val:\n",
    "            self.min_queue.insert(0, val)\n",
    "\n",
    "    def pop(self) -> None:\n",
    "        val = self.container.pop(-1)\n",
    "        if val == self.min_queue[0] and val not in self.container:\n",
    "            self.min_queue.pop(0)\n",
    "        return val\n",
    "        \n",
    "    def top(self) -> int:\n",
    "        return self.container[-1]\n",
    "\n",
    "    def getMin(self) -> int:\n",
    "        return self.min_queue[0]\n",
    "        "
   ]
  },
  {
   "cell_type": "code",
   "execution_count": 14,
   "id": "a2e5fb1d",
   "metadata": {},
   "outputs": [
    {
     "name": "stdout",
     "output_type": "stream",
     "text": [
      "-3\n",
      "-3\n",
      "-3\n",
      "0\n",
      "-2\n"
     ]
    }
   ],
   "source": [
    "\n",
    "\n",
    "# Your MinStack object will be instantiated and called as such:\n",
    "# MinStack minStack = new MinStack();\n",
    "# minStack.push(-2);\n",
    "# minStack.push(0);\n",
    "# minStack.push(-3);\n",
    "# minStack.getMin(); // return -3\n",
    "# minStack.pop();\n",
    "# minStack.top();    // return 0\n",
    "# minStack.getMin(); // return -2\n",
    "\n",
    "obj = MinStack()\n",
    "obj.push(-2)\n",
    "obj.push(0)\n",
    "obj.push(-3)\n",
    "print(obj.getMin())\n",
    "print(obj.top())\n",
    "print(obj.getMin())\n",
    "obj.pop()\n",
    "print(obj.top())\n",
    "print(obj.getMin())"
   ]
  },
  {
   "cell_type": "code",
   "execution_count": 15,
   "id": "a5c0a0a0",
   "metadata": {},
   "outputs": [
    {
     "name": "stdout",
     "output_type": "stream",
     "text": [
      "0\n",
      "0\n"
     ]
    }
   ],
   "source": [
    "obj = MinStack()\n",
    "obj.push(0)\n",
    "obj.push(1)\n",
    "obj.push(0)\n",
    "print(obj.getMin())\n",
    "obj.pop()\n",
    "print(obj.getMin())"
   ]
  },
  {
   "cell_type": "markdown",
   "id": "2cc30f8c",
   "metadata": {},
   "source": [
    "### 50. Intersection of 2 linked list (unsolved)"
   ]
  },
  {
   "cell_type": "code",
   "execution_count": 18,
   "id": "1b52772d",
   "metadata": {},
   "outputs": [],
   "source": [
    "# Definition for singly-linked list.\n",
    "class ListNode:\n",
    "    def __init__(self, x):\n",
    "        self.val = x\n",
    "        self.next = None\n",
    "\n",
    "class Solution:\n",
    "    def getIntersectionNode(self, headA,headB):\n",
    "        curr1 = headA\n",
    "        curr2 = headB\n",
    "        \n",
    "        while curr1 != curr2:\n",
    "            if curr1 == None:\n",
    "                curr1 = headB\n",
    "            elif curr2 == None:\n",
    "                curr2 = headA\n",
    "            else:\n",
    "                curr1 = curr1.next\n",
    "                curr2 = curr2.next\n",
    "                \n",
    "        return curr1\n",
    "\n",
    "s = Solution()"
   ]
  },
  {
   "cell_type": "code",
   "execution_count": 25,
   "id": "2b8870a6",
   "metadata": {},
   "outputs": [],
   "source": [
    "[1,9,1,2,4]\n",
    "[3,2,4]\n",
    "heada = ListNode(1)\n",
    "heada.next = ListNode(9)\n",
    "heada.next.next = ListNode(1)\n",
    "heada.next.next.next = ListNode(2)\n",
    "heada.next.next.next.next = ListNode(4)\n",
    "\n",
    "headb = ListNode(3)\n",
    "headb.next = ListNode(2)\n",
    "headb.next.next = ListNode(4)\n",
    "\n",
    "head = s.getIntersectionNode(heada, headb)"
   ]
  },
  {
   "cell_type": "code",
   "execution_count": 26,
   "id": "09615f5e",
   "metadata": {},
   "outputs": [],
   "source": [
    "head"
   ]
  },
  {
   "cell_type": "code",
   "execution_count": 27,
   "id": "3c774513",
   "metadata": {},
   "outputs": [],
   "source": [
    "class Solution:\n",
    "    def getIntersectionNode(self, headA: ListNode, headB: ListNode) -> ListNode:\n",
    "        \n",
    "        def length(head):\n",
    "            steps = 0\n",
    "            while head:\n",
    "                steps += 1\n",
    "                head = head.next\n",
    "            return steps\n",
    "        \n",
    "        la = length(headA)\n",
    "        lb = length(headB)\n",
    "        \n",
    "        if la > lb :\n",
    "            headA, headB = headB, headA\n",
    "        \n",
    "        for _ in range(0, abs(la-lb)):\n",
    "            headB = headB.next\n",
    "        \n",
    "        while headB and headA and headB is not headA:\n",
    "            headA = headA.next\n",
    "            headB = headB.next\n",
    "        \n",
    "        return headA\n",
    "s = Solution()"
   ]
  },
  {
   "cell_type": "code",
   "execution_count": 28,
   "id": "cd43c283",
   "metadata": {},
   "outputs": [],
   "source": [
    "[1,9,1,2,4]\n",
    "[3,2,4]\n",
    "heada = ListNode(1)\n",
    "heada.next = ListNode(9)\n",
    "heada.next.next = ListNode(1)\n",
    "heada.next.next.next = ListNode(2)\n",
    "heada.next.next.next.next = ListNode(4)\n",
    "\n",
    "headb = ListNode(3)\n",
    "headb.next = ListNode(2)\n",
    "headb.next.next = ListNode(4)\n",
    "\n",
    "head = s.getIntersectionNode(heada, headb)"
   ]
  },
  {
   "cell_type": "markdown",
   "id": "1d34e19a",
   "metadata": {},
   "source": [
    "### 51. majority"
   ]
  },
  {
   "cell_type": "code",
   "execution_count": 49,
   "id": "134521ef",
   "metadata": {},
   "outputs": [],
   "source": [
    "import math\n",
    "\n",
    "class Solution:\n",
    "    def majorityElement(self, nums: list) -> int:\n",
    "        count = {}\n",
    "        length = len(nums)\n",
    "        thresshold = int(math.ceil(0.5 * length))\n",
    "        \n",
    "        print(count, length, thresshold)\n",
    "        print('-----------')\n",
    "        for i in nums:\n",
    "            print(i)\n",
    "            if i in count:\n",
    "                count[i] += 1\n",
    "            else:\n",
    "                count[i] = 1\n",
    "            print(count)\n",
    "            print('=====')\n",
    "            if count[i] >= thresshold:\n",
    "                return i\n",
    "    \n",
    "        \n",
    "s = Solution() "
   ]
  },
  {
   "cell_type": "code",
   "execution_count": 50,
   "id": "dc258d43",
   "metadata": {},
   "outputs": [
    {
     "name": "stdout",
     "output_type": "stream",
     "text": [
      "{} 3 2\n",
      "-----------\n",
      "3\n",
      "{3: 1}\n",
      "=====\n",
      "2\n",
      "{3: 1, 2: 1}\n",
      "=====\n",
      "3\n",
      "{3: 2, 2: 1}\n",
      "=====\n"
     ]
    },
    {
     "data": {
      "text/plain": [
       "3"
      ]
     },
     "execution_count": 50,
     "metadata": {},
     "output_type": "execute_result"
    }
   ],
   "source": [
    "nums = [3,2,3]\n",
    "s.majorityElement(nums)"
   ]
  },
  {
   "cell_type": "code",
   "execution_count": 51,
   "id": "7ccb07ba",
   "metadata": {},
   "outputs": [
    {
     "name": "stdout",
     "output_type": "stream",
     "text": [
      "{} 7 4\n",
      "-----------\n",
      "2\n",
      "{2: 1}\n",
      "=====\n",
      "2\n",
      "{2: 2}\n",
      "=====\n",
      "1\n",
      "{2: 2, 1: 1}\n",
      "=====\n",
      "1\n",
      "{2: 2, 1: 2}\n",
      "=====\n",
      "1\n",
      "{2: 2, 1: 3}\n",
      "=====\n",
      "2\n",
      "{2: 3, 1: 3}\n",
      "=====\n",
      "2\n",
      "{2: 4, 1: 3}\n",
      "=====\n"
     ]
    },
    {
     "data": {
      "text/plain": [
       "2"
      ]
     },
     "execution_count": 51,
     "metadata": {},
     "output_type": "execute_result"
    }
   ],
   "source": [
    "nums = [2,2,1,1,1,2,2]\n",
    "s.majorityElement(nums)"
   ]
  },
  {
   "cell_type": "markdown",
   "id": "1ac90589",
   "metadata": {},
   "source": [
    "### 52. happy number"
   ]
  },
  {
   "cell_type": "code",
   "execution_count": 122,
   "id": "a6af27e1",
   "metadata": {},
   "outputs": [],
   "source": [
    "class Solution:\n",
    "    def isHappy(self, n: int) -> bool:\n",
    "        def split_num(num):\n",
    "            nums = [int(i) for i in str(num)]\n",
    "            return nums\n",
    "        \n",
    "        def square_add(nums):\n",
    "            _sum = sum(map(lambda x: x**2, nums))\n",
    "            return _sum\n",
    "        \n",
    "        res, count = n, 0\n",
    "        while res != 1 and count < 999:\n",
    "            nums = split_num(res)\n",
    "            res = square_add(nums)\n",
    "            count += 1\n",
    "        if res ==1:\n",
    "            return True\n",
    "        else:\n",
    "            return False\n",
    "            \n",
    "            \n",
    "s = Solution() "
   ]
  },
  {
   "cell_type": "code",
   "execution_count": 123,
   "id": "05d8bddf",
   "metadata": {},
   "outputs": [
    {
     "data": {
      "text/plain": [
       "True"
      ]
     },
     "execution_count": 123,
     "metadata": {},
     "output_type": "execute_result"
    }
   ],
   "source": [
    "s.isHappy(19)"
   ]
  },
  {
   "cell_type": "code",
   "execution_count": 124,
   "id": "18629114",
   "metadata": {},
   "outputs": [
    {
     "data": {
      "text/plain": [
       "False"
      ]
     },
     "execution_count": 124,
     "metadata": {},
     "output_type": "execute_result"
    }
   ],
   "source": [
    "s.isHappy(2)"
   ]
  },
  {
   "cell_type": "code",
   "execution_count": 125,
   "id": "aa7a4b86",
   "metadata": {},
   "outputs": [
    {
     "data": {
      "text/plain": [
       "True"
      ]
     },
     "execution_count": 125,
     "metadata": {},
     "output_type": "execute_result"
    }
   ],
   "source": [
    "s.isHappy(7)"
   ]
  },
  {
   "cell_type": "code",
   "execution_count": null,
   "id": "24cb470d",
   "metadata": {},
   "outputs": [],
   "source": []
  },
  {
   "cell_type": "code",
   "execution_count": 160,
   "id": "55410514",
   "metadata": {},
   "outputs": [
    {
     "data": {
      "text/plain": [
       "(4294967295, '0b11111111111111111111111111111111', 32)"
      ]
     },
     "execution_count": 160,
     "metadata": {},
     "output_type": "execute_result"
    }
   ],
   "source": [
    "inp = '00000010100101000001111010011100'\n",
    "inp = '11111111111111111111111111111111'\n",
    "x = int(inp, 2)\n",
    "y = bin(x)\n",
    "n = len(inp)\n",
    "x, y, n"
   ]
  },
  {
   "cell_type": "code",
   "execution_count": 159,
   "id": "795b0961",
   "metadata": {},
   "outputs": [
    {
     "data": {
      "text/plain": [
       "4251705699"
      ]
     },
     "execution_count": 159,
     "metadata": {},
     "output_type": "execute_result"
    }
   ],
   "source": [
    "mapper = {'1':'0', '0':'1'}\n",
    "res = [mapper[i] for i in inp]\n",
    "x = int(''.join(res), 2)\n",
    "x"
   ]
  },
  {
   "cell_type": "markdown",
   "id": "ddafc66e",
   "metadata": {},
   "source": [
    "### 53. Excel columns"
   ]
  },
  {
   "cell_type": "code",
   "execution_count": 184,
   "id": "17b70ba0",
   "metadata": {},
   "outputs": [],
   "source": [
    "class Solution:\n",
    "    __mapper = {\n",
    "        \"A\": 1, \"B\": 2, \"C\": 3, \"D\": 4, \"E\": 5, \"F\": 6, \"G\": 7, \"H\": 8, \"I\": 9, \"J\": 10,\n",
    "        \"K\": 11, \"L\": 12, \"M\": 13, \"N\": 14, \"O\": 15, \"P\": 16, \"Q\": 17, \"R\": 18, \"S\": 19, \"T\": 20,\n",
    "        \"U\": 21, \"V\": 22, \"W\": 23, \"X\": 24, \"Y\": 25, \"Z\": 26\n",
    "    }\n",
    "    def titleToNumber(self, columnTitle: str) -> int:\n",
    "        result = 0\n",
    "        n = len(columnTitle) - 1\n",
    "        curr = 0\n",
    "        while curr < len(columnTitle):\n",
    "            result += self.__mapper[columnTitle[curr]] * 26**n\n",
    "            curr += 1\n",
    "            n -= 1\n",
    "        return result\n",
    "    \n",
    "s = Solution()"
   ]
  },
  {
   "cell_type": "code",
   "execution_count": 185,
   "id": "58c27786",
   "metadata": {},
   "outputs": [
    {
     "data": {
      "text/plain": [
       "1"
      ]
     },
     "execution_count": 185,
     "metadata": {},
     "output_type": "execute_result"
    }
   ],
   "source": [
    "s.titleToNumber('A')"
   ]
  },
  {
   "cell_type": "code",
   "execution_count": 186,
   "id": "820a7216",
   "metadata": {},
   "outputs": [
    {
     "data": {
      "text/plain": [
       "28"
      ]
     },
     "execution_count": 186,
     "metadata": {},
     "output_type": "execute_result"
    }
   ],
   "source": [
    "s.titleToNumber('AB')"
   ]
  },
  {
   "cell_type": "code",
   "execution_count": 187,
   "id": "557461f7",
   "metadata": {},
   "outputs": [
    {
     "data": {
      "text/plain": [
       "701"
      ]
     },
     "execution_count": 187,
     "metadata": {},
     "output_type": "execute_result"
    }
   ],
   "source": [
    "s.titleToNumber('ZY')"
   ]
  },
  {
   "cell_type": "code",
   "execution_count": 188,
   "id": "751eeeee",
   "metadata": {},
   "outputs": [
    {
     "data": {
      "text/plain": [
       "2147483647"
      ]
     },
     "execution_count": 188,
     "metadata": {},
     "output_type": "execute_result"
    }
   ],
   "source": [
    "s.titleToNumber('FXSHRXW')"
   ]
  },
  {
   "cell_type": "markdown",
   "id": "597dd11e",
   "metadata": {},
   "source": [
    "### 54. Trailing Zeros"
   ]
  },
  {
   "cell_type": "code",
   "execution_count": 190,
   "id": "1db49956",
   "metadata": {},
   "outputs": [],
   "source": [
    "class Solution:\n",
    "\tdef trailingZeroes(self, n: int) -> int:\n",
    "\n",
    "\t\ttemp = 0\n",
    "\n",
    "\t\twhile n >= 5:\n",
    "\t\t\tn = (n // 5)\n",
    "\t\t\ttemp += n\n",
    "\n",
    "\t\treturn temp\n",
    "\n",
    "s = Solution()"
   ]
  },
  {
   "cell_type": "code",
   "execution_count": 191,
   "id": "eaa221ab",
   "metadata": {},
   "outputs": [
    {
     "data": {
      "text/plain": [
       "34"
      ]
     },
     "execution_count": 191,
     "metadata": {},
     "output_type": "execute_result"
    }
   ],
   "source": [
    "s.trailingZeroes(143)"
   ]
  },
  {
   "cell_type": "markdown",
   "id": "77b6d146",
   "metadata": {},
   "source": [
    "### 55. Palindrome linked list"
   ]
  },
  {
   "cell_type": "code",
   "execution_count": 193,
   "id": "eb6f8306",
   "metadata": {},
   "outputs": [],
   "source": [
    "# Definition for singly-linked list.\n",
    "class ListNode:\n",
    "    def __init__(self, val=0, next=None):\n",
    "        self.val = val\n",
    "        self.next = next\n",
    "\n",
    "class Solution:\n",
    "    def isPalindrome(self, head) -> bool:\n",
    "        temp = []\n",
    "        while head:\n",
    "            if temp and head.val == temp[-1]:\n",
    "                temp.pop(-1)\n",
    "            else:\n",
    "                temp.append(head.val)\n",
    "            head = head.next\n",
    "        return True if not temp else False\n",
    "s = Solution()"
   ]
  },
  {
   "cell_type": "code",
   "execution_count": 196,
   "id": "2f7ed53d",
   "metadata": {},
   "outputs": [
    {
     "data": {
      "text/plain": [
       "True"
      ]
     },
     "execution_count": 196,
     "metadata": {},
     "output_type": "execute_result"
    }
   ],
   "source": [
    "[1,2,2,1]\n",
    "head = ListNode(1)\n",
    "head.next = ListNode(2)\n",
    "head.next.next = ListNode(2)\n",
    "head.next.next.next = ListNode(1)\n",
    "s.isPalindrome(head)"
   ]
  },
  {
   "cell_type": "code",
   "execution_count": 197,
   "id": "3d29bbb6",
   "metadata": {},
   "outputs": [
    {
     "data": {
      "text/plain": [
       "True"
      ]
     },
     "execution_count": 197,
     "metadata": {},
     "output_type": "execute_result"
    }
   ],
   "source": [
    "[1,2,2,3,1,1,3,1]\n",
    "head = ListNode(1)\n",
    "head.next = ListNode(2)\n",
    "head.next.next = ListNode(2)\n",
    "head.next.next.next = ListNode(3)\n",
    "head.next.next.next.next = ListNode(1)\n",
    "head.next.next.next.next.next = ListNode(1)\n",
    "head.next.next.next.next.next.next = ListNode(3)\n",
    "head.next.next.next.next.next.next.next = ListNode(1)\n",
    "s.isPalindrome(head)"
   ]
  },
  {
   "cell_type": "code",
   "execution_count": 200,
   "id": "5d31420f",
   "metadata": {},
   "outputs": [],
   "source": [
    "# Definition for singly-linked list.\n",
    "# class ListNode:\n",
    "#     def __init__(self, val=0, next=None):\n",
    "#         self.val = val\n",
    "#         self.next = next\n",
    "class Solution:\n",
    "    def isPalindrome(self, head) -> bool:\n",
    "        temp = []\n",
    "        while head:\n",
    "            temp.append(head.val)\n",
    "            head = head.next\n",
    "        return temp == temp[::-1]\n",
    "s = Solution()"
   ]
  },
  {
   "cell_type": "code",
   "execution_count": 201,
   "id": "25e705e7",
   "metadata": {},
   "outputs": [
    {
     "data": {
      "text/plain": [
       "False"
      ]
     },
     "execution_count": 201,
     "metadata": {},
     "output_type": "execute_result"
    }
   ],
   "source": [
    "[1,2,2,3,1,1,3,1]\n",
    "head = ListNode(1)\n",
    "head.next = ListNode(2)\n",
    "head.next.next = ListNode(2)\n",
    "head.next.next.next = ListNode(3)\n",
    "head.next.next.next.next = ListNode(1)\n",
    "head.next.next.next.next.next = ListNode(1)\n",
    "head.next.next.next.next.next.next = ListNode(3)\n",
    "head.next.next.next.next.next.next.next = ListNode(1)\n",
    "s.isPalindrome(head)"
   ]
  },
  {
   "cell_type": "markdown",
   "id": "b1a720b2",
   "metadata": {},
   "source": [
    "### 56. Contains Duplicate"
   ]
  },
  {
   "cell_type": "code",
   "execution_count": 203,
   "id": "7d12f4e8",
   "metadata": {},
   "outputs": [],
   "source": [
    "class Solution:\n",
    "    def containsDuplicate(self, nums) -> bool:\n",
    "        return not len(nums) == len(set(nums))\n",
    "s = Solution()"
   ]
  },
  {
   "cell_type": "code",
   "execution_count": 204,
   "id": "177fdf01",
   "metadata": {},
   "outputs": [
    {
     "data": {
      "text/plain": [
       "True"
      ]
     },
     "execution_count": 204,
     "metadata": {},
     "output_type": "execute_result"
    }
   ],
   "source": [
    "s.containsDuplicate([1,2,3,1])"
   ]
  },
  {
   "cell_type": "markdown",
   "id": "ea0e777a",
   "metadata": {},
   "source": [
    "### 57. Reverse Linked List"
   ]
  },
  {
   "cell_type": "code",
   "execution_count": 228,
   "id": "795fe2e0",
   "metadata": {},
   "outputs": [],
   "source": [
    "# Definition for singly-linked list.\n",
    "class ListNode:\n",
    "    def __init__(self, val=0, next=None):\n",
    "        self.val = val\n",
    "        self.next = next\n",
    "        \n",
    "def traverse(head):\n",
    "    while head:\n",
    "        print(head.val, end=' -> ')\n",
    "        head = head.next\n",
    "\n",
    "class Solution:\n",
    "    def reverseList(self, head):\n",
    "        curr = None\n",
    "        while head:\n",
    "            node = head\n",
    "            head = head.next\n",
    "            \n",
    "            node.next = curr\n",
    "            curr = node\n",
    "            \n",
    "        return curr\n",
    "\n",
    "s = Solution()"
   ]
  },
  {
   "cell_type": "code",
   "execution_count": 231,
   "id": "77657510",
   "metadata": {},
   "outputs": [
    {
     "name": "stdout",
     "output_type": "stream",
     "text": [
      "1 -> 2 -> 3 -> 4 -> "
     ]
    }
   ],
   "source": [
    "[1,2,2,1]\n",
    "head = ListNode(1)\n",
    "head.next = ListNode(2)\n",
    "head.next.next = ListNode(3)\n",
    "head.next.next.next = ListNode(4)\n",
    "traverse(head)"
   ]
  },
  {
   "cell_type": "code",
   "execution_count": 232,
   "id": "045b4037",
   "metadata": {},
   "outputs": [
    {
     "name": "stdout",
     "output_type": "stream",
     "text": [
      "4 -> 3 -> 2 -> 1 -> "
     ]
    }
   ],
   "source": [
    "new = s.reverseList(head)\n",
    "traverse(new)"
   ]
  },
  {
   "cell_type": "code",
   "execution_count": 233,
   "id": "9656ea19",
   "metadata": {},
   "outputs": [],
   "source": [
    "def prime(n):\n",
    "    primes = 0\n",
    "    for num in range(2, n):\n",
    "        for i in range(2,num):\n",
    "            if (num%i==0):\n",
    "                break\n",
    "        else:\n",
    "            primes += 1\n",
    "    return primes"
   ]
  },
  {
   "cell_type": "code",
   "execution_count": 235,
   "id": "c4417262",
   "metadata": {},
   "outputs": [
    {
     "data": {
      "text/plain": [
       "4"
      ]
     },
     "execution_count": 235,
     "metadata": {},
     "output_type": "execute_result"
    }
   ],
   "source": [
    "prime(10)"
   ]
  },
  {
   "cell_type": "code",
   "execution_count": 236,
   "id": "815462b8",
   "metadata": {},
   "outputs": [
    {
     "data": {
      "text/plain": [
       "0"
      ]
     },
     "execution_count": 236,
     "metadata": {},
     "output_type": "execute_result"
    }
   ],
   "source": [
    "prime(0)"
   ]
  },
  {
   "cell_type": "code",
   "execution_count": 237,
   "id": "1e60a76f",
   "metadata": {},
   "outputs": [
    {
     "data": {
      "text/plain": [
       "0"
      ]
     },
     "execution_count": 237,
     "metadata": {},
     "output_type": "execute_result"
    }
   ],
   "source": [
    "prime(1)"
   ]
  },
  {
   "cell_type": "markdown",
   "id": "73316adc",
   "metadata": {},
   "source": [
    "### 58. Valid anagram"
   ]
  },
  {
   "cell_type": "code",
   "execution_count": 238,
   "id": "1876d60c",
   "metadata": {},
   "outputs": [],
   "source": [
    "class Solution:\n",
    "    def isAnagram(self, s: str, t: str) -> bool:\n",
    "        def count_char(inp):\n",
    "            _map = {}\n",
    "            for i in inp:\n",
    "                if i in _map:\n",
    "                    _map[i] += 1\n",
    "                else:\n",
    "                    _map[i] = 1\n",
    "            return _map\n",
    "        return count_char(s) == count_char(t)\n",
    "s = Solution()"
   ]
  },
  {
   "cell_type": "code",
   "execution_count": 239,
   "id": "b14fd715",
   "metadata": {},
   "outputs": [
    {
     "data": {
      "text/plain": [
       "True"
      ]
     },
     "execution_count": 239,
     "metadata": {},
     "output_type": "execute_result"
    }
   ],
   "source": [
    "s.isAnagram(\"anagram\", 'armgnaa')"
   ]
  },
  {
   "cell_type": "code",
   "execution_count": 240,
   "id": "c002b791",
   "metadata": {},
   "outputs": [
    {
     "data": {
      "text/plain": [
       "False"
      ]
     },
     "execution_count": 240,
     "metadata": {},
     "output_type": "execute_result"
    }
   ],
   "source": [
    "s.isAnagram(\"anagram\", 'armgnaaa')"
   ]
  },
  {
   "cell_type": "markdown",
   "id": "3fe1808b",
   "metadata": {},
   "source": [
    "### 59. Missing number"
   ]
  },
  {
   "cell_type": "code",
   "execution_count": 284,
   "id": "099e1949",
   "metadata": {},
   "outputs": [],
   "source": [
    "# Better to use set instead of a list as remove operation is O(1) in set and O(n) in list\n",
    "class Solution:\n",
    "    def missingNumber(self, nums) -> int:\n",
    "        n = len(nums)\n",
    "        superset = set(range(n+1))\n",
    "        for i in nums:\n",
    "            if i in superset:\n",
    "                superset.remove(i)\n",
    "        return list(superset)[0] if superset else None\n",
    "\n",
    "s = Solution()"
   ]
  },
  {
   "cell_type": "code",
   "execution_count": 285,
   "id": "3ce79087",
   "metadata": {},
   "outputs": [
    {
     "data": {
      "text/plain": [
       "2"
      ]
     },
     "execution_count": 285,
     "metadata": {},
     "output_type": "execute_result"
    }
   ],
   "source": [
    "s.missingNumber([3,0,1])"
   ]
  },
  {
   "cell_type": "code",
   "execution_count": 286,
   "id": "c3c60141",
   "metadata": {},
   "outputs": [
    {
     "data": {
      "text/plain": [
       "2"
      ]
     },
     "execution_count": 286,
     "metadata": {},
     "output_type": "execute_result"
    }
   ],
   "source": [
    "s.missingNumber([0,1])"
   ]
  },
  {
   "cell_type": "code",
   "execution_count": 287,
   "id": "3b5f2510",
   "metadata": {},
   "outputs": [
    {
     "data": {
      "text/plain": [
       "8"
      ]
     },
     "execution_count": 287,
     "metadata": {},
     "output_type": "execute_result"
    }
   ],
   "source": [
    "s.missingNumber([9,6,4,2,3,5,7,0,1])"
   ]
  },
  {
   "cell_type": "code",
   "execution_count": 288,
   "id": "e80fcf7a",
   "metadata": {},
   "outputs": [
    {
     "data": {
      "text/plain": [
       "1"
      ]
     },
     "execution_count": 288,
     "metadata": {},
     "output_type": "execute_result"
    }
   ],
   "source": [
    "s.missingNumber([0])"
   ]
  },
  {
   "cell_type": "markdown",
   "id": "ff6a6c7b",
   "metadata": {},
   "source": [
    "### 60. Move Zeros to end"
   ]
  },
  {
   "cell_type": "code",
   "execution_count": 291,
   "id": "e4a523cb",
   "metadata": {},
   "outputs": [],
   "source": [
    "class Solution:\n",
    "    def moveZeroes(self, nums) -> None:\n",
    "        \"\"\"\n",
    "        Do not return anything, modify nums in-place instead.\n",
    "        \"\"\"\n",
    "        n = len(nums) - 2\n",
    "        while n >= 0:\n",
    "            if nums[n] == 0:\n",
    "                nums.pop(n)\n",
    "                nums.append(0)\n",
    "            n -= 1\n",
    "        return nums\n",
    "    \n",
    "s = Solution()"
   ]
  },
  {
   "cell_type": "code",
   "execution_count": 292,
   "id": "017b5428",
   "metadata": {},
   "outputs": [
    {
     "data": {
      "text/plain": [
       "[1, 3, 12, 0, 0]"
      ]
     },
     "execution_count": 292,
     "metadata": {},
     "output_type": "execute_result"
    }
   ],
   "source": [
    "s.moveZeroes([0,1,0,3,12])"
   ]
  },
  {
   "cell_type": "code",
   "execution_count": 293,
   "id": "1194aafe",
   "metadata": {},
   "outputs": [
    {
     "data": {
      "text/plain": [
       "[0]"
      ]
     },
     "execution_count": 293,
     "metadata": {},
     "output_type": "execute_result"
    }
   ],
   "source": [
    "s.moveZeroes([0])"
   ]
  },
  {
   "cell_type": "markdown",
   "id": "e6decfb8",
   "metadata": {},
   "source": [
    "### 61. FizzBuzz"
   ]
  },
  {
   "cell_type": "code",
   "execution_count": 297,
   "id": "ae7128fe",
   "metadata": {},
   "outputs": [],
   "source": [
    "class Solution:\n",
    "    def fizzBuzz(self, n: int):\n",
    "        \n",
    "        def get_val(num):\n",
    "            if num % 15 == 0:\n",
    "                return \"FizzBuzz\"\n",
    "            elif num % 3 == 0:\n",
    "                return \"Fizz\"\n",
    "            elif num % 5 == 0:\n",
    "                return \"Buzz\"\n",
    "            else:\n",
    "                return str(num)\n",
    "        \n",
    "        curr = 1\n",
    "        out = []\n",
    "        while curr <= n:\n",
    "            out.append(get_val(curr))\n",
    "            curr += 1\n",
    "        return out\n",
    "    \n",
    "s = Solution()"
   ]
  },
  {
   "cell_type": "code",
   "execution_count": 300,
   "id": "61f26e8a",
   "metadata": {},
   "outputs": [
    {
     "data": {
      "text/plain": [
       "['1',\n",
       " '2',\n",
       " 'Fizz',\n",
       " '4',\n",
       " 'Buzz',\n",
       " 'Fizz',\n",
       " '7',\n",
       " '8',\n",
       " 'Fizz',\n",
       " 'Buzz',\n",
       " '11',\n",
       " 'Fizz',\n",
       " '13',\n",
       " '14',\n",
       " 'FizzBuzz']"
      ]
     },
     "execution_count": 300,
     "metadata": {},
     "output_type": "execute_result"
    }
   ],
   "source": [
    "s.fizzBuzz(15)"
   ]
  },
  {
   "cell_type": "markdown",
   "id": "a185b262",
   "metadata": {},
   "source": [
    "### 62. first unique charachter in a string"
   ]
  },
  {
   "cell_type": "code",
   "execution_count": 301,
   "id": "f724d88b",
   "metadata": {},
   "outputs": [],
   "source": [
    "class Solution:\n",
    "    def firstUniqChar(self, s: str) -> int:\n",
    "        out = {}\n",
    "        for i, w in enumerate(s):\n",
    "            if w in out:\n",
    "                out[w][0] += 1\n",
    "                out[w][1] = i\n",
    "            else:\n",
    "                out[w] = [1, i]\n",
    "        \n",
    "        for i in out:\n",
    "            if out[i][0] == 1:\n",
    "                return out[i][1]\n",
    "        else:\n",
    "            return -1\n",
    "\n",
    "s = Solution()"
   ]
  },
  {
   "cell_type": "code",
   "execution_count": 303,
   "id": "0dae7504",
   "metadata": {},
   "outputs": [
    {
     "data": {
      "text/plain": [
       "2"
      ]
     },
     "execution_count": 303,
     "metadata": {},
     "output_type": "execute_result"
    }
   ],
   "source": [
    "s.firstUniqChar('loveleetcode')"
   ]
  },
  {
   "cell_type": "markdown",
   "id": "db9433de",
   "metadata": {},
   "source": [
    "### 63. Intersection of two arrays"
   ]
  },
  {
   "cell_type": "code",
   "execution_count": 305,
   "id": "faf40d39",
   "metadata": {},
   "outputs": [],
   "source": [
    "class Solution:\n",
    "    def intersect(self, nums1, nums2):\n",
    "        def get_count(nums):\n",
    "            out = {}\n",
    "            for n in nums:\n",
    "                if n in out:\n",
    "                    out[n] += 1\n",
    "                else:\n",
    "                    out[n] = 1\n",
    "            return out\n",
    "        \n",
    "        m1, m2 = get_count(nums1), get_count(nums2)\n",
    "        out = []\n",
    "        \n",
    "        for n in m1:\n",
    "            if n in m2:\n",
    "                count = min(m1[n], m2[n])\n",
    "                out += [n for i in range(count)]\n",
    "        return out\n",
    "        \n",
    "s = Solution()"
   ]
  },
  {
   "cell_type": "code",
   "execution_count": 306,
   "id": "2c3b51b3",
   "metadata": {},
   "outputs": [
    {
     "data": {
      "text/plain": [
       "[2, 2]"
      ]
     },
     "execution_count": 306,
     "metadata": {},
     "output_type": "execute_result"
    }
   ],
   "source": [
    "s.intersect([1,2,2,1], [2,2])"
   ]
  },
  {
   "cell_type": "code",
   "execution_count": 307,
   "id": "f8aeff7d",
   "metadata": {},
   "outputs": [
    {
     "data": {
      "text/plain": [
       "[4, 9]"
      ]
     },
     "execution_count": 307,
     "metadata": {},
     "output_type": "execute_result"
    }
   ],
   "source": [
    "s.intersect([4,9,5], [9,4,9,8,4])"
   ]
  },
  {
   "cell_type": "code",
   "execution_count": 308,
   "id": "6b96b447",
   "metadata": {},
   "outputs": [],
   "source": [
    "x = [\"h\",\"e\",\"l\",\"l\",\"o\"]"
   ]
  },
  {
   "cell_type": "code",
   "execution_count": 309,
   "id": "2c08a39c",
   "metadata": {},
   "outputs": [
    {
     "data": {
      "text/plain": [
       "(['h', 'e', 'l', 'l', 'o'], ['o', 'l', 'l', 'e', 'h'])"
      ]
     },
     "execution_count": 309,
     "metadata": {},
     "output_type": "execute_result"
    }
   ],
   "source": [
    "x, x[::-1]"
   ]
  },
  {
   "cell_type": "markdown",
   "id": "63428b69",
   "metadata": {},
   "source": [
    "### 64. reverse string inplace"
   ]
  },
  {
   "cell_type": "code",
   "execution_count": 311,
   "id": "04d4e4b1",
   "metadata": {},
   "outputs": [],
   "source": [
    "class Solution:\n",
    "    def reverseString(self, s) -> None:\n",
    "        \"\"\"\n",
    "        Do not return anything, modify s in-place instead.\n",
    "        \"\"\"\n",
    "        n = len(s)\n",
    "        curr = n - 2\n",
    "        while curr >= 0:\n",
    "            s.append(s.pop(curr))\n",
    "            curr -= 1"
   ]
  },
  {
   "cell_type": "code",
   "execution_count": 313,
   "id": "715a8b92",
   "metadata": {},
   "outputs": [],
   "source": [
    "class Solution:\n",
    "    def reverseString(self, s) -> None:\n",
    "        for i in range(len(s)//2):\n",
    "            s[-(i+1)], s[i] = s[i], s[-(i+1)]"
   ]
  },
  {
   "cell_type": "markdown",
   "id": "579080e0",
   "metadata": {},
   "source": [
    "### 65. power of three"
   ]
  },
  {
   "cell_type": "code",
   "execution_count": 341,
   "id": "9ba4a452",
   "metadata": {},
   "outputs": [],
   "source": [
    "class Solution:\n",
    "    def isPowerOfThree(self, n: int) -> bool:\n",
    "        if n == 1: return True\n",
    "        def factor_out(n, fac):\n",
    "            if n == fac:\n",
    "                return fac\n",
    "            elif n < 1:\n",
    "                return False\n",
    "\n",
    "            n = factor_out(n/fac, fac)\n",
    "            return n\n",
    "        return True if factor_out(n, 3) == 3 else False\n",
    "\n",
    "s = Solution()"
   ]
  },
  {
   "cell_type": "code",
   "execution_count": 342,
   "id": "e9fe6d48",
   "metadata": {},
   "outputs": [
    {
     "data": {
      "text/plain": [
       "True"
      ]
     },
     "execution_count": 342,
     "metadata": {},
     "output_type": "execute_result"
    }
   ],
   "source": [
    "s.isPowerOfThree(9)"
   ]
  },
  {
   "cell_type": "code",
   "execution_count": 343,
   "id": "00373cb2",
   "metadata": {},
   "outputs": [
    {
     "data": {
      "text/plain": [
       "False"
      ]
     },
     "execution_count": 343,
     "metadata": {},
     "output_type": "execute_result"
    }
   ],
   "source": [
    "s.isPowerOfThree(30)"
   ]
  },
  {
   "cell_type": "code",
   "execution_count": 344,
   "id": "9eeb8d05",
   "metadata": {},
   "outputs": [
    {
     "data": {
      "text/plain": [
       "True"
      ]
     },
     "execution_count": 344,
     "metadata": {},
     "output_type": "execute_result"
    }
   ],
   "source": [
    "s.isPowerOfThree(1)"
   ]
  },
  {
   "cell_type": "markdown",
   "id": "988f0cbc",
   "metadata": {},
   "source": [
    "### 89. Best time to buy/sell stocks"
   ]
  },
  {
   "cell_type": "code",
   "execution_count": 101,
   "id": "d370a00f",
   "metadata": {},
   "outputs": [],
   "source": [
    "class Solution:\n",
    "    def maxProfit(self, prices) -> int:\n",
    "        minprice = float('inf')\n",
    "        maxprofit = 0\n",
    "        \n",
    "        for i in prices:\n",
    "            if i < minprice:\n",
    "                minprice = i;\n",
    "            elif i - minprice > maxprofit:\n",
    "                maxprofit = i - minprice\n",
    "        return maxprofit\n",
    "        \n",
    "s = Solution()"
   ]
  },
  {
   "cell_type": "code",
   "execution_count": 102,
   "id": "5972579e",
   "metadata": {},
   "outputs": [
    {
     "data": {
      "text/plain": [
       "5"
      ]
     },
     "execution_count": 102,
     "metadata": {},
     "output_type": "execute_result"
    }
   ],
   "source": [
    "prices = [7,1,5,3,6,4]\n",
    "s.maxProfit(prices)"
   ]
  },
  {
   "cell_type": "code",
   "execution_count": 103,
   "id": "9a9c107f",
   "metadata": {},
   "outputs": [
    {
     "data": {
      "text/plain": [
       "0"
      ]
     },
     "execution_count": 103,
     "metadata": {},
     "output_type": "execute_result"
    }
   ],
   "source": [
    "prices = [7,6,4,3,1]\n",
    "s.maxProfit(prices)"
   ]
  },
  {
   "cell_type": "code",
   "execution_count": 104,
   "id": "5707716e",
   "metadata": {},
   "outputs": [
    {
     "data": {
      "text/plain": [
       "8"
      ]
     },
     "execution_count": 104,
     "metadata": {},
     "output_type": "execute_result"
    }
   ],
   "source": [
    "prices = [7,7,2,5,3,6,4,1,4,5,2,9]\n",
    "s.maxProfit(prices)"
   ]
  },
  {
   "cell_type": "code",
   "execution_count": 105,
   "id": "b1a76c57",
   "metadata": {},
   "outputs": [
    {
     "data": {
      "text/plain": [
       "2"
      ]
     },
     "execution_count": 105,
     "metadata": {},
     "output_type": "execute_result"
    }
   ],
   "source": [
    "prices = [2,4,1]\n",
    "s.maxProfit(prices)"
   ]
  },
  {
   "cell_type": "code",
   "execution_count": 106,
   "id": "2e8ffbd8",
   "metadata": {},
   "outputs": [
    {
     "data": {
      "text/plain": [
       "4"
      ]
     },
     "execution_count": 106,
     "metadata": {},
     "output_type": "execute_result"
    }
   ],
   "source": [
    "prices = [3,2,6,5,0,3]\n",
    "s.maxProfit(prices)"
   ]
  },
  {
   "cell_type": "code",
   "execution_count": null,
   "id": "12e75703",
   "metadata": {},
   "outputs": [],
   "source": []
  },
  {
   "cell_type": "code",
   "execution_count": null,
   "id": "8db97030",
   "metadata": {},
   "outputs": [],
   "source": []
  }
 ],
 "metadata": {
  "kernelspec": {
   "display_name": "Python 3 (ipykernel)",
   "language": "python",
   "name": "python3"
  },
  "language_info": {
   "codemirror_mode": {
    "name": "ipython",
    "version": 3
   },
   "file_extension": ".py",
   "mimetype": "text/x-python",
   "name": "python",
   "nbconvert_exporter": "python",
   "pygments_lexer": "ipython3",
   "version": "3.8.5"
  }
 },
 "nbformat": 4,
 "nbformat_minor": 5
}
