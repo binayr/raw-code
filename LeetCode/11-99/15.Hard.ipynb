{
 "cells": [
  {
   "cell_type": "markdown",
   "id": "46ad942b",
   "metadata": {},
   "source": [
    "### 85. Median of Two Sorted Arrays"
   ]
  },
  {
   "cell_type": "code",
   "execution_count": 2,
   "id": "21bb8c36",
   "metadata": {},
   "outputs": [],
   "source": [
    "# Worked but shouldn't have\n",
    "\n",
    "class Solution:\n",
    "    def findMedianSortedArrays(self, nums1, nums2) -> float:\n",
    "        s = nums1+nums2\n",
    "        n = len(s)\n",
    "        s.sort()\n",
    "\n",
    "        if n % 2 == 0:\n",
    "\t        m1 = s[n//2]\n",
    "\t        m2 = s[n//2 - 1]\n",
    "\t        m = (m1 + m2)/2\n",
    "        else:\n",
    " \t        m= s[n//2]\n",
    "        return m"
   ]
  },
  {
   "cell_type": "code",
   "execution_count": 3,
   "id": "3248d958",
   "metadata": {},
   "outputs": [],
   "source": [
    "# From https://www.youtube.com/watch?v=q6IEA26hvXc&t=1317s&ab_channel=NeetCode\n",
    "# Not working as time limit exceed for [0,0] and [0,0]\n",
    "\n",
    "class Solution:\n",
    "    def findMedianSortedArrays(self, nums1, nums2) -> float:\n",
    "        a, b = nums1, nums2\n",
    "        total = len(a) + len(b)\n",
    "        mid = total//2\n",
    "        \n",
    "        if len(a)>len(b):\n",
    "            a,b = b,a\n",
    "            \n",
    "        l, r = 0, len(a)-1\n",
    "        while True:\n",
    "            i = (l+r)//2\n",
    "            j = mid - i -2\n",
    "            \n",
    "            a_l = a[i] if i >=0 else -float('inf')\n",
    "            a_r = a[i+1] if i+1 < len(a) else float('inf')\n",
    "            b_l = b[j] if j >= 0 else -float('inf')\n",
    "            b_r = b[j+1] if j+1 < len(b) else float('inf')\n",
    "            \n",
    "            if a_l < b_r and b_l < a_r:\n",
    "                if mid%2: return min(a_r, b_r)\n",
    "                return (max(a_l, b_l) + min(a_r, b_r))/2\n",
    "            \n",
    "            elif a_l > b_r:\n",
    "                r = i-1\n",
    "            else:\n",
    "                l = i+1\n",
    "                "
   ]
  },
  {
   "cell_type": "code",
   "execution_count": null,
   "id": "258e18b7",
   "metadata": {},
   "outputs": [],
   "source": []
  },
  {
   "cell_type": "code",
   "execution_count": null,
   "id": "c7c89984",
   "metadata": {},
   "outputs": [],
   "source": []
  },
  {
   "cell_type": "code",
   "execution_count": null,
   "id": "e0e0b81d",
   "metadata": {},
   "outputs": [],
   "source": []
  },
  {
   "cell_type": "code",
   "execution_count": null,
   "id": "d159bc33",
   "metadata": {},
   "outputs": [],
   "source": []
  }
 ],
 "metadata": {
  "kernelspec": {
   "display_name": "Python 3 (ipykernel)",
   "language": "python",
   "name": "python3"
  },
  "language_info": {
   "codemirror_mode": {
    "name": "ipython",
    "version": 3
   },
   "file_extension": ".py",
   "mimetype": "text/x-python",
   "name": "python",
   "nbconvert_exporter": "python",
   "pygments_lexer": "ipython3",
   "version": "3.8.5"
  }
 },
 "nbformat": 4,
 "nbformat_minor": 5
}
