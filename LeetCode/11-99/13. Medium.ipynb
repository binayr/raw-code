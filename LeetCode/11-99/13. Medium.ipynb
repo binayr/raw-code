{
 "cells": [
  {
   "cell_type": "markdown",
   "id": "9abe2b3f",
   "metadata": {},
   "source": [
    "### 66. Merge Intervals"
   ]
  },
  {
   "cell_type": "code",
   "execution_count": 44,
   "id": "9c2eda46",
   "metadata": {},
   "outputs": [],
   "source": [
    "class Solution:\n",
    "    def merge(self, intervals):\n",
    "        intervals.sort(key=lambda x : x[0])\n",
    "        out = []\n",
    "        mn, mx = intervals[0][0], intervals[0][1]\n",
    "        for i in intervals[1:]:\n",
    "            if i[0] < mn and i[1] > mx:\n",
    "                mn = i[0]\n",
    "                mx = i[1]\n",
    "            elif i[0] < mn:\n",
    "                if mn <= i[1] <= mx:\n",
    "                    mn = i[0]\n",
    "                else:\n",
    "                    out.append([mn, mx])\n",
    "                    mn = i[0]\n",
    "                    mx = i[1]\n",
    "            elif i[0] <= mx:\n",
    "                if i[1] > mx:\n",
    "                    mx = i[1]\n",
    "            else:\n",
    "                out.append([mn, mx])\n",
    "                mn = i[0]\n",
    "                mx = i[1]\n",
    "        out.append([mn, mx])\n",
    "        return out\n",
    "\n",
    "s = Solution()"
   ]
  },
  {
   "cell_type": "code",
   "execution_count": 46,
   "id": "130cb05f",
   "metadata": {},
   "outputs": [
    {
     "data": {
      "text/plain": [
       "[[0, 4]]"
      ]
     },
     "execution_count": 46,
     "metadata": {},
     "output_type": "execute_result"
    }
   ],
   "source": [
    "s.merge([[1,4], [0,4]])"
   ]
  },
  {
   "cell_type": "code",
   "execution_count": 47,
   "id": "15ddd8f0",
   "metadata": {},
   "outputs": [
    {
     "data": {
      "text/plain": [
       "[[1, 6], [8, 10], [15, 18]]"
      ]
     },
     "execution_count": 47,
     "metadata": {},
     "output_type": "execute_result"
    }
   ],
   "source": [
    "s.merge([[1,3],[2,6],[8,10],[15,18]])"
   ]
  },
  {
   "cell_type": "code",
   "execution_count": 48,
   "id": "97205468",
   "metadata": {},
   "outputs": [
    {
     "data": {
      "text/plain": [
       "[[1, 5]]"
      ]
     },
     "execution_count": 48,
     "metadata": {},
     "output_type": "execute_result"
    }
   ],
   "source": [
    "s.merge([[1,4],[4,5]])"
   ]
  },
  {
   "cell_type": "code",
   "execution_count": 49,
   "id": "04d10ef8",
   "metadata": {},
   "outputs": [
    {
     "data": {
      "text/plain": [
       "[[1, 4]]"
      ]
     },
     "execution_count": 49,
     "metadata": {},
     "output_type": "execute_result"
    }
   ],
   "source": [
    "s.merge([[1,4], [2,3]])"
   ]
  },
  {
   "cell_type": "code",
   "execution_count": 50,
   "id": "17c022ba",
   "metadata": {},
   "outputs": [
    {
     "data": {
      "text/plain": [
       "[[0, 4]]"
      ]
     },
     "execution_count": 50,
     "metadata": {},
     "output_type": "execute_result"
    }
   ],
   "source": [
    "s.merge([[1,4], [0,3]])"
   ]
  },
  {
   "cell_type": "code",
   "execution_count": 51,
   "id": "28b7339b",
   "metadata": {},
   "outputs": [
    {
     "data": {
      "text/plain": [
       "[[0, 1], [2, 4]]"
      ]
     },
     "execution_count": 51,
     "metadata": {},
     "output_type": "execute_result"
    }
   ],
   "source": [
    "s.merge([[2,4], [0,1]])"
   ]
  },
  {
   "cell_type": "code",
   "execution_count": 52,
   "id": "b9021eeb",
   "metadata": {},
   "outputs": [
    {
     "data": {
      "text/plain": [
       "[[1, 5]]"
      ]
     },
     "execution_count": 52,
     "metadata": {},
     "output_type": "execute_result"
    }
   ],
   "source": [
    "s.merge([[2,4], [1,5]])"
   ]
  },
  {
   "cell_type": "code",
   "execution_count": 53,
   "id": "944cdcb7",
   "metadata": {},
   "outputs": [
    {
     "data": {
      "text/plain": [
       "[[1, 10]]"
      ]
     },
     "execution_count": 53,
     "metadata": {},
     "output_type": "execute_result"
    }
   ],
   "source": [
    "s.merge([[2,3],[4,5],[6,7],[8,9],[1,10]])"
   ]
  },
  {
   "cell_type": "markdown",
   "id": "9c3300f3",
   "metadata": {},
   "source": [
    "### 67. Jump Game"
   ]
  },
  {
   "cell_type": "code",
   "execution_count": 55,
   "id": "d19a96c8",
   "metadata": {},
   "outputs": [],
   "source": [
    "class Solution:\n",
    "    def canJump(self, nums) -> bool:\n",
    "        n = len(nums)\n",
    "        last = n-1\n",
    "        for i in range(n-2, -1, -1):\n",
    "            if i + nums[i] >= last:\n",
    "                last = i\n",
    "        return last == 0\n",
    "s = Solution()"
   ]
  },
  {
   "cell_type": "code",
   "execution_count": 56,
   "id": "ed9639ca",
   "metadata": {},
   "outputs": [
    {
     "data": {
      "text/plain": [
       "True"
      ]
     },
     "execution_count": 56,
     "metadata": {},
     "output_type": "execute_result"
    }
   ],
   "source": [
    "s.canJump([2,3,1,1,4])"
   ]
  },
  {
   "cell_type": "code",
   "execution_count": 57,
   "id": "74dc5083",
   "metadata": {},
   "outputs": [
    {
     "data": {
      "text/plain": [
       "False"
      ]
     },
     "execution_count": 57,
     "metadata": {},
     "output_type": "execute_result"
    }
   ],
   "source": [
    "s.canJump([3,2,1,0,4])"
   ]
  },
  {
   "cell_type": "markdown",
   "id": "62576ef6",
   "metadata": {},
   "source": [
    "### 68. Unique paths"
   ]
  },
  {
   "cell_type": "code",
   "execution_count": 146,
   "id": "f2674995",
   "metadata": {},
   "outputs": [],
   "source": [
    "# Top down\n",
    "from functools import lru_cache"
   ]
  },
  {
   "cell_type": "code",
   "execution_count": 147,
   "id": "04700ab0",
   "metadata": {},
   "outputs": [],
   "source": [
    "@lru_cache\n",
    "def unique_paths(m, n):\n",
    "    if m == 1 or n == 1: return 1\n",
    "    return unique_paths(m-1, n) + unique_paths(m, n-1)"
   ]
  },
  {
   "cell_type": "code",
   "execution_count": 148,
   "id": "12950076",
   "metadata": {},
   "outputs": [
    {
     "data": {
      "text/plain": [
       "28"
      ]
     },
     "execution_count": 148,
     "metadata": {},
     "output_type": "execute_result"
    }
   ],
   "source": [
    "unique_paths(3, 7)"
   ]
  },
  {
   "cell_type": "markdown",
   "id": "dd31fe7c",
   "metadata": {},
   "source": [
    "##### DP"
   ]
  },
  {
   "cell_type": "code",
   "execution_count": 149,
   "id": "6f82eea4",
   "metadata": {},
   "outputs": [],
   "source": [
    "def unique_paths_dp(m, n):\n",
    "    # setup matrix\n",
    "    mat = [[0 for _ in range(m)] for __ in range(n)]\n",
    "    # print(mat)\n",
    "    # Initialize matrix\n",
    "    for i in range(m):\n",
    "        for j in range(n):\n",
    "            if i == 0 or j == 0:\n",
    "                mat[j][i] = 1\n",
    "    # print(mat)\n",
    "    # update matrix\n",
    "    for i in range(1, n):\n",
    "        for j in range(1, m):\n",
    "            mat[i][j] = mat[i-1][j] + mat[i][j-1]\n",
    "    # print(mat)\n",
    "    return mat[-1][-1]\n",
    "    "
   ]
  },
  {
   "cell_type": "code",
   "execution_count": 150,
   "id": "830f4232",
   "metadata": {},
   "outputs": [
    {
     "data": {
      "text/plain": [
       "28"
      ]
     },
     "execution_count": 150,
     "metadata": {},
     "output_type": "execute_result"
    }
   ],
   "source": [
    "unique_paths_dp(3, 7)"
   ]
  },
  {
   "cell_type": "code",
   "execution_count": 151,
   "id": "cf0c3eb4",
   "metadata": {},
   "outputs": [
    {
     "data": {
      "text/plain": [
       "True"
      ]
     },
     "execution_count": 151,
     "metadata": {},
     "output_type": "execute_result"
    }
   ],
   "source": [
    "args = (3, 70)\n",
    "unique_paths(*args) == unique_paths_dp(*args)"
   ]
  },
  {
   "cell_type": "markdown",
   "id": "fa4f9918",
   "metadata": {},
   "source": [
    "### 69. spiral matrix"
   ]
  },
  {
   "cell_type": "code",
   "execution_count": 204,
   "id": "8a228a08",
   "metadata": {},
   "outputs": [],
   "source": [
    "class Solution:\n",
    "    def spiralOrder(self, matrix):\n",
    "        result = []\n",
    "        row, col = len(matrix), len(matrix[0])\n",
    "        left, top = 0, 0\n",
    "        right = col - 1\n",
    "        bottom = row - 1\n",
    "        \n",
    "        while len(result) < row * col:\n",
    "            \n",
    "            # top walk\n",
    "            for i in range(left, right+1):\n",
    "                result.append(matrix[top][i])\n",
    "            \n",
    "            if not len(result) < row * col: break\n",
    "            # right walk\n",
    "            for i in range(top+1, bottom+1):\n",
    "                result.append(matrix[i][right])\n",
    "\n",
    "            if not len(result) < row * col: break\n",
    "            # bottom walk\n",
    "            for i in range(right-1, left-1, -1):\n",
    "                result.append(matrix[bottom][i])\n",
    "            \n",
    "            if not len(result) < row * col: break\n",
    "            # left walk\n",
    "            for i in range(bottom-1, top, -1):\n",
    "                result.append(matrix[i][left])\n",
    "                \n",
    "            left += 1\n",
    "            top += 1\n",
    "            right -= 1\n",
    "            bottom -= 1\n",
    "            \n",
    "        return result\n",
    "                \n",
    "\n",
    "s = Solution()"
   ]
  },
  {
   "cell_type": "code",
   "execution_count": 205,
   "id": "dc56fc86",
   "metadata": {},
   "outputs": [
    {
     "data": {
      "text/plain": [
       "[1, 2, 3, 6, 9, 8, 7, 4, 5]"
      ]
     },
     "execution_count": 205,
     "metadata": {},
     "output_type": "execute_result"
    }
   ],
   "source": [
    "s.spiralOrder([[1,2,3],[4,5,6],[7,8,9]])"
   ]
  },
  {
   "cell_type": "code",
   "execution_count": 206,
   "id": "43159519",
   "metadata": {},
   "outputs": [
    {
     "data": {
      "text/plain": [
       "[1, 2, 3, 4, 8, 12, 11, 10, 9, 5, 6, 7]"
      ]
     },
     "execution_count": 206,
     "metadata": {},
     "output_type": "execute_result"
    }
   ],
   "source": [
    "s.spiralOrder([[1,2,3,4],[5,6,7,8],[9,10,11,12]])"
   ]
  },
  {
   "cell_type": "code",
   "execution_count": 207,
   "id": "c7d1c218",
   "metadata": {},
   "outputs": [
    {
     "data": {
      "text/plain": [
       "([1, 2, 3, 4, 8, 12, 11, 10, 9, 5, 6, 7],\n",
       " [1, 2, 3, 4, 8, 12, 11, 10, 9, 5, 6, 7])"
      ]
     },
     "execution_count": 207,
     "metadata": {},
     "output_type": "execute_result"
    }
   ],
   "source": [
    "s.spiralOrder([[1,2,3,4],[5,6,7,8],[9,10,11,12]]), [1,2,3,4,8,12,11,10,9,5,6,7]"
   ]
  },
  {
   "cell_type": "markdown",
   "id": "1d861db6",
   "metadata": {},
   "source": [
    "### 70. Set Matrix Zeroes"
   ]
  },
  {
   "cell_type": "code",
   "execution_count": 194,
   "id": "136e4426",
   "metadata": {},
   "outputs": [],
   "source": [
    "class Solution:\n",
    "    def setZeroes(self, matrix) -> None:\n",
    "        \"\"\"\n",
    "        Do not return anything, modify matrix in-place instead.\n",
    "        \"\"\"\n",
    "        m = len(matrix)\n",
    "        n = len(matrix[0])\n",
    "        row, col = set(), set()\n",
    "\n",
    "        for i in range(m):\n",
    "            for j in range(n):\n",
    "                if matrix[i][j] == 0:\n",
    "                    row.add(i)\n",
    "                    col.add(j)\n",
    "        \n",
    "        for i in range(m):\n",
    "            for j in range(n):\n",
    "                if i in row or j in col:\n",
    "                    matrix[i][j] = 0\n",
    "                    \n",
    "        return matrix\n",
    "    \n",
    "s = Solution()"
   ]
  },
  {
   "cell_type": "code",
   "execution_count": 195,
   "id": "f52dec4e",
   "metadata": {},
   "outputs": [
    {
     "data": {
      "text/plain": [
       "[[1, 0, 1], [0, 0, 0], [1, 0, 1]]"
      ]
     },
     "execution_count": 195,
     "metadata": {},
     "output_type": "execute_result"
    }
   ],
   "source": [
    "s.setZeroes([[1,2,1],[1,0,1],[1,3,1]])"
   ]
  },
  {
   "cell_type": "markdown",
   "id": "593f16d9",
   "metadata": {},
   "source": [
    "### 71. sort colors"
   ]
  },
  {
   "cell_type": "code",
   "execution_count": 209,
   "id": "227a000d",
   "metadata": {},
   "outputs": [],
   "source": [
    "class Solution:\n",
    "    def sortColors(self, nums) -> None:\n",
    "        \"\"\"\n",
    "        Do not return anything, modify nums in-place instead.\n",
    "        \"\"\"\n",
    "        #dutch flag \n",
    "        low=0\n",
    "        mid=0\n",
    "        high=len(nums)-1\n",
    "        while mid<=high:\n",
    "            if nums[mid]==0:\n",
    "                nums[low],nums[mid]=nums[mid],nums[low]\n",
    "                low+=1\n",
    "                mid+=1\n",
    "            elif nums[mid]==1:\n",
    "                mid+=1\n",
    "            elif nums[mid]==2:\n",
    "                nums[high],nums[mid]=nums[mid],nums[high]\n",
    "                high-=1\n",
    "                \n",
    "                \n",
    "class Solution:\n",
    "    def sortColors(self, nums) -> None:\n",
    "        a=0\n",
    "        b=0\n",
    "        c=0\n",
    "        for i in nums:\n",
    "            if i==0:\n",
    "                a+=1\n",
    "            elif i==1:\n",
    "                b+=1\n",
    "            else:\n",
    "                c+=1\n",
    "        for i in range(a):\n",
    "            nums[i]=0\n",
    "        for i in range(b):\n",
    "            nums[a+i]=1\n",
    "        for i in range(c):\n",
    "            nums[a+b+i]=2"
   ]
  },
  {
   "cell_type": "markdown",
   "id": "71660063",
   "metadata": {},
   "source": [
    "### 72. subsets (dp)"
   ]
  },
  {
   "cell_type": "code",
   "execution_count": 212,
   "id": "0eebfd65",
   "metadata": {},
   "outputs": [],
   "source": [
    "class Solution:\n",
    "    def subsets(self, nums):\n",
    "        def backTrack(start, cur_list):\n",
    "            ans.append(cur_list[:])\n",
    "\n",
    "            for j in range(start, n):\n",
    "                cur_list.append(nums[j])\n",
    "                backTrack(j+1, cur_list)\n",
    "                cur_list.pop()\n",
    "\n",
    "        n = len(nums)\n",
    "        ans = []\n",
    "\n",
    "        backTrack(0, [])\n",
    "\n",
    "        return ans"
   ]
  },
  {
   "cell_type": "code",
   "execution_count": null,
   "id": "ce7441d0",
   "metadata": {},
   "outputs": [],
   "source": []
  },
  {
   "cell_type": "markdown",
   "id": "aed810b1",
   "metadata": {},
   "source": [
    "### 73. Valid BST"
   ]
  },
  {
   "cell_type": "code",
   "execution_count": 225,
   "id": "3479f358",
   "metadata": {},
   "outputs": [],
   "source": [
    "# Definition for a binary tree node.\n",
    "class Node:\n",
    "    def __init__(self, val=0, left=None, right=None):\n",
    "        self.val = val\n",
    "        self.left = left\n",
    "        self.right = right\n",
    "        \n",
    "def is_valid(root, left=None, right=None):\n",
    "    if not root: return True\n",
    "    if left and root.val < left.val: return False\n",
    "    if right and root.val > right.val: return False\n",
    "    # for left leek left same change right to root\n",
    "    # for right keep right same change left to root\n",
    "    return is_valid(root.left, left, root) and is_valid(root.right, root, right)\n",
    "\n"
   ]
  },
  {
   "cell_type": "code",
   "execution_count": 226,
   "id": "d4cbce17",
   "metadata": {},
   "outputs": [
    {
     "data": {
      "text/plain": [
       "True"
      ]
     },
     "execution_count": 226,
     "metadata": {},
     "output_type": "execute_result"
    }
   ],
   "source": [
    "root = Node(4)\n",
    "root.left = Node(2)\n",
    "root.right = Node(5)\n",
    "root.left.left = Node(1)\n",
    "root.left.right = Node(3)\n",
    "is_valid(root)"
   ]
  },
  {
   "cell_type": "code",
   "execution_count": 227,
   "id": "4066e39f",
   "metadata": {},
   "outputs": [
    {
     "data": {
      "text/plain": [
       "False"
      ]
     },
     "execution_count": 227,
     "metadata": {},
     "output_type": "execute_result"
    }
   ],
   "source": [
    "root = Node(4)\n",
    "root.left = Node(2)\n",
    "root.right = Node(5)\n",
    "root.left.left = Node(1)\n",
    "root.left.right = Node(1)\n",
    "is_valid(root)"
   ]
  },
  {
   "cell_type": "code",
   "execution_count": 228,
   "id": "075605e0",
   "metadata": {},
   "outputs": [
    {
     "data": {
      "text/plain": [
       "False"
      ]
     },
     "execution_count": 228,
     "metadata": {},
     "output_type": "execute_result"
    }
   ],
   "source": [
    "#[5,4,6,null,null,3,7]\n",
    "root = Node(5)\n",
    "root.left = Node(4)\n",
    "root.right = Node(6)\n",
    "root.right.left = Node(3)\n",
    "root.right.right = Node(7)\n",
    "is_valid(root)"
   ]
  },
  {
   "cell_type": "markdown",
   "id": "6b802e26",
   "metadata": {},
   "source": [
    "### 74. level order traversal binary tree"
   ]
  },
  {
   "cell_type": "code",
   "execution_count": 258,
   "id": "5140d65d",
   "metadata": {},
   "outputs": [],
   "source": [
    "# Definition for a binary tree node.\n",
    "class TreeNode:\n",
    "    def __init__(self, val=0, left=None, right=None):\n",
    "        self.val = val\n",
    "        self.left = left\n",
    "        self.right = right\n",
    "\n",
    "class Solution:\n",
    "    def levelOrder(self, root):\n",
    "        count, self.mapper = 0, {}\n",
    "        def traverse(rooot, count):\n",
    "            if rooot:\n",
    "                if count in self.mapper:\n",
    "                    self.mapper[count].append(rooot.val)\n",
    "                else:\n",
    "                    self.mapper[count] = [rooot.val]\n",
    "                \n",
    "                traverse(rooot.left, count+1)\n",
    "                traverse(rooot.right, count+1)\n",
    "            else:\n",
    "                return\n",
    "            \n",
    "        traverse(root, count)\n",
    "        out = []\n",
    "        return self.mapper.values()\n",
    "    \n",
    "    \n",
    "s = Solution()"
   ]
  },
  {
   "cell_type": "code",
   "execution_count": 259,
   "id": "10b34d73",
   "metadata": {},
   "outputs": [
    {
     "data": {
      "text/plain": [
       "dict_values([[5], [4, 6], [3, 7]])"
      ]
     },
     "execution_count": 259,
     "metadata": {},
     "output_type": "execute_result"
    }
   ],
   "source": [
    "root = Node(5)\n",
    "root.left = Node(4)\n",
    "root.right = Node(6)\n",
    "root.right.left = Node(3)\n",
    "root.right.right = Node(7)\n",
    "s.levelOrder(root)"
   ]
  },
  {
   "cell_type": "markdown",
   "id": "9a72e4ce",
   "metadata": {},
   "source": [
    "### 75. zigzag level order traversal BTree"
   ]
  },
  {
   "cell_type": "code",
   "execution_count": 261,
   "id": "3c2f366c",
   "metadata": {},
   "outputs": [],
   "source": [
    "# Definition for a binary tree node.\n",
    "# class TreeNode:\n",
    "#     def __init__(self, val=0, left=None, right=None):\n",
    "#         self.val = val\n",
    "#         self.left = left\n",
    "#         self.right = right\n",
    "class Solution:\n",
    "    def zigzagLevelOrder(self, root):\n",
    "        count, self.mapper = 0, {}\n",
    "        def traverse(rooot, count):\n",
    "            if rooot:\n",
    "                if count in self.mapper:\n",
    "                    self.mapper[count].append(rooot.val)\n",
    "                else:\n",
    "                    self.mapper[count] = [rooot.val]\n",
    "                \n",
    "                traverse(rooot.left, count+1)\n",
    "                traverse(rooot.right, count+1)\n",
    "            else:\n",
    "                return\n",
    "            \n",
    "        traverse(root, count)\n",
    "        out = [i[::-1] if n % 2 else i for n, i in enumerate(self.mapper.values())]\n",
    "        return out\n",
    "    "
   ]
  },
  {
   "cell_type": "markdown",
   "id": "653f4fbf",
   "metadata": {},
   "source": [
    "### 76. construct tree from preorder and inorder"
   ]
  },
  {
   "cell_type": "markdown",
   "id": "4396972f",
   "metadata": {},
   "source": [
    "![m1](https://leetcode.com/problems/construct-binary-tree-from-preorder-and-inorder-traversal/Figures/105/105-Page-1.png)"
   ]
  },
  {
   "cell_type": "markdown",
   "id": "049e7ca5",
   "metadata": {},
   "source": [
    "![m2](https://leetcode.com/problems/construct-binary-tree-from-preorder-and-inorder-traversal/Figures/105/105-Page-2.png)"
   ]
  },
  {
   "cell_type": "code",
   "execution_count": 263,
   "id": "d4b087e0",
   "metadata": {},
   "outputs": [],
   "source": [
    "# Definition for a binary tree node.\n",
    "class TreeNode:\n",
    "    def __init__(self, val=0, left=None, right=None):\n",
    "        self.val = val\n",
    "        self.left = left\n",
    "        self.right = right\n",
    "\n",
    "class Solution:\n",
    "    def buildTree(self, preorder, inorder):\n",
    "        if not preorder and not inorder:\n",
    "            return\n",
    "\n",
    "        root = TreeNode(preorder[0])\n",
    "        mid = inorder.index(preorder[0])\n",
    "\n",
    "        root.left = self.buildTree(preorder[1:mid+1], inorder[:mid])\n",
    "        root.right = self.buildTree(preorder[mid+1:], inorder[mid+1:])\n",
    "\n",
    "        return root"
   ]
  },
  {
   "cell_type": "markdown",
   "id": "c5cb5227",
   "metadata": {},
   "source": [
    "### 77. Populating next right pointer in each node"
   ]
  },
  {
   "cell_type": "code",
   "execution_count": 264,
   "id": "0e3d5184",
   "metadata": {},
   "outputs": [],
   "source": [
    "\"\"\"\n",
    "# Definition for a Node.\n",
    "class Node:\n",
    "    def __init__(self, val: int = 0, left: 'Node' = None, right: 'Node' = None, next: 'Node' = None):\n",
    "        self.val = val\n",
    "        self.left = left\n",
    "        self.right = right\n",
    "        self.next = next\n",
    "\"\"\"\n",
    "\n",
    "class Solution:\n",
    "    def connect(self, root: 'Node') -> 'Node':\n",
    "        helper = defaultdict(Node)\n",
    "        \n",
    "        self.dfs(root, 0, helper)\n",
    "        \n",
    "        return root\n",
    "        \n",
    "        \n",
    "    def dfs(self, root, curr, helper):\n",
    "        if root is None: return\n",
    "        \n",
    "        if helper[curr]:\n",
    "            helper[curr].next = root\n",
    "\n",
    "        helper[curr] = root\n",
    "        self.dfs(root.left, curr+1, helper)\n",
    "        self.dfs(root.right, curr+1, helper)\n",
    "        \n",
    "        return \n",
    "    "
   ]
  },
  {
   "cell_type": "markdown",
   "id": "391f5b91",
   "metadata": {},
   "source": [
    "### 78. Longest consecutive sequence"
   ]
  },
  {
   "cell_type": "code",
   "execution_count": 265,
   "id": "3ba94153",
   "metadata": {},
   "outputs": [],
   "source": [
    "class Solution:\n",
    "    def longestConsecutive(self, nums):\n",
    "        longest_streak = 0\n",
    "        # convert to set as duplicate isn't consecutive and lookup will be O(1)\n",
    "        num_set = set(nums)\n",
    "\n",
    "        for num in num_set:\n",
    "            if num - 1 not in num_set:\n",
    "                current_num = num\n",
    "                current_streak = 1\n",
    "\n",
    "                while current_num + 1 in num_set:\n",
    "                    current_num += 1\n",
    "                    current_streak += 1\n",
    "\n",
    "                longest_streak = max(longest_streak, current_streak)\n",
    "\n",
    "        return longest_streak"
   ]
  },
  {
   "cell_type": "markdown",
   "id": "062d3306",
   "metadata": {},
   "source": [
    "### 79. LRU Cache"
   ]
  },
  {
   "cell_type": "code",
   "execution_count": 292,
   "id": "874fa3bc",
   "metadata": {},
   "outputs": [],
   "source": [
    "class LRUCache:\n",
    "\n",
    "    def __init__(self, capacity: int):\n",
    "        self.capacity = capacity\n",
    "        self.container = {}\n",
    "        self.queue = []\n",
    "\n",
    "    def check_and_update_recent(self, key):\n",
    "        if key in self.container:\n",
    "            self.queue.remove(key)\n",
    "            self.queue.append(key)\n",
    "        else:\n",
    "            self.queue.append(key)\n",
    "\n",
    "        if len(self.queue) > self.capacity and self.queue[0] not in self.queue[1:]:\n",
    "            k = self.queue.pop(0)\n",
    "            self.container.pop(k)\n",
    "        elif len(self.queue) > self.capacity and self.queue[0] in self.queue[1:]:\n",
    "            self.queue.pop(0)\n",
    "    \n",
    "    def get(self, key: int) -> int:\n",
    "        if key in self.container:\n",
    "            val = self.container[key]\n",
    "        else:\n",
    "            return -1\n",
    "        self.check_and_update_recent(key)\n",
    "        return val\n",
    "\n",
    "    def put(self, key: int, value: int) -> None:\n",
    "        self.check_and_update_recent(key)\n",
    "        self.container[key] = value\n",
    "\n"
   ]
  },
  {
   "cell_type": "code",
   "execution_count": 293,
   "id": "289579b3",
   "metadata": {},
   "outputs": [
    {
     "name": "stdout",
     "output_type": "stream",
     "text": [
      "{} []\n",
      "-1\n",
      "{} []\n",
      "{} [] 2\n",
      "null\n",
      "{2: 6} [2]\n",
      "-1\n",
      "{2: 6} [2] 1\n",
      "null\n",
      "{2: 6, 1: 5} [2, 1]\n",
      "{2: 6, 1: 5} [2, 1] 1\n",
      "null\n",
      "{2: 6, 1: 2} [2, 1]\n",
      "{2: 6, 1: 2} [2, 1] 1\n",
      "2\n",
      "{2: 6, 1: 2} [2, 1]\n",
      "{2: 6, 1: 2} [2, 1] 2\n",
      "6\n"
     ]
    }
   ],
   "source": [
    "# [\"LRUCache\",\"get\",\"put\",\"get\",\"put\",\"put\",\"get\",\"get\"]\n",
    "# [[2],[2],[2,6],[1],[1,5],[1,2],[1],[2]]\n",
    "# expected : [null,-1,null,-1,null,null,2,6]\n",
    "# Your LRUCache object will be instantiated and called as such:\n",
    "obj = LRUCache(2)\n",
    "print(obj.container, obj.queue)\n",
    "print(obj.get(2))\n",
    "print(obj.container, obj.queue)\n",
    "print(obj.put(2,6) or \"null\")\n",
    "print(obj.container, obj.queue)\n",
    "print(obj.get(1))\n",
    "print(obj.put(1,5) or \"null\")\n",
    "print(obj.container, obj.queue)\n",
    "print(obj.put(1,2) or \"null\")\n",
    "print(obj.container, obj.queue)\n",
    "print(obj.get(1))\n",
    "print(obj.container, obj.queue)\n",
    "print(obj.get(2))"
   ]
  },
  {
   "cell_type": "code",
   "execution_count": 294,
   "id": "ae71656b",
   "metadata": {},
   "outputs": [
    {
     "name": "stdout",
     "output_type": "stream",
     "text": [
      "{} [] 1\n",
      "null\n",
      "{1: 1} [1] 2\n",
      "null\n",
      "{1: 1, 2: 2} [1, 2] 1\n",
      "1\n",
      "{1: 1, 2: 2} [2, 1]\n",
      "{1: 1, 2: 2} [2, 1] 3\n",
      "null\n",
      "{1: 1, 3: 3} [1, 3]\n",
      "-1\n",
      "{1: 1, 3: 3} [1, 3] 4\n",
      "null\n",
      "-1\n",
      "{3: 3, 4: 4} [3, 4] 3\n",
      "3\n",
      "{3: 3, 4: 4} [4, 3] 4\n",
      "4\n"
     ]
    }
   ],
   "source": [
    "# [\"LRUCache\",\"put\",\"put\",\"get\",\"put\",\"get\",\"put\",\"get\",\"get\",\"get\"]\n",
    "# [[2],[1,1],[2,2],[1],[3,3],[2],[4,4],[1],[3],[4]]\n",
    "# ex: [null,null,null,1,null,-1,null,-1,3,4]\n",
    "obj = LRUCache(2)\n",
    "#print(obj.container, obj.queue)\n",
    "print(obj.put(1,1) or \"null\")\n",
    "print(obj.put(2,2) or \"null\")\n",
    "print(obj.get(1))\n",
    "print(obj.container, obj.queue)\n",
    "print(obj.put(3,3) or \"null\")\n",
    "print(obj.container, obj.queue)\n",
    "print(obj.get(2))\n",
    "print(obj.put(4,4) or \"null\")\n",
    "print(obj.get(1))\n",
    "print(obj.get(3))\n",
    "print(obj.get(4))"
   ]
  },
  {
   "cell_type": "code",
   "execution_count": 497,
   "id": "6c86dfdb",
   "metadata": {},
   "outputs": [],
   "source": [
    "class Node:\n",
    "    def __init__(self, key):\n",
    "        self.key = key\n",
    "        self. prev = None\n",
    "        self.next = None\n",
    "    def __repr__(self):\n",
    "        return str(self.key)\n",
    "        \n",
    "def find(root, key):\n",
    "    #print('finder-----')\n",
    "    while root:\n",
    "        #print(root.key, end=\" \")\n",
    "        if root.key == key:\n",
    "            return root\n",
    "        else:\n",
    "            root = root.next\n",
    "            \n",
    "def traverse(root):\n",
    "    while root:\n",
    "        print(root.key)\n",
    "        root = root.next\n",
    "            \n",
    "            \n",
    "class LRUCache:\n",
    "\n",
    "    def __init__(self, capacity: int):\n",
    "        self.capacity = capacity\n",
    "        self.container = {}\n",
    "        self.count = 0\n",
    "        self.start = None\n",
    "        self.last = None\n",
    "    \n",
    "    def insert(self, key, val):\n",
    "        if not self.start or not self.last:\n",
    "            self.start = self.last = Node(key)\n",
    "        elif self.start is self.last:\n",
    "            self.last = Node(key)\n",
    "            self.start.next = self.last\n",
    "            self.last.prev = self.start\n",
    "        else:\n",
    "            node = find(self.start, key)\n",
    "            if not node:\n",
    "                node = Node(key)\n",
    "                \n",
    "            #if node is self.start:\n",
    "            #    self.start = self.start.next\n",
    "                \n",
    "            node.next = None\n",
    "            node.prev = self.last\n",
    "            self.last = node\n",
    "            \n",
    "            \n",
    "    def pop(self, key):\n",
    "        print('pop', key, self.start.key)\n",
    "        node = find(self.start.next, key)\n",
    "        self.start = self.start.next\n",
    "        print(node, self.start)\n",
    "        print(self.container)\n",
    "        traverse(self.start)\n",
    "        if not node:\n",
    "            self.container.pop(key)\n",
    "            self.count -= 1\n",
    "\n",
    "    def check_and_update_recent(self, key):\n",
    "        self.count += 1\n",
    "        \n",
    "        if self.count > self.capacity:\n",
    "            k_pop = self.start.key\n",
    "            self.start = self.start.next\n",
    "            self.container.pop(k_pop)\n",
    "            \n",
    "    \n",
    "    def get(self, key: int) -> int:\n",
    "        if key not in self.container:\n",
    "            return -1\n",
    "    \n",
    "        val = self.container[key]\n",
    "        #print('traverse')\n",
    "        #traverse(self.start)\n",
    "        self.insert(key, val)\n",
    "        #print('traverse')\n",
    "        #traverse(self.start)\n",
    "        if self.count > self.capacity: self.pop(key)\n",
    "        #print('traverse')\n",
    "        #traverse(self.start)\n",
    "        # self.check_and_update_recent(key)\n",
    "        return val\n",
    "\n",
    "    def put(self, key: int, value: int) -> None:\n",
    "        #self.check_and_update_recent(key)\n",
    "        self.count += 1\n",
    "        if key in self.container:\n",
    "            self.container.pop(key)\n",
    "            self.container[key] = value\n",
    "            self.insert(key, value)\n",
    "            if self.count > self.capacity: self.pop(key)\n",
    "        else:\n",
    "            #print('put', key, self.capacity, self.count)\n",
    "            self.container[key] = value\n",
    "            #print(self.container)\n",
    "            self.insert(key, value)\n",
    "            #traverse(self.start)\n",
    "            if self.count > self.capacity: self.pop(key)\n",
    "\n"
   ]
  },
  {
   "cell_type": "code",
   "execution_count": 498,
   "id": "edc8bfa3",
   "metadata": {},
   "outputs": [
    {
     "name": "stdout",
     "output_type": "stream",
     "text": [
      "-1\n",
      "null\n",
      "-1\n",
      "null\n",
      "pop 1 2\n",
      "1 1\n",
      "{2: 6, 1: 2}\n",
      "1\n",
      "null\n",
      "pop 1 1\n",
      "1 1\n",
      "{2: 6, 1: 2}\n",
      "1\n",
      "2\n",
      "pop 2 1\n",
      "2 2\n",
      "{2: 6, 1: 2}\n",
      "2\n",
      "6\n"
     ]
    }
   ],
   "source": [
    "# [\"LRUCache\",\"get\",\"put\",\"get\",\"put\",\"put\",\"get\",\"get\"]\n",
    "# [[2],[2],[2,6],[1],[1,5],[1,2],[1],[2]]\n",
    "# expected : [null,-1,null,-1,null,null,2,6]\n",
    "# Your LRUCache object will be instantiated and called as such:\n",
    "obj = LRUCache(2)\n",
    "print(obj.get(2))\n",
    "print(obj.put(2,6) or \"null\")\n",
    "#print(obj.container, obj.count)\n",
    "print(obj.get(1))\n",
    "#print(obj.container, obj.count)\n",
    "print(obj.put(1,5) or \"null\")\n",
    "#print(obj.container, obj.count)\n",
    "print(obj.put(1,2) or \"null\")\n",
    "#print(obj.container, obj.count)\n",
    "print(obj.get(1))\n",
    "#print(obj.container, obj.count)\n",
    "print(obj.get(2))"
   ]
  },
  {
   "cell_type": "code",
   "execution_count": 499,
   "id": "c2e7f4a9",
   "metadata": {},
   "outputs": [
    {
     "name": "stdout",
     "output_type": "stream",
     "text": [
      "null\n",
      "null\n",
      "1\n",
      "pop 3 1\n",
      "3 3\n",
      "{1: 1, 2: 2, 3: 3}\n",
      "3\n",
      "null\n",
      "{1: 1, 2: 2, 3: 3} 3\n",
      "pop 2 3\n",
      "2 2\n",
      "{1: 1, 2: 2, 3: 3}\n",
      "2\n",
      "2\n",
      "pop 4 2\n",
      "4 4\n",
      "{1: 1, 2: 2, 3: 3, 4: 4}\n",
      "4\n",
      "null\n",
      "pop 1 4\n",
      "1 1\n",
      "{1: 1, 2: 2, 3: 3, 4: 4}\n",
      "1\n",
      "1\n",
      "pop 3 1\n",
      "3 3\n",
      "{1: 1, 2: 2, 3: 3, 4: 4}\n",
      "3\n",
      "3\n",
      "pop 4 3\n",
      "4 4\n",
      "{1: 1, 2: 2, 3: 3, 4: 4}\n",
      "4\n",
      "4\n"
     ]
    }
   ],
   "source": [
    "# [\"LRUCache\",\"put\",\"put\",\"get\",\"put\",\"get\",\"put\",\"get\",\"get\",\"get\"]\n",
    "# [[2],[1,1],[2,2],[1],[3,3],[2],[4,4],[1],[3],[4]]\n",
    "# ex: [null,null,null,1,null,-1,null,-1,3,4]\n",
    "obj = LRUCache(2)\n",
    "#print(obj.container, obj.queue)\n",
    "print(obj.put(1,1) or \"null\")\n",
    "#print(obj.container, obj.count)\n",
    "print(obj.put(2,2) or \"null\")\n",
    "#print(obj.container, obj.count)\n",
    "#print(obj.start, obj.last)\n",
    "print(obj.get(1))\n",
    "#print(obj.container, obj.count)\n",
    "#print(obj.start, obj.last)\n",
    "#print(obj.container, obj.count)\n",
    "print(obj.put(3,3) or \"null\")\n",
    "print(obj.container, obj.count)\n",
    "print(obj.get(2))\n",
    "print(obj.put(4,4) or \"null\")\n",
    "print(obj.get(1))\n",
    "print(obj.get(3))\n",
    "print(obj.get(4))"
   ]
  },
  {
   "cell_type": "code",
   "execution_count": 429,
   "id": "2b6ae520",
   "metadata": {},
   "outputs": [],
   "source": [
    "traverse(obj.start)"
   ]
  },
  {
   "cell_type": "code",
   "execution_count": 430,
   "id": "9d93dd49",
   "metadata": {},
   "outputs": [],
   "source": [
    "obj.start"
   ]
  },
  {
   "cell_type": "code",
   "execution_count": 431,
   "id": "3db77b7d",
   "metadata": {},
   "outputs": [
    {
     "ename": "AttributeError",
     "evalue": "'NoneType' object has no attribute 'next'",
     "output_type": "error",
     "traceback": [
      "\u001b[0;31m---------------------------------------------------------------------------\u001b[0m",
      "\u001b[0;31mAttributeError\u001b[0m                            Traceback (most recent call last)",
      "\u001b[0;32m/var/folders/73/zb97djqs0vl0rlrb9xlkdl9w0000gn/T/ipykernel_52139/966711930.py\u001b[0m in \u001b[0;36m<module>\u001b[0;34m\u001b[0m\n\u001b[0;32m----> 1\u001b[0;31m \u001b[0mobj\u001b[0m\u001b[0;34m.\u001b[0m\u001b[0mstart\u001b[0m\u001b[0;34m.\u001b[0m\u001b[0mnext\u001b[0m\u001b[0;34m\u001b[0m\u001b[0;34m\u001b[0m\u001b[0m\n\u001b[0m",
      "\u001b[0;31mAttributeError\u001b[0m: 'NoneType' object has no attribute 'next'"
     ]
    }
   ],
   "source": [
    "obj.start.next"
   ]
  },
  {
   "cell_type": "code",
   "execution_count": 422,
   "id": "f8ee613a",
   "metadata": {},
   "outputs": [
    {
     "data": {
      "text/plain": [
       "2"
      ]
     },
     "execution_count": 422,
     "metadata": {},
     "output_type": "execute_result"
    }
   ],
   "source": [
    "obj.start.next.prev.prev.prev"
   ]
  },
  {
   "cell_type": "markdown",
   "id": "e67df5a6",
   "metadata": {},
   "source": [
    "### 80. Maximus product sublist"
   ]
  },
  {
   "cell_type": "code",
   "execution_count": 563,
   "id": "e0f357ae",
   "metadata": {},
   "outputs": [],
   "source": [
    "class Solution:\n",
    "    def maxProduct(self, nums) -> int:\n",
    "        maxPro = nums[0]\n",
    "        curMax = 1\n",
    "        curMin = 1\n",
    "        for n in nums:\n",
    "            if n < 0:\n",
    "                curMax, curMin = curMin, curMax\n",
    "            curMax = max(n, curMax * n)\n",
    "            curMin = min(n, curMin * n)\n",
    "            maxPro = max(curMax, maxPro)\n",
    "        return maxPro"
   ]
  },
  {
   "cell_type": "code",
   "execution_count": 564,
   "id": "3e545756",
   "metadata": {},
   "outputs": [
    {
     "data": {
      "text/plain": [
       "6"
      ]
     },
     "execution_count": 564,
     "metadata": {},
     "output_type": "execute_result"
    }
   ],
   "source": [
    "s.maxProduct([2,3,-2,4])"
   ]
  },
  {
   "cell_type": "code",
   "execution_count": 565,
   "id": "bb052ad3",
   "metadata": {},
   "outputs": [
    {
     "data": {
      "text/plain": [
       "0"
      ]
     },
     "execution_count": 565,
     "metadata": {},
     "output_type": "execute_result"
    }
   ],
   "source": [
    "s.maxProduct([-2,0,-1])"
   ]
  },
  {
   "cell_type": "code",
   "execution_count": 566,
   "id": "41137040",
   "metadata": {},
   "outputs": [
    {
     "data": {
      "text/plain": [
       "12"
      ]
     },
     "execution_count": 566,
     "metadata": {},
     "output_type": "execute_result"
    }
   ],
   "source": [
    "s.maxProduct([-4,-3])"
   ]
  },
  {
   "cell_type": "code",
   "execution_count": 567,
   "id": "29435668",
   "metadata": {},
   "outputs": [
    {
     "data": {
      "text/plain": [
       "2"
      ]
     },
     "execution_count": 567,
     "metadata": {},
     "output_type": "execute_result"
    }
   ],
   "source": [
    "s.maxProduct([0,2])"
   ]
  },
  {
   "cell_type": "code",
   "execution_count": 568,
   "id": "b127144f",
   "metadata": {},
   "outputs": [
    {
     "data": {
      "text/plain": [
       "1"
      ]
     },
     "execution_count": 568,
     "metadata": {},
     "output_type": "execute_result"
    }
   ],
   "source": [
    "s.maxProduct([-3,0,1,-2])"
   ]
  },
  {
   "cell_type": "code",
   "execution_count": null,
   "id": "deefe576",
   "metadata": {},
   "outputs": [],
   "source": []
  },
  {
   "cell_type": "markdown",
   "id": "3f9274f3",
   "metadata": {},
   "source": [
    "### 81. Find peak element "
   ]
  },
  {
   "cell_type": "code",
   "execution_count": 572,
   "id": "64eda324",
   "metadata": {},
   "outputs": [],
   "source": [
    "class Solution:\n",
    "    def findPeakElement(self, nums) -> int:\n",
    "        if len(nums) == 1:return 0\n",
    "        start = 0\n",
    "        end = len(nums) -1\n",
    "        mid = (start + end)//2\n",
    "        \n",
    "        while start < end: # < len(nums):\n",
    "            mid = (start+end)//2\n",
    "            if nums[mid] > nums[mid + 1]:\n",
    "                end = mid\n",
    "            else:\n",
    "                start = mid +1\n",
    "        return start"
   ]
  },
  {
   "cell_type": "code",
   "execution_count": 573,
   "id": "ba872f9a",
   "metadata": {},
   "outputs": [
    {
     "data": {
      "text/plain": [
       "1"
      ]
     },
     "execution_count": 573,
     "metadata": {},
     "output_type": "execute_result"
    }
   ],
   "source": [
    "s.findPeakElement([1,2,1,3,5,6,4])"
   ]
  },
  {
   "cell_type": "code",
   "execution_count": 574,
   "id": "9d79b27d",
   "metadata": {},
   "outputs": [
    {
     "data": {
      "text/plain": [
       "2"
      ]
     },
     "execution_count": 574,
     "metadata": {},
     "output_type": "execute_result"
    }
   ],
   "source": [
    "s.findPeakElement([1,2,3,1])"
   ]
  },
  {
   "cell_type": "markdown",
   "id": "c819e27f",
   "metadata": {},
   "source": [
    "### 82. Fraction to reccurring decimal"
   ]
  },
  {
   "cell_type": "code",
   "execution_count": 582,
   "id": "f13f3406",
   "metadata": {},
   "outputs": [],
   "source": [
    "class Solution:\n",
    "    def fractionToDecimal(self, numerator: int, denominator: int) -> str:\n",
    "        if((numerator%denominator)==0):\n",
    "            return str(numerator//denominator)\n",
    "\n",
    "\n",
    "        if(numerator*denominator>=0):\n",
    "            sign=''\n",
    "        else:\n",
    "            sign='-'\n",
    "        numerator, denominator = abs(numerator), abs(denominator)\n",
    "        res = sign + str(numerator//denominator) + '.'\n",
    "        r=numerator%denominator\n",
    "\n",
    "\n",
    "        d={}\n",
    "        res=list(res)\n",
    "\n",
    "        while(r!=0):\n",
    "\n",
    "            if(r in d):\n",
    "                length=d[r]\n",
    "                res.insert(length,'(')\n",
    "                res.append(')')\n",
    "                break\n",
    "            else:\n",
    "                d[r]=len(res)\n",
    "                r*=10\n",
    "                q=r//denominator\n",
    "                r=r%denominator\n",
    "                res+=str(q)\n",
    "        res=''.join(res)\n",
    "\n",
    "        return res"
   ]
  },
  {
   "cell_type": "code",
   "execution_count": 578,
   "id": "a61bebb0",
   "metadata": {},
   "outputs": [
    {
     "data": {
      "text/plain": [
       "0.6666666666666666"
      ]
     },
     "execution_count": 578,
     "metadata": {},
     "output_type": "execute_result"
    }
   ],
   "source": [
    "x = 2/3\n",
    "x"
   ]
  },
  {
   "cell_type": "code",
   "execution_count": 581,
   "id": "93aeae1e",
   "metadata": {},
   "outputs": [
    {
     "data": {
      "text/plain": [
       "0.012012012012012012"
      ]
     },
     "execution_count": 581,
     "metadata": {},
     "output_type": "execute_result"
    }
   ],
   "source": [
    "x = 4/333\n",
    "x"
   ]
  },
  {
   "cell_type": "markdown",
   "id": "855bc806",
   "metadata": {},
   "source": [
    "### 83. Largest Number"
   ]
  },
  {
   "cell_type": "code",
   "execution_count": 620,
   "id": "ad57d616",
   "metadata": {},
   "outputs": [],
   "source": [
    "class LargerNumKey(str):\n",
    "    def __lt__(x, y):\n",
    "        return x+y > y+x\n",
    "        \n",
    "class Solution:\n",
    "    def largestNumber(self, nums):\n",
    "        largest_num = ''.join(sorted(map(str, nums), key=LargerNumKey))\n",
    "        return '0' if largest_num[0] == '0' else largest_num"
   ]
  },
  {
   "cell_type": "code",
   "execution_count": null,
   "id": "1d183e2d",
   "metadata": {},
   "outputs": [],
   "source": []
  },
  {
   "cell_type": "code",
   "execution_count": null,
   "id": "0cd766fd",
   "metadata": {},
   "outputs": [],
   "source": []
  },
  {
   "cell_type": "code",
   "execution_count": null,
   "id": "0401caa9",
   "metadata": {},
   "outputs": [],
   "source": []
  }
 ],
 "metadata": {
  "kernelspec": {
   "display_name": "Python 3 (ipykernel)",
   "language": "python",
   "name": "python3"
  },
  "language_info": {
   "codemirror_mode": {
    "name": "ipython",
    "version": 3
   },
   "file_extension": ".py",
   "mimetype": "text/x-python",
   "name": "python",
   "nbconvert_exporter": "python",
   "pygments_lexer": "ipython3",
   "version": "3.8.5"
  }
 },
 "nbformat": 4,
 "nbformat_minor": 5
}
