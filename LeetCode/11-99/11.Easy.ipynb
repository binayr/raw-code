{
 "cells": [
  {
   "cell_type": "markdown",
   "id": "ebe83182",
   "metadata": {},
   "source": [
    "### 41.Binary Tree Inorder Traversal"
   ]
  },
  {
   "cell_type": "code",
   "execution_count": 56,
   "id": "aa9c5ae2",
   "metadata": {},
   "outputs": [],
   "source": [
    "class TreeNode:\n",
    "    def __init__(self, val=0, left=None, right=None):\n",
    "        self.val = val\n",
    "        self.left = left\n",
    "        self.right = right\n",
    "    def __repr__(self):\n",
    "        return str(self.val)\n",
    "\n",
    "def inorder(root, out=[]):\n",
    "    if root:\n",
    "        inorder(root.left)\n",
    "        out.append(root)\n",
    "        inorder(root.right)\n",
    "    return out"
   ]
  },
  {
   "cell_type": "code",
   "execution_count": 57,
   "id": "e52aa591",
   "metadata": {},
   "outputs": [],
   "source": [
    "nodes = [1,None,2,3]\n",
    "root = TreeNode(1)\n",
    "root.right = TreeNode(2)\n",
    "root.right.left = TreeNode(3)\n"
   ]
  },
  {
   "cell_type": "code",
   "execution_count": 58,
   "id": "6425bad0",
   "metadata": {},
   "outputs": [
    {
     "data": {
      "text/plain": [
       "[1, 3, 2]"
      ]
     },
     "execution_count": 58,
     "metadata": {},
     "output_type": "execute_result"
    }
   ],
   "source": [
    "inorder(root)"
   ]
  },
  {
   "cell_type": "markdown",
   "id": "778cbadb",
   "metadata": {},
   "source": [
    "### 42. Same tree"
   ]
  },
  {
   "cell_type": "code",
   "execution_count": 98,
   "id": "d7c2ae19",
   "metadata": {},
   "outputs": [],
   "source": [
    "class TreeNode:\n",
    "    def __init__(self, val=0, left=None, right=None):\n",
    "        self.val = val\n",
    "        self.left = left\n",
    "        self.right = right\n",
    "    def __repr__(self):\n",
    "        return str(self.val)\n",
    "\n",
    "def check_same(p, q):\n",
    "    if not p and not q: return True\n",
    "    if (not p and q) or (p and not q): return False\n",
    "    if p.val == q.val:\n",
    "        if p.left and q.left:\n",
    "            left = check_same(p.left, q.left)\n",
    "        elif not p.left and not q.left:\n",
    "            left = True\n",
    "        else:\n",
    "            left = False\n",
    "        if p.right and q.right:\n",
    "            right = check_same(p.right, q.right)\n",
    "        elif not p.right and not q.right:\n",
    "            right = True\n",
    "        else:\n",
    "            right = False\n",
    "        return left and right\n",
    "    else:\n",
    "        return False\n",
    "#     if (not p and q) or (p and not q): return False\n",
    "    \n",
    "#     if p.val != q.val: return False\n",
    "#     if p.left and q.left: return check_same(p.left, q.left)\n",
    "#     if p.right and q.right: return check_same(p.right, q.right)\n",
    "#     if (not p.left and q.left) or (p.left and not q.left) or (not p.right and q.right) or (p.right and not q.right): return False\n",
    "#     return True"
   ]
  },
  {
   "cell_type": "code",
   "execution_count": 99,
   "id": "d378d907",
   "metadata": {},
   "outputs": [
    {
     "data": {
      "text/plain": [
       "True"
      ]
     },
     "execution_count": 99,
     "metadata": {},
     "output_type": "execute_result"
    }
   ],
   "source": [
    "root1 = TreeNode(1)\n",
    "root1.left = TreeNode(2)\n",
    "root1.right = TreeNode(3)\n",
    "\n",
    "root2 = TreeNode(1)\n",
    "root2.left = TreeNode(2)\n",
    "root2.right = TreeNode(3)\n",
    "check_same(root1, root2)"
   ]
  },
  {
   "cell_type": "code",
   "execution_count": 100,
   "id": "171d6c78",
   "metadata": {},
   "outputs": [
    {
     "data": {
      "text/plain": [
       "False"
      ]
     },
     "execution_count": 100,
     "metadata": {},
     "output_type": "execute_result"
    }
   ],
   "source": [
    "root1 = TreeNode(1)\n",
    "root1.left = TreeNode(2)\n",
    "\n",
    "root2 = TreeNode(1)\n",
    "root2.right = TreeNode(2)\n",
    "check_same(root1, root2)"
   ]
  },
  {
   "cell_type": "code",
   "execution_count": 101,
   "id": "b301cc15",
   "metadata": {},
   "outputs": [
    {
     "data": {
      "text/plain": [
       "False"
      ]
     },
     "execution_count": 101,
     "metadata": {},
     "output_type": "execute_result"
    }
   ],
   "source": [
    "root1 = TreeNode(1)\n",
    "root1.left = TreeNode(2)\n",
    "root1.right = TreeNode(1)\n",
    "\n",
    "root2 = TreeNode(1)\n",
    "root2.left = TreeNode(1)\n",
    "root2.right = TreeNode(2)\n",
    "check_same(root1, root2)"
   ]
  },
  {
   "cell_type": "code",
   "execution_count": 102,
   "id": "5e0ae22f",
   "metadata": {},
   "outputs": [
    {
     "data": {
      "text/plain": [
       "False"
      ]
     },
     "execution_count": 102,
     "metadata": {},
     "output_type": "execute_result"
    }
   ],
   "source": [
    "#[2,null,4]\n",
    "#[2,3,4]\n",
    "root1 = TreeNode(2)\n",
    "#root1.left = TreeNode(2)\n",
    "root1.right = TreeNode(4)\n",
    "\n",
    "root2 = TreeNode(2)\n",
    "root2.left = TreeNode(3)\n",
    "root2.right = TreeNode(4)\n",
    "check_same(root1, root2)"
   ]
  },
  {
   "cell_type": "code",
   "execution_count": 103,
   "id": "1fc67536",
   "metadata": {},
   "outputs": [
    {
     "data": {
      "text/plain": [
       "True"
      ]
     },
     "execution_count": 103,
     "metadata": {},
     "output_type": "execute_result"
    }
   ],
   "source": [
    "check_same(None, None)"
   ]
  },
  {
   "cell_type": "markdown",
   "id": "ab92b63f",
   "metadata": {},
   "source": [
    "### 43. symetric tree"
   ]
  },
  {
   "cell_type": "code",
   "execution_count": 124,
   "id": "afe222c5",
   "metadata": {},
   "outputs": [],
   "source": [
    "class TreeNode:\n",
    "    def __init__(self, val=0, left=None, right=None):\n",
    "        self.val = val\n",
    "        self.left = left\n",
    "        self.right = right\n",
    "\n",
    "        \n",
    "class Solution:\n",
    "    def isSymmetric(self, root) -> bool:\n",
    "        if not root:\n",
    "            return True\n",
    "        if root.left and root.right: return self.check_symetric(root.left, root.right)\n",
    "        elif (root.left and not root.right) or (not root.left and root.right): return False\n",
    "        else: return True\n",
    "        \n",
    "    def check_symetric(self, left, right):\n",
    "        if (left and not right) or (not left and right): return False\n",
    "        if left and right and left.val != right.val: return False\n",
    "        if left and right and left.val == right.val:\n",
    "            return self.check_symetric(left.left, right.right) and self.check_symetric(left.right, right.left)\n",
    "\n",
    "        return True\n"
   ]
  },
  {
   "cell_type": "code",
   "execution_count": 125,
   "id": "3be00c88",
   "metadata": {},
   "outputs": [
    {
     "data": {
      "text/plain": [
       "True"
      ]
     },
     "execution_count": 125,
     "metadata": {},
     "output_type": "execute_result"
    }
   ],
   "source": [
    "root = TreeNode(1)\n",
    "root.left = TreeNode(2)\n",
    "root.right = TreeNode(2)\n",
    "root.left.left = TreeNode(3)\n",
    "root.left.right = TreeNode(4)\n",
    "\n",
    "root.right.left = TreeNode(4)\n",
    "root.right.right = TreeNode(3)\n",
    "check_symetric(root.left, root.right)"
   ]
  },
  {
   "cell_type": "code",
   "execution_count": 126,
   "id": "80f96988",
   "metadata": {},
   "outputs": [
    {
     "data": {
      "text/plain": [
       "False"
      ]
     },
     "execution_count": 126,
     "metadata": {},
     "output_type": "execute_result"
    }
   ],
   "source": [
    "root = TreeNode(1)\n",
    "root.left = TreeNode(2)\n",
    "root.right = TreeNode(2)\n",
    "root.left.left = TreeNode(3)\n",
    "root.left.right = TreeNode(4)\n",
    "\n",
    "root.right.left = TreeNode(4)\n",
    "root.right.right = TreeNode(5)\n",
    "check_symetric(root.left, root.right)"
   ]
  },
  {
   "cell_type": "code",
   "execution_count": 127,
   "id": "3feadfaf",
   "metadata": {},
   "outputs": [
    {
     "data": {
      "text/plain": [
       "False"
      ]
     },
     "execution_count": 127,
     "metadata": {},
     "output_type": "execute_result"
    }
   ],
   "source": [
    "root = TreeNode(1)\n",
    "root.left = TreeNode(2)\n",
    "root.right = TreeNode(2)\n",
    "root.left.right = TreeNode(3)\n",
    "root.right.right = TreeNode(3)\n",
    "check_symetric(root.left, root.right)"
   ]
  },
  {
   "cell_type": "code",
   "execution_count": 128,
   "id": "90047b31",
   "metadata": {},
   "outputs": [
    {
     "data": {
      "text/plain": [
       "True"
      ]
     },
     "execution_count": 128,
     "metadata": {},
     "output_type": "execute_result"
    }
   ],
   "source": [
    "check_symetric(None, None)"
   ]
  },
  {
   "cell_type": "markdown",
   "id": "734a12a4",
   "metadata": {},
   "source": [
    "### 44. max depth of a binary tree"
   ]
  },
  {
   "cell_type": "code",
   "execution_count": 131,
   "id": "945cce68",
   "metadata": {},
   "outputs": [],
   "source": [
    "class TreeNode:\n",
    "    def __init__(self, val=0, left=None, right=None):\n",
    "        self.val = val\n",
    "        self.left = left\n",
    "        self.right = right\n",
    "\n",
    "        \n",
    "def max_depth(root, count=0):\n",
    "    if root:\n",
    "        count +=1\n",
    "        left = max_depth(root.left, count)\n",
    "        right = max_depth(root.right, count)\n",
    "        return max(left, right)\n",
    "    else:\n",
    "        return count"
   ]
  },
  {
   "cell_type": "code",
   "execution_count": 133,
   "id": "afaf6f32",
   "metadata": {},
   "outputs": [
    {
     "data": {
      "text/plain": [
       "3"
      ]
     },
     "execution_count": 133,
     "metadata": {},
     "output_type": "execute_result"
    }
   ],
   "source": [
    "root = TreeNode(3)\n",
    "root.left = TreeNode(9)\n",
    "root.right = TreeNode(20)\n",
    "root.right.left = TreeNode(15)\n",
    "root.right.right = TreeNode(7)\n",
    "max_depth(root)"
   ]
  },
  {
   "cell_type": "code",
   "execution_count": 134,
   "id": "f92a044c",
   "metadata": {},
   "outputs": [
    {
     "data": {
      "text/plain": [
       "2"
      ]
     },
     "execution_count": 134,
     "metadata": {},
     "output_type": "execute_result"
    }
   ],
   "source": [
    "root = TreeNode(3)\n",
    "root.right = TreeNode(20)\n",
    "max_depth(root)"
   ]
  },
  {
   "cell_type": "code",
   "execution_count": 135,
   "id": "d348bc22",
   "metadata": {},
   "outputs": [
    {
     "data": {
      "text/plain": [
       "0"
      ]
     },
     "execution_count": 135,
     "metadata": {},
     "output_type": "execute_result"
    }
   ],
   "source": [
    "max_depth(None)"
   ]
  },
  {
   "cell_type": "code",
   "execution_count": 136,
   "id": "164b1387",
   "metadata": {},
   "outputs": [
    {
     "data": {
      "text/plain": [
       "1"
      ]
     },
     "execution_count": 136,
     "metadata": {},
     "output_type": "execute_result"
    }
   ],
   "source": [
    "root = TreeNode(0)\n",
    "max_depth(root)"
   ]
  },
  {
   "cell_type": "markdown",
   "id": "2e3c6305",
   "metadata": {},
   "source": [
    "### 45. merge sorted array"
   ]
  },
  {
   "cell_type": "code",
   "execution_count": 172,
   "id": "15bf1f3a",
   "metadata": {},
   "outputs": [],
   "source": [
    "class Solution:\n",
    "    def merge(self, nums1, m: int, nums2, n: int) -> None:\n",
    "        \"\"\"\n",
    "        Do not return anything, modify nums1 in-place instead.\n",
    "        \"\"\"\n",
    "        i_m = m-1 # pointer of nums1\n",
    "        i_n = n-1 # pointer of nums2\n",
    "        \n",
    "        i = len(nums1)-1\n",
    "        \n",
    "        while (i_m >=0 and i_n>=0):\n",
    "            if nums1[i_m] > nums2[i_n]:\n",
    "                nums1[i] = nums1[i_m]\n",
    "                i_m -= 1\n",
    "            elif nums1[i_m] < nums2[i_n]:\n",
    "                nums1[i] = nums2[i_n]\n",
    "                i_n -= 1\n",
    "            else:\n",
    "                nums1[i] = nums1[i_m]\n",
    "                i_m -= 1\n",
    "            i -= 1\n",
    "        \n",
    "        if i_m < 0: \n",
    "            nums1[0:i_n+1] = nums2[0:i_n+1]\n",
    "\n",
    "s = Solution()"
   ]
  },
  {
   "cell_type": "code",
   "execution_count": 174,
   "id": "36fb849e",
   "metadata": {},
   "outputs": [
    {
     "data": {
      "text/plain": [
       "[1, 2, 2, 3, 5, 6]"
      ]
     },
     "execution_count": 174,
     "metadata": {},
     "output_type": "execute_result"
    }
   ],
   "source": [
    "nums1 = [1,2,3,0,0,0]\n",
    "m = 3\n",
    "nums2 = [2,5,6]\n",
    "n = 3\n",
    "s.merge(nums1, m, nums2, n)\n",
    "nums1"
   ]
  },
  {
   "cell_type": "markdown",
   "id": "8251042d",
   "metadata": {},
   "source": [
    "### 46. valid-palindrome"
   ]
  },
  {
   "cell_type": "code",
   "execution_count": 1,
   "id": "e0ffa3a4",
   "metadata": {},
   "outputs": [],
   "source": [
    "class Solution:\n",
    "    def isPalindrome(self, s: str) -> bool:\n",
    "        y = re.sub(\"\\s+|[^a-zA-Z0-9 ]+\", '', s)\n",
    "        y = y.lower()\n",
    "        return y == y[::-1]"
   ]
  },
  {
   "cell_type": "markdown",
   "id": "1a75b25d",
   "metadata": {},
   "source": [
    "### 47. Single Number"
   ]
  },
  {
   "cell_type": "code",
   "execution_count": 3,
   "id": "985a12fe",
   "metadata": {},
   "outputs": [],
   "source": [
    "class Solution:\n",
    "    def singleNumber(self, nums: list) -> int:\n",
    "        mapper = {}\n",
    "        for i in nums:\n",
    "            if i in mapper:\n",
    "                mapper[i] += 1\n",
    "            else:\n",
    "                mapper[i] = 1\n",
    "        return list(filter(lambda x: mapper[x] == 1, mapper))[0]"
   ]
  },
  {
   "cell_type": "markdown",
   "id": "b22a5e45",
   "metadata": {},
   "source": [
    "### 48. Linked List Cycle"
   ]
  },
  {
   "cell_type": "code",
   "execution_count": 5,
   "id": "32d2ddaf",
   "metadata": {},
   "outputs": [],
   "source": [
    "# Definition for singly-linked list.\n",
    "class ListNode:\n",
    "    def __init__(self, x):\n",
    "        self.val = x\n",
    "        self.next = None\n",
    "\n",
    "class Solution:\n",
    "    def hasCycle(self, head: ListNode) -> bool:\n",
    "        if not head: return False\n",
    "        def traverse_list(head, _set):\n",
    "            _set.add(id(head))\n",
    "            if id(head.next) in _set:\n",
    "                return True\n",
    "            elif not head.next:\n",
    "                return False\n",
    "            else:\n",
    "                return traverse_list(head.next, _set)\n",
    "        \n",
    "        ids = set()\n",
    "        flag = traverse_list(head, ids)\n",
    "        return flag\n"
   ]
  },
  {
   "cell_type": "code",
   "execution_count": null,
   "id": "da5f68a6",
   "metadata": {},
   "outputs": [],
   "source": []
  }
 ],
 "metadata": {
  "kernelspec": {
   "display_name": "Python 3 (ipykernel)",
   "language": "python",
   "name": "python3"
  },
  "language_info": {
   "codemirror_mode": {
    "name": "ipython",
    "version": 3
   },
   "file_extension": ".py",
   "mimetype": "text/x-python",
   "name": "python",
   "nbconvert_exporter": "python",
   "pygments_lexer": "ipython3",
   "version": "3.8.5"
  }
 },
 "nbformat": 4,
 "nbformat_minor": 5
}
