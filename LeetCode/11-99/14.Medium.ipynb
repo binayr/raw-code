{
 "cells": [
  {
   "cell_type": "code",
   "execution_count": 1,
   "id": "9dd9e035",
   "metadata": {},
   "outputs": [],
   "source": [
    "from typing import List, Optional\n"
   ]
  },
  {
   "cell_type": "markdown",
   "id": "64361030",
   "metadata": {},
   "source": [
    "### 84.Rotate Array"
   ]
  },
  {
   "cell_type": "code",
   "execution_count": 2,
   "id": "83c23590",
   "metadata": {},
   "outputs": [
    {
     "data": {
      "text/plain": [
       "140323626487872"
      ]
     },
     "execution_count": 2,
     "metadata": {},
     "output_type": "execute_result"
    }
   ],
   "source": [
    "x = [1,2,3,4,5,6,7]\n",
    "id(x)"
   ]
  },
  {
   "cell_type": "code",
   "execution_count": 3,
   "id": "563df0d2",
   "metadata": {},
   "outputs": [
    {
     "data": {
      "text/plain": [
       "[5, 6, 7]"
      ]
     },
     "execution_count": 3,
     "metadata": {},
     "output_type": "execute_result"
    }
   ],
   "source": [
    "y = x[-3:]\n",
    "y"
   ]
  },
  {
   "cell_type": "code",
   "execution_count": 4,
   "id": "6876bd6e",
   "metadata": {},
   "outputs": [],
   "source": [
    "k = 3\n",
    "x[k:] = x[:-k]\n",
    "x[:k] = y"
   ]
  },
  {
   "cell_type": "code",
   "execution_count": 5,
   "id": "0f6d74ef",
   "metadata": {},
   "outputs": [
    {
     "data": {
      "text/plain": [
       "[5, 6, 7, 1, 2, 3, 4]"
      ]
     },
     "execution_count": 5,
     "metadata": {},
     "output_type": "execute_result"
    }
   ],
   "source": [
    "x"
   ]
  },
  {
   "cell_type": "code",
   "execution_count": 29,
   "id": "cabe3e0a",
   "metadata": {},
   "outputs": [
    {
     "data": {
      "text/plain": [
       "140537457617088"
      ]
     },
     "execution_count": 29,
     "metadata": {},
     "output_type": "execute_result"
    }
   ],
   "source": [
    "id(x)"
   ]
  },
  {
   "cell_type": "code",
   "execution_count": 30,
   "id": "af586ca6",
   "metadata": {},
   "outputs": [],
   "source": [
    "x = x[-3:]+x[:-3]"
   ]
  },
  {
   "cell_type": "code",
   "execution_count": 31,
   "id": "b7085e7c",
   "metadata": {},
   "outputs": [
    {
     "data": {
      "text/plain": [
       "140537457608000"
      ]
     },
     "execution_count": 31,
     "metadata": {},
     "output_type": "execute_result"
    }
   ],
   "source": [
    "id(x)"
   ]
  },
  {
   "cell_type": "code",
   "execution_count": 32,
   "id": "940073b0",
   "metadata": {},
   "outputs": [
    {
     "ename": "NameError",
     "evalue": "name 'expected' is not defined",
     "output_type": "error",
     "traceback": [
      "\u001b[0;31m---------------------------------------------------------------------------\u001b[0m",
      "\u001b[0;31mNameError\u001b[0m                                 Traceback (most recent call last)",
      "\u001b[0;32m/var/folders/73/zb97djqs0vl0rlrb9xlkdl9w0000gn/T/ipykernel_98119/353285004.py\u001b[0m in \u001b[0;36m<module>\u001b[0;34m\u001b[0m\n\u001b[1;32m      2\u001b[0m \u001b[0;36m3\u001b[0m\u001b[0;34m\u001b[0m\u001b[0;34m\u001b[0m\u001b[0m\n\u001b[1;32m      3\u001b[0m \u001b[0;34m\u001b[0m\u001b[0m\n\u001b[0;32m----> 4\u001b[0;31m \u001b[0mexpected\u001b[0m \u001b[0;34m[\u001b[0m\u001b[0;36m2\u001b[0m\u001b[0;34m,\u001b[0m\u001b[0;36m1\u001b[0m\u001b[0;34m]\u001b[0m\u001b[0;34m\u001b[0m\u001b[0;34m\u001b[0m\u001b[0m\n\u001b[0m",
      "\u001b[0;31mNameError\u001b[0m: name 'expected' is not defined"
     ]
    }
   ],
   "source": [
    "[1,2]\n",
    "3\n",
    "\n",
    "expected [2,1]"
   ]
  },
  {
   "cell_type": "code",
   "execution_count": 33,
   "id": "dd2fae20",
   "metadata": {},
   "outputs": [],
   "source": [
    "class Solution:\n",
    "    def rotate(self, nums, k: int) -> None:\n",
    "        \"\"\"\n",
    "        Do not return anything, modify nums in-place instead.\n",
    "        \"\"\"\n",
    "        l = len(nums)\n",
    "        if l < k:\n",
    "            k = k - l*(k//l)\n",
    "        if k != 0: nums[:] = nums[-k:] + nums[:l-k]"
   ]
  },
  {
   "cell_type": "code",
   "execution_count": 34,
   "id": "93ca85a7",
   "metadata": {},
   "outputs": [],
   "source": [
    "class Solution:\n",
    "    def rotate(self, nums, k: int) -> None:\n",
    "        \"\"\"\n",
    "        Do not return anything, modify nums in-place instead.\n",
    "        \"\"\"\n",
    "        n = len(nums)\n",
    "        start = n\n",
    "        while start > n-k:\n",
    "            val = nums.pop(-1)\n",
    "            nums.insert(0, val)\n",
    "            start -= 1"
   ]
  },
  {
   "cell_type": "markdown",
   "id": "0fc01df9",
   "metadata": {},
   "source": [
    "### 86. Generate Paranthesis"
   ]
  },
  {
   "cell_type": "code",
   "execution_count": 84,
   "id": "f71ce2e5",
   "metadata": {},
   "outputs": [],
   "source": [
    "class Solution:\n",
    "    def generateParenthesis(self, n: int):\n",
    "        ans = []\n",
    "        def backtrack(S = [], left = 0, right = 0):\n",
    "            if len(S) == 2 * n:\n",
    "                ans.append(\"\".join(S))\n",
    "                return\n",
    "            if left < n:\n",
    "                S.append(\"(\")\n",
    "                backtrack(S, left+1, right)\n",
    "                S.pop()\n",
    "            if right < left:\n",
    "                S.append(\")\")\n",
    "                backtrack(S, left, right+1)\n",
    "                S.pop()\n",
    "        backtrack()\n",
    "        return ans\n",
    "\n",
    "s = Solution()"
   ]
  },
  {
   "cell_type": "code",
   "execution_count": 85,
   "id": "b97c0f5e",
   "metadata": {},
   "outputs": [
    {
     "data": {
      "text/plain": [
       "['((()))', '(()())', '(())()', '()(())', '()()()']"
      ]
     },
     "execution_count": 85,
     "metadata": {},
     "output_type": "execute_result"
    }
   ],
   "source": [
    "s.generateParenthesis(3)"
   ]
  },
  {
   "cell_type": "code",
   "execution_count": 86,
   "id": "21b71453",
   "metadata": {},
   "outputs": [
    {
     "data": {
      "text/plain": [
       "['((((()))))',\n",
       " '(((()())))',\n",
       " '(((())()))',\n",
       " '(((()))())',\n",
       " '(((())))()',\n",
       " '((()(())))',\n",
       " '((()()()))',\n",
       " '((()())())',\n",
       " '((()()))()',\n",
       " '((())(()))',\n",
       " '((())()())',\n",
       " '((())())()',\n",
       " '((()))(())',\n",
       " '((()))()()',\n",
       " '(()((())))',\n",
       " '(()(()()))',\n",
       " '(()(())())',\n",
       " '(()(()))()',\n",
       " '(()()(()))',\n",
       " '(()()()())',\n",
       " '(()()())()',\n",
       " '(()())(())',\n",
       " '(()())()()',\n",
       " '(())((()))',\n",
       " '(())(()())',\n",
       " '(())(())()',\n",
       " '(())()(())',\n",
       " '(())()()()',\n",
       " '()(((())))',\n",
       " '()((()()))',\n",
       " '()((())())',\n",
       " '()((()))()',\n",
       " '()(()(()))',\n",
       " '()(()()())',\n",
       " '()(()())()',\n",
       " '()(())(())',\n",
       " '()(())()()',\n",
       " '()()((()))',\n",
       " '()()(()())',\n",
       " '()()(())()',\n",
       " '()()()(())',\n",
       " '()()()()()']"
      ]
     },
     "execution_count": 86,
     "metadata": {},
     "output_type": "execute_result"
    }
   ],
   "source": [
    "s.generateParenthesis(5)"
   ]
  },
  {
   "cell_type": "markdown",
   "id": "2b6b44c8",
   "metadata": {},
   "source": [
    "### 88. Word Search"
   ]
  },
  {
   "cell_type": "code",
   "execution_count": 91,
   "id": "4c22bb34",
   "metadata": {},
   "outputs": [],
   "source": [
    "class Solution:\n",
    "    def exist(self, board, word: str) -> bool:\n",
    "        rows = len(board)\n",
    "        cols = len(board[rows-1])\n",
    "        word_length = len(word)\n",
    "        \n",
    "        def dfs(i,j,k):\n",
    "            \"\"\"\n",
    "            i: for rows\n",
    "            j: for cols\n",
    "            k: for keeping track of char count in the traversed word\n",
    "            if the traversal is matched and k crosses the word length then return True\n",
    "            if i and j falls below 0 or crosses the max value or\n",
    "            the cell doesn't match the charachter then return false. This eleminates\n",
    "            all the wrong cells or cells that go wrong in the middle.\n",
    "            \n",
    "            every cell traversed is replaced with # and then replaced back when the cursur returns.\n",
    "            \n",
    "            for every traversal the dfs searches next cell in the and previous cell in both col and row.\n",
    "            \"\"\"\n",
    "            if k >= word_length:\n",
    "                return True\n",
    "            elif i < 0 or i >= rows or j < 0 or j >= cols or board[i][j] != word[k]:\n",
    "                return False\n",
    "            \n",
    "            temp, board[i][j] = board[i][j], '#'\n",
    "            res = dfs(i+1,j,k+1) or dfs(i-1,j,k+1) or dfs(i,j+1,k+1) or dfs(i,j-1,k+1)\n",
    "            board[i][j] = temp\n",
    "            \n",
    "            return res\n",
    "        \n",
    "        # for every cell recursively check dfs, found if True\n",
    "        for i in range(rows):\n",
    "            for j in range(cols):\n",
    "                if dfs(i,j,0):\n",
    "                    return True\n",
    "                \n",
    "        return False\n",
    "    \n",
    "s = Solution()"
   ]
  },
  {
   "cell_type": "code",
   "execution_count": 92,
   "id": "8611bf8f",
   "metadata": {},
   "outputs": [
    {
     "data": {
      "text/plain": [
       "True"
      ]
     },
     "execution_count": 92,
     "metadata": {},
     "output_type": "execute_result"
    }
   ],
   "source": [
    "board = [[\"A\",\"B\",\"C\",\"E\"],[\"S\",\"F\",\"C\",\"S\"],[\"A\",\"D\",\"E\",\"E\"]]\n",
    "word = \"ABCCED\"\n",
    "s.exist(board, word)"
   ]
  },
  {
   "cell_type": "code",
   "execution_count": 93,
   "id": "d508aaae",
   "metadata": {},
   "outputs": [
    {
     "data": {
      "text/plain": [
       "False"
      ]
     },
     "execution_count": 93,
     "metadata": {},
     "output_type": "execute_result"
    }
   ],
   "source": [
    "board = [[\"A\",\"B\",\"C\",\"E\"],[\"S\",\"F\",\"C\",\"S\"],[\"A\",\"D\",\"E\",\"E\"]]\n",
    "word = \"ABCB\"\n",
    "s.exist(board, word)"
   ]
  },
  {
   "cell_type": "markdown",
   "id": "ad15bf37",
   "metadata": {},
   "source": [
    "### 90. Best Time to Buy/Sell Stock"
   ]
  },
  {
   "cell_type": "code",
   "execution_count": 98,
   "id": "8eeb9d03",
   "metadata": {},
   "outputs": [],
   "source": [
    "class Solution:\n",
    "    def maxProfit(self, prices) -> int:\n",
    "        profit = 0\n",
    "        i, n = 1, len(prices)\n",
    "        \n",
    "        while i < n:\n",
    "            if prices[i] > prices[i-1]:\n",
    "                profit += prices[i] - prices[i-1]\n",
    "            i+=1\n",
    "            \n",
    "        return profit\n",
    "    \n",
    "s = Solution()"
   ]
  },
  {
   "cell_type": "code",
   "execution_count": 99,
   "id": "6b8556cd",
   "metadata": {},
   "outputs": [
    {
     "data": {
      "text/plain": [
       "7"
      ]
     },
     "execution_count": 99,
     "metadata": {},
     "output_type": "execute_result"
    }
   ],
   "source": [
    "s.maxProfit([7,1,5,3,6,4])"
   ]
  },
  {
   "cell_type": "code",
   "execution_count": 100,
   "id": "13c9a920",
   "metadata": {},
   "outputs": [
    {
     "data": {
      "text/plain": [
       "4"
      ]
     },
     "execution_count": 100,
     "metadata": {},
     "output_type": "execute_result"
    }
   ],
   "source": [
    "s.maxProfit([1,2,3,4,5])"
   ]
  },
  {
   "cell_type": "code",
   "execution_count": 101,
   "id": "1536114c",
   "metadata": {},
   "outputs": [
    {
     "data": {
      "text/plain": [
       "0"
      ]
     },
     "execution_count": 101,
     "metadata": {},
     "output_type": "execute_result"
    }
   ],
   "source": [
    "s.maxProfit([7,6,4,3,1])"
   ]
  },
  {
   "cell_type": "markdown",
   "id": "e1bfd1e9",
   "metadata": {},
   "source": [
    "### 91. Palindromic Partition"
   ]
  },
  {
   "cell_type": "code",
   "execution_count": 112,
   "id": "45e99a51",
   "metadata": {},
   "outputs": [],
   "source": [
    "class Solution:\n",
    "    def partition(self, s: str):\n",
    "        out = [list(s)]\n",
    "        cur, n = 1, len(out)\n",
    "        while cur < n:\n",
    "            tmp = s[0:cur]\n",
    "            if tmp == tmp[::-1] and tmp not in out:\n",
    "                out.append(tmp)\n",
    "            cur += 1\n",
    "            \n",
    "        return out\n",
    "    \n",
    "s = Solution()"
   ]
  },
  {
   "cell_type": "code",
   "execution_count": 113,
   "id": "62588653",
   "metadata": {},
   "outputs": [
    {
     "data": {
      "text/plain": [
       "['a', 'a', 'b', 'aa']"
      ]
     },
     "execution_count": 113,
     "metadata": {},
     "output_type": "execute_result"
    }
   ],
   "source": [
    "s.partition('aab')"
   ]
  },
  {
   "cell_type": "code",
   "execution_count": 114,
   "id": "9a0be9d2",
   "metadata": {},
   "outputs": [
    {
     "data": {
      "text/plain": [
       "['a']"
      ]
     },
     "execution_count": 114,
     "metadata": {},
     "output_type": "execute_result"
    }
   ],
   "source": [
    "s.partition('a')"
   ]
  },
  {
   "cell_type": "code",
   "execution_count": 115,
   "id": "8fcd0214",
   "metadata": {},
   "outputs": [
    {
     "data": {
      "text/plain": [
       "['a', 'a', 'c', 'b', 'a', 'b', 'c', 'b', 'aa']"
      ]
     },
     "execution_count": 115,
     "metadata": {},
     "output_type": "execute_result"
    }
   ],
   "source": [
    "s.partition('aacbabcb')"
   ]
  },
  {
   "cell_type": "code",
   "execution_count": 116,
   "id": "ffacb5b9",
   "metadata": {},
   "outputs": [],
   "source": [
    "d = [('a',1),('a',5),('a',4),('a',3),('a',2),('a',2),]"
   ]
  },
  {
   "cell_type": "code",
   "execution_count": 117,
   "id": "c58cb204",
   "metadata": {},
   "outputs": [
    {
     "data": {
      "text/plain": [
       "[1, 5, 4, 3, 2, 2]"
      ]
     },
     "execution_count": 117,
     "metadata": {},
     "output_type": "execute_result"
    }
   ],
   "source": [
    "[i[1] for i in d if i[0]=='a']"
   ]
  },
  {
   "cell_type": "markdown",
   "id": "929467d7",
   "metadata": {},
   "source": [
    "### 92. Insert Interval"
   ]
  },
  {
   "cell_type": "code",
   "execution_count": 57,
   "id": "75049c1d",
   "metadata": {},
   "outputs": [],
   "source": [
    "class Solution:\n",
    "    def insert(self, intervals: List[List[int]], new_interval: List[int]) -> List[List[int]]:\n",
    "        res = []\n",
    "        \n",
    "        idx = 0\n",
    "        for idx, interval in enumerate(intervals):\n",
    "            if interval[1] < new_interval[0]:\n",
    "                res.append(interval)\n",
    "            elif interval[0] <= new_interval[1]:\n",
    "                new_interval[0] = min(new_interval[0], interval[0])\n",
    "                new_interval[1] = max(new_interval[1], interval[1])\n",
    "            else:\n",
    "                idx -= 1\n",
    "                break\n",
    "        \n",
    "        return res + [new_interval] + intervals[idx + 1:]"
   ]
  },
  {
   "cell_type": "code",
   "execution_count": 58,
   "id": "7b3b993b",
   "metadata": {
    "scrolled": true
   },
   "outputs": [
    {
     "data": {
      "text/plain": [
       "[[1, 5], [6, 9]]"
      ]
     },
     "execution_count": 58,
     "metadata": {},
     "output_type": "execute_result"
    }
   ],
   "source": [
    "intervals = [[1,3],[6,9]]\n",
    "newInterval = [2,5]\n",
    "s.insert(intervals, newInterval)"
   ]
  },
  {
   "cell_type": "code",
   "execution_count": 59,
   "id": "7edc8edd",
   "metadata": {
    "scrolled": true
   },
   "outputs": [
    {
     "data": {
      "text/plain": [
       "[[1, 2], [3, 10], [12, 16]]"
      ]
     },
     "execution_count": 59,
     "metadata": {},
     "output_type": "execute_result"
    }
   ],
   "source": [
    "intervals = [[1,2],[3,5],[6,7],[8,10],[12,16]]\n",
    "newInterval = [4,8]\n",
    "s.insert(intervals, newInterval)"
   ]
  },
  {
   "cell_type": "code",
   "execution_count": 60,
   "id": "18f64072",
   "metadata": {},
   "outputs": [
    {
     "data": {
      "text/plain": [
       "[[5, 7]]"
      ]
     },
     "execution_count": 60,
     "metadata": {},
     "output_type": "execute_result"
    }
   ],
   "source": [
    "intervals = []\n",
    "newInterval = [5,7]\n",
    "s.insert(intervals, newInterval)"
   ]
  },
  {
   "cell_type": "code",
   "execution_count": 61,
   "id": "9c80fe0f",
   "metadata": {},
   "outputs": [
    {
     "data": {
      "text/plain": [
       "[[1, 5]]"
      ]
     },
     "execution_count": 61,
     "metadata": {},
     "output_type": "execute_result"
    }
   ],
   "source": [
    "intervals = [[1,5]]\n",
    "newInterval = [2,3]\n",
    "s.insert(intervals, newInterval)"
   ]
  },
  {
   "cell_type": "code",
   "execution_count": 62,
   "id": "bea9c12a",
   "metadata": {
    "scrolled": true
   },
   "outputs": [
    {
     "data": {
      "text/plain": [
       "[[1, 7]]"
      ]
     },
     "execution_count": 62,
     "metadata": {},
     "output_type": "execute_result"
    }
   ],
   "source": [
    "intervals = [[1,5]]\n",
    "newInterval = [2,7]\n",
    "s.insert(intervals, newInterval)"
   ]
  },
  {
   "cell_type": "code",
   "execution_count": 63,
   "id": "2f0820c8",
   "metadata": {},
   "outputs": [
    {
     "data": {
      "text/plain": [
       "[[1, 5], [6, 8]]"
      ]
     },
     "execution_count": 63,
     "metadata": {},
     "output_type": "execute_result"
    }
   ],
   "source": [
    "intervals = [[1,5]]\n",
    "newInterval = [6,8]\n",
    "s.insert(intervals, newInterval)"
   ]
  },
  {
   "cell_type": "code",
   "execution_count": 64,
   "id": "efb935d2",
   "metadata": {},
   "outputs": [
    {
     "data": {
      "text/plain": [
       "[[0, 5]]"
      ]
     },
     "execution_count": 64,
     "metadata": {},
     "output_type": "execute_result"
    }
   ],
   "source": [
    "intervals = [[1,5]]\n",
    "newInterval = [0,3]\n",
    "s.insert(intervals, newInterval)"
   ]
  },
  {
   "cell_type": "markdown",
   "id": "303598de",
   "metadata": {},
   "source": [
    "### 93. Rotate List"
   ]
  },
  {
   "cell_type": "code",
   "execution_count": 127,
   "id": "f32a77c9",
   "metadata": {},
   "outputs": [],
   "source": [
    "# Definition for singly-linked list.\n",
    "class ListNode:\n",
    "    def __init__(self, val=0, next=None):\n",
    "        self.val = val\n",
    "        self.next = next\n",
    "    def __repr__(self):\n",
    "        return \"{0}-{1}\".format(self.val, id(self))\n",
    "        \n",
    "def traverse(head):\n",
    "    while head.next is not None:\n",
    "        print(head.val, end=\"-->\")\n",
    "        head = head.next\n",
    "    else:\n",
    "        print(head.val)\n",
    "\n",
    "class Solution:\n",
    "    def rotateRight(self, head: Optional[ListNode], k: int) -> Optional[ListNode]:\n",
    "        if head is None or k == 0: return head\n",
    "        start, last, temp, count = head, None, None, 1\n",
    "        while head.next is not None:\n",
    "            head = head.next\n",
    "            count += 1\n",
    "        else:\n",
    "            last = head\n",
    "        \n",
    "        if k >= count:\n",
    "            if k % count:\n",
    "                k = k % count\n",
    "            else:\n",
    "                k = 0\n",
    "        if count == 1 or k == 0: return start\n",
    "        stop = count - k\n",
    "        head = start\n",
    "        \n",
    "        while stop > 1:\n",
    "            head = head.next\n",
    "            stop -= 1\n",
    "        \n",
    "        temp = head.next\n",
    "        head.next = None\n",
    "        last.next = start\n",
    "        return temp\n",
    "        \n",
    "s = Solution()"
   ]
  },
  {
   "cell_type": "code",
   "execution_count": 128,
   "id": "e7e9133a",
   "metadata": {},
   "outputs": [
    {
     "name": "stdout",
     "output_type": "stream",
     "text": [
      "4-->5-->1-->2-->3\n"
     ]
    }
   ],
   "source": [
    "head = ListNode(1)\n",
    "head.next = ListNode(2)\n",
    "head.next.next = ListNode(3)\n",
    "head.next.next.next = ListNode(4)\n",
    "head.next.next.next.next = ListNode(5)\n",
    "h = s.rotateRight(head, 2)\n",
    "traverse(h)"
   ]
  },
  {
   "cell_type": "code",
   "execution_count": 129,
   "id": "7fafc4e0",
   "metadata": {},
   "outputs": [
    {
     "name": "stdout",
     "output_type": "stream",
     "text": [
      "2-->0-->1\n"
     ]
    }
   ],
   "source": [
    "head = ListNode(0)\n",
    "head.next = ListNode(1)\n",
    "head.next.next = ListNode(2)\n",
    "h = s.rotateRight(head, 4)\n",
    "traverse(h)"
   ]
  },
  {
   "cell_type": "code",
   "execution_count": 130,
   "id": "6c1bb9d2",
   "metadata": {},
   "outputs": [
    {
     "name": "stdout",
     "output_type": "stream",
     "text": [
      "1\n"
     ]
    }
   ],
   "source": [
    "head = ListNode(1)\n",
    "h = s.rotateRight(head, 1)\n",
    "traverse(h)"
   ]
  },
  {
   "cell_type": "markdown",
   "id": "033deb66",
   "metadata": {},
   "source": [
    "### 94. Unique paths II "
   ]
  },
  {
   "cell_type": "code",
   "execution_count": 189,
   "id": "dd554d91",
   "metadata": {},
   "outputs": [],
   "source": [
    "class Solution:\n",
    "    def uniquePathsWithObstacles(self, obstacleGrid: List[List[int]]) -> int:\n",
    "        m, n = len(obstacleGrid), len(obstacleGrid[0])\n",
    "        mat = [[0 for _ in obstacleGrid[0]] for __ in obstacleGrid]\n",
    "        row_flag, col_flag = False, False\n",
    "        for i in range(m):\n",
    "            for j in range(n):\n",
    "                if i == 0 and obstacleGrid[i][j] == 0 and not row_flag:\n",
    "                    mat[i][j] = 1\n",
    "                if j == 0 and obstacleGrid[i][j] == 0 and not col_flag:\n",
    "                    mat[i][j] = 1\n",
    "                if i == 0 and obstacleGrid[i][j] == 1: row_flag = True\n",
    "                if j == 0 and obstacleGrid[i][j] == 1: col_flag = True\n",
    "                \n",
    "        for i in range(1, m):\n",
    "            for j in range(1, n):\n",
    "                if obstacleGrid[i][j] == 1:\n",
    "                    mat[i][j] = 0\n",
    "                elif obstacleGrid[i-1][j] == 1:\n",
    "                    mat[i][j] = mat[i][j-1]\n",
    "                elif obstacleGrid[i][j-1] == 1:\n",
    "                    mat[i][j] = mat[i-1][j]\n",
    "                else:\n",
    "                    mat[i][j] = mat[i-1][j] + mat[i][j-1]\n",
    "                print(mat)\n",
    "        \n",
    "        return mat[-1][-1]\n",
    "                    \n",
    "s = Solution()\n",
    "        "
   ]
  },
  {
   "cell_type": "code",
   "execution_count": 190,
   "id": "1be0f15f",
   "metadata": {},
   "outputs": [
    {
     "name": "stdout",
     "output_type": "stream",
     "text": [
      "[[1, 1, 1], [1, 0, 0], [1, 0, 0]]\n",
      "[[1, 1, 1], [1, 0, 1], [1, 0, 0]]\n",
      "[[1, 1, 1], [1, 0, 1], [1, 1, 0]]\n",
      "[[1, 1, 1], [1, 0, 1], [1, 1, 2]]\n"
     ]
    },
    {
     "data": {
      "text/plain": [
       "2"
      ]
     },
     "execution_count": 190,
     "metadata": {},
     "output_type": "execute_result"
    }
   ],
   "source": [
    "s.uniquePathsWithObstacles([[0,0,0],[0,1,0],[0,0,0]])"
   ]
  },
  {
   "cell_type": "code",
   "execution_count": 191,
   "id": "4ee5e8bc",
   "metadata": {},
   "outputs": [
    {
     "name": "stdout",
     "output_type": "stream",
     "text": [
      "[[1, 0], [1, 1]]\n"
     ]
    },
    {
     "data": {
      "text/plain": [
       "1"
      ]
     },
     "execution_count": 191,
     "metadata": {},
     "output_type": "execute_result"
    }
   ],
   "source": [
    "s.uniquePathsWithObstacles([[0,1],[0,0]])"
   ]
  },
  {
   "cell_type": "code",
   "execution_count": 192,
   "id": "c4100320",
   "metadata": {},
   "outputs": [
    {
     "name": "stdout",
     "output_type": "stream",
     "text": [
      "[[1, 0, 0], [0, 0, 0], [0, 0, 0]]\n",
      "[[1, 0, 0], [0, 0, 0], [0, 0, 0]]\n",
      "[[1, 0, 0], [0, 0, 0], [0, 0, 0]]\n",
      "[[1, 0, 0], [0, 0, 0], [0, 0, 0]]\n"
     ]
    },
    {
     "data": {
      "text/plain": [
       "0"
      ]
     },
     "execution_count": 192,
     "metadata": {},
     "output_type": "execute_result"
    }
   ],
   "source": [
    "s.uniquePathsWithObstacles([[0,1,0],[1,0,0],[0,0,0]])"
   ]
  },
  {
   "cell_type": "code",
   "execution_count": 193,
   "id": "94c02890",
   "metadata": {},
   "outputs": [
    {
     "name": "stdout",
     "output_type": "stream",
     "text": [
      "[[1, 1], [1, 0]]\n"
     ]
    },
    {
     "data": {
      "text/plain": [
       "0"
      ]
     },
     "execution_count": 193,
     "metadata": {},
     "output_type": "execute_result"
    }
   ],
   "source": [
    "s.uniquePathsWithObstacles([[0,0],[0,1]])"
   ]
  },
  {
   "cell_type": "markdown",
   "id": "4c6ea457",
   "metadata": {},
   "source": [
    "### 95. Spiral Matrix II"
   ]
  },
  {
   "cell_type": "code",
   "execution_count": 248,
   "id": "e2fccf8b",
   "metadata": {},
   "outputs": [],
   "source": [
    "class Solution:\n",
    "    def generateMatrix(self, n: int) -> List[List[int]]:\n",
    "        out = [[0 for i in range(n)] for i in range(n)]\n",
    "        count = 1\n",
    "        \n",
    "        for layer in range((n+1)//2):\n",
    "            # left to right\n",
    "            for i in range(layer, n-layer):\n",
    "                #print(layer, i, count)\n",
    "                out[layer][i] = count\n",
    "                count += 1\n",
    "\n",
    "            #print('----------1-----------')\n",
    "            #top to bottom\n",
    "            for i in range(layer+1, n-layer):\n",
    "                #print(i,n-layer-1,count)\n",
    "                out[i][n-layer-1] = count\n",
    "                count += 1\n",
    "            \n",
    "            #print('----------2-----------')\n",
    "            \n",
    "            # right to left\n",
    "            for i in range(n-layer-2, layer-1, -1):\n",
    "                #print(n-layer-1, i,count)\n",
    "                out[n-layer-1][i] = count\n",
    "                count += 1\n",
    "        \n",
    "            #print('----------3-----------')\n",
    "            \n",
    "            # bottom to top\n",
    "            for i in range(n-layer-2, layer, -1):\n",
    "                #print(n-layer-1, i,count)\n",
    "                out[i][layer] = count\n",
    "                count += 1\n",
    "        \n",
    "        \n",
    "        return out\n",
    "        \n",
    "s = Solution()"
   ]
  },
  {
   "cell_type": "code",
   "execution_count": 249,
   "id": "5197172e",
   "metadata": {},
   "outputs": [
    {
     "data": {
      "text/plain": [
       "[[1, 2, 3, 4], [12, 13, 14, 5], [11, 16, 15, 6], [10, 9, 8, 7]]"
      ]
     },
     "execution_count": 249,
     "metadata": {},
     "output_type": "execute_result"
    }
   ],
   "source": [
    "s.generateMatrix(4)"
   ]
  },
  {
   "cell_type": "code",
   "execution_count": 250,
   "id": "07cc7541",
   "metadata": {},
   "outputs": [
    {
     "data": {
      "text/plain": [
       "[[1, 2, 3], [8, 9, 4], [7, 6, 5]]"
      ]
     },
     "execution_count": 250,
     "metadata": {},
     "output_type": "execute_result"
    }
   ],
   "source": [
    "s.generateMatrix(3)"
   ]
  },
  {
   "cell_type": "markdown",
   "id": "6de1cbac",
   "metadata": {},
   "source": [
    "### 96. Search 2D Matrix"
   ]
  },
  {
   "cell_type": "code",
   "execution_count": 95,
   "id": "aae8a768",
   "metadata": {},
   "outputs": [],
   "source": [
    "class Solution:\n",
    "    def searchMatrix(self, matrix: List[List[int]], target: int) -> bool:\n",
    "        def binary_search(arr, x):\n",
    "            low = 0\n",
    "            high = len(arr) - 1\n",
    "            mid = 0\n",
    "\n",
    "            while low <= high:\n",
    "                mid = (high + low) // 2\n",
    "                # If x is greater, ignore left half\n",
    "                if arr[mid] < x:\n",
    "                    low = mid + 1\n",
    "                # If x is smaller, ignore right half\n",
    "                elif arr[mid] > x:\n",
    "                    high = mid - 1\n",
    "                # means x is present at mid\n",
    "                else:\n",
    "                    return mid\n",
    "            # If we reach here, then the element was not present\n",
    "            return -1\n",
    "        \n",
    "        def find(matrix, target):\n",
    "            cur, n = 0, len(matrix)\n",
    "            heads = [i[0] for i in matrix]\n",
    "\n",
    "            while cur < n:\n",
    "                #print(cur, n)\n",
    "                if target == matrix[cur][0] or (cur+1 < n and target == matrix[cur+1][0]): return 0\n",
    "                elif cur + 1 < n and matrix[cur][0]<target<matrix[cur+1][0]:\n",
    "                    return binary_search(matrix[cur], target)\n",
    "                elif cur+1 == n and matrix[cur][0]<target:\n",
    "                    return binary_search(matrix[cur], target)\n",
    "                cur += 1\n",
    "            else:\n",
    "                return -1\n",
    "        \n",
    "        result = find(matrix, target)\n",
    "        return False if result == -1 else True\n"
   ]
  },
  {
   "cell_type": "code",
   "execution_count": 96,
   "id": "c6857d86",
   "metadata": {},
   "outputs": [
    {
     "data": {
      "text/plain": [
       "True"
      ]
     },
     "execution_count": 96,
     "metadata": {},
     "output_type": "execute_result"
    }
   ],
   "source": [
    "matrix = [[1,3,5,7],[10,11,16,20],[23,30,34,60]]\n",
    "target = 3\n",
    "s.searchMatrix(matrix, target)"
   ]
  },
  {
   "cell_type": "code",
   "execution_count": 97,
   "id": "04c90716",
   "metadata": {},
   "outputs": [
    {
     "data": {
      "text/plain": [
       "False"
      ]
     },
     "execution_count": 97,
     "metadata": {},
     "output_type": "execute_result"
    }
   ],
   "source": [
    "matrix = [[1,3,5,7],[10,11,16,20],[23,30,34,60]]\n",
    "target = 13\n",
    "s.searchMatrix(matrix, target)"
   ]
  },
  {
   "cell_type": "code",
   "execution_count": 98,
   "id": "ee033126",
   "metadata": {},
   "outputs": [
    {
     "data": {
      "text/plain": [
       "True"
      ]
     },
     "execution_count": 98,
     "metadata": {},
     "output_type": "execute_result"
    }
   ],
   "source": [
    "matrix = [[1,3,5,7],[10,11,16,20],[23,30,34,60]]\n",
    "target = 16\n",
    "s.searchMatrix(matrix, target)"
   ]
  },
  {
   "cell_type": "code",
   "execution_count": 99,
   "id": "25047a25",
   "metadata": {},
   "outputs": [
    {
     "data": {
      "text/plain": [
       "True"
      ]
     },
     "execution_count": 99,
     "metadata": {},
     "output_type": "execute_result"
    }
   ],
   "source": [
    "matrix = [[1,3,5,7],[10,11,16,20],[23,30,34,60]]\n",
    "target = 34\n",
    "s.searchMatrix(matrix, target)"
   ]
  },
  {
   "cell_type": "code",
   "execution_count": 100,
   "id": "25f95b5c",
   "metadata": {},
   "outputs": [
    {
     "data": {
      "text/plain": [
       "True"
      ]
     },
     "execution_count": 100,
     "metadata": {},
     "output_type": "execute_result"
    }
   ],
   "source": [
    "matrix = [[1,3,5,7],[10,11,16,20],[23,30,34,60]]\n",
    "target = 5\n",
    "s.searchMatrix(matrix, target)"
   ]
  },
  {
   "cell_type": "code",
   "execution_count": 101,
   "id": "24a82fb5",
   "metadata": {},
   "outputs": [
    {
     "data": {
      "text/plain": [
       "False"
      ]
     },
     "execution_count": 101,
     "metadata": {},
     "output_type": "execute_result"
    }
   ],
   "source": [
    "matrix = [[1,3,5,7],[10,11,16,20],[23,30,34,60]]\n",
    "target = -5\n",
    "s.searchMatrix(matrix, target)"
   ]
  },
  {
   "cell_type": "markdown",
   "id": "eaecbedd",
   "metadata": {},
   "source": [
    "### 97. remove duplicates from sorted array II"
   ]
  },
  {
   "cell_type": "code",
   "execution_count": 231,
   "id": "950f6581",
   "metadata": {},
   "outputs": [],
   "source": [
    "class Solution:\n",
    "    def removeDuplicates(self, nums: List[int]) -> int:\n",
    "        n = len(nums) - 1\n",
    "        count = 1\n",
    "        while n > 0:\n",
    "            if nums[n] == nums[n-1]:\n",
    "                count += 1\n",
    "                if count > 2:\n",
    "                    nums.pop(n)\n",
    "            else:\n",
    "                count = 1\n",
    "            n -=1\n",
    "        return nums\n",
    "s = Solution()"
   ]
  },
  {
   "cell_type": "code",
   "execution_count": 232,
   "id": "fbbc92cd",
   "metadata": {},
   "outputs": [
    {
     "data": {
      "text/plain": [
       "[1, 1, 2, 2, 3]"
      ]
     },
     "execution_count": 232,
     "metadata": {},
     "output_type": "execute_result"
    }
   ],
   "source": [
    "nums = [1,1,1,2,2,3]\n",
    "s.removeDuplicates(nums)"
   ]
  },
  {
   "cell_type": "markdown",
   "id": "83109c33",
   "metadata": {},
   "source": [
    "### 98. remove dupilcates from sorted list II"
   ]
  },
  {
   "cell_type": "code",
   "execution_count": 233,
   "id": "848040cc",
   "metadata": {},
   "outputs": [],
   "source": [
    "class ListNode:\n",
    "    def __init__(self, val=0, next=None):\n",
    "        self.val = val\n",
    "        self.next = next\n",
    "        \n",
    "def traverse_node(head):\n",
    "    \n",
    "    while head:\n",
    "        if head.next:\n",
    "            print(head.val, '----> ', end=\"\")\n",
    "        else:\n",
    "            print(head.val)\n",
    "        head = head.next\n",
    "        \n",
    "class Solution:\n",
    "    def deleteDuplicates(self, head: ListNode) -> ListNode:\n",
    "        # sentinel\n",
    "        sentinel = ListNode(0, head)\n",
    "\n",
    "        # predecessor = the last node \n",
    "        # before the sublist of duplicates\n",
    "        pred = sentinel\n",
    "        \n",
    "        while head:\n",
    "            # if it's a beginning of duplicates sublist \n",
    "            # skip all duplicates\n",
    "            if head.next and head.val == head.next.val:\n",
    "                # move till the end of duplicates sublist\n",
    "                while head.next and head.val == head.next.val:\n",
    "                    head = head.next\n",
    "                # skip all duplicates\n",
    "                pred.next = head.next \n",
    "            # otherwise, move predecessor\n",
    "            else:\n",
    "                pred = pred.next \n",
    "                \n",
    "            # move forward\n",
    "            head = head.next\n",
    "            \n",
    "        return sentinel.next\n",
    "    \n",
    "s = Solution()"
   ]
  },
  {
   "cell_type": "code",
   "execution_count": 234,
   "id": "c04fdd66",
   "metadata": {},
   "outputs": [
    {
     "name": "stdout",
     "output_type": "stream",
     "text": [
      "1 ----> 1 ----> 1 ----> 2 ----> 3 ----> 3\n",
      "2\n"
     ]
    }
   ],
   "source": [
    "head = ListNode(1)\n",
    "head.next = ListNode(1)\n",
    "head.next.next = ListNode(1)\n",
    "head.next.next.next = ListNode(2)\n",
    "head.next.next.next.next = ListNode(3)\n",
    "head.next.next.next.next.next = ListNode(3)\n",
    "#head.next.next.next.next.next.next = ListNode(6)\n",
    "traverse_node(head)\n",
    "traverse_node(s.deleteDuplicates(head))"
   ]
  },
  {
   "cell_type": "markdown",
   "id": "e2b69b33",
   "metadata": {},
   "source": [
    "### 99. Partition List"
   ]
  },
  {
   "cell_type": "code",
   "execution_count": 158,
   "id": "dac863b4",
   "metadata": {},
   "outputs": [],
   "source": [
    "# Definition for singly-linked list.\n",
    "class ListNode:\n",
    "    def __init__(self, val=0, next=None):\n",
    "        self.val = val\n",
    "        self.next = next\n",
    "\n",
    "class Solution:\n",
    "    def partition(self, head: Optional[ListNode], x: int) -> Optional[ListNode]:\n",
    "        before = b4head = ListNode(0)\n",
    "        after = a4head = ListNode(0)\n",
    "        while head:\n",
    "            if head.val >= x:\n",
    "                after.next = ListNode(head.val)\n",
    "                head = head.next\n",
    "                after = after.next\n",
    "            elif head.val < x:\n",
    "                before.next = ListNode(head.val)\n",
    "                head = head.next\n",
    "                before = before.next\n",
    "\n",
    "        before.next = a4head.next\n",
    "        return b4head.next\n",
    "    \n",
    "s = Solution()"
   ]
  },
  {
   "cell_type": "code",
   "execution_count": 159,
   "id": "3a36416d",
   "metadata": {},
   "outputs": [
    {
     "name": "stdout",
     "output_type": "stream",
     "text": [
      "1 ----> 4 ----> 3 ----> 2 ----> 5 ----> 2 ----> 6\n",
      "1 ----> 2 ----> 2 ----> 4 ----> 3 ----> 5 ----> 6\n"
     ]
    }
   ],
   "source": [
    "head = ListNode(1)\n",
    "head.next = ListNode(4)\n",
    "head.next.next = ListNode(3)\n",
    "head.next.next.next = ListNode(2)\n",
    "head.next.next.next.next = ListNode(5)\n",
    "head.next.next.next.next.next = ListNode(2)\n",
    "head.next.next.next.next.next.next = ListNode(6)\n",
    "traverse_node(head)\n",
    "traverse_node(s.partition(head, 3))"
   ]
  },
  {
   "cell_type": "markdown",
   "id": "174351f0",
   "metadata": {},
   "source": [
    "### 100. Search in rotated array II (with duplicates)"
   ]
  },
  {
   "cell_type": "code",
   "execution_count": 160,
   "id": "d7aa721a",
   "metadata": {},
   "outputs": [],
   "source": [
    "class Solution:\n",
    "    def search(self, nums: List[int], target: int) -> bool:\n",
    "        \n",
    "        # If nums is size of 1, return true if nums is the target, false otherwise.\n",
    "        if len(nums) == 1:\n",
    "            return nums[0] == target\n",
    "        \n",
    "        # Recursive binary search\n",
    "        def targetInNums(nums):\n",
    "            left, right = 0, len(nums) - 1\n",
    "            mid = (left + right) // 2\n",
    "            \n",
    "            # Exit condition 1\n",
    "            if left >= right:\n",
    "                return False\n",
    "            \n",
    "            # Exit condition 2 - leftmost, rightmost, or mid values is the target\n",
    "            if nums[mid] == target or nums[left] == target or nums[right] == target:\n",
    "                return True\n",
    "            \n",
    "            # If pivot is to the left of mid\n",
    "            if nums[left] > nums[mid]:\n",
    "                # If the target value is between mid and right\n",
    "                if nums[mid] < target < nums[right]:\n",
    "                    # Check if target is in the right half\n",
    "                    return targetInNums(nums[mid+1:right+1])\n",
    "                else:\n",
    "                    # Check if target is in the left half\n",
    "                    return targetInNums(nums[left:mid])\n",
    "            # If pivot is to the right of mid\n",
    "            elif nums[right] < nums[mid]:\n",
    "                # If the target value is between left and mid\n",
    "                if nums[left] < target < nums[mid]:\n",
    "                    # Check if target is in the left half\n",
    "                    return targetInNums(nums[left:mid])\n",
    "                else:\n",
    "                    # Check if target is in the right half\n",
    "                    return targetInNums(nums[mid+1:right+1])\n",
    "            # If we cannot determine if the pivot is on the left or the right\n",
    "            # Example: 2 5 6 2 2 2 2\n",
    "            #          ^left ^mid  ^right\n",
    "            # nums[left] == nums[mid] == nums[right] is True\n",
    "            # We must check both the left and the right half\n",
    "            else:\n",
    "                # Check if one of the two halves contain target\n",
    "                return targetInNums(nums[left:mid]) or targetInNums(nums[mid+1:right+1])\n",
    "        \n",
    "        return targetInNums(nums)\n",
    "    \n",
    "s = Solution()"
   ]
  },
  {
   "cell_type": "code",
   "execution_count": 161,
   "id": "54051aae",
   "metadata": {},
   "outputs": [
    {
     "data": {
      "text/plain": [
       "True"
      ]
     },
     "execution_count": 161,
     "metadata": {},
     "output_type": "execute_result"
    }
   ],
   "source": [
    "s.search(nums = [2,5,6,0,0,1,2], target = 0)"
   ]
  },
  {
   "cell_type": "code",
   "execution_count": 162,
   "id": "a91460b1",
   "metadata": {},
   "outputs": [
    {
     "data": {
      "text/plain": [
       "False"
      ]
     },
     "execution_count": 162,
     "metadata": {},
     "output_type": "execute_result"
    }
   ],
   "source": [
    "s.search(nums = [2,5,6,0,0,1,2], target = 3)"
   ]
  },
  {
   "cell_type": "markdown",
   "id": "e170c2d2",
   "metadata": {},
   "source": [
    "### 106. Reverse Linked List II"
   ]
  },
  {
   "cell_type": "code",
   "execution_count": 306,
   "id": "914837b3",
   "metadata": {},
   "outputs": [],
   "source": [
    "class Solution:\n",
    "    def reverseBetween(self, head: Optional[ListNode], left: int, right: int) -> Optional[ListNode]:\n",
    "        curr = head\n",
    "        prev = None\n",
    "        pos = 1\n",
    "        # traverse to `left`\n",
    "        while not pos == left:\n",
    "            prev = curr\n",
    "            curr = curr.next\n",
    "            pos +=1\n",
    "        # save start and end\n",
    "        start = prev\n",
    "        end = curr\n",
    "        # reverse nodes between `left` and `right`\n",
    "        while not pos == right+1:\n",
    "            temp = curr.next\n",
    "            curr.next = prev\n",
    "            prev = curr\n",
    "            curr = temp\n",
    "            pos += 1\n",
    "        # insert the reversed segment back into linked list\n",
    "        end.next = curr\n",
    "        if start:\n",
    "            start.next = prev\n",
    "            return head\n",
    "        return prev\n",
    "\n",
    "    \n",
    "def traverse(head):\n",
    "    if head:\n",
    "        print(head.val, end=\"---->\")\n",
    "        traverse(head.next)\n",
    "               \n",
    "            \n",
    "s = Solution()"
   ]
  },
  {
   "cell_type": "code",
   "execution_count": 307,
   "id": "ec4f2856",
   "metadata": {},
   "outputs": [
    {
     "name": "stdout",
     "output_type": "stream",
     "text": [
      "1---->2---->3---->4---->5---->\n",
      "\n",
      "1---->4---->3---->2---->5---->"
     ]
    }
   ],
   "source": [
    "head = [1,2,3,4,5]\n",
    "head = ListNode(1)\n",
    "head.next = ListNode(2)\n",
    "head.next.next = ListNode(3)\n",
    "head.next.next.next = ListNode(4)\n",
    "head.next.next.next.next = ListNode(5)\n",
    "traverse(head)\n",
    "print('\\n')\n",
    "h = s.reverseBetween(head, left = 2, right = 4)\n",
    "traverse(h)"
   ]
  },
  {
   "cell_type": "markdown",
   "id": "8ea234cf",
   "metadata": {},
   "source": [
    "### 107. Binary tree level order traversal"
   ]
  },
  {
   "cell_type": "code",
   "execution_count": 5,
   "id": "ae301567",
   "metadata": {},
   "outputs": [],
   "source": [
    "# Definition for a binary tree node.\n",
    "class TreeNode:\n",
    "    def __init__(self, val=0, left=None, right=None):\n",
    "        self.val = val\n",
    "        self.left = left\n",
    "        self.right = right\n",
    "\n",
    "class Solution:\n",
    "    def levelOrderBottom(self, root: Optional[TreeNode]) -> List[List[int]]:\n",
    "        def level_order(root, level):\n",
    "            if root:\n",
    "                if level in out:\n",
    "                    out[level].append(root.val)\n",
    "                else:\n",
    "                    out[level] = [root.val]\n",
    "                level_order(root.left, level+1)\n",
    "                level_order(root.right, level+1)\n",
    "                \n",
    "        out = {}\n",
    "        level_order(root, 0)\n",
    "        \n",
    "        return list(out.values())[::-1]\n",
    "    \n",
    "s = Solution()"
   ]
  },
  {
   "cell_type": "code",
   "execution_count": 6,
   "id": "0bd961af",
   "metadata": {},
   "outputs": [
    {
     "data": {
      "text/plain": [
       "[[4, 5], [2, 3], [1]]"
      ]
     },
     "execution_count": 6,
     "metadata": {},
     "output_type": "execute_result"
    }
   ],
   "source": [
    "root = TreeNode(1)\n",
    "root.left = TreeNode(2)\n",
    "root.right = TreeNode(3)\n",
    "root.right.left = TreeNode(4)\n",
    "root.right.right = TreeNode(5)\n",
    "s.levelOrderBottom(root)"
   ]
  },
  {
   "cell_type": "markdown",
   "id": "c8b67620",
   "metadata": {},
   "source": [
    "### 108.Convert Sorted List to Binary Search Tree"
   ]
  },
  {
   "cell_type": "code",
   "execution_count": 27,
   "id": "cf350ad5",
   "metadata": {},
   "outputs": [],
   "source": [
    "# Definition for singly-linked list.\n",
    "class ListNode:\n",
    "    def __init__(self, val=0, next=None):\n",
    "        self.val = val\n",
    "        self.next = next\n",
    "\n",
    "# Definition for a binary tree node.\n",
    "class TreeNode:\n",
    "    def __init__(self, val=0, left=None, right=None):\n",
    "        self.val = val\n",
    "        self.left = left\n",
    "        self.right = right\n",
    "\n",
    "class Solution:\n",
    "    def sortedListToBST(self, head: Optional[ListNode]) -> Optional[TreeNode]:\n",
    "        if not head:\n",
    "            return\n",
    "        if not head.next:\n",
    "            return TreeNode(head.val)\n",
    "        \n",
    "        slow = head\n",
    "        fast = head.next.next\n",
    "        \n",
    "        while fast != None and fast.next != None:\n",
    "            slow = slow.next\n",
    "            fast = fast.next.next\n",
    "        \n",
    "        root = TreeNode(slow.next.val)\n",
    "        right = slow.next.next\n",
    "        slow.next = None\n",
    "        left = head\n",
    "        \n",
    "        \n",
    "        left = self.sortedListToBST(left)\n",
    "        right = self.sortedListToBST(right)\n",
    "        \n",
    "        root.left = left\n",
    "        root.right = right\n",
    "        \n",
    "        return root\n",
    "            \n",
    "    \n",
    "def traverse(root):\n",
    "    if root is None: return\n",
    "    \n",
    "    print(root.val)\n",
    "    traverse(root.left)\n",
    "    traverse(root.right)\n",
    "    \n",
    "def height(root: TreeNode):\n",
    "    if root is None: return 0\n",
    "    return 1 + max(height(root.left), height(root.right))\n",
    "\n",
    "def is_balanced(root: TreeNode):\n",
    "    if root is None: return True\n",
    "    \n",
    "    return True if abs(height(root.left) - height(root.right)) < 1 else False\n",
    "    \n",
    "    \n",
    "s = Solution()"
   ]
  },
  {
   "cell_type": "code",
   "execution_count": 28,
   "id": "1bec89ba",
   "metadata": {},
   "outputs": [
    {
     "name": "stdout",
     "output_type": "stream",
     "text": [
      "0\n",
      "-3\n",
      "-10\n",
      "9\n",
      "5\n"
     ]
    }
   ],
   "source": [
    "[-10,-3,0,5,9]\n",
    "head = ListNode(-10)\n",
    "head.next = ListNode(-3)\n",
    "head.next.next = ListNode(0)\n",
    "head.next.next.next = ListNode(5)\n",
    "head.next.next.next.next = ListNode(9)\n",
    "traverse(s.sortedListToBST(head))"
   ]
  },
  {
   "cell_type": "code",
   "execution_count": 29,
   "id": "19fbaa89",
   "metadata": {},
   "outputs": [
    {
     "data": {
      "text/plain": [
       "{0: [3], 1: [1, 5], 2: [0, 2, 4]}"
      ]
     },
     "execution_count": 29,
     "metadata": {},
     "output_type": "execute_result"
    }
   ],
   "source": [
    "[0,1,2,3,4,5]\n",
    "head = ListNode(0)\n",
    "head.next = ListNode(1)\n",
    "head.next.next = ListNode(2)\n",
    "head.next.next.next = ListNode(3)\n",
    "head.next.next.next.next = ListNode(4)\n",
    "head.next.next.next.next.next = ListNode(5)\n",
    "head = s.sortedListToBST(head)\n",
    "def level_order(root, level):\n",
    "    if root:\n",
    "        if level in out:\n",
    "            out[level].append(root.val)\n",
    "        else:\n",
    "            out[level] = [root.val]\n",
    "        level_order(root.left, level+1)\n",
    "        level_order(root.right, level+1)\n",
    "        \n",
    "out = {}\n",
    "level_order(head, 0)\n",
    "out"
   ]
  },
  {
   "cell_type": "code",
   "execution_count": 30,
   "id": "7dde4148",
   "metadata": {},
   "outputs": [
    {
     "data": {
      "text/plain": [
       "True"
      ]
     },
     "execution_count": 30,
     "metadata": {},
     "output_type": "execute_result"
    }
   ],
   "source": [
    "is_balanced(head)"
   ]
  },
  {
   "cell_type": "markdown",
   "id": "ee3b23b5",
   "metadata": {},
   "source": [
    "### 109. Build tree from inorder and post order traversal"
   ]
  },
  {
   "cell_type": "code",
   "execution_count": 31,
   "id": "77427b37",
   "metadata": {},
   "outputs": [],
   "source": [
    "# Definition for a binary tree node.\n",
    "class TreeNode:\n",
    "    def __init__(self, val=0, left=None, right=None):\n",
    "        self.val = val\n",
    "        self.left = left\n",
    "        self.right = right\n",
    "\n",
    "class Solution1:\n",
    "    def buildTree(self, inorder: List[int], postorder: List[int]) -> Optional[TreeNode]:\n",
    "        inorder_index = {v:i for i, v in enumerate(inorder)}\n",
    "        def _rec(i, p, l):\n",
    "            root = None\n",
    "            if l > 0:\n",
    "                root = TreeNode(postorder[p + l - 1])\n",
    "                root_index_in_inorder = inorder_index[root.val]\n",
    "                left_len = root_index_in_inorder - i\n",
    "                right_len = l - left_len - 1\n",
    "                root.left = _rec(i, p, left_len)\n",
    "                root.right = _rec(root_index_in_inorder + 1, p + left_len, right_len)\n",
    "            return root\n",
    "        return _rec(0, 0, len(inorder))\n",
    "    \n",
    "class Solution2:\n",
    "    def buildTree(self, inorder: List[int], postorder: List[int]) -> Optional[TreeNode]:\n",
    "        def create(inorder):\n",
    "            if not inorder:\n",
    "                return None\n",
    "            value = postorder.pop()\n",
    "            node = TreeNode(value)\n",
    "            index = inorder.index(value)\n",
    "            node.right = create(inorder[index+1:])\n",
    "            node.left = create(inorder[:index])\n",
    "            return node\n",
    "        return create(inorder)"
   ]
  },
  {
   "cell_type": "markdown",
   "id": "f9d06006",
   "metadata": {},
   "source": [
    "### 110. Flatten Binary Tree to Linked List"
   ]
  },
  {
   "cell_type": "code",
   "execution_count": 39,
   "id": "d30eaf37",
   "metadata": {},
   "outputs": [],
   "source": [
    "# Definition for a binary tree node.\n",
    "class TreeNode:\n",
    "    def __init__(self, val=0, left=None, right=None):\n",
    "        self.val = val\n",
    "        self.left = left\n",
    "        self.right = right\n",
    "\n",
    "class Solution:\n",
    "    def flatten(self, root: Optional[TreeNode]) -> None:\n",
    "        \"\"\"\n",
    "        Do not return anything, modify root in-place instead.\n",
    "        \"\"\"\n",
    "        def flat(root):\n",
    "            if root is None: return\n",
    "            if root.left is not None:\n",
    "                temp = root.right\n",
    "                root.right = root.left\n",
    "                node = root.right\n",
    "                while node.right is not None:\n",
    "                    node = node.right\n",
    "                node.right = temp\n",
    "                root.left = None\n",
    "            flat(root.left)\n",
    "            flat(root.right)\n",
    "        flat(root)\n",
    "        return root\n",
    "\n",
    "s = Solution()"
   ]
  },
  {
   "cell_type": "code",
   "execution_count": 40,
   "id": "63adb49e",
   "metadata": {},
   "outputs": [
    {
     "data": {
      "text/plain": [
       "{0: [1], 1: [2], 2: [3], 3: [4], 4: [5], 5: [6]}"
      ]
     },
     "execution_count": 40,
     "metadata": {},
     "output_type": "execute_result"
    }
   ],
   "source": [
    "#[1,2,5,3,4,null,6]\n",
    "root = TreeNode(1)\n",
    "root.left = TreeNode(2)\n",
    "root.right = TreeNode(5)\n",
    "root.left.left = TreeNode(3)\n",
    "root.left.right = TreeNode(4)\n",
    "root.right.right = TreeNode(6)\n",
    "h = s.flatten(root)\n",
    "out = {}\n",
    "level_order(root, 0)\n",
    "out"
   ]
  },
  {
   "cell_type": "markdown",
   "id": "08a09e78",
   "metadata": {},
   "source": [
    "### 111.Populating Next Right Pointers in Each Node II (same as I)"
   ]
  },
  {
   "cell_type": "code",
   "execution_count": 42,
   "id": "8e97a84a",
   "metadata": {},
   "outputs": [],
   "source": [
    "\"\"\"\n",
    "# Definition for a Node.\n",
    "class Node:\n",
    "    def __init__(self, val: int = 0, left: 'Node' = None, right: 'Node' = None, next: 'Node' = None):\n",
    "        self.val = val\n",
    "        self.left = left\n",
    "        self.right = right\n",
    "        self.next = next\n",
    "\"\"\"\n",
    "\n",
    "class Solution:\n",
    "    def connect(self, root: 'Node') -> 'Node':\n",
    "        helper = defaultdict(Node)\n",
    "        \n",
    "        self.dfs(root, 0, helper)\n",
    "        \n",
    "        return root\n",
    "        \n",
    "        \n",
    "    def dfs(self, root, curr, helper):\n",
    "        if root is None: return\n",
    "        \n",
    "        if helper[curr]:\n",
    "            helper[curr].next = root\n",
    "\n",
    "        helper[curr] = root\n",
    "        self.dfs(root.left, curr+1, helper)\n",
    "        self.dfs(root.right, curr+1, helper)\n",
    "        \n",
    "        return "
   ]
  },
  {
   "cell_type": "markdown",
   "id": "f0625226",
   "metadata": {},
   "source": [
    "### 112. Triangle"
   ]
  },
  {
   "cell_type": "code",
   "execution_count": 54,
   "id": "61bea892",
   "metadata": {},
   "outputs": [],
   "source": [
    "class Solution:\n",
    "    def minimumTotal(self, triangle: List[List[int]]) -> int:\n",
    "        \n",
    "        n = len(triangle)\n",
    "        \n",
    "        dp = [[-1 for x in range(n+2)] for y in range(n)]\n",
    "        \n",
    "        for x in range(n):\n",
    "            dp[x][0] = float('inf')\n",
    "            dp[x][n+1] = float('inf')\n",
    "            \n",
    "        for x in range(1,n+1):\n",
    "            dp[0][x] = triangle[n-1][x-1]\n",
    "            \n",
    "        #print(dp)\n",
    "        for x in range(1,n):\n",
    "            for y in range(1,n-x+1):\n",
    "                #print(dp[x-1][y],dp[x-1][y-1],\"a\",triangle[n-1-x][y-1])\n",
    "                dp[x][y] = min(dp[x-1][y],dp[x-1][y+1]) + triangle[n-1-x][y-1]\n",
    "                \n",
    "        return (dp[n-1][1])\n",
    "    \n",
    "s = Solution()"
   ]
  },
  {
   "cell_type": "code",
   "execution_count": 55,
   "id": "689c067b",
   "metadata": {},
   "outputs": [
    {
     "data": {
      "text/plain": [
       "11"
      ]
     },
     "execution_count": 55,
     "metadata": {},
     "output_type": "execute_result"
    }
   ],
   "source": [
    "s.minimumTotal([[2],[3,4],[6,5,7],[4,1,8,3]])"
   ]
  },
  {
   "cell_type": "code",
   "execution_count": 56,
   "id": "68fcc0b2",
   "metadata": {},
   "outputs": [
    {
     "data": {
      "text/plain": [
       "-1"
      ]
     },
     "execution_count": 56,
     "metadata": {},
     "output_type": "execute_result"
    }
   ],
   "source": [
    "x = [[-1],[2,3],[1,-1,-3]]\n",
    "s.minimumTotal(x)"
   ]
  },
  {
   "cell_type": "markdown",
   "id": "caa86218",
   "metadata": {},
   "source": [
    "### 113. Sum root to leaf numbers"
   ]
  },
  {
   "cell_type": "code",
   "execution_count": 57,
   "id": "ea674fa2",
   "metadata": {},
   "outputs": [],
   "source": [
    "class Solution:\n",
    "    def sumNumbers(self, root: Optional[TreeNode]) -> int:\n",
    "        def dfs(root, summ):\n",
    "            if not root:\n",
    "                return 0\n",
    "            if not root.left and not root.right:\n",
    "                return summ + str(root.val) \n",
    "            summ += str(root.val)\n",
    "            return int(dfs(root.left, summ)) + int(dfs(root.right, summ))\n",
    "        \n",
    "        return dfs(root, \"\")\n",
    "    \n",
    "s = Solution()"
   ]
  },
  {
   "cell_type": "code",
   "execution_count": 59,
   "id": "b033934f",
   "metadata": {},
   "outputs": [
    {
     "data": {
      "text/plain": [
       "1026"
      ]
     },
     "execution_count": 59,
     "metadata": {},
     "output_type": "execute_result"
    }
   ],
   "source": [
    "'''\n",
    "       4\n",
    "      / \\\n",
    "    9     0\n",
    "   / \\\n",
    "  5   1   \n",
    "'''\n",
    "root = TreeNode(4)\n",
    "root.left = TreeNode(9)\n",
    "root.right = TreeNode(0)\n",
    "root.left.left = TreeNode(5)\n",
    "root.left.right = TreeNode(1)\n",
    "s.sumNumbers(root)"
   ]
  },
  {
   "cell_type": "code",
   "execution_count": null,
   "id": "0f96326d",
   "metadata": {},
   "outputs": [],
   "source": []
  }
 ],
 "metadata": {
  "kernelspec": {
   "display_name": "Python 3 (ipykernel)",
   "language": "python",
   "name": "python3"
  },
  "language_info": {
   "codemirror_mode": {
    "name": "ipython",
    "version": 3
   },
   "file_extension": ".py",
   "mimetype": "text/x-python",
   "name": "python",
   "nbconvert_exporter": "python",
   "pygments_lexer": "ipython3",
   "version": "3.8.5"
  }
 },
 "nbformat": 4,
 "nbformat_minor": 5
}
