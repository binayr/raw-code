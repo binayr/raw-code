{
 "cells": [
  {
   "cell_type": "code",
   "execution_count": 2,
   "id": "9dd9e035",
   "metadata": {},
   "outputs": [],
   "source": [
    "from typing import List, Optional\n"
   ]
  },
  {
   "cell_type": "markdown",
   "id": "64361030",
   "metadata": {},
   "source": [
    "### 84.Rotate Array"
   ]
  },
  {
   "cell_type": "code",
   "execution_count": 25,
   "id": "83c23590",
   "metadata": {},
   "outputs": [
    {
     "data": {
      "text/plain": [
       "140537457617088"
      ]
     },
     "execution_count": 25,
     "metadata": {},
     "output_type": "execute_result"
    }
   ],
   "source": [
    "x = [1,2,3,4,5,6,7]\n",
    "id(x)"
   ]
  },
  {
   "cell_type": "code",
   "execution_count": 26,
   "id": "563df0d2",
   "metadata": {},
   "outputs": [
    {
     "data": {
      "text/plain": [
       "[5, 6, 7]"
      ]
     },
     "execution_count": 26,
     "metadata": {},
     "output_type": "execute_result"
    }
   ],
   "source": [
    "y = x[-3:]\n",
    "y"
   ]
  },
  {
   "cell_type": "code",
   "execution_count": 27,
   "id": "6876bd6e",
   "metadata": {},
   "outputs": [],
   "source": [
    "k = 3\n",
    "x[k:] = x[:-k]\n",
    "x[:k] = y"
   ]
  },
  {
   "cell_type": "code",
   "execution_count": 28,
   "id": "0f6d74ef",
   "metadata": {},
   "outputs": [
    {
     "data": {
      "text/plain": [
       "[5, 6, 7, 1, 2, 3, 4]"
      ]
     },
     "execution_count": 28,
     "metadata": {},
     "output_type": "execute_result"
    }
   ],
   "source": [
    "x"
   ]
  },
  {
   "cell_type": "code",
   "execution_count": 29,
   "id": "cabe3e0a",
   "metadata": {},
   "outputs": [
    {
     "data": {
      "text/plain": [
       "140537457617088"
      ]
     },
     "execution_count": 29,
     "metadata": {},
     "output_type": "execute_result"
    }
   ],
   "source": [
    "id(x)"
   ]
  },
  {
   "cell_type": "code",
   "execution_count": 30,
   "id": "af586ca6",
   "metadata": {},
   "outputs": [],
   "source": [
    "x = x[-3:]+x[:-3]"
   ]
  },
  {
   "cell_type": "code",
   "execution_count": 31,
   "id": "b7085e7c",
   "metadata": {},
   "outputs": [
    {
     "data": {
      "text/plain": [
       "140537457608000"
      ]
     },
     "execution_count": 31,
     "metadata": {},
     "output_type": "execute_result"
    }
   ],
   "source": [
    "id(x)"
   ]
  },
  {
   "cell_type": "code",
   "execution_count": 32,
   "id": "940073b0",
   "metadata": {},
   "outputs": [
    {
     "ename": "NameError",
     "evalue": "name 'expected' is not defined",
     "output_type": "error",
     "traceback": [
      "\u001b[0;31m---------------------------------------------------------------------------\u001b[0m",
      "\u001b[0;31mNameError\u001b[0m                                 Traceback (most recent call last)",
      "\u001b[0;32m/var/folders/73/zb97djqs0vl0rlrb9xlkdl9w0000gn/T/ipykernel_98119/353285004.py\u001b[0m in \u001b[0;36m<module>\u001b[0;34m\u001b[0m\n\u001b[1;32m      2\u001b[0m \u001b[0;36m3\u001b[0m\u001b[0;34m\u001b[0m\u001b[0;34m\u001b[0m\u001b[0m\n\u001b[1;32m      3\u001b[0m \u001b[0;34m\u001b[0m\u001b[0m\n\u001b[0;32m----> 4\u001b[0;31m \u001b[0mexpected\u001b[0m \u001b[0;34m[\u001b[0m\u001b[0;36m2\u001b[0m\u001b[0;34m,\u001b[0m\u001b[0;36m1\u001b[0m\u001b[0;34m]\u001b[0m\u001b[0;34m\u001b[0m\u001b[0;34m\u001b[0m\u001b[0m\n\u001b[0m",
      "\u001b[0;31mNameError\u001b[0m: name 'expected' is not defined"
     ]
    }
   ],
   "source": [
    "[1,2]\n",
    "3\n",
    "\n",
    "expected [2,1]"
   ]
  },
  {
   "cell_type": "code",
   "execution_count": 33,
   "id": "dd2fae20",
   "metadata": {},
   "outputs": [],
   "source": [
    "class Solution:\n",
    "    def rotate(self, nums, k: int) -> None:\n",
    "        \"\"\"\n",
    "        Do not return anything, modify nums in-place instead.\n",
    "        \"\"\"\n",
    "        l = len(nums)\n",
    "        if l < k:\n",
    "            k = k - l*(k//l)\n",
    "        if k != 0: nums[:] = nums[-k:] + nums[:l-k]"
   ]
  },
  {
   "cell_type": "code",
   "execution_count": 34,
   "id": "93ca85a7",
   "metadata": {},
   "outputs": [],
   "source": [
    "class Solution:\n",
    "    def rotate(self, nums, k: int) -> None:\n",
    "        \"\"\"\n",
    "        Do not return anything, modify nums in-place instead.\n",
    "        \"\"\"\n",
    "        n = len(nums)\n",
    "        start = n\n",
    "        while start > n-k:\n",
    "            val = nums.pop(-1)\n",
    "            nums.insert(0, val)\n",
    "            start -= 1"
   ]
  },
  {
   "cell_type": "markdown",
   "id": "0fc01df9",
   "metadata": {},
   "source": [
    "### 86. Generate Paranthesis"
   ]
  },
  {
   "cell_type": "code",
   "execution_count": 84,
   "id": "f71ce2e5",
   "metadata": {},
   "outputs": [],
   "source": [
    "class Solution:\n",
    "    def generateParenthesis(self, n: int):\n",
    "        ans = []\n",
    "        def backtrack(S = [], left = 0, right = 0):\n",
    "            if len(S) == 2 * n:\n",
    "                ans.append(\"\".join(S))\n",
    "                return\n",
    "            if left < n:\n",
    "                S.append(\"(\")\n",
    "                backtrack(S, left+1, right)\n",
    "                S.pop()\n",
    "            if right < left:\n",
    "                S.append(\")\")\n",
    "                backtrack(S, left, right+1)\n",
    "                S.pop()\n",
    "        backtrack()\n",
    "        return ans\n",
    "\n",
    "s = Solution()"
   ]
  },
  {
   "cell_type": "code",
   "execution_count": 85,
   "id": "b97c0f5e",
   "metadata": {},
   "outputs": [
    {
     "data": {
      "text/plain": [
       "['((()))', '(()())', '(())()', '()(())', '()()()']"
      ]
     },
     "execution_count": 85,
     "metadata": {},
     "output_type": "execute_result"
    }
   ],
   "source": [
    "s.generateParenthesis(3)"
   ]
  },
  {
   "cell_type": "code",
   "execution_count": 86,
   "id": "21b71453",
   "metadata": {},
   "outputs": [
    {
     "data": {
      "text/plain": [
       "['((((()))))',\n",
       " '(((()())))',\n",
       " '(((())()))',\n",
       " '(((()))())',\n",
       " '(((())))()',\n",
       " '((()(())))',\n",
       " '((()()()))',\n",
       " '((()())())',\n",
       " '((()()))()',\n",
       " '((())(()))',\n",
       " '((())()())',\n",
       " '((())())()',\n",
       " '((()))(())',\n",
       " '((()))()()',\n",
       " '(()((())))',\n",
       " '(()(()()))',\n",
       " '(()(())())',\n",
       " '(()(()))()',\n",
       " '(()()(()))',\n",
       " '(()()()())',\n",
       " '(()()())()',\n",
       " '(()())(())',\n",
       " '(()())()()',\n",
       " '(())((()))',\n",
       " '(())(()())',\n",
       " '(())(())()',\n",
       " '(())()(())',\n",
       " '(())()()()',\n",
       " '()(((())))',\n",
       " '()((()()))',\n",
       " '()((())())',\n",
       " '()((()))()',\n",
       " '()(()(()))',\n",
       " '()(()()())',\n",
       " '()(()())()',\n",
       " '()(())(())',\n",
       " '()(())()()',\n",
       " '()()((()))',\n",
       " '()()(()())',\n",
       " '()()(())()',\n",
       " '()()()(())',\n",
       " '()()()()()']"
      ]
     },
     "execution_count": 86,
     "metadata": {},
     "output_type": "execute_result"
    }
   ],
   "source": [
    "s.generateParenthesis(5)"
   ]
  },
  {
   "cell_type": "markdown",
   "id": "2b6b44c8",
   "metadata": {},
   "source": [
    "### 88. Word Search"
   ]
  },
  {
   "cell_type": "code",
   "execution_count": 91,
   "id": "4c22bb34",
   "metadata": {},
   "outputs": [],
   "source": [
    "class Solution:\n",
    "    def exist(self, board, word: str) -> bool:\n",
    "        rows = len(board)\n",
    "        cols = len(board[rows-1])\n",
    "        word_length = len(word)\n",
    "        \n",
    "        def dfs(i,j,k):\n",
    "            \"\"\"\n",
    "            i: for rows\n",
    "            j: for cols\n",
    "            k: for keeping track of char count in the traversed word\n",
    "            if the traversal is matched and k crosses the word length then return True\n",
    "            if i and j falls below 0 or crosses the max value or\n",
    "            the cell doesn't match the charachter then return false. This eleminates\n",
    "            all the wrong cells or cells that go wrong in the middle.\n",
    "            \n",
    "            every cell traversed is replaced with # and then replaced back when the cursur returns.\n",
    "            \n",
    "            for every traversal the dfs searches next cell in the and previous cell in both col and row.\n",
    "            \"\"\"\n",
    "            if k >= word_length:\n",
    "                return True\n",
    "            elif i < 0 or i >= rows or j < 0 or j >= cols or board[i][j] != word[k]:\n",
    "                return False\n",
    "            \n",
    "            temp, board[i][j] = board[i][j], '#'\n",
    "            res = dfs(i+1,j,k+1) or dfs(i-1,j,k+1) or dfs(i,j+1,k+1) or dfs(i,j-1,k+1)\n",
    "            board[i][j] = temp\n",
    "            \n",
    "            return res\n",
    "        \n",
    "        # for every cell recursively check dfs, found if True\n",
    "        for i in range(rows):\n",
    "            for j in range(cols):\n",
    "                if dfs(i,j,0):\n",
    "                    return True\n",
    "                \n",
    "        return False\n",
    "    \n",
    "s = Solution()"
   ]
  },
  {
   "cell_type": "code",
   "execution_count": 92,
   "id": "8611bf8f",
   "metadata": {},
   "outputs": [
    {
     "data": {
      "text/plain": [
       "True"
      ]
     },
     "execution_count": 92,
     "metadata": {},
     "output_type": "execute_result"
    }
   ],
   "source": [
    "board = [[\"A\",\"B\",\"C\",\"E\"],[\"S\",\"F\",\"C\",\"S\"],[\"A\",\"D\",\"E\",\"E\"]]\n",
    "word = \"ABCCED\"\n",
    "s.exist(board, word)"
   ]
  },
  {
   "cell_type": "code",
   "execution_count": 93,
   "id": "d508aaae",
   "metadata": {},
   "outputs": [
    {
     "data": {
      "text/plain": [
       "False"
      ]
     },
     "execution_count": 93,
     "metadata": {},
     "output_type": "execute_result"
    }
   ],
   "source": [
    "board = [[\"A\",\"B\",\"C\",\"E\"],[\"S\",\"F\",\"C\",\"S\"],[\"A\",\"D\",\"E\",\"E\"]]\n",
    "word = \"ABCB\"\n",
    "s.exist(board, word)"
   ]
  },
  {
   "cell_type": "markdown",
   "id": "ad15bf37",
   "metadata": {},
   "source": [
    "### 90. Best Time to Buy/Sell Stock"
   ]
  },
  {
   "cell_type": "code",
   "execution_count": 98,
   "id": "8eeb9d03",
   "metadata": {},
   "outputs": [],
   "source": [
    "class Solution:\n",
    "    def maxProfit(self, prices) -> int:\n",
    "        profit = 0\n",
    "        i, n = 1, len(prices)\n",
    "        \n",
    "        while i < n:\n",
    "            if prices[i] > prices[i-1]:\n",
    "                profit += prices[i] - prices[i-1]\n",
    "            i+=1\n",
    "            \n",
    "        return profit\n",
    "    \n",
    "s = Solution()"
   ]
  },
  {
   "cell_type": "code",
   "execution_count": 99,
   "id": "6b8556cd",
   "metadata": {},
   "outputs": [
    {
     "data": {
      "text/plain": [
       "7"
      ]
     },
     "execution_count": 99,
     "metadata": {},
     "output_type": "execute_result"
    }
   ],
   "source": [
    "s.maxProfit([7,1,5,3,6,4])"
   ]
  },
  {
   "cell_type": "code",
   "execution_count": 100,
   "id": "13c9a920",
   "metadata": {},
   "outputs": [
    {
     "data": {
      "text/plain": [
       "4"
      ]
     },
     "execution_count": 100,
     "metadata": {},
     "output_type": "execute_result"
    }
   ],
   "source": [
    "s.maxProfit([1,2,3,4,5])"
   ]
  },
  {
   "cell_type": "code",
   "execution_count": 101,
   "id": "1536114c",
   "metadata": {},
   "outputs": [
    {
     "data": {
      "text/plain": [
       "0"
      ]
     },
     "execution_count": 101,
     "metadata": {},
     "output_type": "execute_result"
    }
   ],
   "source": [
    "s.maxProfit([7,6,4,3,1])"
   ]
  },
  {
   "cell_type": "markdown",
   "id": "e1bfd1e9",
   "metadata": {},
   "source": [
    "### 91. Palindromic Partition"
   ]
  },
  {
   "cell_type": "code",
   "execution_count": 112,
   "id": "45e99a51",
   "metadata": {},
   "outputs": [],
   "source": [
    "class Solution:\n",
    "    def partition(self, s: str):\n",
    "        out = [list(s)]\n",
    "        cur, n = 1, len(out)\n",
    "        while cur < n:\n",
    "            tmp = s[0:cur]\n",
    "            if tmp == tmp[::-1] and tmp not in out:\n",
    "                out.append(tmp)\n",
    "            cur += 1\n",
    "            \n",
    "        return out\n",
    "    \n",
    "s = Solution()"
   ]
  },
  {
   "cell_type": "code",
   "execution_count": 113,
   "id": "62588653",
   "metadata": {},
   "outputs": [
    {
     "data": {
      "text/plain": [
       "['a', 'a', 'b', 'aa']"
      ]
     },
     "execution_count": 113,
     "metadata": {},
     "output_type": "execute_result"
    }
   ],
   "source": [
    "s.partition('aab')"
   ]
  },
  {
   "cell_type": "code",
   "execution_count": 114,
   "id": "9a0be9d2",
   "metadata": {},
   "outputs": [
    {
     "data": {
      "text/plain": [
       "['a']"
      ]
     },
     "execution_count": 114,
     "metadata": {},
     "output_type": "execute_result"
    }
   ],
   "source": [
    "s.partition('a')"
   ]
  },
  {
   "cell_type": "code",
   "execution_count": 115,
   "id": "8fcd0214",
   "metadata": {},
   "outputs": [
    {
     "data": {
      "text/plain": [
       "['a', 'a', 'c', 'b', 'a', 'b', 'c', 'b', 'aa']"
      ]
     },
     "execution_count": 115,
     "metadata": {},
     "output_type": "execute_result"
    }
   ],
   "source": [
    "s.partition('aacbabcb')"
   ]
  },
  {
   "cell_type": "code",
   "execution_count": 116,
   "id": "ffacb5b9",
   "metadata": {},
   "outputs": [],
   "source": [
    "d = [('a',1),('a',5),('a',4),('a',3),('a',2),('a',2),]"
   ]
  },
  {
   "cell_type": "code",
   "execution_count": 117,
   "id": "c58cb204",
   "metadata": {},
   "outputs": [
    {
     "data": {
      "text/plain": [
       "[1, 5, 4, 3, 2, 2]"
      ]
     },
     "execution_count": 117,
     "metadata": {},
     "output_type": "execute_result"
    }
   ],
   "source": [
    "[i[1] for i in d if i[0]=='a']"
   ]
  },
  {
   "cell_type": "markdown",
   "id": "929467d7",
   "metadata": {},
   "source": [
    "### 92. Insert Interval"
   ]
  },
  {
   "cell_type": "code",
   "execution_count": 57,
   "id": "75049c1d",
   "metadata": {},
   "outputs": [],
   "source": [
    "class Solution:\n",
    "    def insert(self, intervals: List[List[int]], new_interval: List[int]) -> List[List[int]]:\n",
    "        res = []\n",
    "        \n",
    "        idx = 0\n",
    "        for idx, interval in enumerate(intervals):\n",
    "            if interval[1] < new_interval[0]:\n",
    "                res.append(interval)\n",
    "            elif interval[0] <= new_interval[1]:\n",
    "                new_interval[0] = min(new_interval[0], interval[0])\n",
    "                new_interval[1] = max(new_interval[1], interval[1])\n",
    "            else:\n",
    "                idx -= 1\n",
    "                break\n",
    "        \n",
    "        return res + [new_interval] + intervals[idx + 1:]"
   ]
  },
  {
   "cell_type": "code",
   "execution_count": 58,
   "id": "7b3b993b",
   "metadata": {
    "scrolled": true
   },
   "outputs": [
    {
     "data": {
      "text/plain": [
       "[[1, 5], [6, 9]]"
      ]
     },
     "execution_count": 58,
     "metadata": {},
     "output_type": "execute_result"
    }
   ],
   "source": [
    "intervals = [[1,3],[6,9]]\n",
    "newInterval = [2,5]\n",
    "s.insert(intervals, newInterval)"
   ]
  },
  {
   "cell_type": "code",
   "execution_count": 59,
   "id": "7edc8edd",
   "metadata": {
    "scrolled": true
   },
   "outputs": [
    {
     "data": {
      "text/plain": [
       "[[1, 2], [3, 10], [12, 16]]"
      ]
     },
     "execution_count": 59,
     "metadata": {},
     "output_type": "execute_result"
    }
   ],
   "source": [
    "intervals = [[1,2],[3,5],[6,7],[8,10],[12,16]]\n",
    "newInterval = [4,8]\n",
    "s.insert(intervals, newInterval)"
   ]
  },
  {
   "cell_type": "code",
   "execution_count": 60,
   "id": "18f64072",
   "metadata": {},
   "outputs": [
    {
     "data": {
      "text/plain": [
       "[[5, 7]]"
      ]
     },
     "execution_count": 60,
     "metadata": {},
     "output_type": "execute_result"
    }
   ],
   "source": [
    "intervals = []\n",
    "newInterval = [5,7]\n",
    "s.insert(intervals, newInterval)"
   ]
  },
  {
   "cell_type": "code",
   "execution_count": 61,
   "id": "9c80fe0f",
   "metadata": {},
   "outputs": [
    {
     "data": {
      "text/plain": [
       "[[1, 5]]"
      ]
     },
     "execution_count": 61,
     "metadata": {},
     "output_type": "execute_result"
    }
   ],
   "source": [
    "intervals = [[1,5]]\n",
    "newInterval = [2,3]\n",
    "s.insert(intervals, newInterval)"
   ]
  },
  {
   "cell_type": "code",
   "execution_count": 62,
   "id": "bea9c12a",
   "metadata": {
    "scrolled": true
   },
   "outputs": [
    {
     "data": {
      "text/plain": [
       "[[1, 7]]"
      ]
     },
     "execution_count": 62,
     "metadata": {},
     "output_type": "execute_result"
    }
   ],
   "source": [
    "intervals = [[1,5]]\n",
    "newInterval = [2,7]\n",
    "s.insert(intervals, newInterval)"
   ]
  },
  {
   "cell_type": "code",
   "execution_count": 63,
   "id": "2f0820c8",
   "metadata": {},
   "outputs": [
    {
     "data": {
      "text/plain": [
       "[[1, 5], [6, 8]]"
      ]
     },
     "execution_count": 63,
     "metadata": {},
     "output_type": "execute_result"
    }
   ],
   "source": [
    "intervals = [[1,5]]\n",
    "newInterval = [6,8]\n",
    "s.insert(intervals, newInterval)"
   ]
  },
  {
   "cell_type": "code",
   "execution_count": 64,
   "id": "efb935d2",
   "metadata": {},
   "outputs": [
    {
     "data": {
      "text/plain": [
       "[[0, 5]]"
      ]
     },
     "execution_count": 64,
     "metadata": {},
     "output_type": "execute_result"
    }
   ],
   "source": [
    "intervals = [[1,5]]\n",
    "newInterval = [0,3]\n",
    "s.insert(intervals, newInterval)"
   ]
  },
  {
   "cell_type": "markdown",
   "id": "303598de",
   "metadata": {},
   "source": [
    "### 93. Rotate List"
   ]
  },
  {
   "cell_type": "code",
   "execution_count": 127,
   "id": "f32a77c9",
   "metadata": {},
   "outputs": [],
   "source": [
    "# Definition for singly-linked list.\n",
    "class ListNode:\n",
    "    def __init__(self, val=0, next=None):\n",
    "        self.val = val\n",
    "        self.next = next\n",
    "    def __repr__(self):\n",
    "        return \"{0}-{1}\".format(self.val, id(self))\n",
    "        \n",
    "def traverse(head):\n",
    "    while head.next is not None:\n",
    "        print(head.val, end=\"-->\")\n",
    "        head = head.next\n",
    "    else:\n",
    "        print(head.val)\n",
    "\n",
    "class Solution:\n",
    "    def rotateRight(self, head: Optional[ListNode], k: int) -> Optional[ListNode]:\n",
    "        if head is None or k == 0: return head\n",
    "        start, last, temp, count = head, None, None, 1\n",
    "        while head.next is not None:\n",
    "            head = head.next\n",
    "            count += 1\n",
    "        else:\n",
    "            last = head\n",
    "        \n",
    "        if k >= count:\n",
    "            if k % count:\n",
    "                k = k % count\n",
    "            else:\n",
    "                k = 0\n",
    "        if count == 1 or k == 0: return start\n",
    "        stop = count - k\n",
    "        head = start\n",
    "        \n",
    "        while stop > 1:\n",
    "            head = head.next\n",
    "            stop -= 1\n",
    "        \n",
    "        temp = head.next\n",
    "        head.next = None\n",
    "        last.next = start\n",
    "        return temp\n",
    "        \n",
    "s = Solution()"
   ]
  },
  {
   "cell_type": "code",
   "execution_count": 128,
   "id": "e7e9133a",
   "metadata": {},
   "outputs": [
    {
     "name": "stdout",
     "output_type": "stream",
     "text": [
      "4-->5-->1-->2-->3\n"
     ]
    }
   ],
   "source": [
    "head = ListNode(1)\n",
    "head.next = ListNode(2)\n",
    "head.next.next = ListNode(3)\n",
    "head.next.next.next = ListNode(4)\n",
    "head.next.next.next.next = ListNode(5)\n",
    "h = s.rotateRight(head, 2)\n",
    "traverse(h)"
   ]
  },
  {
   "cell_type": "code",
   "execution_count": 129,
   "id": "7fafc4e0",
   "metadata": {},
   "outputs": [
    {
     "name": "stdout",
     "output_type": "stream",
     "text": [
      "2-->0-->1\n"
     ]
    }
   ],
   "source": [
    "head = ListNode(0)\n",
    "head.next = ListNode(1)\n",
    "head.next.next = ListNode(2)\n",
    "h = s.rotateRight(head, 4)\n",
    "traverse(h)"
   ]
  },
  {
   "cell_type": "code",
   "execution_count": 130,
   "id": "6c1bb9d2",
   "metadata": {},
   "outputs": [
    {
     "name": "stdout",
     "output_type": "stream",
     "text": [
      "1\n"
     ]
    }
   ],
   "source": [
    "head = ListNode(1)\n",
    "h = s.rotateRight(head, 1)\n",
    "traverse(h)"
   ]
  },
  {
   "cell_type": "markdown",
   "id": "033deb66",
   "metadata": {},
   "source": [
    "### 94. Unique paths II "
   ]
  },
  {
   "cell_type": "code",
   "execution_count": 189,
   "id": "dd554d91",
   "metadata": {},
   "outputs": [],
   "source": [
    "class Solution:\n",
    "    def uniquePathsWithObstacles(self, obstacleGrid: List[List[int]]) -> int:\n",
    "        m, n = len(obstacleGrid), len(obstacleGrid[0])\n",
    "        mat = [[0 for _ in obstacleGrid[0]] for __ in obstacleGrid]\n",
    "        row_flag, col_flag = False, False\n",
    "        for i in range(m):\n",
    "            for j in range(n):\n",
    "                if i == 0 and obstacleGrid[i][j] == 0 and not row_flag:\n",
    "                    mat[i][j] = 1\n",
    "                if j == 0 and obstacleGrid[i][j] == 0 and not col_flag:\n",
    "                    mat[i][j] = 1\n",
    "                if i == 0 and obstacleGrid[i][j] == 1: row_flag = True\n",
    "                if j == 0 and obstacleGrid[i][j] == 1: col_flag = True\n",
    "                \n",
    "        for i in range(1, m):\n",
    "            for j in range(1, n):\n",
    "                if obstacleGrid[i][j] == 1:\n",
    "                    mat[i][j] = 0\n",
    "                elif obstacleGrid[i-1][j] == 1:\n",
    "                    mat[i][j] = mat[i][j-1]\n",
    "                elif obstacleGrid[i][j-1] == 1:\n",
    "                    mat[i][j] = mat[i-1][j]\n",
    "                else:\n",
    "                    mat[i][j] = mat[i-1][j] + mat[i][j-1]\n",
    "                print(mat)\n",
    "        \n",
    "        return mat[-1][-1]\n",
    "                    \n",
    "s = Solution()\n",
    "        "
   ]
  },
  {
   "cell_type": "code",
   "execution_count": 190,
   "id": "1be0f15f",
   "metadata": {},
   "outputs": [
    {
     "name": "stdout",
     "output_type": "stream",
     "text": [
      "[[1, 1, 1], [1, 0, 0], [1, 0, 0]]\n",
      "[[1, 1, 1], [1, 0, 1], [1, 0, 0]]\n",
      "[[1, 1, 1], [1, 0, 1], [1, 1, 0]]\n",
      "[[1, 1, 1], [1, 0, 1], [1, 1, 2]]\n"
     ]
    },
    {
     "data": {
      "text/plain": [
       "2"
      ]
     },
     "execution_count": 190,
     "metadata": {},
     "output_type": "execute_result"
    }
   ],
   "source": [
    "s.uniquePathsWithObstacles([[0,0,0],[0,1,0],[0,0,0]])"
   ]
  },
  {
   "cell_type": "code",
   "execution_count": 191,
   "id": "4ee5e8bc",
   "metadata": {},
   "outputs": [
    {
     "name": "stdout",
     "output_type": "stream",
     "text": [
      "[[1, 0], [1, 1]]\n"
     ]
    },
    {
     "data": {
      "text/plain": [
       "1"
      ]
     },
     "execution_count": 191,
     "metadata": {},
     "output_type": "execute_result"
    }
   ],
   "source": [
    "s.uniquePathsWithObstacles([[0,1],[0,0]])"
   ]
  },
  {
   "cell_type": "code",
   "execution_count": 192,
   "id": "c4100320",
   "metadata": {},
   "outputs": [
    {
     "name": "stdout",
     "output_type": "stream",
     "text": [
      "[[1, 0, 0], [0, 0, 0], [0, 0, 0]]\n",
      "[[1, 0, 0], [0, 0, 0], [0, 0, 0]]\n",
      "[[1, 0, 0], [0, 0, 0], [0, 0, 0]]\n",
      "[[1, 0, 0], [0, 0, 0], [0, 0, 0]]\n"
     ]
    },
    {
     "data": {
      "text/plain": [
       "0"
      ]
     },
     "execution_count": 192,
     "metadata": {},
     "output_type": "execute_result"
    }
   ],
   "source": [
    "s.uniquePathsWithObstacles([[0,1,0],[1,0,0],[0,0,0]])"
   ]
  },
  {
   "cell_type": "code",
   "execution_count": 193,
   "id": "94c02890",
   "metadata": {},
   "outputs": [
    {
     "name": "stdout",
     "output_type": "stream",
     "text": [
      "[[1, 1], [1, 0]]\n"
     ]
    },
    {
     "data": {
      "text/plain": [
       "0"
      ]
     },
     "execution_count": 193,
     "metadata": {},
     "output_type": "execute_result"
    }
   ],
   "source": [
    "s.uniquePathsWithObstacles([[0,0],[0,1]])"
   ]
  },
  {
   "cell_type": "markdown",
   "id": "4c6ea457",
   "metadata": {},
   "source": [
    "### 95. Spiral Matrix II"
   ]
  },
  {
   "cell_type": "code",
   "execution_count": 248,
   "id": "e2fccf8b",
   "metadata": {},
   "outputs": [],
   "source": [
    "class Solution:\n",
    "    def generateMatrix(self, n: int) -> List[List[int]]:\n",
    "        out = [[0 for i in range(n)] for i in range(n)]\n",
    "        count = 1\n",
    "        \n",
    "        for layer in range((n+1)//2):\n",
    "            # left to right\n",
    "            for i in range(layer, n-layer):\n",
    "                #print(layer, i, count)\n",
    "                out[layer][i] = count\n",
    "                count += 1\n",
    "\n",
    "            #print('----------1-----------')\n",
    "            #top to bottom\n",
    "            for i in range(layer+1, n-layer):\n",
    "                #print(i,n-layer-1,count)\n",
    "                out[i][n-layer-1] = count\n",
    "                count += 1\n",
    "            \n",
    "            #print('----------2-----------')\n",
    "            \n",
    "            # right to left\n",
    "            for i in range(n-layer-2, layer-1, -1):\n",
    "                #print(n-layer-1, i,count)\n",
    "                out[n-layer-1][i] = count\n",
    "                count += 1\n",
    "        \n",
    "            #print('----------3-----------')\n",
    "            \n",
    "            # bottom to top\n",
    "            for i in range(n-layer-2, layer, -1):\n",
    "                #print(n-layer-1, i,count)\n",
    "                out[i][layer] = count\n",
    "                count += 1\n",
    "        \n",
    "        \n",
    "        return out\n",
    "        \n",
    "s = Solution()"
   ]
  },
  {
   "cell_type": "code",
   "execution_count": 249,
   "id": "5197172e",
   "metadata": {},
   "outputs": [
    {
     "data": {
      "text/plain": [
       "[[1, 2, 3, 4], [12, 13, 14, 5], [11, 16, 15, 6], [10, 9, 8, 7]]"
      ]
     },
     "execution_count": 249,
     "metadata": {},
     "output_type": "execute_result"
    }
   ],
   "source": [
    "s.generateMatrix(4)"
   ]
  },
  {
   "cell_type": "code",
   "execution_count": 250,
   "id": "07cc7541",
   "metadata": {},
   "outputs": [
    {
     "data": {
      "text/plain": [
       "[[1, 2, 3], [8, 9, 4], [7, 6, 5]]"
      ]
     },
     "execution_count": 250,
     "metadata": {},
     "output_type": "execute_result"
    }
   ],
   "source": [
    "s.generateMatrix(3)"
   ]
  },
  {
   "cell_type": "markdown",
   "id": "aad006ce",
   "metadata": {},
   "source": [
    "### 96. Search 2D Matrix"
   ]
  },
  {
   "cell_type": "code",
   "execution_count": 95,
   "id": "fcd77d2e",
   "metadata": {},
   "outputs": [],
   "source": [
    "class Solution:\n",
    "    def searchMatrix(self, matrix: List[List[int]], target: int) -> bool:\n",
    "        def binary_search(arr, x):\n",
    "            low = 0\n",
    "            high = len(arr) - 1\n",
    "            mid = 0\n",
    "\n",
    "            while low <= high:\n",
    "                mid = (high + low) // 2\n",
    "                # If x is greater, ignore left half\n",
    "                if arr[mid] < x:\n",
    "                    low = mid + 1\n",
    "                # If x is smaller, ignore right half\n",
    "                elif arr[mid] > x:\n",
    "                    high = mid - 1\n",
    "                # means x is present at mid\n",
    "                else:\n",
    "                    return mid\n",
    "            # If we reach here, then the element was not present\n",
    "            return -1\n",
    "        \n",
    "        def find(matrix, target):\n",
    "            cur, n = 0, len(matrix)\n",
    "            heads = [i[0] for i in matrix]\n",
    "\n",
    "            while cur < n:\n",
    "                #print(cur, n)\n",
    "                if target == matrix[cur][0] or (cur+1 < n and target == matrix[cur+1][0]): return 0\n",
    "                elif cur + 1 < n and matrix[cur][0]<target<matrix[cur+1][0]:\n",
    "                    return binary_search(matrix[cur], target)\n",
    "                elif cur+1 == n and matrix[cur][0]<target:\n",
    "                    return binary_search(matrix[cur], target)\n",
    "                cur += 1\n",
    "            else:\n",
    "                return -1\n",
    "        \n",
    "        result = find(matrix, target)\n",
    "        return False if result == -1 else True\n"
   ]
  },
  {
   "cell_type": "code",
   "execution_count": 96,
   "id": "7f9147cd",
   "metadata": {},
   "outputs": [
    {
     "data": {
      "text/plain": [
       "True"
      ]
     },
     "execution_count": 96,
     "metadata": {},
     "output_type": "execute_result"
    }
   ],
   "source": [
    "matrix = [[1,3,5,7],[10,11,16,20],[23,30,34,60]]\n",
    "target = 3\n",
    "s.searchMatrix(matrix, target)"
   ]
  },
  {
   "cell_type": "code",
   "execution_count": 97,
   "id": "69855544",
   "metadata": {},
   "outputs": [
    {
     "data": {
      "text/plain": [
       "False"
      ]
     },
     "execution_count": 97,
     "metadata": {},
     "output_type": "execute_result"
    }
   ],
   "source": [
    "matrix = [[1,3,5,7],[10,11,16,20],[23,30,34,60]]\n",
    "target = 13\n",
    "s.searchMatrix(matrix, target)"
   ]
  },
  {
   "cell_type": "code",
   "execution_count": 98,
   "id": "04845575",
   "metadata": {},
   "outputs": [
    {
     "data": {
      "text/plain": [
       "True"
      ]
     },
     "execution_count": 98,
     "metadata": {},
     "output_type": "execute_result"
    }
   ],
   "source": [
    "matrix = [[1,3,5,7],[10,11,16,20],[23,30,34,60]]\n",
    "target = 16\n",
    "s.searchMatrix(matrix, target)"
   ]
  },
  {
   "cell_type": "code",
   "execution_count": 99,
   "id": "a6784d2c",
   "metadata": {},
   "outputs": [
    {
     "data": {
      "text/plain": [
       "True"
      ]
     },
     "execution_count": 99,
     "metadata": {},
     "output_type": "execute_result"
    }
   ],
   "source": [
    "matrix = [[1,3,5,7],[10,11,16,20],[23,30,34,60]]\n",
    "target = 34\n",
    "s.searchMatrix(matrix, target)"
   ]
  },
  {
   "cell_type": "code",
   "execution_count": 100,
   "id": "5815f63f",
   "metadata": {},
   "outputs": [
    {
     "data": {
      "text/plain": [
       "True"
      ]
     },
     "execution_count": 100,
     "metadata": {},
     "output_type": "execute_result"
    }
   ],
   "source": [
    "matrix = [[1,3,5,7],[10,11,16,20],[23,30,34,60]]\n",
    "target = 5\n",
    "s.searchMatrix(matrix, target)"
   ]
  },
  {
   "cell_type": "code",
   "execution_count": 101,
   "id": "7c140aea",
   "metadata": {},
   "outputs": [
    {
     "data": {
      "text/plain": [
       "False"
      ]
     },
     "execution_count": 101,
     "metadata": {},
     "output_type": "execute_result"
    }
   ],
   "source": [
    "matrix = [[1,3,5,7],[10,11,16,20],[23,30,34,60]]\n",
    "target = -5\n",
    "s.searchMatrix(matrix, target)"
   ]
  },
  {
   "cell_type": "markdown",
   "id": "b9eaa01d",
   "metadata": {},
   "source": [
    "### 97. remove duplicates from sorted array II"
   ]
  },
  {
   "cell_type": "code",
   "execution_count": 231,
   "id": "d874eda5",
   "metadata": {},
   "outputs": [],
   "source": [
    "class Solution:\n",
    "    def removeDuplicates(self, nums: List[int]) -> int:\n",
    "        n = len(nums) - 1\n",
    "        count = 1\n",
    "        while n > 0:\n",
    "            if nums[n] == nums[n-1]:\n",
    "                count += 1\n",
    "                if count > 2:\n",
    "                    nums.pop(n)\n",
    "            else:\n",
    "                count = 1\n",
    "            n -=1\n",
    "        return nums\n",
    "s = Solution()"
   ]
  },
  {
   "cell_type": "code",
   "execution_count": 232,
   "id": "2b134e09",
   "metadata": {},
   "outputs": [
    {
     "data": {
      "text/plain": [
       "[1, 1, 2, 2, 3]"
      ]
     },
     "execution_count": 232,
     "metadata": {},
     "output_type": "execute_result"
    }
   ],
   "source": [
    "nums = [1,1,1,2,2,3]\n",
    "s.removeDuplicates(nums)"
   ]
  },
  {
   "cell_type": "markdown",
   "id": "4ebdf259",
   "metadata": {},
   "source": [
    "### 98. remove dupilcates from sorted list II"
   ]
  },
  {
   "cell_type": "code",
   "execution_count": 233,
   "id": "6c4fddd0",
   "metadata": {},
   "outputs": [],
   "source": [
    "class ListNode:\n",
    "    def __init__(self, val=0, next=None):\n",
    "        self.val = val\n",
    "        self.next = next\n",
    "        \n",
    "def traverse_node(head):\n",
    "    \n",
    "    while head:\n",
    "        if head.next:\n",
    "            print(head.val, '----> ', end=\"\")\n",
    "        else:\n",
    "            print(head.val)\n",
    "        head = head.next\n",
    "        \n",
    "class Solution:\n",
    "    def deleteDuplicates(self, head: ListNode) -> ListNode:\n",
    "        # sentinel\n",
    "        sentinel = ListNode(0, head)\n",
    "\n",
    "        # predecessor = the last node \n",
    "        # before the sublist of duplicates\n",
    "        pred = sentinel\n",
    "        \n",
    "        while head:\n",
    "            # if it's a beginning of duplicates sublist \n",
    "            # skip all duplicates\n",
    "            if head.next and head.val == head.next.val:\n",
    "                # move till the end of duplicates sublist\n",
    "                while head.next and head.val == head.next.val:\n",
    "                    head = head.next\n",
    "                # skip all duplicates\n",
    "                pred.next = head.next \n",
    "            # otherwise, move predecessor\n",
    "            else:\n",
    "                pred = pred.next \n",
    "                \n",
    "            # move forward\n",
    "            head = head.next\n",
    "            \n",
    "        return sentinel.next\n",
    "    \n",
    "s = Solution()"
   ]
  },
  {
   "cell_type": "code",
   "execution_count": 234,
   "id": "6bf84756",
   "metadata": {},
   "outputs": [
    {
     "name": "stdout",
     "output_type": "stream",
     "text": [
      "1 ----> 1 ----> 1 ----> 2 ----> 3 ----> 3\n",
      "2\n"
     ]
    }
   ],
   "source": [
    "head = ListNode(1)\n",
    "head.next = ListNode(1)\n",
    "head.next.next = ListNode(1)\n",
    "head.next.next.next = ListNode(2)\n",
    "head.next.next.next.next = ListNode(3)\n",
    "head.next.next.next.next.next = ListNode(3)\n",
    "#head.next.next.next.next.next.next = ListNode(6)\n",
    "traverse_node(head)\n",
    "traverse_node(s.deleteDuplicates(head))"
   ]
  },
  {
   "cell_type": "markdown",
   "id": "b52cd643",
   "metadata": {},
   "source": [
    "### 99. Partition List"
   ]
  },
  {
   "cell_type": "code",
   "execution_count": 158,
   "id": "cde24198",
   "metadata": {},
   "outputs": [],
   "source": [
    "# Definition for singly-linked list.\n",
    "class ListNode:\n",
    "    def __init__(self, val=0, next=None):\n",
    "        self.val = val\n",
    "        self.next = next\n",
    "\n",
    "class Solution:\n",
    "    def partition(self, head: Optional[ListNode], x: int) -> Optional[ListNode]:\n",
    "        before = b4head = ListNode(0)\n",
    "        after = a4head = ListNode(0)\n",
    "        while head:\n",
    "            if head.val >= x:\n",
    "                after.next = ListNode(head.val)\n",
    "                head = head.next\n",
    "                after = after.next\n",
    "            elif head.val < x:\n",
    "                before.next = ListNode(head.val)\n",
    "                head = head.next\n",
    "                before = before.next\n",
    "\n",
    "        before.next = a4head.next\n",
    "        return b4head.next\n",
    "    \n",
    "s = Solution()"
   ]
  },
  {
   "cell_type": "code",
   "execution_count": 159,
   "id": "b58efdf8",
   "metadata": {},
   "outputs": [
    {
     "name": "stdout",
     "output_type": "stream",
     "text": [
      "1 ----> 4 ----> 3 ----> 2 ----> 5 ----> 2 ----> 6\n",
      "1 ----> 2 ----> 2 ----> 4 ----> 3 ----> 5 ----> 6\n"
     ]
    }
   ],
   "source": [
    "head = ListNode(1)\n",
    "head.next = ListNode(4)\n",
    "head.next.next = ListNode(3)\n",
    "head.next.next.next = ListNode(2)\n",
    "head.next.next.next.next = ListNode(5)\n",
    "head.next.next.next.next.next = ListNode(2)\n",
    "head.next.next.next.next.next.next = ListNode(6)\n",
    "traverse_node(head)\n",
    "traverse_node(s.partition(head, 3))"
   ]
  },
  {
   "cell_type": "markdown",
   "id": "f8f2081f",
   "metadata": {},
   "source": [
    "### 100. Search in rotated array II (with duplicates)"
   ]
  },
  {
   "cell_type": "code",
   "execution_count": 160,
   "id": "dc701b7b",
   "metadata": {},
   "outputs": [],
   "source": [
    "class Solution:\n",
    "    def search(self, nums: List[int], target: int) -> bool:\n",
    "        \n",
    "        # If nums is size of 1, return true if nums is the target, false otherwise.\n",
    "        if len(nums) == 1:\n",
    "            return nums[0] == target\n",
    "        \n",
    "        # Recursive binary search\n",
    "        def targetInNums(nums):\n",
    "            left, right = 0, len(nums) - 1\n",
    "            mid = (left + right) // 2\n",
    "            \n",
    "            # Exit condition 1\n",
    "            if left >= right:\n",
    "                return False\n",
    "            \n",
    "            # Exit condition 2 - leftmost, rightmost, or mid values is the target\n",
    "            if nums[mid] == target or nums[left] == target or nums[right] == target:\n",
    "                return True\n",
    "            \n",
    "            # If pivot is to the left of mid\n",
    "            if nums[left] > nums[mid]:\n",
    "                # If the target value is between mid and right\n",
    "                if nums[mid] < target < nums[right]:\n",
    "                    # Check if target is in the right half\n",
    "                    return targetInNums(nums[mid+1:right+1])\n",
    "                else:\n",
    "                    # Check if target is in the left half\n",
    "                    return targetInNums(nums[left:mid])\n",
    "            # If pivot is to the right of mid\n",
    "            elif nums[right] < nums[mid]:\n",
    "                # If the target value is between left and mid\n",
    "                if nums[left] < target < nums[mid]:\n",
    "                    # Check if target is in the left half\n",
    "                    return targetInNums(nums[left:mid])\n",
    "                else:\n",
    "                    # Check if target is in the right half\n",
    "                    return targetInNums(nums[mid+1:right+1])\n",
    "            # If we cannot determine if the pivot is on the left or the right\n",
    "            # Example: 2 5 6 2 2 2 2\n",
    "            #          ^left ^mid  ^right\n",
    "            # nums[left] == nums[mid] == nums[right] is True\n",
    "            # We must check both the left and the right half\n",
    "            else:\n",
    "                # Check if one of the two halves contain target\n",
    "                return targetInNums(nums[left:mid]) or targetInNums(nums[mid+1:right+1])\n",
    "        \n",
    "        return targetInNums(nums)\n",
    "    \n",
    "s = Solution()"
   ]
  },
  {
   "cell_type": "code",
   "execution_count": 161,
   "id": "6b06e1be",
   "metadata": {},
   "outputs": [
    {
     "data": {
      "text/plain": [
       "True"
      ]
     },
     "execution_count": 161,
     "metadata": {},
     "output_type": "execute_result"
    }
   ],
   "source": [
    "s.search(nums = [2,5,6,0,0,1,2], target = 0)"
   ]
  },
  {
   "cell_type": "code",
   "execution_count": 162,
   "id": "d9d59ef3",
   "metadata": {},
   "outputs": [
    {
     "data": {
      "text/plain": [
       "False"
      ]
     },
     "execution_count": 162,
     "metadata": {},
     "output_type": "execute_result"
    }
   ],
   "source": [
    "s.search(nums = [2,5,6,0,0,1,2], target = 3)"
   ]
  },
  {
   "cell_type": "code",
   "execution_count": 229,
   "id": "33931425",
   "metadata": {},
   "outputs": [],
   "source": []
  },
  {
   "cell_type": "code",
   "execution_count": null,
   "id": "d96858f7",
   "metadata": {},
   "outputs": [],
   "source": []
  },
  {
   "cell_type": "code",
   "execution_count": null,
   "id": "e97430ef",
   "metadata": {},
   "outputs": [],
   "source": []
  }
 ],
 "metadata": {
  "kernelspec": {
   "display_name": "Python 3 (ipykernel)",
   "language": "python",
   "name": "python3"
  },
  "language_info": {
   "codemirror_mode": {
    "name": "ipython",
    "version": 3
   },
   "file_extension": ".py",
   "mimetype": "text/x-python",
   "name": "python",
   "nbconvert_exporter": "python",
   "pygments_lexer": "ipython3",
   "version": "3.8.5"
  }
 },
 "nbformat": 4,
 "nbformat_minor": 5
}
