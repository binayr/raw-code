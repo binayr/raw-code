{
 "cells": [
  {
   "cell_type": "markdown",
   "id": "64361030",
   "metadata": {},
   "source": [
    "### 84.Rotate Array"
   ]
  },
  {
   "cell_type": "code",
   "execution_count": 25,
   "id": "83c23590",
   "metadata": {},
   "outputs": [
    {
     "data": {
      "text/plain": [
       "140537457617088"
      ]
     },
     "execution_count": 25,
     "metadata": {},
     "output_type": "execute_result"
    }
   ],
   "source": [
    "x = [1,2,3,4,5,6,7]\n",
    "id(x)"
   ]
  },
  {
   "cell_type": "code",
   "execution_count": 26,
   "id": "563df0d2",
   "metadata": {},
   "outputs": [
    {
     "data": {
      "text/plain": [
       "[5, 6, 7]"
      ]
     },
     "execution_count": 26,
     "metadata": {},
     "output_type": "execute_result"
    }
   ],
   "source": [
    "y = x[-3:]\n",
    "y"
   ]
  },
  {
   "cell_type": "code",
   "execution_count": 27,
   "id": "6876bd6e",
   "metadata": {},
   "outputs": [],
   "source": [
    "k = 3\n",
    "x[k:] = x[:-k]\n",
    "x[:k] = y"
   ]
  },
  {
   "cell_type": "code",
   "execution_count": 28,
   "id": "0f6d74ef",
   "metadata": {},
   "outputs": [
    {
     "data": {
      "text/plain": [
       "[5, 6, 7, 1, 2, 3, 4]"
      ]
     },
     "execution_count": 28,
     "metadata": {},
     "output_type": "execute_result"
    }
   ],
   "source": [
    "x"
   ]
  },
  {
   "cell_type": "code",
   "execution_count": 29,
   "id": "cabe3e0a",
   "metadata": {},
   "outputs": [
    {
     "data": {
      "text/plain": [
       "140537457617088"
      ]
     },
     "execution_count": 29,
     "metadata": {},
     "output_type": "execute_result"
    }
   ],
   "source": [
    "id(x)"
   ]
  },
  {
   "cell_type": "code",
   "execution_count": 30,
   "id": "af586ca6",
   "metadata": {},
   "outputs": [],
   "source": [
    "x = x[-3:]+x[:-3]"
   ]
  },
  {
   "cell_type": "code",
   "execution_count": 31,
   "id": "b7085e7c",
   "metadata": {},
   "outputs": [
    {
     "data": {
      "text/plain": [
       "140537457608000"
      ]
     },
     "execution_count": 31,
     "metadata": {},
     "output_type": "execute_result"
    }
   ],
   "source": [
    "id(x)"
   ]
  },
  {
   "cell_type": "code",
   "execution_count": 32,
   "id": "940073b0",
   "metadata": {},
   "outputs": [
    {
     "ename": "NameError",
     "evalue": "name 'expected' is not defined",
     "output_type": "error",
     "traceback": [
      "\u001b[0;31m---------------------------------------------------------------------------\u001b[0m",
      "\u001b[0;31mNameError\u001b[0m                                 Traceback (most recent call last)",
      "\u001b[0;32m/var/folders/73/zb97djqs0vl0rlrb9xlkdl9w0000gn/T/ipykernel_98119/353285004.py\u001b[0m in \u001b[0;36m<module>\u001b[0;34m\u001b[0m\n\u001b[1;32m      2\u001b[0m \u001b[0;36m3\u001b[0m\u001b[0;34m\u001b[0m\u001b[0;34m\u001b[0m\u001b[0m\n\u001b[1;32m      3\u001b[0m \u001b[0;34m\u001b[0m\u001b[0m\n\u001b[0;32m----> 4\u001b[0;31m \u001b[0mexpected\u001b[0m \u001b[0;34m[\u001b[0m\u001b[0;36m2\u001b[0m\u001b[0;34m,\u001b[0m\u001b[0;36m1\u001b[0m\u001b[0;34m]\u001b[0m\u001b[0;34m\u001b[0m\u001b[0;34m\u001b[0m\u001b[0m\n\u001b[0m",
      "\u001b[0;31mNameError\u001b[0m: name 'expected' is not defined"
     ]
    }
   ],
   "source": [
    "[1,2]\n",
    "3\n",
    "\n",
    "expected [2,1]"
   ]
  },
  {
   "cell_type": "code",
   "execution_count": 33,
   "id": "dd2fae20",
   "metadata": {},
   "outputs": [],
   "source": [
    "class Solution:\n",
    "    def rotate(self, nums, k: int) -> None:\n",
    "        \"\"\"\n",
    "        Do not return anything, modify nums in-place instead.\n",
    "        \"\"\"\n",
    "        l = len(nums)\n",
    "        if l < k:\n",
    "            k = k - l*(k//l)\n",
    "        if k != 0: nums[:] = nums[-k:] + nums[:l-k]"
   ]
  },
  {
   "cell_type": "code",
   "execution_count": 34,
   "id": "93ca85a7",
   "metadata": {},
   "outputs": [],
   "source": [
    "class Solution:\n",
    "    def rotate(self, nums, k: int) -> None:\n",
    "        \"\"\"\n",
    "        Do not return anything, modify nums in-place instead.\n",
    "        \"\"\"\n",
    "        n = len(nums)\n",
    "        start = n\n",
    "        while start > n-k:\n",
    "            val = nums.pop(-1)\n",
    "            nums.insert(0, val)\n",
    "            start -= 1"
   ]
  },
  {
   "cell_type": "markdown",
   "id": "0fc01df9",
   "metadata": {},
   "source": [
    "### 86. Generate Paranthesis"
   ]
  },
  {
   "cell_type": "code",
   "execution_count": 84,
   "id": "f71ce2e5",
   "metadata": {},
   "outputs": [],
   "source": [
    "class Solution:\n",
    "    def generateParenthesis(self, n: int):\n",
    "        ans = []\n",
    "        def backtrack(S = [], left = 0, right = 0):\n",
    "            if len(S) == 2 * n:\n",
    "                ans.append(\"\".join(S))\n",
    "                return\n",
    "            if left < n:\n",
    "                S.append(\"(\")\n",
    "                backtrack(S, left+1, right)\n",
    "                S.pop()\n",
    "            if right < left:\n",
    "                S.append(\")\")\n",
    "                backtrack(S, left, right+1)\n",
    "                S.pop()\n",
    "        backtrack()\n",
    "        return ans\n",
    "\n",
    "s = Solution()"
   ]
  },
  {
   "cell_type": "code",
   "execution_count": 85,
   "id": "b97c0f5e",
   "metadata": {},
   "outputs": [
    {
     "data": {
      "text/plain": [
       "['((()))', '(()())', '(())()', '()(())', '()()()']"
      ]
     },
     "execution_count": 85,
     "metadata": {},
     "output_type": "execute_result"
    }
   ],
   "source": [
    "s.generateParenthesis(3)"
   ]
  },
  {
   "cell_type": "code",
   "execution_count": 86,
   "id": "21b71453",
   "metadata": {},
   "outputs": [
    {
     "data": {
      "text/plain": [
       "['((((()))))',\n",
       " '(((()())))',\n",
       " '(((())()))',\n",
       " '(((()))())',\n",
       " '(((())))()',\n",
       " '((()(())))',\n",
       " '((()()()))',\n",
       " '((()())())',\n",
       " '((()()))()',\n",
       " '((())(()))',\n",
       " '((())()())',\n",
       " '((())())()',\n",
       " '((()))(())',\n",
       " '((()))()()',\n",
       " '(()((())))',\n",
       " '(()(()()))',\n",
       " '(()(())())',\n",
       " '(()(()))()',\n",
       " '(()()(()))',\n",
       " '(()()()())',\n",
       " '(()()())()',\n",
       " '(()())(())',\n",
       " '(()())()()',\n",
       " '(())((()))',\n",
       " '(())(()())',\n",
       " '(())(())()',\n",
       " '(())()(())',\n",
       " '(())()()()',\n",
       " '()(((())))',\n",
       " '()((()()))',\n",
       " '()((())())',\n",
       " '()((()))()',\n",
       " '()(()(()))',\n",
       " '()(()()())',\n",
       " '()(()())()',\n",
       " '()(())(())',\n",
       " '()(())()()',\n",
       " '()()((()))',\n",
       " '()()(()())',\n",
       " '()()(())()',\n",
       " '()()()(())',\n",
       " '()()()()()']"
      ]
     },
     "execution_count": 86,
     "metadata": {},
     "output_type": "execute_result"
    }
   ],
   "source": [
    "s.generateParenthesis(5)"
   ]
  },
  {
   "cell_type": "markdown",
   "id": "2b6b44c8",
   "metadata": {},
   "source": [
    "### 88. Word Search"
   ]
  },
  {
   "cell_type": "code",
   "execution_count": 91,
   "id": "4c22bb34",
   "metadata": {},
   "outputs": [],
   "source": [
    "class Solution:\n",
    "    def exist(self, board, word: str) -> bool:\n",
    "        rows = len(board)\n",
    "        cols = len(board[rows-1])\n",
    "        word_length = len(word)\n",
    "        \n",
    "        def dfs(i,j,k):\n",
    "            \"\"\"\n",
    "            i: for rows\n",
    "            j: for cols\n",
    "            k: for keeping track of char count in the traversed word\n",
    "            if the traversal is matched and k crosses the word length then return True\n",
    "            if i and j falls below 0 or crosses the max value or\n",
    "            the cell doesn't match the charachter then return false. This eleminates\n",
    "            all the wrong cells or cells that go wrong in the middle.\n",
    "            \n",
    "            every cell traversed is replaced with # and then replaced back when the cursur returns.\n",
    "            \n",
    "            for every traversal the dfs searches next cell in the and previous cell in both col and row.\n",
    "            \"\"\"\n",
    "            if k >= word_length:\n",
    "                return True\n",
    "            elif i < 0 or i >= rows or j < 0 or j >= cols or board[i][j] != word[k]:\n",
    "                return False\n",
    "            \n",
    "            temp, board[i][j] = board[i][j], '#'\n",
    "            res = dfs(i+1,j,k+1) or dfs(i-1,j,k+1) or dfs(i,j+1,k+1) or dfs(i,j-1,k+1)\n",
    "            board[i][j] = temp\n",
    "            \n",
    "            return res\n",
    "        \n",
    "        # for every cell recursively check dfs, found if True\n",
    "        for i in range(rows):\n",
    "            for j in range(cols):\n",
    "                if dfs(i,j,0):\n",
    "                    return True\n",
    "                \n",
    "        return False\n",
    "    \n",
    "s = Solution()"
   ]
  },
  {
   "cell_type": "code",
   "execution_count": 92,
   "id": "8611bf8f",
   "metadata": {},
   "outputs": [
    {
     "data": {
      "text/plain": [
       "True"
      ]
     },
     "execution_count": 92,
     "metadata": {},
     "output_type": "execute_result"
    }
   ],
   "source": [
    "board = [[\"A\",\"B\",\"C\",\"E\"],[\"S\",\"F\",\"C\",\"S\"],[\"A\",\"D\",\"E\",\"E\"]]\n",
    "word = \"ABCCED\"\n",
    "s.exist(board, word)"
   ]
  },
  {
   "cell_type": "code",
   "execution_count": 93,
   "id": "d508aaae",
   "metadata": {},
   "outputs": [
    {
     "data": {
      "text/plain": [
       "False"
      ]
     },
     "execution_count": 93,
     "metadata": {},
     "output_type": "execute_result"
    }
   ],
   "source": [
    "board = [[\"A\",\"B\",\"C\",\"E\"],[\"S\",\"F\",\"C\",\"S\"],[\"A\",\"D\",\"E\",\"E\"]]\n",
    "word = \"ABCB\"\n",
    "s.exist(board, word)"
   ]
  },
  {
   "cell_type": "markdown",
   "id": "ad15bf37",
   "metadata": {},
   "source": [
    "### 90. Best Time to Buy/Sell Stock"
   ]
  },
  {
   "cell_type": "code",
   "execution_count": 98,
   "id": "8eeb9d03",
   "metadata": {},
   "outputs": [],
   "source": [
    "class Solution:\n",
    "    def maxProfit(self, prices) -> int:\n",
    "        profit = 0\n",
    "        i, n = 1, len(prices)\n",
    "        \n",
    "        while i < n:\n",
    "            if prices[i] > prices[i-1]:\n",
    "                profit += prices[i] - prices[i-1]\n",
    "            i+=1\n",
    "            \n",
    "        return profit\n",
    "    \n",
    "s = Solution()"
   ]
  },
  {
   "cell_type": "code",
   "execution_count": 99,
   "id": "6b8556cd",
   "metadata": {},
   "outputs": [
    {
     "data": {
      "text/plain": [
       "7"
      ]
     },
     "execution_count": 99,
     "metadata": {},
     "output_type": "execute_result"
    }
   ],
   "source": [
    "s.maxProfit([7,1,5,3,6,4])"
   ]
  },
  {
   "cell_type": "code",
   "execution_count": 100,
   "id": "13c9a920",
   "metadata": {},
   "outputs": [
    {
     "data": {
      "text/plain": [
       "4"
      ]
     },
     "execution_count": 100,
     "metadata": {},
     "output_type": "execute_result"
    }
   ],
   "source": [
    "s.maxProfit([1,2,3,4,5])"
   ]
  },
  {
   "cell_type": "code",
   "execution_count": 101,
   "id": "1536114c",
   "metadata": {},
   "outputs": [
    {
     "data": {
      "text/plain": [
       "0"
      ]
     },
     "execution_count": 101,
     "metadata": {},
     "output_type": "execute_result"
    }
   ],
   "source": [
    "s.maxProfit([7,6,4,3,1])"
   ]
  },
  {
   "cell_type": "markdown",
   "id": "e1bfd1e9",
   "metadata": {},
   "source": [
    "### 91. Palindromic Partition"
   ]
  },
  {
   "cell_type": "code",
   "execution_count": 112,
   "id": "45e99a51",
   "metadata": {},
   "outputs": [],
   "source": [
    "class Solution:\n",
    "    def partition(self, s: str):\n",
    "        out = [list(s)]\n",
    "        cur, n = 1, len(out)\n",
    "        while cur < n:\n",
    "            tmp = s[0:cur]\n",
    "            if tmp == tmp[::-1] and tmp not in out:\n",
    "                out.append(tmp)\n",
    "            cur += 1\n",
    "            \n",
    "        return out\n",
    "    \n",
    "s = Solution()"
   ]
  },
  {
   "cell_type": "code",
   "execution_count": 113,
   "id": "62588653",
   "metadata": {},
   "outputs": [
    {
     "data": {
      "text/plain": [
       "['a', 'a', 'b', 'aa']"
      ]
     },
     "execution_count": 113,
     "metadata": {},
     "output_type": "execute_result"
    }
   ],
   "source": [
    "s.partition('aab')"
   ]
  },
  {
   "cell_type": "code",
   "execution_count": 114,
   "id": "9a0be9d2",
   "metadata": {},
   "outputs": [
    {
     "data": {
      "text/plain": [
       "['a']"
      ]
     },
     "execution_count": 114,
     "metadata": {},
     "output_type": "execute_result"
    }
   ],
   "source": [
    "s.partition('a')"
   ]
  },
  {
   "cell_type": "code",
   "execution_count": 115,
   "id": "8fcd0214",
   "metadata": {},
   "outputs": [
    {
     "data": {
      "text/plain": [
       "['a', 'a', 'c', 'b', 'a', 'b', 'c', 'b', 'aa']"
      ]
     },
     "execution_count": 115,
     "metadata": {},
     "output_type": "execute_result"
    }
   ],
   "source": [
    "s.partition('aacbabcb')"
   ]
  },
  {
   "cell_type": "code",
   "execution_count": 116,
   "id": "ffacb5b9",
   "metadata": {},
   "outputs": [],
   "source": [
    "d = [('a',1),('a',5),('a',4),('a',3),('a',2),('a',2),]"
   ]
  },
  {
   "cell_type": "code",
   "execution_count": 117,
   "id": "c58cb204",
   "metadata": {},
   "outputs": [
    {
     "data": {
      "text/plain": [
       "[1, 5, 4, 3, 2, 2]"
      ]
     },
     "execution_count": 117,
     "metadata": {},
     "output_type": "execute_result"
    }
   ],
   "source": [
    "[i[1] for i in d if i[0]=='a']"
   ]
  },
  {
   "cell_type": "code",
   "execution_count": null,
   "id": "6142af0e",
   "metadata": {},
   "outputs": [],
   "source": []
  }
 ],
 "metadata": {
  "kernelspec": {
   "display_name": "Python 3 (ipykernel)",
   "language": "python",
   "name": "python3"
  },
  "language_info": {
   "codemirror_mode": {
    "name": "ipython",
    "version": 3
   },
   "file_extension": ".py",
   "mimetype": "text/x-python",
   "name": "python",
   "nbconvert_exporter": "python",
   "pygments_lexer": "ipython3",
   "version": "3.8.5"
  }
 },
 "nbformat": 4,
 "nbformat_minor": 5
}
