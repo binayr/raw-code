{
 "cells": [
  {
   "cell_type": "code",
   "execution_count": 12,
   "id": "1c34edec",
   "metadata": {},
   "outputs": [],
   "source": [
    "from typing import List\n"
   ]
  },
  {
   "cell_type": "markdown",
   "id": "e8b65560",
   "metadata": {},
   "source": [
    "### 1. FIbbonacci Number"
   ]
  },
  {
   "cell_type": "code",
   "execution_count": 1,
   "id": "6eaf6af7",
   "metadata": {},
   "outputs": [],
   "source": [
    "class Solution:\n",
    "    _cache = [None for i in range(31)]\n",
    "    def fib(self, n: int) -> int:\n",
    "        if n == 0:\n",
    "            self._cache[0] = 0\n",
    "            return 0\n",
    "        if n == 1:\n",
    "            self._cache[1] = 1\n",
    "            return 1\n",
    "        \n",
    "        if self._cache[n] is not None:\n",
    "            return self._cache[n]\n",
    "        \n",
    "        if self._cache[n-1] is not None:\n",
    "            temp1 = self._cache[n-1]\n",
    "        else:\n",
    "            temp1 = self.fib(n-1)\n",
    "            self._cache[n-1] = temp1\n",
    "            \n",
    "        if self._cache[n-2] is not None:\n",
    "            temp2 = self._cache[n-2]\n",
    "        else:\n",
    "            temp2 = self.fib(n-2)\n",
    "            self._cache[n-2] = temp2\n",
    "\n",
    "        return temp1 + temp2\n",
    "    \n",
    "s = Solution()"
   ]
  },
  {
   "cell_type": "code",
   "execution_count": 2,
   "id": "828df11f",
   "metadata": {},
   "outputs": [
    {
     "data": {
      "text/plain": [
       "55"
      ]
     },
     "execution_count": 2,
     "metadata": {},
     "output_type": "execute_result"
    }
   ],
   "source": [
    "s.fib(10)"
   ]
  },
  {
   "cell_type": "markdown",
   "id": "deea4082",
   "metadata": {},
   "source": [
    "### 2. N-th Tribonacci Number"
   ]
  },
  {
   "cell_type": "code",
   "execution_count": 4,
   "id": "2636b882",
   "metadata": {},
   "outputs": [],
   "source": [
    "class Solution:\n",
    "    _cache = [None for i in range(38)]\n",
    "    def tribonacci(self, n: int) -> int:\n",
    "        if n == 0:\n",
    "            self._cache[0] = 0\n",
    "            return 0\n",
    "        if n == 1:\n",
    "            self._cache[1] = 1\n",
    "            return 1\n",
    "        if n == 2:\n",
    "            self._cache[2] = 1\n",
    "            return 1\n",
    "        \n",
    "        if self._cache[n] is not None:\n",
    "            return self._cache[n]\n",
    "        \n",
    "        if self._cache[n-1] is not None:\n",
    "            temp1 = self._cache[n-1]\n",
    "        else:\n",
    "            temp1 = self.tribonacci(n-1)\n",
    "            self._cache[n-1] = temp1\n",
    "            \n",
    "        if self._cache[n-2] is not None:\n",
    "            temp2 = self._cache[n-2]\n",
    "        else:\n",
    "            temp2 = self.tribonacci(n-2)\n",
    "            self._cache[n-2] = temp2\n",
    "            \n",
    "        if self._cache[n-3] is not None:\n",
    "            temp3 = self._cache[n-3]\n",
    "        else:\n",
    "            temp3 = self.tribonacci(n-3)\n",
    "            self._cache[n-3] = temp3\n",
    "\n",
    "        return temp1 + temp2 + temp3\n",
    "    \n",
    "s = Solution()"
   ]
  },
  {
   "cell_type": "code",
   "execution_count": 5,
   "id": "8b60d973",
   "metadata": {},
   "outputs": [
    {
     "data": {
      "text/plain": [
       "149"
      ]
     },
     "execution_count": 5,
     "metadata": {},
     "output_type": "execute_result"
    }
   ],
   "source": [
    "s.tribonacci(10)"
   ]
  },
  {
   "cell_type": "markdown",
   "id": "e54d9741",
   "metadata": {},
   "source": [
    "### 3. Climbing Stairs"
   ]
  },
  {
   "cell_type": "code",
   "execution_count": 6,
   "id": "01b2e938",
   "metadata": {},
   "outputs": [],
   "source": [
    "from functools import lru_cache\n",
    "\n",
    "class Solution:\n",
    "    @lru_cache()\n",
    "    def climbStairs(self, n: int) -> int:\n",
    "        return self.climbStairs(n - 1) + self.climbStairs(n - 2) if n > 2 else 2 if n == 2 else 1\n",
    "    \n",
    "s = Solution()"
   ]
  },
  {
   "cell_type": "code",
   "execution_count": 7,
   "id": "cd0f0152",
   "metadata": {},
   "outputs": [
    {
     "data": {
      "text/plain": [
       "63245986"
      ]
     },
     "execution_count": 7,
     "metadata": {},
     "output_type": "execute_result"
    }
   ],
   "source": [
    "s.climbStairs(38)"
   ]
  },
  {
   "cell_type": "markdown",
   "id": "eaad7426",
   "metadata": {},
   "source": [
    "### 4. Min Cost Climbing stairs"
   ]
  },
  {
   "cell_type": "code",
   "execution_count": 8,
   "id": "1bbbfada",
   "metadata": {},
   "outputs": [],
   "source": [
    "class Solution:\n",
    "    def minCostClimbingStairs(self, cost) -> int:\n",
    "        minCost = [cost[0], cost[1]]    #minCost[i] will be a list to store the total minimum cost to get to step i\n",
    "        for i in range(2, len(cost)):\n",
    "            minCost.append(cost[i] + min(minCost[i-1], minCost[i-2]))     \n",
    "            #for i>2, you can get to step i from i-1 or i-2. so cost[i] + the mininum cost of either i-1 or i-2 will be the \n",
    "            # minimum cost to get to step i. \n",
    "        return min(minCost[-1], minCost[-2])   #whichever of the final 2 steps has the lowest minimum cost will be the answer\n",
    "s = Solution()"
   ]
  },
  {
   "cell_type": "code",
   "execution_count": 10,
   "id": "ec964f63",
   "metadata": {},
   "outputs": [
    {
     "data": {
      "text/plain": [
       "6"
      ]
     },
     "execution_count": 10,
     "metadata": {},
     "output_type": "execute_result"
    }
   ],
   "source": [
    "s.minCostClimbingStairs([1,100,1,1,1,100,1,1,100,1])"
   ]
  },
  {
   "cell_type": "markdown",
   "id": "b8ad49fc",
   "metadata": {},
   "source": [
    "### 5. House Robber"
   ]
  },
  {
   "cell_type": "code",
   "execution_count": 13,
   "id": "21c8ec10",
   "metadata": {},
   "outputs": [],
   "source": [
    "class Solution:\n",
    "    def rob(self, nums: List[int]) -> int:\n",
    "        memo = {}\n",
    "        def helper(i):\n",
    "            if i >= len(nums):\n",
    "                return 0\n",
    "            if i in memo:\n",
    "                return memo[i]\n",
    "            memo[i] = nums[i] + max(helper(i + 2), helper(i + 3))\n",
    "            return memo[i]\n",
    "\n",
    "        if len(nums) < 3:\n",
    "            return max(nums)\n",
    "        memo[len(nums) - 1] = nums[-1]\n",
    "        memo[len(nums) - 2] = nums[-2]\n",
    "\n",
    "        return max(helper(0), helper(1))\n",
    "s = Solution()"
   ]
  },
  {
   "cell_type": "code",
   "execution_count": 14,
   "id": "b10d7924",
   "metadata": {},
   "outputs": [
    {
     "data": {
      "text/plain": [
       "12"
      ]
     },
     "execution_count": 14,
     "metadata": {},
     "output_type": "execute_result"
    }
   ],
   "source": [
    "s.rob([2,7,9,3,1])"
   ]
  },
  {
   "cell_type": "raw",
   "id": "defbdca6",
   "metadata": {},
   "source": [
    "# Also Possible solution\n",
    "def rob(self, nums: List[int]) -> int:\n",
    "    a = b = 0\n",
    "    for n in nums: \n",
    "        a, b = b, max(b, a + n)\n",
    "    return b"
   ]
  },
  {
   "cell_type": "markdown",
   "id": "76c5aac6",
   "metadata": {},
   "source": [
    "### 6. House Robbe II"
   ]
  },
  {
   "cell_type": "code",
   "execution_count": 17,
   "id": "1ca23074",
   "metadata": {},
   "outputs": [],
   "source": [
    "class Solution:\n",
    "    def rob(self, nums: List[int]) -> int:\n",
    "        def rob(nums):\n",
    "            a = b = 0\n",
    "            for n in nums: \n",
    "                a, b = b, max(b, a + n)\n",
    "            return b\n",
    "        return max(nums[0], rob(nums[:-1]), rob(nums[1:]))\n",
    "    \n",
    "    def rob_alt(self, nums: List[int]) -> int:\n",
    "        a = b = c = d = 0\n",
    "        for i in range(len(nums)-1):\n",
    "            a, b = b, max(b, a + nums[i])\n",
    "            c, d = d, max(d, c + nums[i+1])\n",
    "        \n",
    "        return max(b, d, nums[0])\n",
    "    \n",
    "s = Solution()"
   ]
  },
  {
   "cell_type": "code",
   "execution_count": 18,
   "id": "9e9c48ee",
   "metadata": {},
   "outputs": [
    {
     "data": {
      "text/plain": [
       "4"
      ]
     },
     "execution_count": 18,
     "metadata": {},
     "output_type": "execute_result"
    }
   ],
   "source": [
    "s.rob([1,2,3,1])"
   ]
  },
  {
   "cell_type": "code",
   "execution_count": 19,
   "id": "faa429ad",
   "metadata": {},
   "outputs": [
    {
     "data": {
      "text/plain": [
       "4"
      ]
     },
     "execution_count": 19,
     "metadata": {},
     "output_type": "execute_result"
    }
   ],
   "source": [
    "s.rob_alt([1,2,3,1])"
   ]
  },
  {
   "cell_type": "markdown",
   "id": "96fa8061",
   "metadata": {},
   "source": [
    "### 7. Delete and Earn"
   ]
  },
  {
   "cell_type": "code",
   "execution_count": null,
   "id": "ae26e700",
   "metadata": {},
   "outputs": [],
   "source": []
  },
  {
   "cell_type": "markdown",
   "id": "7778ee25",
   "metadata": {},
   "source": [
    "### 8. Jump Game"
   ]
  },
  {
   "cell_type": "code",
   "execution_count": 21,
   "id": "b692bc45",
   "metadata": {},
   "outputs": [],
   "source": [
    "class Solution:\n",
    "    def canJump(self, nums: List[int]) -> bool:\n",
    "        n = len(nums)\n",
    "        last = n-1\n",
    "        for i in range(n-2, -1, -1):\n",
    "            if i + nums[i] >= last:\n",
    "                last = i\n",
    "        return last == 0\n",
    "s = Solution()"
   ]
  },
  {
   "cell_type": "code",
   "execution_count": 22,
   "id": "09b042ad",
   "metadata": {},
   "outputs": [
    {
     "data": {
      "text/plain": [
       "False"
      ]
     },
     "execution_count": 22,
     "metadata": {},
     "output_type": "execute_result"
    }
   ],
   "source": [
    "s.canJump([3,2,1,0,4])"
   ]
  },
  {
   "cell_type": "markdown",
   "id": "aa2afcce",
   "metadata": {},
   "source": [
    "### 9. Jump Game 2"
   ]
  },
  {
   "cell_type": "code",
   "execution_count": 23,
   "id": "5233ab17",
   "metadata": {},
   "outputs": [],
   "source": [
    "class Solution:\n",
    "    def jump(self, nums: List[int]) -> int:\n",
    "        left_idx, right_idx, steps= 0, 0, 0\n",
    "        while 1:\n",
    "            if right_idx >= len(nums) - 1:\n",
    "                return steps\n",
    "            for i in range(left_idx, min(right_idx + 1, len(nums))):\n",
    "                right_idx = max(right_idx, i + nums[i])\n",
    "            steps += 1\n",
    "            left_idx = i\n",
    "            \n",
    "s = Solution()"
   ]
  },
  {
   "cell_type": "code",
   "execution_count": 24,
   "id": "9e7cfd8c",
   "metadata": {},
   "outputs": [
    {
     "data": {
      "text/plain": [
       "2"
      ]
     },
     "execution_count": 24,
     "metadata": {},
     "output_type": "execute_result"
    }
   ],
   "source": [
    "s.jump([2,3,1,1,4])"
   ]
  },
  {
   "cell_type": "markdown",
   "id": "4893c13e",
   "metadata": {},
   "source": [
    "### 10. Maximum Subarray"
   ]
  },
  {
   "cell_type": "code",
   "execution_count": 26,
   "id": "b8c530ce",
   "metadata": {},
   "outputs": [],
   "source": [
    "class Solution:\n",
    "    def maxSubArray(self, nums: List[int]) -> int:\n",
    "        ans = nums[0]\n",
    "        curr = nums[0]\n",
    "        for i in range(1, len(nums)):\n",
    "            if curr + nums[i] > nums[i]:\n",
    "                curr += nums[i]\n",
    "            else:\n",
    "                curr = nums[i]\n",
    "            ans = max(ans, curr)\n",
    "        return ans\n",
    "s = Solution()"
   ]
  },
  {
   "cell_type": "markdown",
   "id": "f51028a9",
   "metadata": {},
   "source": [
    "### 11. Maximum Sum Circular Subarray\n",
    "\n",
    "Explanation of Kadane's Algorithm\n",
    "\n",
    "To understand the solutions in this article, we need some familiarity with Kadane's algorithm. In this section, we will explain the core idea behind it.\n",
    "\n",
    "For a given array A, Kadane's algorithm can be used to find the maximum sum of the subarrays of A. Here, we only consider non-empty subarrays.\n",
    "\n",
    "Kadane's algorithm is based on dynamic programming. Let dp[j] be the maximum sum of a subarray that ends in A[j]. That is,\n",
    "\n",
    "\\text{dp}[j] = \\max\\limits_i (A[i] + A[i+1] + \\cdots + A[j])dp[j]= \n",
    "i\n",
    "max\n",
    "​\n",
    " (A[i]+A[i+1]+⋯+A[j])\n",
    "\n",
    "Then, a subarray ending in j+1 (such as A[i], A[i+1] + ... + A[j+1]) maximizes the A[i] + ... + A[j] part of the sum by being equal to dp[j] if it is non-empty, and 0 if it is. Thus, we have the recurrence:\n",
    "\n",
    "\\text{dp}[j+1] = A[j+1] + \\max(\\text{dp}[j], 0)dp[j+1]=A[j+1]+max(dp[j],0)\n",
    "\n",
    "Since a subarray must end somewhere, \\max\\limits_j dp[j] \n",
    "j\n",
    "max\n",
    "​\n",
    " dp[j] must be the desired answer.\n",
    "\n",
    "To compute dp efficiently, Kadane's algorithm is usually written in the form that reduces space complexity. We maintain two variables: ans as \\max\\limits_j dp[j] \n",
    "j\n",
    "max\n",
    "​\n",
    " dp[j], and cur as dp[j]dp[j]; and update them as jj iterates from 00 to A\\text{.length} - 1A.length−1.\n",
    "\n",
    "Then, Kadane's algorithm is given by the following psuedocode:\n",
    "```\n",
    "#Kadane's algorithm\n",
    "ans = cur = None\n",
    "for x in A:\n",
    "    cur = x + max(cur, 0)\n",
    "    ans = max(ans, cur)\n",
    "return ans\n",
    "```\n",
    "\n",
    "Subarrays of circular arrays can be classified as either as one-interval subarrays, or two-interval subarrays, depending on how many intervals of the fixed-size buffer A are required to represent them.\n",
    "\n",
    "For example, if A = [0, 1, 2, 3, 4, 5, 6] is the underlying buffer of our circular array, we could represent the subarray [2, 3, 4] as one interval [2, 4][2,4], but we would represent the subarray [5, 6, 0, 1] as two intervals [5, 6], [0, 1][5,6],[0,1].\n",
    "\n",
    "Using Kadane's algorithm, we know how to get the maximum of one-interval subarrays, so it only remains to consider two-interval subarrays.\n",
    "\n",
    "Let's say the intervals are [0, i], [j, A\\text{.length} - 1][0,i],[j,A.length−1]. Let's try to compute the i-th candidate: the largest possible sum of a two-interval subarray for a given ii. Computing the [0, i][0,i] part of the sum is easy"
   ]
  },
  {
   "cell_type": "code",
   "execution_count": 25,
   "id": "c3cfdc3d",
   "metadata": {},
   "outputs": [],
   "source": [
    "class Solution(object):\n",
    "    def maxSubarraySumCircular(self, A):\n",
    "        if len(A) == 1: return A[0]\n",
    "        def kadane(gen):\n",
    "            # Maximum non-empty subarray sum\n",
    "            ans = cur = next(gen)\n",
    "            for x in gen:\n",
    "                cur = x + max(cur or 0, 0)\n",
    "                ans = max(ans or 0, cur)\n",
    "            return ans\n",
    "\n",
    "        S = sum(A)\n",
    "        ans1 = kadane(iter(A))\n",
    "        ans2 = S + kadane(-A[i] for i in range(1, len(A)))\n",
    "        ans3 = S + kadane(-A[i] for i in range(len(A) - 1))\n",
    "        return max(ans1, ans2, ans3)\n",
    "    \n",
    "s = Solution()"
   ]
  },
  {
   "cell_type": "markdown",
   "id": "3b8bd342",
   "metadata": {},
   "source": [
    "## 12. Maximum product subarray"
   ]
  },
  {
   "cell_type": "code",
   "execution_count": 27,
   "id": "f910a433",
   "metadata": {},
   "outputs": [],
   "source": [
    "class Solution:\n",
    "    def maxProduct(self, nums: List[int]) -> int:\n",
    "        maxPro = nums[0]\n",
    "        curMax = 1\n",
    "        curMin = 1\n",
    "        for n in nums:\n",
    "            if n < 0:\n",
    "                curMax, curMin = curMin, curMax\n",
    "            curMax = max(n, curMax * n)\n",
    "            curMin = min(n, curMin * n)\n",
    "            maxPro = max(curMax, maxPro)\n",
    "        return maxPro\n",
    "s = Solution()"
   ]
  },
  {
   "cell_type": "code",
   "execution_count": 28,
   "id": "a3fa033a",
   "metadata": {},
   "outputs": [
    {
     "data": {
      "text/plain": [
       "24"
      ]
     },
     "execution_count": 28,
     "metadata": {},
     "output_type": "execute_result"
    }
   ],
   "source": [
    "s.maxProduct([1,-2,-3,4])"
   ]
  },
  {
   "cell_type": "markdown",
   "id": "3f8a50d4",
   "metadata": {},
   "source": [
    "### 13. Maximum Length of Subarray With Positive Product"
   ]
  },
  {
   "cell_type": "code",
   "execution_count": 30,
   "id": "7d68b288",
   "metadata": {},
   "outputs": [],
   "source": [
    "class Solution:\n",
    "    def getMaxLen(self, nums: List[int]) -> int:\n",
    "        res = posCounter = 1 if nums[0] > 0 else 0\n",
    "        negCounter = 1 if nums[0] < 0 else 0\n",
    "        \n",
    "        if len(nums) == 1:\n",
    "            return posCounter\n",
    "        \n",
    "        for i in range(1, len(nums)):\n",
    "            # Toggle the counts between positive product and negative given the\n",
    "            # sign value of nums at index i\n",
    "            if nums[i] > 0:\n",
    "                posCounter = posCounter + 1\n",
    "                # add to negative product counter if we are multiplying a negative number\n",
    "                # against a positive number else zero\n",
    "                negCounter = negCounter + 1 if negCounter > 0 else 0\n",
    "            elif nums[i] < 0:\n",
    "                temp = negCounter\n",
    "                negCounter = posCounter + 1\n",
    "                # add to positive counter if and only if the last number was a negative\n",
    "                # the temp variable holds the negative count else posCounter is 0\n",
    "                posCounter = temp + 1 if temp > 0 else 0\n",
    "            else:\n",
    "                # zero is an edge case and where we reset all counts\n",
    "                posCounter = negCounter = 0\n",
    "            # get the maximum positive count after adjusting the counts at this index\n",
    "            res = max(posCounter, res)\n",
    "        # return the result\n",
    "        return res\n",
    "s = Solution()"
   ]
  },
  {
   "cell_type": "code",
   "execution_count": 31,
   "id": "fa495f96",
   "metadata": {},
   "outputs": [
    {
     "data": {
      "text/plain": [
       "3"
      ]
     },
     "execution_count": 31,
     "metadata": {},
     "output_type": "execute_result"
    }
   ],
   "source": [
    "s.getMaxLen([0,1,-2,-3,-4])"
   ]
  },
  {
   "cell_type": "markdown",
   "id": "d09fb4fe",
   "metadata": {},
   "source": [
    "### 14. Best Sightseeing pair"
   ]
  },
  {
   "cell_type": "code",
   "execution_count": 38,
   "id": "6a741de2",
   "metadata": {},
   "outputs": [],
   "source": [
    "#bruteforce\n",
    "class Solution:\n",
    "    def maxScoreSightseeingPair(self, values: List[int]) -> int:\n",
    "        val, temp = 0, 0\n",
    "        i, j = 0, 1\n",
    "        n = len(values)\n",
    "        \n",
    "        while i < n-1:\n",
    "            for j in range(i+1, n):\n",
    "                temp = values[i] + values[j] + i - j\n",
    "                val = max(val, temp)\n",
    "            i += 1\n",
    "        return val\n",
    "s = Solution()"
   ]
  },
  {
   "cell_type": "code",
   "execution_count": 35,
   "id": "182faeca",
   "metadata": {},
   "outputs": [
    {
     "data": {
      "text/plain": [
       "11"
      ]
     },
     "execution_count": 35,
     "metadata": {},
     "output_type": "execute_result"
    }
   ],
   "source": [
    "s.maxScoreSightseeingPair([8,1,5,2,6])"
   ]
  },
  {
   "cell_type": "code",
   "execution_count": 36,
   "id": "a6f6a0eb",
   "metadata": {},
   "outputs": [
    {
     "data": {
      "text/plain": [
       "2"
      ]
     },
     "execution_count": 36,
     "metadata": {},
     "output_type": "execute_result"
    }
   ],
   "source": [
    "s.maxScoreSightseeingPair([1,2])"
   ]
  },
  {
   "cell_type": "code",
   "execution_count": 37,
   "id": "667275e3",
   "metadata": {},
   "outputs": [],
   "source": [
    "# Faster solution\n",
    "class Solution:\n",
    "    def maxScoreSightseeingPair(self, nums: List[int]) -> int:\n",
    "        maxScore = nums[0] + nums[1] - 1;\n",
    "        leftValue,leftIdx = nums[0],0\n",
    "        for i in range(2,len(nums)):\n",
    "            if nums[i-1]-1 > leftValue-(i-leftIdx):\n",
    "                leftValue,leftIdx = nums[i-1],i-1\n",
    "            maxScore = max(maxScore,nums[i]+leftValue-(i-leftIdx))\n",
    "        return maxScore"
   ]
  },
  {
   "cell_type": "markdown",
   "id": "3cc5281f",
   "metadata": {},
   "source": [
    "### 15. Best time to buy sell stock"
   ]
  },
  {
   "cell_type": "code",
   "execution_count": 39,
   "id": "324d714a",
   "metadata": {},
   "outputs": [],
   "source": [
    "class Solution:\n",
    "    def maxProfit(self, prices: List[int]) -> int:\n",
    "        minprice = float('inf')\n",
    "        maxprofit = 0\n",
    "        \n",
    "        for i in prices:\n",
    "            if i < minprice:\n",
    "                minprice = i;\n",
    "            elif i - minprice > maxprofit:\n",
    "                maxprofit = i - minprice\n",
    "        return maxprofit"
   ]
  },
  {
   "cell_type": "markdown",
   "id": "ad0755b2",
   "metadata": {},
   "source": [
    "### 16. Best time to buy sell stock II"
   ]
  },
  {
   "cell_type": "code",
   "execution_count": 40,
   "id": "44a476f5",
   "metadata": {},
   "outputs": [],
   "source": [
    "class Solution:\n",
    "    def maxProfit(self, prices: List[int]) -> int:\n",
    "        profit = 0\n",
    "        i, n = 1, len(prices)\n",
    "        \n",
    "        while i < n:\n",
    "            if prices[i] > prices[i-1]:\n",
    "                profit += prices[i] - prices[i-1]\n",
    "            i+=1\n",
    "            \n",
    "        return profit"
   ]
  },
  {
   "cell_type": "markdown",
   "id": "cfc5d0e8",
   "metadata": {},
   "source": [
    "### 17. Best time to buy sell stock with cooldown - III"
   ]
  },
  {
   "cell_type": "code",
   "execution_count": 42,
   "id": "cb6e78c4",
   "metadata": {},
   "outputs": [],
   "source": [
    "class Solution:\n",
    "    def maxProfit(self, prices: List[int]) -> int:\n",
    "        #note that the optimal solution will have a last day on which stock is sold, OR the overall profit will be 0\n",
    "        #let x[i] denote the maximum profit gained from days 0:i, given that stock must be sold on day [i]\n",
    "        #then the maximum profit gained from days 0:i is y[i] = max(0, x[1],x[2],...,x[i])\n",
    "        \n",
    "        #the stock sold on day i must have been bought on some day j<i. then, stock cannot have been sold on day j-1, and stock \n",
    "\t\t#cannot have been bought on day j-1. then we conclude the max profit given that we sell on day j is y[j-2]+prices[i]-prices[j]\n",
    "\t\t#as the stock sold on day i must have been bought on some day j<i, we conclude that \n",
    "        # x[i] = max( max_[2<= j < i] (y[j-2]-prices[j])+prices[i] , prices[i]-prices[0], prices[i]-prices[1])\n",
    "        \n",
    "        #so, to keep track of x[i], we need to keep track of max_[ j<= y[j-2]+prices[j]]. what about base cases?\n",
    "        #x[1] = prices[1]-prices[0]\n",
    "        #x[2] = max(prices[1]-prices[0], prices[2]-prices[1],prices[2]-prices[0])\n",
    "        #y[0]=0, y[1]=max(x[1],0)\n",
    "        \n",
    "        #we can do this in O(n) time and O(1) space\n",
    "        \n",
    "        n = len(prices)\n",
    "        if n == 1:\n",
    "            return 0\n",
    "        elif n==2:\n",
    "            return max(0,prices[1]-prices[0])\n",
    "        elif n == 3:\n",
    "            return max(0,prices[1]-prices[0],max(prices[2]-prices[0], prices[2]-prices[1]))\n",
    "        \n",
    "        #let z[i] = max(max_{2<= j < i} y[j-2]-prices[j],-prices[0],-prices[1]). \n",
    "        #then x[i+1]= prices[i+1] + z[i]\n",
    "        #then y[i+1] = max(x[i+1], y[i])\n",
    "        #then z[i+1] = max(y[i-1]-prices[i+1],z[i])\n",
    "        \n",
    "        y_0 = max(0,prices[1]-prices[0])\n",
    "        y_1 =  max(0,prices[1]-prices[0],max(prices[2]-prices[0], prices[2]-prices[1]))\n",
    "        x_1 = max(prices[2]-prices[0], prices[2]-prices[1])\n",
    "        \n",
    "        z_1 = max(-prices[0], -prices[1], -prices[2])\n",
    "        \n",
    "        for i in range(3,len(prices)):\n",
    "            x_2 = prices[i]+z_1\n",
    "            y_2 = max(x_2, y_1)\n",
    "            z_2 = max(y_0 - prices[i],z_1)\n",
    "            \n",
    "            y_1, y_0 = y_2, y_1\n",
    "            x_1, z_1 = x_2, z_2\n",
    "        \n",
    "        return y_1\n",
    "    \n",
    "s = Solution()"
   ]
  },
  {
   "cell_type": "code",
   "execution_count": 43,
   "id": "2168f4cc",
   "metadata": {},
   "outputs": [
    {
     "data": {
      "text/plain": [
       "3"
      ]
     },
     "execution_count": 43,
     "metadata": {},
     "output_type": "execute_result"
    }
   ],
   "source": [
    "s.maxProfit([1,2,3,0,2])"
   ]
  },
  {
   "cell_type": "markdown",
   "id": "3c91164c",
   "metadata": {},
   "source": [
    "### 18. Best time to buy sell stock with transaction fee - IV"
   ]
  },
  {
   "cell_type": "code",
   "execution_count": 45,
   "id": "5200783b",
   "metadata": {},
   "outputs": [],
   "source": [
    "# Approach #1: Dynamic Programming [Accepted]\n",
    "# Intuition and Algorithm\n",
    "\n",
    "# At the end of the i-th day, we maintain cash, the maximum profit we could have if we did not have a share of stock,\n",
    "# and hold, the maximum profit we could have if we owned a share of stock.\n",
    "\n",
    "# To transition from the i-th day to the i+1-th day,\n",
    "# we either sell our stock cash = max(cash, hold + prices[i] - fee) or\n",
    "# buy a stock hold = max(hold, cash - prices[i]). At the end, we want to return cash.\n",
    "# We can transform cash first without using temporary variables because selling and\n",
    "# buying on the same day can't be better than just continuing to hold the stock.\n",
    "\n",
    "# Python\n",
    "\n",
    "class Solution(object):\n",
    "    def maxProfit(self, prices, fee):\n",
    "        cash, hold = 0, -prices[0]\n",
    "        for i in range(1, len(prices)):\n",
    "            cash = max(cash, hold + prices[i] - fee)\n",
    "            hold = max(hold, cash - prices[i])\n",
    "        return cash\n",
    "s = Solution()"
   ]
  },
  {
   "cell_type": "code",
   "execution_count": 46,
   "id": "7df177ab",
   "metadata": {},
   "outputs": [
    {
     "data": {
      "text/plain": [
       "8"
      ]
     },
     "execution_count": 46,
     "metadata": {},
     "output_type": "execute_result"
    }
   ],
   "source": [
    "s.maxProfit([1,3,2,8,4,9], 2)"
   ]
  },
  {
   "cell_type": "markdown",
   "id": "2259a50b",
   "metadata": {},
   "source": [
    "### 19. WORD BREAK"
   ]
  },
  {
   "cell_type": "code",
   "execution_count": 93,
   "id": "812a86ba",
   "metadata": {},
   "outputs": [],
   "source": [
    "# wrong\n",
    "class Solution:\n",
    "    def wordBreak(self, s: str, wordDict: List[str]) -> bool:\n",
    "        if not s: return \n",
    "        i, j, n = 0, 1, len(s)\n",
    "        possible = []\n",
    "        while j < n+2:\n",
    "            print(i, j, s[i:j])\n",
    "            if s[i:j] in wordDict and s[i:j] not in possible:\n",
    "                possible.append(s[i:j])\n",
    "                i = j\n",
    "                j = i + 1\n",
    "            else:\n",
    "                j += 1\n",
    "        print(possible)\n",
    "        return n == sum(map(len, possible))\n",
    "    \n",
    "#correct\n",
    "class Solution:\n",
    "    def wordBreak(self, s: str, wordDict: List[str]) -> bool:\n",
    "        dp = [False] * len(s)\n",
    "        for w in wordDict:\n",
    "            if s.startswith(w):\n",
    "                dp[len(w) - 1] = True\n",
    "        \n",
    "        for j in range(len(s)):\n",
    "            for w in wordDict:\n",
    "                if (1 + j) - len(w) >= 0 and s[j - len(w) + 1: j+1] == w:\n",
    "                    dp[j] = dp[j] or dp[j - len(w)]\n",
    "        return dp[-1]\n",
    "\n",
    "class Solution:\n",
    "    def wordBreak(self, s, wordDict):\n",
    "        \"\"\"\n",
    "        :type s: str\n",
    "        :type wordDict: List[str]\n",
    "        :rtype: bool\n",
    "        \"\"\"\n",
    "        n = len(s)\n",
    "        ws = set(wordDict)\n",
    "        dp = [False] * (n + 1)\n",
    "        dp[0] = True\n",
    "        for i in range(1, n + 1):\n",
    "            for j in range(i):\n",
    "                if dp[j] and s[j:i] in ws:\n",
    "                    dp[i] = True\n",
    "                    break\n",
    "        return dp[n]\n",
    "    \n",
    "s = Solution()"
   ]
  },
  {
   "cell_type": "code",
   "execution_count": 94,
   "id": "5f555280",
   "metadata": {},
   "outputs": [
    {
     "data": {
      "text/plain": [
       "True"
      ]
     },
     "execution_count": 94,
     "metadata": {},
     "output_type": "execute_result"
    }
   ],
   "source": [
    "s.wordBreak('leetcode', ['leet', 'code'])"
   ]
  },
  {
   "cell_type": "code",
   "execution_count": 95,
   "id": "54fb63da",
   "metadata": {},
   "outputs": [
    {
     "data": {
      "text/plain": [
       "False"
      ]
     },
     "execution_count": 95,
     "metadata": {},
     "output_type": "execute_result"
    }
   ],
   "source": [
    "st = \"catsandog\"\n",
    "wordDict = [\"cats\",\"dog\",\"sand\",\"and\",\"cat\"]\n",
    "s.wordBreak(st, wordDict)"
   ]
  },
  {
   "cell_type": "code",
   "execution_count": 96,
   "id": "80979b58",
   "metadata": {},
   "outputs": [
    {
     "data": {
      "text/plain": [
       "True"
      ]
     },
     "execution_count": 96,
     "metadata": {},
     "output_type": "execute_result"
    }
   ],
   "source": [
    "s.wordBreak('ab', ['a', 'b'])"
   ]
  },
  {
   "cell_type": "code",
   "execution_count": 97,
   "id": "059af11a",
   "metadata": {},
   "outputs": [
    {
     "data": {
      "text/plain": [
       "True"
      ]
     },
     "execution_count": 97,
     "metadata": {},
     "output_type": "execute_result"
    }
   ],
   "source": [
    "s.wordBreak('', ['a', 'b'])"
   ]
  },
  {
   "cell_type": "code",
   "execution_count": 98,
   "id": "2496a305",
   "metadata": {},
   "outputs": [
    {
     "data": {
      "text/plain": [
       "True"
      ]
     },
     "execution_count": 98,
     "metadata": {},
     "output_type": "execute_result"
    }
   ],
   "source": [
    "s.wordBreak(\"abcd\", [\"a\",\"abc\",\"b\",\"cd\"])"
   ]
  },
  {
   "cell_type": "code",
   "execution_count": 99,
   "id": "5bdcb9be",
   "metadata": {},
   "outputs": [
    {
     "data": {
      "text/plain": [
       "True"
      ]
     },
     "execution_count": 99,
     "metadata": {},
     "output_type": "execute_result"
    }
   ],
   "source": [
    "s.wordBreak(\"aaaaaaa\", [\"aaaa\",\"aaa\"])"
   ]
  },
  {
   "cell_type": "markdown",
   "id": "54f2ab0d",
   "metadata": {},
   "source": [
    "### 20. Trapping Rain Water"
   ]
  },
  {
   "cell_type": "code",
   "execution_count": 136,
   "id": "4f775ec6",
   "metadata": {},
   "outputs": [],
   "source": [
    "# int trap(vector<int>& height)\n",
    "# {\n",
    "#     if(height.empty())\n",
    "#         return 0;\n",
    "#     int ans = 0;\n",
    "#     int size = height.size();\n",
    "#     vector<int> left_max(size), right_max(size);\n",
    "#     left_max[0] = height[0];\n",
    "#     for (int i = 1; i < size; i++) {\n",
    "#         left_max[i] = max(height[i], left_max[i - 1]);\n",
    "#     }\n",
    "#     right_max[size - 1] = height[size - 1];\n",
    "#     for (int i = size - 2; i >= 0; i--) {\n",
    "#         right_max[i] = max(height[i], right_max[i + 1]);\n",
    "#     }\n",
    "#     for (int i = 1; i < size - 1; i++) {\n",
    "#         ans += min(left_max[i], right_max[i]) - height[i];\n",
    "#     }\n",
    "#     return ans;\n",
    "# }\n",
    "\n",
    "class Solution:\n",
    "    def trap(self, height: List[int]) -> int:\n",
    "        if not height: return 0\n",
    "        n = len(height)\n",
    "        ans = 0\n",
    "        left_max, right_max = [0 for i in range(n)], [0 for i in range(n)]\n",
    "        left_max[0] = height[0]\n",
    "        right_max[-1] = height[-1]\n",
    "        \n",
    "        for i in range(1, n):\n",
    "            left_max[i] = max(height[i], left_max[i - 1])\n",
    "        \n",
    "        for i in range(n-2, -1, -1):\n",
    "            right_max[i] = max(height[i], right_max[i + 1])\n",
    "        \n",
    "        for i in range(1, n):\n",
    "            ans += min(left_max[i], right_max[i]) - height[i]\n",
    "        \n",
    "        return ans\n",
    "        \n",
    "s = Solution()\n",
    "        "
   ]
  },
  {
   "cell_type": "code",
   "execution_count": 137,
   "id": "a3074e51",
   "metadata": {},
   "outputs": [
    {
     "data": {
      "text/plain": [
       "6"
      ]
     },
     "execution_count": 137,
     "metadata": {},
     "output_type": "execute_result"
    }
   ],
   "source": [
    "s.trap([0,1,0,2,1,0,1,3,2,1,2,1])"
   ]
  },
  {
   "cell_type": "markdown",
   "id": "d2ea2216",
   "metadata": {},
   "source": [
    "### 21. Arithmatic Slices"
   ]
  },
  {
   "cell_type": "code",
   "execution_count": 139,
   "id": "cada7d39",
   "metadata": {},
   "outputs": [],
   "source": [
    "class Solution:\n",
    "    def numberOfArithmeticSlices(self, A: List[int]) -> int:\n",
    "        if len(A) < 3:\n",
    "            return 0\n",
    "\n",
    "        ans = 0\n",
    "        for i in range(len(A)-2):\n",
    "            dif = A[i+1] - A[i]\n",
    "            temp = 1\n",
    "            j = i\n",
    "            while j < len(A) - 1 and A[j+1] - A[j] == dif:\n",
    "                temp += 1\n",
    "                j += 1\n",
    "                \n",
    "                if temp >= 3:\n",
    "                    ans += 1\n",
    "                \n",
    "        return ans\n",
    "    \n",
    "s = Solution()"
   ]
  },
  {
   "cell_type": "code",
   "execution_count": 140,
   "id": "adad3535",
   "metadata": {},
   "outputs": [
    {
     "data": {
      "text/plain": [
       "3"
      ]
     },
     "execution_count": 140,
     "metadata": {},
     "output_type": "execute_result"
    }
   ],
   "source": [
    "s.numberOfArithmeticSlices([1,2,3,4])"
   ]
  },
  {
   "cell_type": "markdown",
   "id": "b17e91f6",
   "metadata": {},
   "source": [
    "### 22. Decode Ways"
   ]
  },
  {
   "cell_type": "code",
   "execution_count": 141,
   "id": "821c786f",
   "metadata": {},
   "outputs": [],
   "source": [
    "class Solution:\n",
    "    def numDecodings(self, s: str) -> int:\n",
    "        n = len(s)\n",
    "        def simplifiedDP():\n",
    "            prev = 0\n",
    "            res = 1\n",
    "            for i in range(n - 1, -1, -1):\n",
    "                t = res\n",
    "                res = res if 0 < int(s[i]) <= 9 else 0\n",
    "                res += prev if 10 <= int(s[i:i + 2]) <= 26 else 0\n",
    "                prev = t\n",
    "            return res\n",
    "        return simplifiedDP()\n",
    "s = Solution()"
   ]
  },
  {
   "cell_type": "code",
   "execution_count": 142,
   "id": "1fb2aab5",
   "metadata": {},
   "outputs": [
    {
     "data": {
      "text/plain": [
       "12"
      ]
     },
     "execution_count": 142,
     "metadata": {},
     "output_type": "execute_result"
    }
   ],
   "source": [
    "s.numDecodings('12332422')"
   ]
  },
  {
   "cell_type": "code",
   "execution_count": null,
   "id": "e4e78b80",
   "metadata": {},
   "outputs": [],
   "source": []
  }
 ],
 "metadata": {
  "kernelspec": {
   "display_name": "Python 3 (ipykernel)",
   "language": "python",
   "name": "python3"
  },
  "language_info": {
   "codemirror_mode": {
    "name": "ipython",
    "version": 3
   },
   "file_extension": ".py",
   "mimetype": "text/x-python",
   "name": "python",
   "nbconvert_exporter": "python",
   "pygments_lexer": "ipython3",
   "version": "3.8.5"
  }
 },
 "nbformat": 4,
 "nbformat_minor": 5
}
