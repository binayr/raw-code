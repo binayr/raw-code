{
 "cells": [
  {
   "cell_type": "markdown",
   "id": "a465c433",
   "metadata": {},
   "source": [
    "### 1. FIbbonacci Number"
   ]
  },
  {
   "cell_type": "code",
   "execution_count": 1,
   "id": "20f6a994",
   "metadata": {},
   "outputs": [],
   "source": [
    "class Solution:\n",
    "    _cache = [None for i in range(31)]\n",
    "    def fib(self, n: int) -> int:\n",
    "        if n == 0:\n",
    "            self._cache[0] = 0\n",
    "            return 0\n",
    "        if n == 1:\n",
    "            self._cache[1] = 1\n",
    "            return 1\n",
    "        \n",
    "        if self._cache[n] is not None:\n",
    "            return self._cache[n]\n",
    "        \n",
    "        if self._cache[n-1] is not None:\n",
    "            temp1 = self._cache[n-1]\n",
    "        else:\n",
    "            temp1 = self.fib(n-1)\n",
    "            self._cache[n-1] = temp1\n",
    "            \n",
    "        if self._cache[n-2] is not None:\n",
    "            temp2 = self._cache[n-2]\n",
    "        else:\n",
    "            temp2 = self.fib(n-2)\n",
    "            self._cache[n-2] = temp2\n",
    "\n",
    "        return temp1 + temp2\n",
    "    \n",
    "s = Solution()"
   ]
  },
  {
   "cell_type": "code",
   "execution_count": 2,
   "id": "b1bc2d66",
   "metadata": {},
   "outputs": [
    {
     "data": {
      "text/plain": [
       "55"
      ]
     },
     "execution_count": 2,
     "metadata": {},
     "output_type": "execute_result"
    }
   ],
   "source": [
    "s.fib(10)"
   ]
  },
  {
   "cell_type": "markdown",
   "id": "60debdea",
   "metadata": {},
   "source": [
    "### 2. N-th Tribonacci Number"
   ]
  },
  {
   "cell_type": "code",
   "execution_count": 4,
   "id": "270b51d3",
   "metadata": {},
   "outputs": [],
   "source": [
    "class Solution:\n",
    "    _cache = [None for i in range(38)]\n",
    "    def tribonacci(self, n: int) -> int:\n",
    "        if n == 0:\n",
    "            self._cache[0] = 0\n",
    "            return 0\n",
    "        if n == 1:\n",
    "            self._cache[1] = 1\n",
    "            return 1\n",
    "        if n == 2:\n",
    "            self._cache[2] = 1\n",
    "            return 1\n",
    "        \n",
    "        if self._cache[n] is not None:\n",
    "            return self._cache[n]\n",
    "        \n",
    "        if self._cache[n-1] is not None:\n",
    "            temp1 = self._cache[n-1]\n",
    "        else:\n",
    "            temp1 = self.tribonacci(n-1)\n",
    "            self._cache[n-1] = temp1\n",
    "            \n",
    "        if self._cache[n-2] is not None:\n",
    "            temp2 = self._cache[n-2]\n",
    "        else:\n",
    "            temp2 = self.tribonacci(n-2)\n",
    "            self._cache[n-2] = temp2\n",
    "            \n",
    "        if self._cache[n-3] is not None:\n",
    "            temp3 = self._cache[n-3]\n",
    "        else:\n",
    "            temp3 = self.tribonacci(n-3)\n",
    "            self._cache[n-3] = temp3\n",
    "\n",
    "        return temp1 + temp2 + temp3\n",
    "    \n",
    "s = Solution()"
   ]
  },
  {
   "cell_type": "code",
   "execution_count": 5,
   "id": "cac94fd5",
   "metadata": {},
   "outputs": [
    {
     "data": {
      "text/plain": [
       "149"
      ]
     },
     "execution_count": 5,
     "metadata": {},
     "output_type": "execute_result"
    }
   ],
   "source": [
    "s.tribonacci(10)"
   ]
  },
  {
   "cell_type": "markdown",
   "id": "e955279a",
   "metadata": {},
   "source": [
    "### 3. Climbing Stairs"
   ]
  },
  {
   "cell_type": "code",
   "execution_count": 6,
   "id": "e6a07b33",
   "metadata": {},
   "outputs": [],
   "source": [
    "from functools import lru_cache\n",
    "\n",
    "class Solution:\n",
    "    @lru_cache()\n",
    "    def climbStairs(self, n: int) -> int:\n",
    "        return self.climbStairs(n - 1) + self.climbStairs(n - 2) if n > 2 else 2 if n == 2 else 1\n",
    "    \n",
    "s = Solution()"
   ]
  },
  {
   "cell_type": "code",
   "execution_count": 7,
   "id": "0aaa14ec",
   "metadata": {},
   "outputs": [
    {
     "data": {
      "text/plain": [
       "63245986"
      ]
     },
     "execution_count": 7,
     "metadata": {},
     "output_type": "execute_result"
    }
   ],
   "source": [
    "s.climbStairs(38)"
   ]
  },
  {
   "cell_type": "markdown",
   "id": "86e0a2ea",
   "metadata": {},
   "source": [
    "### 4. Min Cost Climbing stairs"
   ]
  },
  {
   "cell_type": "code",
   "execution_count": 8,
   "id": "2a437f1d",
   "metadata": {},
   "outputs": [],
   "source": [
    "class Solution:\n",
    "    def minCostClimbingStairs(self, cost) -> int:\n",
    "        minCost = [cost[0], cost[1]]    #minCost[i] will be a list to store the total minimum cost to get to step i\n",
    "        for i in range(2, len(cost)):\n",
    "            minCost.append(cost[i] + min(minCost[i-1], minCost[i-2]))     \n",
    "            #for i>2, you can get to step i from i-1 or i-2. so cost[i] + the mininum cost of either i-1 or i-2 will be the \n",
    "            # minimum cost to get to step i. \n",
    "        return min(minCost[-1], minCost[-2])   #whichever of the final 2 steps has the lowest minimum cost will be the answer\n",
    "s = Solution()"
   ]
  },
  {
   "cell_type": "code",
   "execution_count": 10,
   "id": "32cd1df7",
   "metadata": {},
   "outputs": [
    {
     "data": {
      "text/plain": [
       "6"
      ]
     },
     "execution_count": 10,
     "metadata": {},
     "output_type": "execute_result"
    }
   ],
   "source": [
    "s.minCostClimbingStairs([1,100,1,1,1,100,1,1,100,1])"
   ]
  },
  {
   "cell_type": "code",
   "execution_count": null,
   "id": "e42814ab",
   "metadata": {},
   "outputs": [],
   "source": []
  }
 ],
 "metadata": {
  "kernelspec": {
   "display_name": "Python 3 (ipykernel)",
   "language": "python",
   "name": "python3"
  },
  "language_info": {
   "codemirror_mode": {
    "name": "ipython",
    "version": 3
   },
   "file_extension": ".py",
   "mimetype": "text/x-python",
   "name": "python",
   "nbconvert_exporter": "python",
   "pygments_lexer": "ipython3",
   "version": "3.8.5"
  }
 },
 "nbformat": 4,
 "nbformat_minor": 5
}
