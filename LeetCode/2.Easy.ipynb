{
 "cells": [
  {
   "cell_type": "markdown",
   "id": "238d053e",
   "metadata": {},
   "source": [
    "### 5. Longest Common Prefix\n",
    "Write a function to find the longest common prefix string amongst an array of strings.\n",
    "\n",
    "If there is no common prefix, return an empty string \"\".\n",
    "\n",
    " \n",
    "```\n",
    "Example 1:\n",
    "\n",
    "Input: strs = [\"flower\",\"flow\",\"flight\"]\n",
    "Output: \"fl\"\n",
    "Example 2:\n",
    "\n",
    "Input: strs = [\"dog\",\"racecar\",\"car\"]\n",
    "Output: \"\"\n",
    "Explanation: There is no common prefix among the input strings.\n",
    " \n",
    "\n",
    "Constraints:\n",
    "\n",
    "1 <= strs.length <= 200\n",
    "0 <= strs[i].length <= 200\n",
    "strs[i] consists of only lower-case English letters.\n",
    "```"
   ]
  },
  {
   "cell_type": "code",
   "execution_count": 42,
   "id": "e0ad99fc",
   "metadata": {},
   "outputs": [],
   "source": [
    "strs = [\"flower\",\"flow\",\"flight\"]\n",
    "strs = [\"dog\",\"racecar\",\"car\"]"
   ]
  },
  {
   "cell_type": "code",
   "execution_count": 43,
   "id": "9aa298c9",
   "metadata": {},
   "outputs": [],
   "source": [
    "def longest_prefix(strs):\n",
    "    if strs in [[\"\"]]: return \"\"\n",
    "    count = 0\n",
    "    while True:\n",
    "        try:\n",
    "            if not len(set(map(lambda x: x[count], strs))) == 1: break\n",
    "        except:\n",
    "            break\n",
    "        count +=1\n",
    "    return strs[0][:count]"
   ]
  },
  {
   "cell_type": "code",
   "execution_count": 44,
   "id": "e218d2c4",
   "metadata": {},
   "outputs": [
    {
     "data": {
      "text/plain": [
       "''"
      ]
     },
     "execution_count": 44,
     "metadata": {},
     "output_type": "execute_result"
    }
   ],
   "source": [
    "longest_prefix(strs)"
   ]
  },
  {
   "cell_type": "code",
   "execution_count": 45,
   "id": "d44291c6",
   "metadata": {},
   "outputs": [
    {
     "data": {
      "text/plain": [
       "'a'"
      ]
     },
     "execution_count": 45,
     "metadata": {},
     "output_type": "execute_result"
    }
   ],
   "source": [
    "longest_prefix([\"a\"])"
   ]
  },
  {
   "cell_type": "markdown",
   "id": "401b2024",
   "metadata": {},
   "source": [
    "faster than 82.05%\n",
    "\n",
    "........................."
   ]
  },
  {
   "cell_type": "markdown",
   "id": "2aa61e0a",
   "metadata": {},
   "source": [
    "### 6. Valid Parentheses\n",
    "\n",
    "Given a string s containing just the characters '(', ')', '{', '}', '[' and ']', determine if the input string is valid.\n",
    "\n",
    "An input string is valid if:\n",
    "\n",
    "Open brackets must be closed by the same type of brackets.\n",
    "Open brackets must be closed in the correct order.\n",
    " \n",
    "```\n",
    "Example 1:\n",
    "Input: s = \"()\"\n",
    "Output: true\n",
    "\n",
    "Example 2:\n",
    "Input: s = \"()[]{}\"\n",
    "Output: true\n",
    "\n",
    "Example 3:\n",
    "Input: s = \"(]\"\n",
    "Output: false\n",
    "\n",
    "Example 4:\n",
    "Input: s = \"([)]\"\n",
    "Output: false\n",
    "\n",
    "Example 5:\n",
    "Input: s = \"{[]}\"\n",
    "Output: true\n",
    " \n",
    "\n",
    "Constraints:\n",
    "\n",
    "1 <= s.length <= 104\n",
    "s consists of parentheses only '()[]{}'.\n",
    "```"
   ]
  },
  {
   "cell_type": "code",
   "execution_count": 57,
   "id": "405fe3d4",
   "metadata": {},
   "outputs": [],
   "source": [
    "def check_paranthesis(strs):\n",
    "    stack = []\n",
    "    mapper = {\n",
    "        \"(\": \")\",\n",
    "        \"[\": \"]\",\n",
    "        \"{\": \"}\",\n",
    "        \")\": None,\n",
    "        \"]\": None,\n",
    "        \"}\": None\n",
    "    }\n",
    "    for i in strs:\n",
    "        stack.append(i)\n",
    "        if len(stack) > 1 and mapper[stack[-2]] == stack[-1]: stack.pop();stack.pop()\n",
    "            \n",
    "    if len(stack): return False\n",
    "    else: return True"
   ]
  },
  {
   "cell_type": "code",
   "execution_count": 58,
   "id": "9ac2cf46",
   "metadata": {},
   "outputs": [
    {
     "data": {
      "text/plain": [
       "True"
      ]
     },
     "execution_count": 58,
     "metadata": {},
     "output_type": "execute_result"
    }
   ],
   "source": [
    "check_paranthesis(\"()\")"
   ]
  },
  {
   "cell_type": "code",
   "execution_count": 59,
   "id": "5c6ef77e",
   "metadata": {},
   "outputs": [
    {
     "data": {
      "text/plain": [
       "True"
      ]
     },
     "execution_count": 59,
     "metadata": {},
     "output_type": "execute_result"
    }
   ],
   "source": [
    "check_paranthesis(\"()[]{}\")"
   ]
  },
  {
   "cell_type": "code",
   "execution_count": 60,
   "id": "99d9bed0",
   "metadata": {},
   "outputs": [
    {
     "data": {
      "text/plain": [
       "False"
      ]
     },
     "execution_count": 60,
     "metadata": {},
     "output_type": "execute_result"
    }
   ],
   "source": [
    "check_paranthesis(\"(]\")"
   ]
  },
  {
   "cell_type": "code",
   "execution_count": 61,
   "id": "dda433d5",
   "metadata": {},
   "outputs": [
    {
     "data": {
      "text/plain": [
       "False"
      ]
     },
     "execution_count": 61,
     "metadata": {},
     "output_type": "execute_result"
    }
   ],
   "source": [
    "check_paranthesis(\"([)]\")"
   ]
  },
  {
   "cell_type": "code",
   "execution_count": 62,
   "id": "61ba338f",
   "metadata": {},
   "outputs": [
    {
     "data": {
      "text/plain": [
       "True"
      ]
     },
     "execution_count": 62,
     "metadata": {},
     "output_type": "execute_result"
    }
   ],
   "source": [
    "check_paranthesis(\"{[]}\")"
   ]
  },
  {
   "cell_type": "markdown",
   "id": "b59efdb7",
   "metadata": {},
   "source": [
    "Faster than 99.27%\n",
    "\n",
    "......................."
   ]
  },
  {
   "cell_type": "markdown",
   "id": "419c8c31",
   "metadata": {},
   "source": [
    "### 7. Merge Two Sorted Lists\n",
    "\n",
    "Merge two sorted linked lists and return it as a sorted list. The list should be made by splicing together the nodes of the first two lists.\n",
    "\n",
    " \n",
    "```\n",
    "Example 1:\n",
    "Input: l1 = [1,2,4], l2 = [1,3,4]\n",
    "Output: [1,1,2,3,4,4]\n",
    "\n",
    "Example 2:\n",
    "Input: l1 = [], l2 = []\n",
    "Output: []\n",
    "\n",
    "Example 3:\n",
    "Input: l1 = [], l2 = [0]\n",
    "Output: [0]\n",
    " ```\n",
    "\n",
    "Constraints:\n",
    "```\n",
    "The number of nodes in both lists is in the range [0, 50].\n",
    "-100 <= Node.val <= 100\n",
    "Both l1 and l2 are sorted in non-decreasing order.\n",
    "```"
   ]
  },
  {
   "cell_type": "code",
   "execution_count": 163,
   "id": "239a380a",
   "metadata": {},
   "outputs": [],
   "source": [
    "class ListNode:\n",
    "    def __init__(self, val=None, next=None):\n",
    "        self.val = val\n",
    "        self.next = next\n",
    "    def __repr__(self):\n",
    "        return \"{} - {}\".format(self.val, self.next)"
   ]
  },
  {
   "cell_type": "code",
   "execution_count": 286,
   "id": "52469983",
   "metadata": {},
   "outputs": [],
   "source": [
    "def traverse_node(head):\n",
    "    \n",
    "    while head:\n",
    "        if head.next:\n",
    "            print(head.val, '----> ', end=\"\")\n",
    "        else:\n",
    "            print(head.val)\n",
    "        head = head.next\n",
    "\n",
    "def merge_node(l1, l2):\n",
    "    if not l1 or l1.val is None: return l2\n",
    "    if not l2 or l2.val is None: return l1\n",
    "    if l1.val is None and l2.val is None: return None\n",
    "    \n",
    "    head, tail = None, None\n",
    "    \n",
    "    if l1.val < l2.val:\n",
    "        head, l1 = l1, l1.next\n",
    "        head.next = None\n",
    "    elif l1.val > l2.val:\n",
    "        head, l2 = l2, l2.next\n",
    "        head.next = None\n",
    "    elif l1.val == l2.val:\n",
    "        head,l1 = l1, l1.next\n",
    "        head.next, l2 = l2, l2.next\n",
    "        tail = head.next\n",
    "        tail.next = None\n",
    "    traverse_node(head)\n",
    "    print(tail)\n",
    "    traverse_node(l1)\n",
    "    traverse_node(l2)\n",
    "    return merge_recur(head, tail, l1, l2)\n",
    "        \n",
    "\n",
    "def merge_recur(head, tail, l1, l2):\n",
    "    if l1 and l2 and l1.val < l2.val:\n",
    "        print(l1.val, l2.val, 'case1.1')\n",
    "        if tail:\n",
    "            print(l1.val, l2.val, 'case1.1')\n",
    "            traverse_node(head)\n",
    "            tail.next, l1 = l1, l1.next\n",
    "            tail = tail.next\n",
    "            tail.next = None\n",
    "            traverse_node(head)\n",
    "        else:\n",
    "            print(l1.val, l2.val, 'case1.2')\n",
    "            head.next, l1 = l1, l1.next\n",
    "            tail = head.next\n",
    "            tail.next = None\n",
    "            traverse_node(head)\n",
    "\n",
    "    elif l1 and l2 and l1.val > l2.val:\n",
    "        if tail:\n",
    "            print(l1.val, l2.val, 'case2.1')\n",
    "            tail.next, l2 = l2, l2.next\n",
    "            tail = tail.next\n",
    "            tail.next = None\n",
    "            traverse_node(head)\n",
    "        else:\n",
    "            print(l1.val, l2.val, 'case2.2')\n",
    "            head.next, l2 = l2, l2.next\n",
    "            tail = head.next\n",
    "            tail.next = None\n",
    "            traverse_node(head)\n",
    "\n",
    "    elif  l1 and l2 and l1.val == l2.val:\n",
    "        if tail:\n",
    "            print(l1.val, l2.val, 'case3.1')\n",
    "            tail.next, l1 = l1, l1.next\n",
    "            tail.next.next, l2 = l2, l2.next\n",
    "            tail = tail.next.next\n",
    "            tail.next = None\n",
    "            traverse_node(head)\n",
    "        else:\n",
    "            print(l1.val, l2.val, 'case3.2')\n",
    "            head.next, l1 = l1, l1.next\n",
    "            head.next.next, l2 = l2, l2.next\n",
    "            tail = head.next.next\n",
    "            tail.next = None\n",
    "            traverse_node(head)\n",
    "    elif l1 and not l2:\n",
    "        if tail:\n",
    "            print(l1.val, 'case4.1')\n",
    "            tail.next = l1\n",
    "            tail = tail.next\n",
    "            traverse_node(head)\n",
    "        else:\n",
    "            print(l1.val, 'case4.2')\n",
    "            head.next = l1\n",
    "            tail = head.next\n",
    "            traverse_node(head)\n",
    "        return head\n",
    "    elif l2 and not l1:\n",
    "        if tail:\n",
    "            print(l2.val, 'case5.1')\n",
    "            print(l2.next)\n",
    "            tail.next = l2\n",
    "            tail = tail.next\n",
    "            traverse_node(head)\n",
    "        else:\n",
    "            print(l2.val, 'case5.2')\n",
    "            head.next = l2\n",
    "            tail = head.next\n",
    "            traverse_node(head)\n",
    "        return head\n",
    "    else: return head\n",
    "    return merge_recur(head, tail, l1, l2)\n",
    "    "
   ]
  },
  {
   "cell_type": "code",
   "execution_count": 287,
   "id": "66f077bd",
   "metadata": {},
   "outputs": [
    {
     "name": "stdout",
     "output_type": "stream",
     "text": [
      "1 ----> 2 ----> 4\n",
      "1 ----> 3 ----> 4\n"
     ]
    }
   ],
   "source": [
    "l1 = ListNode(1)\n",
    "l1.next = ListNode(2)\n",
    "l1.next.next = ListNode(4)\n",
    "traverse_node(l1)\n",
    "\n",
    "l2 = ListNode(1)\n",
    "l2.next = ListNode(3)\n",
    "l2.next.next = ListNode(4)\n",
    "traverse_node(l2)"
   ]
  },
  {
   "cell_type": "code",
   "execution_count": 279,
   "id": "97540733",
   "metadata": {},
   "outputs": [
    {
     "name": "stdout",
     "output_type": "stream",
     "text": [
      "1 ----> 1\n",
      "1 - None\n",
      "2 ----> 4\n",
      "3 ----> 4\n",
      "2 3 case1.1\n",
      "2 3 case1.1\n",
      "1 ----> 1\n",
      "1 ----> 1 ----> 2\n",
      "4 3 case2.1\n",
      "1 ----> 1 ----> 2 ----> 3\n",
      "4 4 case3.1\n",
      "1 ----> 1 ----> 2 ----> 3 ----> 4 ----> 4\n"
     ]
    }
   ],
   "source": [
    "final = merge_node(l1, l2)"
   ]
  },
  {
   "cell_type": "code",
   "execution_count": 280,
   "id": "63a820be",
   "metadata": {},
   "outputs": [
    {
     "name": "stdout",
     "output_type": "stream",
     "text": [
      "1 ----> 1 ----> 2 ----> 3 ----> 4 ----> 4\n"
     ]
    }
   ],
   "source": [
    "traverse_node(l1)"
   ]
  },
  {
   "cell_type": "code",
   "execution_count": 281,
   "id": "3005f778",
   "metadata": {},
   "outputs": [
    {
     "name": "stdout",
     "output_type": "stream",
     "text": [
      "None\n",
      "None\n",
      "-------final-------\n",
      "None\n"
     ]
    }
   ],
   "source": [
    "l1 = ListNode()\n",
    "#l1.next = ListNode(2)\n",
    "#l1.next.next = ListNode(4)\n",
    "traverse_node(l1)\n",
    "\n",
    "l2 = ListNode()\n",
    "#l2.next = ListNode(3)\n",
    "#l2.next.next = ListNode(4)\n",
    "traverse_node(l2)\n",
    "\n",
    "final = merge_node(l1, l2)\n",
    "print('''-------final-------''')\n",
    "traverse_node(final)"
   ]
  },
  {
   "cell_type": "code",
   "execution_count": 282,
   "id": "ddfb47cb",
   "metadata": {},
   "outputs": [
    {
     "name": "stdout",
     "output_type": "stream",
     "text": [
      "None\n",
      "0\n",
      "-------final-------\n",
      "0\n"
     ]
    }
   ],
   "source": [
    "l1 = ListNode()\n",
    "#l1.next = ListNode(2)\n",
    "#l1.next.next = ListNode(4)\n",
    "traverse_node(l1)\n",
    "\n",
    "l2 = ListNode(0)\n",
    "#l2.next = ListNode(3)\n",
    "#l2.next.next = ListNode(4)\n",
    "traverse_node(l2)\n",
    "\n",
    "final = merge_node(l1, l2)\n",
    "print('''-------final-------''')\n",
    "traverse_node(final)"
   ]
  },
  {
   "cell_type": "code",
   "execution_count": 283,
   "id": "2d3fad50",
   "metadata": {},
   "outputs": [
    {
     "name": "stdout",
     "output_type": "stream",
     "text": [
      "2\n",
      "1\n",
      "1\n",
      "None\n",
      "2\n",
      "2 case4.2\n",
      "1 ----> 2\n",
      "-------final-------\n",
      "1 ----> 2\n"
     ]
    }
   ],
   "source": [
    "l1 = ListNode(2)\n",
    "#l1.next = ListNode(2)\n",
    "#l1.next.next = ListNode(4)\n",
    "traverse_node(l1)\n",
    "\n",
    "l2 = ListNode(1)\n",
    "#l2.next = ListNode(3)\n",
    "#l2.next.next = ListNode(4)\n",
    "traverse_node(l2)\n",
    "\n",
    "final = merge_node(l1, l2)\n",
    "print('''-------final-------''')\n",
    "traverse_node(final)"
   ]
  },
  {
   "cell_type": "code",
   "execution_count": 284,
   "id": "902a7b3f",
   "metadata": {},
   "outputs": [
    {
     "name": "stdout",
     "output_type": "stream",
     "text": [
      "-9\n",
      "None\n",
      "3\n",
      "5 ----> 7\n",
      "3 5 case1.1\n",
      "3 5 case1.2\n",
      "-9 ----> 3\n",
      "5 case5.1\n",
      "7 - None\n",
      "-9 ----> 3 ----> 5 ----> 7\n",
      "-------final-------\n",
      "-9 ----> 3 ----> 5 ----> 7\n"
     ]
    }
   ],
   "source": [
    "l1 = ListNode(-9)\n",
    "l1.next = ListNode(3)\n",
    "#l1.next.next = ListNode(4)\n",
    "#traverse_node(l1)\n",
    "\n",
    "l2 = ListNode(5)\n",
    "l2.next = ListNode(7)\n",
    "#l2.next.next = ListNode(4)\n",
    "#traverse_node(l2)\n",
    "\n",
    "final = merge_node(l1, l2)\n",
    "print('''-------final-------''')\n",
    "traverse_node(final)"
   ]
  },
  {
   "cell_type": "code",
   "execution_count": 315,
   "id": "99d689c6",
   "metadata": {},
   "outputs": [
    {
     "name": "stdout",
     "output_type": "stream",
     "text": [
      "-9 ----> -7 ----> -3 ----> -3 ----> -1 ----> 2 ----> 3\n",
      "-7 ----> -7 ----> -6 ----> -6 ----> -5 ----> -3 ----> 2 ----> 4\n",
      "-9\n",
      "None\n",
      "-7 ----> -3 ----> -3 ----> -1 ----> 2 ----> 3\n",
      "-7 ----> -7 ----> -6 ----> -6 ----> -5 ----> -3 ----> 2 ----> 4\n",
      "-7 -7 case3.2\n",
      "-9 ----> -7 ----> -7\n",
      "-3 -7 case2.1\n",
      "-9 ----> -7 ----> -7 ----> -7\n",
      "-3 -6 case2.1\n",
      "-9 ----> -7 ----> -7 ----> -7 ----> -6\n",
      "-3 -6 case2.1\n",
      "-9 ----> -7 ----> -7 ----> -7 ----> -6 ----> -6\n",
      "-3 -5 case2.1\n",
      "-9 ----> -7 ----> -7 ----> -7 ----> -6 ----> -6 ----> -5\n",
      "-3 -3 case3.1\n",
      "-9 ----> -7 ----> -7 ----> -7 ----> -6 ----> -6 ----> -5 ----> -3 ----> -3\n",
      "-3 2 case1.1\n",
      "-3 2 case1.1\n",
      "-9 ----> -7 ----> -7 ----> -7 ----> -6 ----> -6 ----> -5 ----> -3 ----> -3\n",
      "-9 ----> -7 ----> -7 ----> -7 ----> -6 ----> -6 ----> -5 ----> -3 ----> -3 ----> -3\n",
      "-1 2 case1.1\n",
      "-1 2 case1.1\n",
      "-9 ----> -7 ----> -7 ----> -7 ----> -6 ----> -6 ----> -5 ----> -3 ----> -3 ----> -3\n",
      "-9 ----> -7 ----> -7 ----> -7 ----> -6 ----> -6 ----> -5 ----> -3 ----> -3 ----> -3 ----> -1\n",
      "2 2 case3.1\n",
      "-9 ----> -7 ----> -7 ----> -7 ----> -6 ----> -6 ----> -5 ----> -3 ----> -3 ----> -3 ----> -1 ----> 2 ----> 2\n",
      "3 4 case1.1\n",
      "3 4 case1.1\n",
      "-9 ----> -7 ----> -7 ----> -7 ----> -6 ----> -6 ----> -5 ----> -3 ----> -3 ----> -3 ----> -1 ----> 2 ----> 2\n",
      "-9 ----> -7 ----> -7 ----> -7 ----> -6 ----> -6 ----> -5 ----> -3 ----> -3 ----> -3 ----> -1 ----> 2 ----> 2 ----> 3\n",
      "4 case5.1\n",
      "None\n",
      "-9 ----> -7 ----> -7 ----> -7 ----> -6 ----> -6 ----> -5 ----> -3 ----> -3 ----> -3 ----> -1 ----> 2 ----> 2 ----> 3 ----> 4\n",
      "-------final-------\n",
      "-9 ----> -7 ----> -7 ----> -7 ----> -6 ----> -6 ----> -5 ----> -3 ----> -3 ----> -3 ----> -1 ----> 2 ----> 2 ----> 3 ----> 4\n"
     ]
    }
   ],
   "source": [
    "[-9,-7,-3,-3,-1,2,3]\n",
    "[-7,-7,-6,-6,-5,-3,2,4]\n",
    "l1 = ListNode(-9)\n",
    "l1.next = ListNode(-7)\n",
    "l1.next.next = ListNode(-3)\n",
    "l1.next.next.next = ListNode(-3)\n",
    "l1.next.next.next.next = ListNode(-1)\n",
    "l1.next.next.next.next.next = ListNode(2)\n",
    "l1.next.next.next.next.next.next = ListNode(3)\n",
    "traverse_node(l1)\n",
    "\n",
    "l2 = ListNode(-7)\n",
    "l2.next = ListNode(-7)\n",
    "l2.next.next = ListNode(-6)\n",
    "l2.next.next.next = ListNode(-6)\n",
    "l2.next.next.next.next = ListNode(-5)\n",
    "l2.next.next.next.next.next = ListNode(-3)\n",
    "l2.next.next.next.next.next.next = ListNode(2)\n",
    "l2.next.next.next.next.next.next.next = ListNode(4)\n",
    "traverse_node(l2)\n",
    "\n",
    "final = merge_node(l1, l2)\n",
    "print('''-------final-------''')\n",
    "traverse_node(final)"
   ]
  },
  {
   "cell_type": "markdown",
   "id": "e7584628",
   "metadata": {},
   "source": [
    "Faster than 52.28% \n",
    "\n",
    "---------------------"
   ]
  },
  {
   "cell_type": "code",
   "execution_count": 316,
   "id": "13666433",
   "metadata": {},
   "outputs": [],
   "source": [
    "#better solution with 98%\n",
    "def merge_list(l1, l2):\n",
    "    head = dummy = ListNode(0)\n",
    "    while l1 and l2:\n",
    "        if l1.val < l2.val:\n",
    "            dummy.next = l1\n",
    "            l1 = l1.next\n",
    "        else:\n",
    "            dummy.next = l2\n",
    "            l2 = l2.next\n",
    "        dummy = dummy.next\n",
    "    if l1: dummy.next = l1\n",
    "    elif l2: dummy.next = l2\n",
    "    return head.next\n"
   ]
  },
  {
   "cell_type": "code",
   "execution_count": 317,
   "id": "06de7701",
   "metadata": {},
   "outputs": [
    {
     "name": "stdout",
     "output_type": "stream",
     "text": [
      "-9 ----> -7 ----> -3 ----> -3 ----> -1 ----> 2 ----> 3\n",
      "-7 ----> -7 ----> -6 ----> -6 ----> -5 ----> -3 ----> 2 ----> 4\n",
      "-------final-------\n",
      "-9 ----> -7 ----> -7 ----> -7 ----> -6 ----> -6 ----> -5 ----> -3 ----> -3 ----> -3 ----> -1 ----> 2 ----> 2 ----> 3 ----> 4\n"
     ]
    }
   ],
   "source": [
    "[-9,-7,-3,-3,-1,2,3]\n",
    "[-7,-7,-6,-6,-5,-3,2,4]\n",
    "l1 = ListNode(-9)\n",
    "l1.next = ListNode(-7)\n",
    "l1.next.next = ListNode(-3)\n",
    "l1.next.next.next = ListNode(-3)\n",
    "l1.next.next.next.next = ListNode(-1)\n",
    "l1.next.next.next.next.next = ListNode(2)\n",
    "l1.next.next.next.next.next.next = ListNode(3)\n",
    "traverse_node(l1)\n",
    "\n",
    "l2 = ListNode(-7)\n",
    "l2.next = ListNode(-7)\n",
    "l2.next.next = ListNode(-6)\n",
    "l2.next.next.next = ListNode(-6)\n",
    "l2.next.next.next.next = ListNode(-5)\n",
    "l2.next.next.next.next.next = ListNode(-3)\n",
    "l2.next.next.next.next.next.next = ListNode(2)\n",
    "l2.next.next.next.next.next.next.next = ListNode(4)\n",
    "traverse_node(l2)\n",
    "\n",
    "final = merge_list(l1, l2)\n",
    "print('''-------final-------''')\n",
    "traverse_node(final)"
   ]
  },
  {
   "cell_type": "markdown",
   "id": "346a29e3",
   "metadata": {},
   "source": [
    "### 4. Remove dups from sorted array"
   ]
  },
  {
   "cell_type": "code",
   "execution_count": 301,
   "id": "a5dec8bf",
   "metadata": {},
   "outputs": [],
   "source": [
    "l = [1,2,3,4,4,5,5,5,6,7,8,8,9]"
   ]
  },
  {
   "cell_type": "code",
   "execution_count": 304,
   "id": "3e61958f",
   "metadata": {},
   "outputs": [],
   "source": [
    "### This works but unaccepted as nums need to change by the func.\n",
    "def remove_dups(l):\n",
    "    to_pop = []\n",
    "    res = []\n",
    "    for n, i in enumerate(l):\n",
    "        if not (n < len(l)-1 and i == l[n+1]):\n",
    "            res.append(i)    \n",
    "        else:\n",
    "            to_pop.append('_')\n",
    "    return len(to_pop), res + to_pop"
   ]
  },
  {
   "cell_type": "code",
   "execution_count": 305,
   "id": "700b8b17",
   "metadata": {},
   "outputs": [
    {
     "data": {
      "text/plain": [
       "(4, [1, 2, 3, 4, 5, 6, 7, 8, 9, '_', '_', '_', '_'])"
      ]
     },
     "execution_count": 305,
     "metadata": {},
     "output_type": "execute_result"
    }
   ],
   "source": [
    "remove_dups(l)"
   ]
  },
  {
   "cell_type": "code",
   "execution_count": 306,
   "id": "707ddabc",
   "metadata": {},
   "outputs": [],
   "source": [
    "def remove_dups(l):\n",
    "    index = 1\n",
    "    for i in range(1,len(nums)):\n",
    "        if(nums[i-1]!=nums[i]):\n",
    "            nums[index] = nums[i]\n",
    "            index+=1\n",
    "    return index"
   ]
  },
  {
   "cell_type": "code",
   "execution_count": null,
   "id": "d5301838",
   "metadata": {},
   "outputs": [],
   "source": []
  },
  {
   "cell_type": "code",
   "execution_count": null,
   "id": "93632039",
   "metadata": {},
   "outputs": [],
   "source": []
  }
 ],
 "metadata": {
  "kernelspec": {
   "display_name": "Python 3 (ipykernel)",
   "language": "python",
   "name": "python3"
  },
  "language_info": {
   "codemirror_mode": {
    "name": "ipython",
    "version": 3
   },
   "file_extension": ".py",
   "mimetype": "text/x-python",
   "name": "python",
   "nbconvert_exporter": "python",
   "pygments_lexer": "ipython3",
   "version": "3.8.5"
  }
 },
 "nbformat": 4,
 "nbformat_minor": 5
}
