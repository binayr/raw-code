{
 "cells": [
  {
   "cell_type": "markdown",
   "id": "06f3fc68",
   "metadata": {},
   "source": [
    "### 41.Binary Tree Inorder Traversal"
   ]
  },
  {
   "cell_type": "code",
   "execution_count": 56,
   "id": "c405ee39",
   "metadata": {},
   "outputs": [],
   "source": [
    "class TreeNode:\n",
    "    def __init__(self, val=0, left=None, right=None):\n",
    "        self.val = val\n",
    "        self.left = left\n",
    "        self.right = right\n",
    "    def __repr__(self):\n",
    "        return str(self.val)\n",
    "\n",
    "def inorder(root, out=[]):\n",
    "    if root:\n",
    "        inorder(root.left)\n",
    "        out.append(root)\n",
    "        inorder(root.right)\n",
    "    return out"
   ]
  },
  {
   "cell_type": "code",
   "execution_count": 57,
   "id": "23850e6f",
   "metadata": {},
   "outputs": [],
   "source": [
    "nodes = [1,None,2,3]\n",
    "root = TreeNode(1)\n",
    "root.right = TreeNode(2)\n",
    "root.right.left = TreeNode(3)\n"
   ]
  },
  {
   "cell_type": "code",
   "execution_count": 58,
   "id": "d28baa15",
   "metadata": {},
   "outputs": [
    {
     "data": {
      "text/plain": [
       "[1, 3, 2]"
      ]
     },
     "execution_count": 58,
     "metadata": {},
     "output_type": "execute_result"
    }
   ],
   "source": [
    "inorder(root)"
   ]
  },
  {
   "cell_type": "markdown",
   "id": "360c6fab",
   "metadata": {},
   "source": [
    "### 42. Same tree"
   ]
  },
  {
   "cell_type": "code",
   "execution_count": 98,
   "id": "dc900f4d",
   "metadata": {},
   "outputs": [],
   "source": [
    "class TreeNode:\n",
    "    def __init__(self, val=0, left=None, right=None):\n",
    "        self.val = val\n",
    "        self.left = left\n",
    "        self.right = right\n",
    "    def __repr__(self):\n",
    "        return str(self.val)\n",
    "\n",
    "def check_same(p, q):\n",
    "    if not p and not q: return True\n",
    "    if (not p and q) or (p and not q): return False\n",
    "    if p.val == q.val:\n",
    "        if p.left and q.left:\n",
    "            left = check_same(p.left, q.left)\n",
    "        elif not p.left and not q.left:\n",
    "            left = True\n",
    "        else:\n",
    "            left = False\n",
    "        if p.right and q.right:\n",
    "            right = check_same(p.right, q.right)\n",
    "        elif not p.right and not q.right:\n",
    "            right = True\n",
    "        else:\n",
    "            right = False\n",
    "        return left and right\n",
    "    else:\n",
    "        return False\n",
    "#     if (not p and q) or (p and not q): return False\n",
    "    \n",
    "#     if p.val != q.val: return False\n",
    "#     if p.left and q.left: return check_same(p.left, q.left)\n",
    "#     if p.right and q.right: return check_same(p.right, q.right)\n",
    "#     if (not p.left and q.left) or (p.left and not q.left) or (not p.right and q.right) or (p.right and not q.right): return False\n",
    "#     return True"
   ]
  },
  {
   "cell_type": "code",
   "execution_count": 99,
   "id": "4877b702",
   "metadata": {},
   "outputs": [
    {
     "data": {
      "text/plain": [
       "True"
      ]
     },
     "execution_count": 99,
     "metadata": {},
     "output_type": "execute_result"
    }
   ],
   "source": [
    "root1 = TreeNode(1)\n",
    "root1.left = TreeNode(2)\n",
    "root1.right = TreeNode(3)\n",
    "\n",
    "root2 = TreeNode(1)\n",
    "root2.left = TreeNode(2)\n",
    "root2.right = TreeNode(3)\n",
    "check_same(root1, root2)"
   ]
  },
  {
   "cell_type": "code",
   "execution_count": 100,
   "id": "53eeb03d",
   "metadata": {},
   "outputs": [
    {
     "data": {
      "text/plain": [
       "False"
      ]
     },
     "execution_count": 100,
     "metadata": {},
     "output_type": "execute_result"
    }
   ],
   "source": [
    "root1 = TreeNode(1)\n",
    "root1.left = TreeNode(2)\n",
    "\n",
    "root2 = TreeNode(1)\n",
    "root2.right = TreeNode(2)\n",
    "check_same(root1, root2)"
   ]
  },
  {
   "cell_type": "code",
   "execution_count": 101,
   "id": "4f5194c5",
   "metadata": {},
   "outputs": [
    {
     "data": {
      "text/plain": [
       "False"
      ]
     },
     "execution_count": 101,
     "metadata": {},
     "output_type": "execute_result"
    }
   ],
   "source": [
    "root1 = TreeNode(1)\n",
    "root1.left = TreeNode(2)\n",
    "root1.right = TreeNode(1)\n",
    "\n",
    "root2 = TreeNode(1)\n",
    "root2.left = TreeNode(1)\n",
    "root2.right = TreeNode(2)\n",
    "check_same(root1, root2)"
   ]
  },
  {
   "cell_type": "code",
   "execution_count": 102,
   "id": "997bc58b",
   "metadata": {},
   "outputs": [
    {
     "data": {
      "text/plain": [
       "False"
      ]
     },
     "execution_count": 102,
     "metadata": {},
     "output_type": "execute_result"
    }
   ],
   "source": [
    "#[2,null,4]\n",
    "#[2,3,4]\n",
    "root1 = TreeNode(2)\n",
    "#root1.left = TreeNode(2)\n",
    "root1.right = TreeNode(4)\n",
    "\n",
    "root2 = TreeNode(2)\n",
    "root2.left = TreeNode(3)\n",
    "root2.right = TreeNode(4)\n",
    "check_same(root1, root2)"
   ]
  },
  {
   "cell_type": "code",
   "execution_count": 103,
   "id": "0654c811",
   "metadata": {},
   "outputs": [
    {
     "data": {
      "text/plain": [
       "True"
      ]
     },
     "execution_count": 103,
     "metadata": {},
     "output_type": "execute_result"
    }
   ],
   "source": [
    "check_same(None, None)"
   ]
  },
  {
   "cell_type": "markdown",
   "id": "67664643",
   "metadata": {},
   "source": [
    "### 43. symetric tree"
   ]
  },
  {
   "cell_type": "code",
   "execution_count": 124,
   "id": "67c2066c",
   "metadata": {},
   "outputs": [],
   "source": [
    "class TreeNode:\n",
    "    def __init__(self, val=0, left=None, right=None):\n",
    "        self.val = val\n",
    "        self.left = left\n",
    "        self.right = right\n",
    "\n",
    "        \n",
    "class Solution:\n",
    "    def isSymmetric(self, root) -> bool:\n",
    "        if not root:\n",
    "            return True\n",
    "        if root.left and root.right: return self.check_symetric(root.left, root.right)\n",
    "        elif (root.left and not root.right) or (not root.left and root.right): return False\n",
    "        else: return True\n",
    "        \n",
    "    def check_symetric(self, left, right):\n",
    "        if (left and not right) or (not left and right): return False\n",
    "        if left and right and left.val != right.val: return False\n",
    "        if left and right and left.val == right.val:\n",
    "            return self.check_symetric(left.left, right.right) and self.check_symetric(left.right, right.left)\n",
    "\n",
    "        return True\n"
   ]
  },
  {
   "cell_type": "code",
   "execution_count": 125,
   "id": "356316f4",
   "metadata": {},
   "outputs": [
    {
     "data": {
      "text/plain": [
       "True"
      ]
     },
     "execution_count": 125,
     "metadata": {},
     "output_type": "execute_result"
    }
   ],
   "source": [
    "root = TreeNode(1)\n",
    "root.left = TreeNode(2)\n",
    "root.right = TreeNode(2)\n",
    "root.left.left = TreeNode(3)\n",
    "root.left.right = TreeNode(4)\n",
    "\n",
    "root.right.left = TreeNode(4)\n",
    "root.right.right = TreeNode(3)\n",
    "check_symetric(root.left, root.right)"
   ]
  },
  {
   "cell_type": "code",
   "execution_count": 126,
   "id": "5fd64c4d",
   "metadata": {},
   "outputs": [
    {
     "data": {
      "text/plain": [
       "False"
      ]
     },
     "execution_count": 126,
     "metadata": {},
     "output_type": "execute_result"
    }
   ],
   "source": [
    "root = TreeNode(1)\n",
    "root.left = TreeNode(2)\n",
    "root.right = TreeNode(2)\n",
    "root.left.left = TreeNode(3)\n",
    "root.left.right = TreeNode(4)\n",
    "\n",
    "root.right.left = TreeNode(4)\n",
    "root.right.right = TreeNode(5)\n",
    "check_symetric(root.left, root.right)"
   ]
  },
  {
   "cell_type": "code",
   "execution_count": 127,
   "id": "87558629",
   "metadata": {},
   "outputs": [
    {
     "data": {
      "text/plain": [
       "False"
      ]
     },
     "execution_count": 127,
     "metadata": {},
     "output_type": "execute_result"
    }
   ],
   "source": [
    "root = TreeNode(1)\n",
    "root.left = TreeNode(2)\n",
    "root.right = TreeNode(2)\n",
    "root.left.right = TreeNode(3)\n",
    "root.right.right = TreeNode(3)\n",
    "check_symetric(root.left, root.right)"
   ]
  },
  {
   "cell_type": "code",
   "execution_count": 128,
   "id": "624546dc",
   "metadata": {},
   "outputs": [
    {
     "data": {
      "text/plain": [
       "True"
      ]
     },
     "execution_count": 128,
     "metadata": {},
     "output_type": "execute_result"
    }
   ],
   "source": [
    "check_symetric(None, None)"
   ]
  },
  {
   "cell_type": "markdown",
   "id": "3ac390f9",
   "metadata": {},
   "source": [
    "### 44."
   ]
  }
 ],
 "metadata": {
  "kernelspec": {
   "display_name": "Python 3 (ipykernel)",
   "language": "python",
   "name": "python3"
  },
  "language_info": {
   "codemirror_mode": {
    "name": "ipython",
    "version": 3
   },
   "file_extension": ".py",
   "mimetype": "text/x-python",
   "name": "python",
   "nbconvert_exporter": "python",
   "pygments_lexer": "ipython3",
   "version": "3.8.5"
  }
 },
 "nbformat": 4,
 "nbformat_minor": 5
}
