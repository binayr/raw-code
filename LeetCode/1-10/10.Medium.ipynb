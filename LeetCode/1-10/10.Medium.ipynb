{
 "cells": [
  {
   "cell_type": "markdown",
   "id": "830f69cf",
   "metadata": {},
   "source": [
    "### 37. Pow(x, n)"
   ]
  },
  {
   "cell_type": "code",
   "execution_count": 131,
   "id": "1ffffa30",
   "metadata": {},
   "outputs": [],
   "source": [
    "class Solution:\n",
    "\tdef myPow(self, x, n):\n",
    "\t\t# if abs(x) < 1e-10:\n",
    "\t\tif round(x, 10) == 0:\n",
    "\t\t\treturn 0\n",
    "\t\tif n == 0:\n",
    "\t\t\treturn 1\n",
    "\t\tif n < 0:\n",
    "\t\t\treturn self.myPow(1/x, -n)\n",
    "\t\tlower = self.myPow(x, n//2)\n",
    "\t\tif n % 2 == 0:\n",
    "\t\t\treturn lower*lower\n",
    "\t\treturn lower*lower*x\n",
    "s = Solution()"
   ]
  },
  {
   "cell_type": "code",
   "execution_count": null,
   "id": "dae43687",
   "metadata": {},
   "outputs": [],
   "source": []
  },
  {
   "cell_type": "code",
   "execution_count": 132,
   "id": "0ac064f3",
   "metadata": {},
   "outputs": [
    {
     "data": {
      "text/plain": [
       "1024"
      ]
     },
     "execution_count": 132,
     "metadata": {},
     "output_type": "execute_result"
    }
   ],
   "source": [
    "s.myPow(2, 10)"
   ]
  },
  {
   "cell_type": "code",
   "execution_count": 133,
   "id": "b9a7cf52",
   "metadata": {},
   "outputs": [
    {
     "data": {
      "text/plain": [
       "0.25"
      ]
     },
     "execution_count": 133,
     "metadata": {},
     "output_type": "execute_result"
    }
   ],
   "source": [
    "s.myPow(2, -2)"
   ]
  },
  {
   "cell_type": "code",
   "execution_count": 134,
   "id": "c7d95e1b",
   "metadata": {},
   "outputs": [
    {
     "data": {
      "text/plain": [
       "0.0"
      ]
     },
     "execution_count": 134,
     "metadata": {},
     "output_type": "execute_result"
    }
   ],
   "source": [
    "s.myPow(0.00001, 2147483647)"
   ]
  },
  {
   "cell_type": "code",
   "execution_count": 135,
   "id": "8c5bd7bd",
   "metadata": {},
   "outputs": [
    {
     "data": {
      "text/plain": [
       "7.583675907271332e-05"
      ]
     },
     "execution_count": 135,
     "metadata": {},
     "output_type": "execute_result"
    }
   ],
   "source": [
    "s.myPow(0.99999, 948688)"
   ]
  },
  {
   "cell_type": "code",
   "execution_count": 136,
   "id": "9ce0811a",
   "metadata": {},
   "outputs": [
    {
     "data": {
      "text/plain": [
       "'0.0000758367590729736501314536822881962052633753046393394470214843750000000000000000000000000000000000'"
      ]
     },
     "execution_count": 136,
     "metadata": {},
     "output_type": "execute_result"
    }
   ],
   "source": [
    "\"{:10.100f}\".format(0.99999 **948688)"
   ]
  },
  {
   "cell_type": "markdown",
   "id": "be4473e9",
   "metadata": {},
   "source": [
    "### 38. Group Anagrams"
   ]
  },
  {
   "cell_type": "code",
   "execution_count": 189,
   "id": "7b438e1e",
   "metadata": {},
   "outputs": [],
   "source": [
    "class Solution:\n",
    "    def groupAnagrams(self, strs: list) -> list:\n",
    "        mapper = {}\n",
    "        for word in strs:\n",
    "            count = self.get_counts(word, {})\n",
    "            if count in mapper: mapper[count].append(word)\n",
    "            else: mapper[count] = [word]\n",
    "        return mapper.values()\n",
    "    \n",
    "    def get_counts(self, st, d={}):\n",
    "        for s in st:\n",
    "            if s in d:\n",
    "                d[s] +=1\n",
    "            else:\n",
    "                d[s] = 1\n",
    "        keys = sorted(d.keys())\n",
    "        values = [d[i] for i in keys]\n",
    "        return tuple(zip(keys, values))\n",
    "s = Solution()"
   ]
  },
  {
   "cell_type": "code",
   "execution_count": 194,
   "id": "7aac4bfc",
   "metadata": {},
   "outputs": [
    {
     "data": {
      "text/plain": [
       "dict_values([['eat', 'tea', 'ate'], ['tan', 'nat'], ['bat']])"
      ]
     },
     "execution_count": 194,
     "metadata": {},
     "output_type": "execute_result"
    }
   ],
   "source": [
    "strs = [\"eat\",\"tea\",\"tan\",\"ate\",\"nat\",\"bat\"]\n",
    "s.groupAnagrams(strs)"
   ]
  },
  {
   "cell_type": "markdown",
   "id": "a8d3fff7",
   "metadata": {},
   "source": [
    "### 39. Rotate Image"
   ]
  },
  {
   "cell_type": "code",
   "execution_count": null,
   "id": "d7de9275",
   "metadata": {},
   "outputs": [],
   "source": []
  },
  {
   "cell_type": "code",
   "execution_count": 212,
   "id": "831fe9fc",
   "metadata": {},
   "outputs": [],
   "source": [
    "class Solution:\n",
    "    def rotate(self, matrix: list) -> list:\n",
    "        \"\"\"\n",
    "        Do not return anything, modify matrix in-place instead.\n",
    "        \"\"\"\n",
    "        n = len(matrix[0])\n",
    "        for i in range(n // 2 + n % 2):\n",
    "            for j in range(n // 2):\n",
    "                tmp = matrix[n - 1 - j][i]\n",
    "                matrix[n - 1 - j][i] = matrix[n - 1 - i][n - j - 1]\n",
    "                matrix[n - 1 - i][n - j - 1] = matrix[j][n - 1 -i]\n",
    "                matrix[j][n - 1 - i] = matrix[i][j]\n",
    "                matrix[i][j] = tmp\n",
    "        return matrix\n",
    "s = Solution()"
   ]
  },
  {
   "cell_type": "code",
   "execution_count": 213,
   "id": "1b0c47c7",
   "metadata": {},
   "outputs": [],
   "source": [
    "matrix = [[1,2,3],[4,5,6],[7,8,9]]"
   ]
  },
  {
   "cell_type": "code",
   "execution_count": 214,
   "id": "6cab847b",
   "metadata": {},
   "outputs": [
    {
     "data": {
      "text/plain": [
       "[[7, 4, 1], [8, 5, 2], [9, 6, 3]]"
      ]
     },
     "execution_count": 214,
     "metadata": {},
     "output_type": "execute_result"
    }
   ],
   "source": [
    "s.rotate(matrix)"
   ]
  },
  {
   "cell_type": "markdown",
   "id": "813c286c",
   "metadata": {},
   "source": [
    "### 40. Permutation"
   ]
  },
  {
   "cell_type": "code",
   "execution_count": 221,
   "id": "b35f7d3d",
   "metadata": {},
   "outputs": [],
   "source": []
  },
  {
   "cell_type": "code",
   "execution_count": 216,
   "id": "9f701fd4",
   "metadata": {},
   "outputs": [
    {
     "data": {
      "text/plain": [
       "120"
      ]
     },
     "execution_count": 216,
     "metadata": {},
     "output_type": "execute_result"
    }
   ],
   "source": [
    "def fact(n):\n",
    "    if n == 1 or n == 0: return 1\n",
    "    return n * fact(n-1)\n",
    "fact(5)"
   ]
  },
  {
   "cell_type": "code",
   "execution_count": 215,
   "id": "e5d60caf",
   "metadata": {},
   "outputs": [],
   "source": [
    "nums = [1,2,3]"
   ]
  },
  {
   "cell_type": "code",
   "execution_count": 311,
   "id": "b61d7c99",
   "metadata": {},
   "outputs": [],
   "source": [
    "def perm(nums):\n",
    "    possibility = fact(len(nums))\n",
    "    n = len(nums)\n",
    "    res1 = [nums[i % n] for i in range(possibility)]\n",
    "    res = [res1]\n",
    "    res2 = [[nums[(i + j +1) % n] for i in range(possibility //(n-1))] for j in range(n - 1)]\n",
    "    for i in range(n-1):\n",
    "        res.append(res2[0])\n",
    "\n",
    "    return list(zip(*res))\n",
    "    \n",
    "    return res1, res2\n",
    "    res4 = res2 + res3\n",
    "    res5 = res3 + res2\n",
    "    return list(zip(res1, res4, res5))"
   ]
  },
  {
   "cell_type": "code",
   "execution_count": 305,
   "id": "eca58031",
   "metadata": {},
   "outputs": [
    {
     "data": {
      "text/plain": [
       "[([1, 2, 3, 1, 2, 3],), ([[2, 3, 1], [3, 1, 2]],), ([[2, 3, 1], [3, 1, 2]],)]"
      ]
     },
     "execution_count": 305,
     "metadata": {},
     "output_type": "execute_result"
    }
   ],
   "source": [
    "perm(nums)"
   ]
  },
  {
   "cell_type": "code",
   "execution_count": 312,
   "id": "d15501c3",
   "metadata": {},
   "outputs": [
    {
     "name": "stdout",
     "output_type": "stream",
     "text": [
      "[[1, 2], [2, 1]]\n"
     ]
    },
    {
     "data": {
      "text/plain": [
       "[(1, 2), (2, 1)]"
      ]
     },
     "execution_count": 312,
     "metadata": {},
     "output_type": "execute_result"
    }
   ],
   "source": [
    "perm([1,2])"
   ]
  },
  {
   "cell_type": "code",
   "execution_count": 313,
   "id": "1dd02b87",
   "metadata": {},
   "outputs": [],
   "source": [
    "x = [[2, 3, 1], [3, 1, 2]]"
   ]
  },
  {
   "cell_type": "code",
   "execution_count": 324,
   "id": "5e4650f0",
   "metadata": {},
   "outputs": [
    {
     "data": {
      "text/plain": [
       "[2, 3, 1, 3, 1, 2]"
      ]
     },
     "execution_count": 324,
     "metadata": {},
     "output_type": "execute_result"
    }
   ],
   "source": [
    "res = []\n",
    "for i in range(len(x)):\n",
    "    res.extend(x[i])\n",
    "res"
   ]
  },
  {
   "cell_type": "code",
   "execution_count": 315,
   "id": "03af6f43",
   "metadata": {},
   "outputs": [
    {
     "data": {
      "text/plain": [
       "[3, 1, 2, 2, 3, 1]"
      ]
     },
     "execution_count": 315,
     "metadata": {},
     "output_type": "execute_result"
    }
   ],
   "source": [
    "x[1] + x[0]"
   ]
  },
  {
   "cell_type": "code",
   "execution_count": 331,
   "id": "affde404",
   "metadata": {},
   "outputs": [],
   "source": [
    "class Solution:\n",
    "    def permute( self, nums) :\n",
    "            result = []\n",
    "            print(nums)\n",
    "            if len(nums) == 1:\n",
    "                print('if')\n",
    "                return [nums[:]]\n",
    "            for i in range(len(nums)):\n",
    "                print('for')\n",
    "                n = nums.pop(0)\n",
    "                print('n: ', n)\n",
    "                perms = self.permute(nums)\n",
    "                print('perms: ', perms)\n",
    "                for perm in perms:\n",
    "                    perm.append(n)\n",
    "                result.extend(perms)\n",
    "                print('result: ', result)\n",
    "                nums.append(n)\n",
    "                print(\"nums: \", nums)\n",
    "                print('end for')\n",
    "            return result\n",
    "s = Solution()"
   ]
  },
  {
   "cell_type": "code",
   "execution_count": 332,
   "id": "e71cb0ea",
   "metadata": {},
   "outputs": [
    {
     "name": "stdout",
     "output_type": "stream",
     "text": [
      "[1, 2, 3]\n",
      "for\n",
      "n:  1\n",
      "[2, 3]\n",
      "for\n",
      "n:  2\n",
      "[3]\n",
      "if\n",
      "perms:  [[3]]\n",
      "result:  [[3, 2]]\n",
      "nums:  [3, 2]\n",
      "end for\n",
      "for\n",
      "n:  3\n",
      "[2]\n",
      "if\n",
      "perms:  [[2]]\n",
      "result:  [[3, 2], [2, 3]]\n",
      "nums:  [2, 3]\n",
      "end for\n",
      "perms:  [[3, 2], [2, 3]]\n",
      "result:  [[3, 2, 1], [2, 3, 1]]\n",
      "nums:  [2, 3, 1]\n",
      "end for\n",
      "for\n",
      "n:  2\n",
      "[3, 1]\n",
      "for\n",
      "n:  3\n",
      "[1]\n",
      "if\n",
      "perms:  [[1]]\n",
      "result:  [[1, 3]]\n",
      "nums:  [1, 3]\n",
      "end for\n",
      "for\n",
      "n:  1\n",
      "[3]\n",
      "if\n",
      "perms:  [[3]]\n",
      "result:  [[1, 3], [3, 1]]\n",
      "nums:  [3, 1]\n",
      "end for\n",
      "perms:  [[1, 3], [3, 1]]\n",
      "result:  [[3, 2, 1], [2, 3, 1], [1, 3, 2], [3, 1, 2]]\n",
      "nums:  [3, 1, 2]\n",
      "end for\n",
      "for\n",
      "n:  3\n",
      "[1, 2]\n",
      "for\n",
      "n:  1\n",
      "[2]\n",
      "if\n",
      "perms:  [[2]]\n",
      "result:  [[2, 1]]\n",
      "nums:  [2, 1]\n",
      "end for\n",
      "for\n",
      "n:  2\n",
      "[1]\n",
      "if\n",
      "perms:  [[1]]\n",
      "result:  [[2, 1], [1, 2]]\n",
      "nums:  [1, 2]\n",
      "end for\n",
      "perms:  [[2, 1], [1, 2]]\n",
      "result:  [[3, 2, 1], [2, 3, 1], [1, 3, 2], [3, 1, 2], [2, 1, 3], [1, 2, 3]]\n",
      "nums:  [1, 2, 3]\n",
      "end for\n"
     ]
    },
    {
     "data": {
      "text/plain": [
       "[[3, 2, 1], [2, 3, 1], [1, 3, 2], [3, 1, 2], [2, 1, 3], [1, 2, 3]]"
      ]
     },
     "execution_count": 332,
     "metadata": {},
     "output_type": "execute_result"
    }
   ],
   "source": [
    "s.permute([1,2,3])"
   ]
  },
  {
   "cell_type": "code",
   "execution_count": null,
   "id": "65dcf5ca",
   "metadata": {},
   "outputs": [],
   "source": []
  }
 ],
 "metadata": {
  "kernelspec": {
   "display_name": "Python 3 (ipykernel)",
   "language": "python",
   "name": "python3"
  },
  "language_info": {
   "codemirror_mode": {
    "name": "ipython",
    "version": 3
   },
   "file_extension": ".py",
   "mimetype": "text/x-python",
   "name": "python",
   "nbconvert_exporter": "python",
   "pygments_lexer": "ipython3",
   "version": "3.8.5"
  }
 },
 "nbformat": 4,
 "nbformat_minor": 5
}
