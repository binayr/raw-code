{
 "cells": [
  {
   "cell_type": "markdown",
   "id": "b17ecd5f",
   "metadata": {},
   "source": [
    "### 26. Divide Two Integers\n",
    "Given two integers dividend and divisor, divide two integers without using multiplication, division, and mod operator.\n",
    "\n",
    "Return the quotient after dividing dividend by divisor.\n",
    "\n",
    "The integer division should truncate toward zero, which means losing its fractional part. For example, truncate(8.345) = 8 and truncate(-2.7335) = -2.\n",
    "\n",
    "Note: Assume we are dealing with an environment that could only store integers within the 32-bit signed integer range: [−231, 231 − 1]. For this problem, assume that your function returns 231 − 1 when the division result overflows.\n",
    "\n",
    "```\n",
    "Example 1:\n",
    "Input: dividend = 10, divisor = 3\n",
    "Output: 3\n",
    "Explanation: 10/3 = truncate(3.33333..) = 3.\n",
    "\n",
    "Example 2:\n",
    "Input: dividend = 7, divisor = -3\n",
    "Output: -2\n",
    "Explanation: 7/-3 = truncate(-2.33333..) = -2.\n",
    "\n",
    "Example 3:\n",
    "Input: dividend = 0, divisor = 1\n",
    "Output: 0\n",
    "\n",
    "Example 4:\n",
    "Input: dividend = 1, divisor = 1\n",
    "Output: 1\n",
    "```"
   ]
  },
  {
   "cell_type": "code",
   "execution_count": 52,
   "id": "24a3daf8",
   "metadata": {},
   "outputs": [],
   "source": [
    "def devide(dividend, divisor):\n",
    "    if dividend == 0: return 0\n",
    "    if divisor == 0: raise Exception(\"Zero division error\")\n",
    "    if not (-2**31 < dividend < 2**31) or not (-2**31 < divisor < 2**31): return 2**31\n",
    "    if (dividend >= 0 and divisor >= 0) or (dividend < 0 and divisor < 0):\n",
    "        sign = '+'\n",
    "    else: sign = '-'\n",
    "    \n",
    "    ans = 0\n",
    "    dividend, divisor = abs(dividend), abs(divisor)\n",
    "    def dev_rec(dividend, divisor, ans):\n",
    "        if dividend < divisor:\n",
    "            return ans\n",
    "\n",
    "        return dev_rec(dividend - divisor, divisor, ans+1)\n",
    "    ans = dev_rec(dividend, divisor, ans)\n",
    "    return int(sign + str(ans))"
   ]
  },
  {
   "cell_type": "code",
   "execution_count": 56,
   "id": "6ddac784",
   "metadata": {},
   "outputs": [
    {
     "data": {
      "text/plain": [
       "3"
      ]
     },
     "execution_count": 56,
     "metadata": {},
     "output_type": "execute_result"
    }
   ],
   "source": [
    "devide(10, 3)"
   ]
  },
  {
   "cell_type": "code",
   "execution_count": 23,
   "id": "fb271fc8",
   "metadata": {},
   "outputs": [
    {
     "data": {
      "text/plain": [
       "4294967296"
      ]
     },
     "execution_count": 23,
     "metadata": {},
     "output_type": "execute_result"
    }
   ],
   "source": [
    "class Solution:\n",
    "    def divide(self, dividend: int, divisor: int) -> int:\n",
    "        if dividend == -2147483648 and divisor == -1:\n",
    "            return 2147483647 # 2^31 - 1\n",
    "        sign = 1\n",
    "        if dividend < 0:\n",
    "            sign = -1\n",
    "            dividend = -dividend\n",
    "        if divisor < 0:\n",
    "            sign *= -1\n",
    "            divisor = -divisor\n",
    "        \n",
    "        def div(a, b):\n",
    "            d = 0\n",
    "            while b <= a:\n",
    "                p = 1\n",
    "                tmp = b\n",
    "                while (tmp << 1) <= a:\n",
    "                    tmp <<= 1\n",
    "                    p <<= 1\n",
    "                d += p\n",
    "                a -= tmp\n",
    "            return d\n",
    "            \n",
    "        \n",
    "        return sign * div(dividend, divisor)"
   ]
  },
  {
   "cell_type": "markdown",
   "id": "418d2989",
   "metadata": {},
   "source": [
    "### Above is to be considered again with bitwise operation\n",
    "https://leetcode.com/problems/divide-two-integers/\n"
   ]
  },
  {
   "cell_type": "markdown",
   "id": "406dc02a",
   "metadata": {},
   "source": [
    "### 27. Remove Duplicates from Sorted Array\n",
    "\n",
    "Given an integer array nums sorted in non-decreasing order, remove the duplicates in-place such that each unique element appears only once. The relative order of the elements should be kept the same.\n",
    "\n",
    "Since it is impossible to change the length of the array in some languages, you must instead have the result be placed in the first part of the array nums. More formally, if there are k elements after removing the duplicates, then the first k elements of nums should hold the final result. It does not matter what you leave beyond the first k elements.\n",
    "\n",
    "Return k after placing the final result in the first k slots of nums.\n",
    "\n",
    "Do not allocate extra space for another array. You must do this by modifying the input array in-place with O(1) extra memory.\n",
    "```\n",
    "Custom Judge:\n",
    "\n",
    "The judge will test your solution with the following code:\n",
    "\n",
    "int[] nums = [...]; // Input array\n",
    "int[] expectedNums = [...]; // The expected answer with correct length\n",
    "\n",
    "int k = removeDuplicates(nums); // Calls your implementation\n",
    "\n",
    "assert k == expectedNums.length;\n",
    "for (int i = 0; i < k; i++) {\n",
    "    assert nums[i] == expectedNums[i];\n",
    "}\n",
    "If all assertions pass, then your solution will be accepted.\n",
    "\n",
    " \n",
    "\n",
    "Example 1:\n",
    "Input: nums = [1,1,2]\n",
    "Output: 2, nums = [1,2,_]\n",
    "Explanation: Your function should return k = 2, with the first two elements of nums being 1 and 2 respectively.\n",
    "It does not matter what you leave beyond the returned k (hence they are underscores).\n",
    "\n",
    "Example 2:\n",
    "Input: nums = [0,0,1,1,1,2,2,3,3,4]\n",
    "Output: 5, nums = [0,1,2,3,4,_,_,_,_,_]\n",
    "Explanation: Your function should return k = 5, with the first five elements of nums being 0, 1, 2, 3, and 4 respectively.\n",
    "It does not matter what you leave beyond the returned k (hence they are underscores).\n",
    "``` "
   ]
  },
  {
   "cell_type": "code",
   "execution_count": 82,
   "id": "d6445f51",
   "metadata": {},
   "outputs": [],
   "source": [
    "class ListNode:\n",
    "    def __init__(self, val=0, next=None):\n",
    "        self.val = val\n",
    "        self.next = next\n",
    "        \n",
    "def traverse_node(head):\n",
    "    \n",
    "    while head:\n",
    "        if head.next:\n",
    "            print(head.val, '----> ', end=\"\")\n",
    "        else:\n",
    "            print(head.val)\n",
    "        head = head.next"
   ]
  },
  {
   "cell_type": "code",
   "execution_count": 83,
   "id": "ea8b296c",
   "metadata": {},
   "outputs": [
    {
     "name": "stdout",
     "output_type": "stream",
     "text": [
      "1 ----> 1 ----> 2\n"
     ]
    }
   ],
   "source": [
    "head = ListNode(1)\n",
    "head.next = ListNode(1)\n",
    "head.next.next = ListNode(2)\n",
    "# head.next.next.next = ListNode(3)\n",
    "# head.next.next.next.next = ListNode(3)\n",
    "traverse_node(head)"
   ]
  },
  {
   "cell_type": "code",
   "execution_count": 84,
   "id": "9649d406",
   "metadata": {},
   "outputs": [],
   "source": [
    "class Solution:\n",
    "    def deleteDuplicates(self, head: ListNode) -> ListNode:\n",
    "        def rem_dup(head):\n",
    "            if not head: return head\n",
    "            if head.next and head.val == head.next.val:\n",
    "                if head.next.next:\n",
    "                    head.next = head.next.next\n",
    "                else:\n",
    "                    head.next = None\n",
    "            else:\n",
    "                head = head.next\n",
    "            return rem_dup(head)\n",
    "        rem_dup(head)\n",
    "        return head"
   ]
  },
  {
   "cell_type": "code",
   "execution_count": 85,
   "id": "5fa53433",
   "metadata": {},
   "outputs": [
    {
     "name": "stdout",
     "output_type": "stream",
     "text": [
      "1 ----> 2\n"
     ]
    }
   ],
   "source": [
    "s = Solution()\n",
    "s.deleteDuplicates(head)\n",
    "traverse_node(head)"
   ]
  },
  {
   "cell_type": "markdown",
   "id": "a3747b44",
   "metadata": {},
   "source": [
    "### 28.Climbing Stairs\n",
    "You are climbing a staircase. It takes n steps to reach the top.\n",
    "\n",
    "Each time you can either climb 1 or 2 steps. In how many distinct ways can you climb to the top?\n",
    "\n",
    " \n",
    "```\n",
    "Example 1:\n",
    "Input: n = 2\n",
    "Output: 2\n",
    "Explanation: There are two ways to climb to the top.\n",
    "1. 1 step + 1 step\n",
    "2. 2 steps\n",
    "\n",
    "Example 2:\n",
    "Input: n = 3\n",
    "Output: 3\n",
    "Explanation: There are three ways to climb to the top.\n",
    "1. 1 step + 1 step + 1 step\n",
    "2. 1 step + 2 steps\n",
    "3. 2 steps + 1 step\n",
    "```"
   ]
  },
  {
   "cell_type": "code",
   "execution_count": 1,
   "id": "57d9dbf0",
   "metadata": {},
   "outputs": [],
   "source": [
    "from functools import lru_cache\n",
    "\n",
    "class Solution:\n",
    "    @lru_cache()\n",
    "    def climbStairs(self, n: int) -> int:\n",
    "        return self.climbStairs(n - 1) + self.climbStairs(n - 2) if n > 2 else 2 if n == 2 else 1"
   ]
  },
  {
   "cell_type": "code",
   "execution_count": null,
   "id": "8c93cda2",
   "metadata": {},
   "outputs": [],
   "source": []
  }
 ],
 "metadata": {
  "kernelspec": {
   "display_name": "Python 3 (ipykernel)",
   "language": "python",
   "name": "python3"
  },
  "language_info": {
   "codemirror_mode": {
    "name": "ipython",
    "version": 3
   },
   "file_extension": ".py",
   "mimetype": "text/x-python",
   "name": "python",
   "nbconvert_exporter": "python",
   "pygments_lexer": "ipython3",
   "version": "3.8.5"
  }
 },
 "nbformat": 4,
 "nbformat_minor": 5
}
