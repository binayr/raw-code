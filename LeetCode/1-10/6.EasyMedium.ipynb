{
 "cells": [
  {
   "cell_type": "markdown",
   "id": "d5be165b",
   "metadata": {},
   "source": [
    "### 24. square root of a number(easy)"
   ]
  },
  {
   "cell_type": "code",
   "execution_count": 105,
   "id": "b972d01a",
   "metadata": {},
   "outputs": [],
   "source": [
    "def mySqrt(x: int) -> int:\n",
    "    if x == 0:\n",
    "        return 0\n",
    "\n",
    "    l = 1\n",
    "    r = x\n",
    "\n",
    "    while l < r - 1:\n",
    "        mid = (l + r) // 2\n",
    "\n",
    "        m2 = mid * mid\n",
    "\n",
    "        if m2 == x:\n",
    "            return mid\n",
    "\n",
    "        if m2 < x:\n",
    "            l = mid\n",
    "\n",
    "        if m2 > x:\n",
    "            r = mid\n",
    "\n",
    "    return l"
   ]
  },
  {
   "cell_type": "code",
   "execution_count": 106,
   "id": "19009d07",
   "metadata": {},
   "outputs": [
    {
     "data": {
      "text/plain": [
       "32"
      ]
     },
     "execution_count": 106,
     "metadata": {},
     "output_type": "execute_result"
    }
   ],
   "source": [
    "mySqrt(1024)"
   ]
  },
  {
   "cell_type": "code",
   "execution_count": 107,
   "id": "dcbdf1a4",
   "metadata": {},
   "outputs": [
    {
     "data": {
      "text/plain": [
       "2"
      ]
     },
     "execution_count": 107,
     "metadata": {},
     "output_type": "execute_result"
    }
   ],
   "source": [
    "mySqrt(4)"
   ]
  },
  {
   "cell_type": "code",
   "execution_count": 108,
   "id": "38abc2c3",
   "metadata": {},
   "outputs": [
    {
     "data": {
      "text/plain": [
       "2"
      ]
     },
     "execution_count": 108,
     "metadata": {},
     "output_type": "execute_result"
    }
   ],
   "source": [
    "mySqrt(8)"
   ]
  },
  {
   "cell_type": "code",
   "execution_count": 109,
   "id": "665f1df3",
   "metadata": {},
   "outputs": [
    {
     "data": {
      "text/plain": [
       "4"
      ]
     },
     "execution_count": 109,
     "metadata": {},
     "output_type": "execute_result"
    }
   ],
   "source": [
    "mySqrt(20)"
   ]
  },
  {
   "cell_type": "code",
   "execution_count": 110,
   "id": "7b12b748",
   "metadata": {},
   "outputs": [
    {
     "data": {
      "text/plain": [
       "1"
      ]
     },
     "execution_count": 110,
     "metadata": {},
     "output_type": "execute_result"
    }
   ],
   "source": [
    "mySqrt(1)"
   ]
  },
  {
   "cell_type": "code",
   "execution_count": 111,
   "id": "724480e2",
   "metadata": {},
   "outputs": [
    {
     "data": {
      "text/plain": [
       "3"
      ]
     },
     "execution_count": 111,
     "metadata": {},
     "output_type": "execute_result"
    }
   ],
   "source": [
    "mySqrt(10)"
   ]
  },
  {
   "cell_type": "code",
   "execution_count": null,
   "id": "50883601",
   "metadata": {},
   "outputs": [],
   "source": []
  },
  {
   "cell_type": "code",
   "execution_count": null,
   "id": "e4cddab0",
   "metadata": {},
   "outputs": [],
   "source": []
  },
  {
   "cell_type": "markdown",
   "id": "59f1708a",
   "metadata": {},
   "source": [
    "### 25. Swap Nodes in Pairs"
   ]
  },
  {
   "cell_type": "code",
   "execution_count": 148,
   "id": "9f63865c",
   "metadata": {},
   "outputs": [],
   "source": [
    "# Definition for singly-linked list.\n",
    "class ListNode:\n",
    "    def __init__(self, val=0, next=None):\n",
    "        self.val = val\n",
    "        self.next = next\n",
    "    def __repr__(self):\n",
    "        return str(self.val)\n",
    "        \n",
    "def traverse_node(head):    \n",
    "    while head:\n",
    "        if head.next:\n",
    "            print(head.val, '----> ', end=\"\")\n",
    "        else:\n",
    "            print(head.val)\n",
    "        head = head.next\n",
    "\n",
    "\n",
    "class Solution:\n",
    "    def swapPairs(self, head: ListNode) -> ListNode:\n",
    "        def swap(head):\n",
    "            # cannot find a pair\n",
    "            if not head or not head.next:\n",
    "                return head\n",
    "            _next = head.next.next\n",
    "            # head of reversed pair\n",
    "            reversed_head = head.next\n",
    "            head.next.next = head\n",
    "            # point to head of next reversed pair\n",
    "            head.next = swap(_next)\n",
    "            \n",
    "            return reversed_head\n",
    "        \n",
    "        return swap(head)\n",
    "        "
   ]
  },
  {
   "cell_type": "code",
   "execution_count": 149,
   "id": "13fb110e",
   "metadata": {},
   "outputs": [
    {
     "name": "stdout",
     "output_type": "stream",
     "text": [
      "1 ----> 2 ----> 3 ----> 4 ----> 5 ----> 6\n"
     ]
    }
   ],
   "source": [
    "head = ListNode(1)\n",
    "head.next = ListNode(2)\n",
    "head.next.next = ListNode(3)\n",
    "head.next.next.next = ListNode(4)\n",
    "head.next.next.next.next = ListNode(5)\n",
    "head.next.next.next.next.next = ListNode(6)\n",
    "traverse_node(head)"
   ]
  },
  {
   "cell_type": "code",
   "execution_count": 150,
   "id": "8abaa657",
   "metadata": {},
   "outputs": [
    {
     "name": "stdout",
     "output_type": "stream",
     "text": [
      "2 ----> 1 ----> 4 ----> 3 ----> 6 ----> 5\n"
     ]
    }
   ],
   "source": [
    "s = Solution()\n",
    "traverse_node(s.swapPairs(head))"
   ]
  },
  {
   "cell_type": "code",
   "execution_count": 127,
   "id": "f144a300",
   "metadata": {},
   "outputs": [
    {
     "data": {
      "text/plain": [
       "(3, 2)"
      ]
     },
     "execution_count": 127,
     "metadata": {},
     "output_type": "execute_result"
    }
   ],
   "source": [
    "p1, p2 = p2, p1\n",
    "p1, p2"
   ]
  },
  {
   "cell_type": "code",
   "execution_count": 128,
   "id": "e2234b77",
   "metadata": {},
   "outputs": [
    {
     "name": "stdout",
     "output_type": "stream",
     "text": [
      "1 ----> 2 ----> 3 ----> 4 ----> 5 ----> 6\n"
     ]
    }
   ],
   "source": [
    "traverse_node(head)"
   ]
  },
  {
   "cell_type": "code",
   "execution_count": null,
   "id": "716c0eb1",
   "metadata": {},
   "outputs": [],
   "source": []
  }
 ],
 "metadata": {
  "kernelspec": {
   "display_name": "Python 3 (ipykernel)",
   "language": "python",
   "name": "python3"
  },
  "language_info": {
   "codemirror_mode": {
    "name": "ipython",
    "version": 3
   },
   "file_extension": ".py",
   "mimetype": "text/x-python",
   "name": "python",
   "nbconvert_exporter": "python",
   "pygments_lexer": "ipython3",
   "version": "3.8.5"
  }
 },
 "nbformat": 4,
 "nbformat_minor": 5
}
