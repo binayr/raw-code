{
 "cells": [
  {
   "cell_type": "markdown",
   "id": "98964879",
   "metadata": {},
   "source": [
    "### 20. Int to Roman"
   ]
  },
  {
   "cell_type": "code",
   "execution_count": 1,
   "id": "7e894f77",
   "metadata": {},
   "outputs": [],
   "source": [
    "def int_to_roman(num):\n",
    "    out = []\n",
    "    nums = list(map(int, list(str(num))))\n",
    "    n = len(nums) - 1\n",
    "    for i in nums:\n",
    "        out.append(i * 10**n)\n",
    "        n -= 1\n",
    "    mapper = {\n",
    "        1: \"I\", 2: \"II\", 3:\"III\",\n",
    "        4: \"IV\", 5: \"V\", 6: \"VI\", 7:\"VII\", 8: \"VIII\",\n",
    "        9: \"IX\", 10: \"X\", 20: \"XX\", 30: \"XXX\",\n",
    "        40: \"XL\", 50: \"L\", 60: \"LX\", 70:\"LXX\", 80: \"LXXX\",\n",
    "        90: \"XC\", 100: \"C\", 200: \"CC\", 300:\"CCC\",\n",
    "        400: \"CD\", 500: \"D\", 600: \"DC\", 700:\"DCC\", 800: \"DCCC\",\n",
    "        900: \"CM\", 1000: \"M\"\n",
    "    }\n",
    "    result = []\n",
    "    for i in out:\n",
    "        if i in mapper: result.append(mapper[i])\n",
    "        if i > 1000 and not i % 1000: result.append((i//1000)*'M')\n",
    "    return \"\".join(result)\n",
    "    "
   ]
  },
  {
   "cell_type": "code",
   "execution_count": 2,
   "id": "e3151407",
   "metadata": {},
   "outputs": [
    {
     "data": {
      "text/plain": [
       "'I'"
      ]
     },
     "execution_count": 2,
     "metadata": {},
     "output_type": "execute_result"
    }
   ],
   "source": [
    "int_to_roman(1)"
   ]
  },
  {
   "cell_type": "code",
   "execution_count": 3,
   "id": "9a3ad84f",
   "metadata": {},
   "outputs": [
    {
     "data": {
      "text/plain": [
       "'III'"
      ]
     },
     "execution_count": 3,
     "metadata": {},
     "output_type": "execute_result"
    }
   ],
   "source": [
    "int_to_roman(3)"
   ]
  },
  {
   "cell_type": "code",
   "execution_count": 4,
   "id": "fdbb4e7c",
   "metadata": {},
   "outputs": [
    {
     "data": {
      "text/plain": [
       "'IV'"
      ]
     },
     "execution_count": 4,
     "metadata": {},
     "output_type": "execute_result"
    }
   ],
   "source": [
    "int_to_roman(4)"
   ]
  },
  {
   "cell_type": "code",
   "execution_count": 5,
   "id": "9f88fbce",
   "metadata": {},
   "outputs": [
    {
     "data": {
      "text/plain": [
       "'IX'"
      ]
     },
     "execution_count": 5,
     "metadata": {},
     "output_type": "execute_result"
    }
   ],
   "source": [
    "int_to_roman(9)"
   ]
  },
  {
   "cell_type": "code",
   "execution_count": 6,
   "id": "8b8228fb",
   "metadata": {},
   "outputs": [
    {
     "data": {
      "text/plain": [
       "'LVIII'"
      ]
     },
     "execution_count": 6,
     "metadata": {},
     "output_type": "execute_result"
    }
   ],
   "source": [
    "int_to_roman(58)"
   ]
  },
  {
   "cell_type": "code",
   "execution_count": 7,
   "id": "ca0c3dcc",
   "metadata": {},
   "outputs": [
    {
     "data": {
      "text/plain": [
       "'MCMXCIV'"
      ]
     },
     "execution_count": 7,
     "metadata": {},
     "output_type": "execute_result"
    }
   ],
   "source": [
    "int_to_roman(1994) #MCMXCIV"
   ]
  },
  {
   "cell_type": "markdown",
   "id": "39d1a01a",
   "metadata": {},
   "source": [
    "faster than 60% \n",
    "\n",
    "---"
   ]
  },
  {
   "cell_type": "code",
   "execution_count": null,
   "id": "122fed9f",
   "metadata": {},
   "outputs": [],
   "source": []
  },
  {
   "cell_type": "markdown",
   "id": "2c75643b",
   "metadata": {},
   "source": [
    "### 21. Container With Most Water\n",
    "Given n non-negative integers a1, a2, ..., an , where each represents a point at coordinate (i, ai). n vertical lines are drawn such that the two endpoints of the line i is at (i, ai) and (i, 0). Find two lines, which, together with the x-axis forms a container, such that the container contains the most water.\n",
    "\n",
    "Notice that you may not slant the container.\n",
    "```\n",
    "Example 1:\n",
    "```\n",
    "![title](https://s3-lc-upload.s3.amazonaws.com/uploads/2018/07/17/question_11.jpg)\n",
    "```\n",
    "Input: height = [1,8,6,2,5,4,8,3,7]\n",
    "Output: 49\n",
    "Explanation: The above vertical lines are represented by array [1,8,6,2,5,4,8,3,7]. In this case, the max area of water (blue section) the container can contain is 49.\n",
    "\n",
    "\n",
    "Example 2:\n",
    "Input: height = [1,1]\n",
    "Output: 1\n",
    "\n",
    "\n",
    "Example 3:\n",
    "Input: height = [4,3,2,1,4]\n",
    "Output: 16\n",
    "\n",
    "\n",
    "Example 4:\n",
    "Input: height = [1,2,1]\n",
    "Output: 2\n",
    " \n",
    "\n",
    "Constraints:\n",
    "n == height.length\n",
    "2 <= n <= 105\n",
    "0 <= height[i] <= 104\n",
    "```"
   ]
  },
  {
   "cell_type": "code",
   "execution_count": 8,
   "id": "d75fbe7b",
   "metadata": {},
   "outputs": [],
   "source": [
    "def maxArea(height: list) -> int:\n",
    "    max_window = 0\n",
    "    start = 0\n",
    "    end = len(height) - 1\n",
    "    \n",
    "    while start != end:\n",
    "        max_window = max(max_window, (end-start)*(min(height[start], height[end])))\n",
    "        if height[start] < height[end]:\n",
    "            start +=1\n",
    "        else:\n",
    "            end -=1\n",
    "            \n",
    "    return max_window\n",
    "        "
   ]
  },
  {
   "cell_type": "code",
   "execution_count": 9,
   "id": "c9c65105",
   "metadata": {},
   "outputs": [
    {
     "data": {
      "text/plain": [
       "49"
      ]
     },
     "execution_count": 9,
     "metadata": {},
     "output_type": "execute_result"
    }
   ],
   "source": [
    "height = [1,8,6,2,5,4,8,3,7]\n",
    "maxArea(height)"
   ]
  },
  {
   "cell_type": "code",
   "execution_count": 10,
   "id": "c959e5bc",
   "metadata": {},
   "outputs": [
    {
     "data": {
      "text/plain": [
       "1"
      ]
     },
     "execution_count": 10,
     "metadata": {},
     "output_type": "execute_result"
    }
   ],
   "source": [
    "height = [1,1]\n",
    "maxArea(height)"
   ]
  },
  {
   "cell_type": "code",
   "execution_count": 11,
   "id": "f57a9eaf",
   "metadata": {},
   "outputs": [
    {
     "data": {
      "text/plain": [
       "2"
      ]
     },
     "execution_count": 11,
     "metadata": {},
     "output_type": "execute_result"
    }
   ],
   "source": [
    "height = [1,2,1]\n",
    "maxArea(height)"
   ]
  },
  {
   "cell_type": "code",
   "execution_count": 12,
   "id": "580f71c7",
   "metadata": {},
   "outputs": [
    {
     "data": {
      "text/plain": [
       "16"
      ]
     },
     "execution_count": 12,
     "metadata": {},
     "output_type": "execute_result"
    }
   ],
   "source": [
    "height = [4,3,2,1,4]\n",
    "maxArea(height)"
   ]
  },
  {
   "cell_type": "markdown",
   "id": "229baa9b",
   "metadata": {},
   "source": [
    "faster tha 75%\n",
    "\n",
    "---"
   ]
  },
  {
   "cell_type": "markdown",
   "id": "3f117a11",
   "metadata": {},
   "source": [
    "### 22. Letter Combinations of a Phone Number\n",
    "Given a string containing digits from 2-9 inclusive, return all possible letter combinations that the number could represent. Return the answer in any order.\n",
    "\n",
    "A mapping of digit to letters (just like on the telephone buttons) is given below. Note that 1 does not map to any letters.\n",
    "\n",
    "![title](https://upload.wikimedia.org/wikipedia/commons/thumb/7/73/Telephone-keypad2.svg/200px-Telephone-keypad2.svg.png)\n",
    "```\n",
    "Example 1:\n",
    "Input: digits = \"23\"\n",
    "Output: [\"ad\",\"ae\",\"af\",\"bd\",\"be\",\"bf\",\"cd\",\"ce\",\"cf\"]\n",
    "\n",
    "Example 2:\n",
    "Input: digits = \"\"\n",
    "Output: []\n",
    "\n",
    "Example 3:\n",
    "Input: digits = \"2\"\n",
    "Output: [\"a\",\"b\",\"c\"]\n",
    "```"
   ]
  },
  {
   "cell_type": "code",
   "execution_count": null,
   "id": "884014cf",
   "metadata": {},
   "outputs": [],
   "source": []
  },
  {
   "cell_type": "code",
   "execution_count": null,
   "id": "aca602c5",
   "metadata": {},
   "outputs": [],
   "source": []
  },
  {
   "cell_type": "code",
   "execution_count": null,
   "id": "a50f3a0a",
   "metadata": {},
   "outputs": [],
   "source": []
  },
  {
   "cell_type": "code",
   "execution_count": 174,
   "id": "74a6ee66",
   "metadata": {},
   "outputs": [],
   "source": [
    "class Solution:\n",
    "    \n",
    "    \n",
    "    def letterCombinations(self, digits: str) -> list:\n",
    "        if not digits: return []\n",
    "        __mapper = {\n",
    "            \"2\": ['a', 'b', 'c'],\n",
    "            \"3\": ['d', 'e', 'f'],\n",
    "            \"4\": ['g', 'h', 'i'],\n",
    "            \"5\": ['j', 'k', 'l'],\n",
    "            \"6\": ['m', 'n', 'o'],\n",
    "            \"7\": ['p', 'q', 'r', 's'],\n",
    "            \"8\": ['t', 'u', 'v'],\n",
    "            \"9\": ['w', 'x', 'y', 'z']\n",
    "        }\n",
    "        self.count = len(digits)\n",
    "        #print(digits, self.count)\n",
    "        l = [__mapper[i] for i in digits][::-1]\n",
    "        #print(l)\n",
    "        x = self.get_comb(l[1:], l[0])\n",
    "        #print(x)\n",
    "        out = [i for i in x if len(i) == self.count]\n",
    "        #print(out)\n",
    "        del l \n",
    "        return out\n",
    "\n",
    "    def get_comb(self, l, res=[]):\n",
    "        if not l:\n",
    "            return res\n",
    "        \n",
    "        temp = []\n",
    "        print(\"-----\")\n",
    "        print(l[0])\n",
    "        for i in l[0]:\n",
    "            for j in res:\n",
    "                if i+j not in res: temp.append(i+j)\n",
    "        res = temp\n",
    "        print(res)\n",
    "        return self.get_comb(l[1:], res)"
   ]
  },
  {
   "cell_type": "code",
   "execution_count": 175,
   "id": "10bd6511",
   "metadata": {},
   "outputs": [
    {
     "name": "stdout",
     "output_type": "stream",
     "text": [
      "-----\n",
      "['a', 'b', 'c']\n",
      "['ad', 'ae', 'af', 'bd', 'be', 'bf', 'cd', 'ce', 'cf']\n"
     ]
    },
    {
     "data": {
      "text/plain": [
       "['ad', 'ae', 'af', 'bd', 'be', 'bf', 'cd', 'ce', 'cf']"
      ]
     },
     "execution_count": 175,
     "metadata": {},
     "output_type": "execute_result"
    }
   ],
   "source": [
    "s = Solution()\n",
    "s.letterCombinations(\"23\")"
   ]
  },
  {
   "cell_type": "code",
   "execution_count": 176,
   "id": "bb93de7d",
   "metadata": {},
   "outputs": [
    {
     "name": "stdout",
     "output_type": "stream",
     "text": [
      "-----\n",
      "['a', 'b', 'c']\n",
      "['ad', 'ae', 'af', 'bd', 'be', 'bf', 'cd', 'ce', 'cf']\n"
     ]
    },
    {
     "data": {
      "text/plain": [
       "['ad', 'ae', 'af', 'bd', 'be', 'bf', 'cd', 'ce', 'cf']"
      ]
     },
     "execution_count": 176,
     "metadata": {},
     "output_type": "execute_result"
    }
   ],
   "source": [
    "s = Solution()\n",
    "s.letterCombinations(\"23\")"
   ]
  },
  {
   "cell_type": "code",
   "execution_count": 177,
   "id": "151b5141",
   "metadata": {},
   "outputs": [
    {
     "name": "stdout",
     "output_type": "stream",
     "text": [
      "-----\n",
      "['d', 'e', 'f']\n",
      "['dd', 'de', 'df', 'ed', 'ee', 'ef', 'fd', 'fe', 'ff']\n",
      "-----\n",
      "['d', 'e', 'f']\n",
      "['ddd', 'dde', 'ddf', 'ded', 'dee', 'def', 'dfd', 'dfe', 'dff', 'edd', 'ede', 'edf', 'eed', 'eee', 'eef', 'efd', 'efe', 'eff', 'fdd', 'fde', 'fdf', 'fed', 'fee', 'fef', 'ffd', 'ffe', 'fff']\n"
     ]
    },
    {
     "data": {
      "text/plain": [
       "27"
      ]
     },
     "execution_count": 177,
     "metadata": {},
     "output_type": "execute_result"
    }
   ],
   "source": [
    "s = Solution()\n",
    "len(s.letterCombinations(\"333\"))"
   ]
  },
  {
   "cell_type": "markdown",
   "id": "8e242fd9",
   "metadata": {},
   "source": [
    "65% faster\n",
    "\n",
    "---"
   ]
  },
  {
   "cell_type": "markdown",
   "id": "561cd85b",
   "metadata": {},
   "source": [
    "### 23. remove nth node from the end of the list\n",
    "\n",
    "Given the head of a linked list, remove the nth node from the end of the list and return its head.\n",
    "\n",
    "![title](https://assets.leetcode.com/uploads/2020/10/03/remove_ex1.jpg)\n",
    "```\n",
    "Example 1:\n",
    "Input: head = [1,2,3,4,5], n = 2\n",
    "Output: [1,2,3,5]\n",
    "\n",
    "Example 2:\n",
    "Input: head = [1], n = 1\n",
    "Output: []\n",
    "\n",
    "Example 3:\n",
    "Input: head = [1,2], n = 1\n",
    "Output: [1]\n",
    "```"
   ]
  },
  {
   "cell_type": "code",
   "execution_count": 249,
   "id": "899c07fe",
   "metadata": {},
   "outputs": [],
   "source": [
    "# Definition for singly-linked list.\n",
    "class ListNode:\n",
    "    def __init__(self, val=0, next=None):\n",
    "        self.val = val\n",
    "        self.next = next\n",
    "        \n",
    "def traverse_node(head):    \n",
    "    while head:\n",
    "        if head.next:\n",
    "            print(head.val, '----> ', end=\"\")\n",
    "        else:\n",
    "            print(head.val)\n",
    "        head = head.next\n",
    "\n",
    "\n",
    "class Solution:\n",
    "    def removeNthFromEnd(self, head: ListNode, n: int) -> ListNode:\n",
    "        if n >= 1 and not head.next: return None\n",
    "        count = 1\n",
    "        tail = head\n",
    "        \n",
    "        while True:\n",
    "            if tail.next:\n",
    "                count +=1\n",
    "                tail = tail.next\n",
    "            else:\n",
    "                break\n",
    "        \n",
    "        tail = head\n",
    "        if count != n:\n",
    "            for i in range(count - n - 1):\n",
    "                tail = tail.next\n",
    "            else:\n",
    "                tail.next = tail.next.next\n",
    "        else:\n",
    "            head = head.next\n",
    "        return head\n",
    "                "
   ]
  },
  {
   "cell_type": "code",
   "execution_count": 250,
   "id": "78fd8c81",
   "metadata": {},
   "outputs": [
    {
     "name": "stdout",
     "output_type": "stream",
     "text": [
      "1 ----> 2\n",
      "2\n"
     ]
    }
   ],
   "source": [
    "head = [1,2]\n",
    "n = 2\n",
    "head = ListNode(1)\n",
    "head.next = ListNode(2)\n",
    "\n",
    "traverse_node(head)\n",
    "s = Solution()\n",
    "traverse_node(s.removeNthFromEnd(head, 2))"
   ]
  },
  {
   "cell_type": "code",
   "execution_count": 238,
   "id": "edc6a2c2",
   "metadata": {},
   "outputs": [
    {
     "name": "stdout",
     "output_type": "stream",
     "text": [
      "1 ----> 2 ----> 3 ----> 4 ----> 5\n",
      "fail 1\n",
      "1\n",
      "fail 2\n",
      "2\n",
      "fail 3\n",
      "3\n",
      "fail 4\n",
      "4\n",
      "hit\n",
      "5\n",
      "5 3\n",
      "for\n",
      "2\n",
      "2\n",
      "1 ----> 2 ----> 4 ----> 5\n"
     ]
    }
   ],
   "source": [
    "head = [1,2,3,4,5]\n",
    "n = 2\n",
    "head = ListNode(1)\n",
    "head.next = ListNode(2)\n",
    "head.next.next = ListNode(3)\n",
    "head.next.next.next = ListNode(4)\n",
    "head.next.next.next.next = ListNode(5)\n",
    "\n",
    "traverse_node(head)\n",
    "s = Solution()\n",
    "traverse_node(s.removeNthFromEnd(head, 3))"
   ]
  },
  {
   "cell_type": "code",
   "execution_count": 241,
   "id": "677b8a42",
   "metadata": {},
   "outputs": [
    {
     "name": "stdout",
     "output_type": "stream",
     "text": [
      "1 ----> 2 ----> 3 ----> 4 ----> 5\n",
      "fail 1\n",
      "1\n",
      "fail 2\n",
      "2\n",
      "fail 3\n",
      "3\n",
      "fail 4\n",
      "4\n",
      "hit\n",
      "5\n",
      "5 1\n",
      "for\n",
      "2\n",
      "3\n",
      "4\n",
      "4\n",
      "1 ----> 2 ----> 3 ----> 4\n"
     ]
    }
   ],
   "source": [
    "head = [1,2,3,4,5]\n",
    "n = 2\n",
    "head = ListNode(1)\n",
    "head.next = ListNode(2)\n",
    "head.next.next = ListNode(3)\n",
    "head.next.next.next = ListNode(4)\n",
    "head.next.next.next.next = ListNode(5)\n",
    "\n",
    "traverse_node(head)\n",
    "s = Solution()\n",
    "traverse_node(s.removeNthFromEnd(head, 1))"
   ]
  },
  {
   "cell_type": "code",
   "execution_count": 244,
   "id": "cccfb81d",
   "metadata": {},
   "outputs": [
    {
     "data": {
      "text/plain": [
       "[]"
      ]
     },
     "execution_count": 244,
     "metadata": {},
     "output_type": "execute_result"
    }
   ],
   "source": [
    "list(range(-1))"
   ]
  },
  {
   "cell_type": "code",
   "execution_count": null,
   "id": "58f55b91",
   "metadata": {},
   "outputs": [],
   "source": []
  }
 ],
 "metadata": {
  "kernelspec": {
   "display_name": "Python 3 (ipykernel)",
   "language": "python",
   "name": "python3"
  },
  "language_info": {
   "codemirror_mode": {
    "name": "ipython",
    "version": 3
   },
   "file_extension": ".py",
   "mimetype": "text/x-python",
   "name": "python",
   "nbconvert_exporter": "python",
   "pygments_lexer": "ipython3",
   "version": "3.8.5"
  }
 },
 "nbformat": 4,
 "nbformat_minor": 5
}
