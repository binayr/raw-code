{
 "cells": [
  {
   "cell_type": "markdown",
   "id": "4de2b688",
   "metadata": {},
   "source": [
    "### 16. Add 2 Numbers\n",
    "\n",
    "You are given two non-empty linked lists representing two non-negative integers. The digits are stored in reverse order, and each of their nodes contains a single digit. Add the two numbers and return the sum as a linked list.\n",
    "\n",
    "You may assume the two numbers do not contain any leading zero, except the number 0 itself.\n",
    "```\n",
    "Example 1:\n",
    "Input: l1 = [2,4,3], l2 = [5,6,4]\n",
    "Output: [7,0,8]\n",
    "Explanation: 342 + 465 = 807.\n",
    "\n",
    "Example 2:\n",
    "Input: l1 = [0], l2 = [0]\n",
    "Output: [0]\n",
    "\n",
    "Example 3:\n",
    "Input: l1 = [9,9,9,9,9,9,9], l2 = [9,9,9,9]\n",
    "Output: [8,9,9,9,0,0,0,1]\n",
    "```"
   ]
  },
  {
   "cell_type": "code",
   "execution_count": 33,
   "id": "af51ee6e",
   "metadata": {},
   "outputs": [],
   "source": [
    "class ListNode:\n",
    "    def __init__(self, val=0, next=None):\n",
    "        self.val = val\n",
    "        self.next = next\n",
    "        \n",
    "def addTwoNumbers(l1: ListNode, l2: ListNode) -> ListNode:\n",
    "    head = tail = ListNode(0)\n",
    "    carry = 0\n",
    "    while l1 or l2:\n",
    "        if l1 and l2:\n",
    "            su = l1.val + l2.val + carry\n",
    "            l1 = l1.next\n",
    "            l2 = l2.next\n",
    "        elif l1 and not l2:\n",
    "            su = l1.val + 0 + carry\n",
    "            l1 = l1.next\n",
    "        elif not l1 and  l2:\n",
    "            su = 0 + l2.val + carry\n",
    "            l2 = l2.next\n",
    "        if su >= 10:\n",
    "            val = su % 10\n",
    "            carry = su // 10\n",
    "        else:\n",
    "            val = su\n",
    "            carry = 0\n",
    "        tail.next = ListNode(val)\n",
    "        tail = tail.next\n",
    "    else:\n",
    "        if carry: tail.next = ListNode(carry)\n",
    "    return head.next\n",
    "\n",
    "def traverse_node(head):\n",
    "    while head:\n",
    "        if head.next:\n",
    "            print(head.val, '----> ', end=\"\")\n",
    "        else:\n",
    "            print(head.val)\n",
    "        head = head.next\n",
    "        "
   ]
  },
  {
   "cell_type": "code",
   "execution_count": 34,
   "id": "6d46dc33",
   "metadata": {},
   "outputs": [
    {
     "name": "stdout",
     "output_type": "stream",
     "text": [
      "2 ----> 4 ----> 3\n",
      "5 ----> 6 ----> 4\n",
      "7 ----> 0 ----> 8\n"
     ]
    }
   ],
   "source": [
    "l1 = ListNode(2)\n",
    "l1.next = ListNode(4)\n",
    "l1.next.next = ListNode(3)\n",
    "traverse_node(l1)\n",
    "\n",
    "l2 = ListNode(5)\n",
    "l2.next = ListNode(6)\n",
    "l2.next.next = ListNode(4)\n",
    "traverse_node(l2)\n",
    "\n",
    "head = addTwoNumbers(l1, l2)\n",
    "traverse_node(head)"
   ]
  },
  {
   "cell_type": "code",
   "execution_count": 35,
   "id": "915cb470",
   "metadata": {},
   "outputs": [
    {
     "name": "stdout",
     "output_type": "stream",
     "text": [
      "0\n",
      "0\n",
      "0\n"
     ]
    }
   ],
   "source": [
    "l1 = ListNode(0)\n",
    "#l1.next = ListNode(4)\n",
    "#l1.next.next = ListNode(3)\n",
    "traverse_node(l1)\n",
    "\n",
    "l2 = ListNode(0)\n",
    "#l2.next = ListNode(6)\n",
    "#l2.next.next = ListNode(4)\n",
    "traverse_node(l2)\n",
    "\n",
    "head = addTwoNumbers(l1, l2)\n",
    "traverse_node(head)"
   ]
  },
  {
   "cell_type": "code",
   "execution_count": 36,
   "id": "650a10de",
   "metadata": {},
   "outputs": [
    {
     "name": "stdout",
     "output_type": "stream",
     "text": [
      "9 ----> 9 ----> 9 ----> 9 ----> 9 ----> 9\n",
      "9 ----> 9 ----> 9\n",
      "8 ----> 9 ----> 9 ----> 0 ----> 0 ----> 0 ----> 1\n"
     ]
    }
   ],
   "source": [
    "l1 = ListNode(9)\n",
    "l1.next = ListNode(9)\n",
    "l1.next.next = ListNode(9)\n",
    "l1.next.next.next = ListNode(9)\n",
    "l1.next.next.next.next = ListNode(9)\n",
    "l1.next.next.next.next.next = ListNode(9)\n",
    "traverse_node(l1)\n",
    "\n",
    "l2 = ListNode(9)\n",
    "l2.next = ListNode(9)\n",
    "l2.next.next = ListNode(9)\n",
    "traverse_node(l2)\n",
    "\n",
    "head = addTwoNumbers(l1, l2)\n",
    "traverse_node(head)"
   ]
  },
  {
   "cell_type": "markdown",
   "id": "4ecd753f",
   "metadata": {},
   "source": [
    "77% faster\n",
    "\n",
    "---"
   ]
  },
  {
   "cell_type": "markdown",
   "id": "2281ce30",
   "metadata": {},
   "source": [
    "### 17.Longest Substring Without Repeating Characters\n",
    "\n",
    "Given a string s, find the length of the longest substring without repeating characters.\n",
    "\n",
    " \n",
    "```\n",
    "Example 1:\n",
    "Input: s = \"abcabcbb\"\n",
    "Output: 3\n",
    "Explanation: The answer is \"abc\", with the length of 3.\n",
    "\n",
    "Example 2:\n",
    "Input: s = \"bbbbb\"\n",
    "Output: 1\n",
    "Explanation: The answer is \"b\", with the length of 1.\n",
    "\n",
    "Example 3:\n",
    "Input: s = \"pwwkew\"\n",
    "Output: 3\n",
    "Explanation: The answer is \"wke\", with the length of 3.\n",
    "Notice that the answer must be a substring, \"pwke\" is a subsequence and not a substring.\n",
    "\n",
    "Example 4:\n",
    "Input: s = \"\"\n",
    "Output: 0\n",
    "```"
   ]
  },
  {
   "cell_type": "code",
   "execution_count": 51,
   "id": "8c43662d",
   "metadata": {},
   "outputs": [],
   "source": [
    "def lengthOfLongestSubstring(s: str) -> int:\n",
    "    count, curr = 0, 0\n",
    "    for i in range(len(s)):\n",
    "        curr = count_subs(s[i:])\n",
    "        if curr > count: count = curr\n",
    "    return count\n",
    "    \n",
    "def count_subs(s): \n",
    "    checker = []\n",
    "    for i in s:\n",
    "        if i in checker:\n",
    "            return len(checker)\n",
    "        else:\n",
    "            checker.append(i)\n",
    "    return len(checker)"
   ]
  },
  {
   "cell_type": "code",
   "execution_count": 89,
   "id": "a41d686c",
   "metadata": {},
   "outputs": [
    {
     "data": {
      "text/plain": [
       "3"
      ]
     },
     "execution_count": 89,
     "metadata": {},
     "output_type": "execute_result"
    }
   ],
   "source": [
    "s = \"abcabcbb\"\n",
    "lengthOfLongestSubstring(s)"
   ]
  },
  {
   "cell_type": "code",
   "execution_count": 90,
   "id": "d8a6804f",
   "metadata": {},
   "outputs": [
    {
     "data": {
      "text/plain": [
       "1"
      ]
     },
     "execution_count": 90,
     "metadata": {},
     "output_type": "execute_result"
    }
   ],
   "source": [
    "s = \"bbbbb\"\n",
    "lengthOfLongestSubstring(s)"
   ]
  },
  {
   "cell_type": "code",
   "execution_count": 91,
   "id": "d7e06e4d",
   "metadata": {},
   "outputs": [
    {
     "data": {
      "text/plain": [
       "3"
      ]
     },
     "execution_count": 91,
     "metadata": {},
     "output_type": "execute_result"
    }
   ],
   "source": [
    "s = \"pwwkew\"\n",
    "lengthOfLongestSubstring(s)"
   ]
  },
  {
   "cell_type": "code",
   "execution_count": 99,
   "id": "bf874f7f",
   "metadata": {},
   "outputs": [
    {
     "data": {
      "text/plain": [
       "1"
      ]
     },
     "execution_count": 99,
     "metadata": {},
     "output_type": "execute_result"
    }
   ],
   "source": [
    "s = \" \"\n",
    "lengthOfLongestSubstring(s)"
   ]
  },
  {
   "cell_type": "code",
   "execution_count": 100,
   "id": "36a2a725",
   "metadata": {},
   "outputs": [
    {
     "data": {
      "text/plain": [
       "3"
      ]
     },
     "execution_count": 100,
     "metadata": {},
     "output_type": "execute_result"
    }
   ],
   "source": [
    "s = \"dvdf\"\n",
    "lengthOfLongestSubstring(s)"
   ]
  },
  {
   "cell_type": "markdown",
   "id": "859fcde4",
   "metadata": {},
   "source": [
    "1500ms\n",
    "\n",
    "---"
   ]
  },
  {
   "cell_type": "code",
   "execution_count": 97,
   "id": "40894eb9",
   "metadata": {},
   "outputs": [],
   "source": [
    "def lengthOfLongestSubstring(s: str) -> int:\n",
    "    if not len(s): return 0\n",
    "    if len(s) == 1: return 1\n",
    "    count = 0\n",
    "    i = j = 0\n",
    "    mapper = {s[0]: 1}\n",
    "    while j+1 < len(s):\n",
    "        if s[j+1] not in mapper or mapper[s[j+1]] == 0:\n",
    "            j +=1\n",
    "            mapper[s[j]] = 1\n",
    "            count = max(count, j-i+1)\n",
    "        else:\n",
    "            mapper[s[i]] -= 1\n",
    "            i +=1\n",
    "    return count"
   ]
  },
  {
   "cell_type": "markdown",
   "id": "0c41de2a",
   "metadata": {},
   "source": [
    "84 ms 37% faster\n",
    "\n",
    "---"
   ]
  },
  {
   "cell_type": "code",
   "execution_count": 101,
   "id": "f73ece2f",
   "metadata": {},
   "outputs": [],
   "source": [
    "class Solution:\n",
    "    def lengthOfLongestSubstring(self, s: str) -> int:\n",
    "        if len(s) == 0: return 0\n",
    "        start = 0\n",
    "        characters = {}\n",
    "        longest = 0\n",
    "        for end in range(len(s)):\n",
    "            current = s[end]\n",
    "            if current not in characters:\n",
    "                characters[current] = end\n",
    "            else:\n",
    "                current_idx = characters[current]\n",
    "                while start <= current_idx:\n",
    "                    del characters[s[start]]\n",
    "                    start += 1\n",
    "                characters[current] = end\n",
    "            longest = max(longest, end-start+1)\n",
    "        return longest"
   ]
  },
  {
   "cell_type": "markdown",
   "id": "cf952f5d",
   "metadata": {},
   "source": [
    "100% faster To be examined\n",
    "\n",
    "---"
   ]
  },
  {
   "cell_type": "markdown",
   "id": "f4e0e8c2",
   "metadata": {},
   "source": [
    "### 18. Longest Palindromic Substring\n",
    "\n",
    "Given a string s, return the longest palindromic substring in s.\n",
    "\n",
    " \n",
    "```\n",
    "Example 1:\n",
    "Input: s = \"babad\"\n",
    "Output: \"bab\"\n",
    "Note: \"aba\" is also a valid answer.\n",
    "\n",
    "Example 2:\n",
    "Input: s = \"cbbd\"\n",
    "Output: \"bb\"\n",
    "\n",
    "Example 3:\n",
    "Input: s = \"a\"\n",
    "Output: \"a\"\n",
    "\n",
    "Example 4:\n",
    "Input: s = \"ac\"\n",
    "Output: \"a\"\n",
    "```"
   ]
  },
  {
   "cell_type": "code",
   "execution_count": 278,
   "id": "83271caf",
   "metadata": {},
   "outputs": [],
   "source": [
    "def longestPalindrome(s: str) -> str:\n",
    "    res = \"\"\n",
    "    for i in range(len(s)):\n",
    "        finder1 = find_pal(s, i, i)\n",
    "        finder2 = find_pal(s, i, i+1)\n",
    "        res = max(res, finder1, finder2, key=len)\n",
    "        \n",
    "    return res\n",
    "\n",
    "def find_pal(s, left, right):\n",
    "    pal = ''\n",
    "    while left >=0 and right <= len(s)-1:\n",
    "        if s[left] != s[right]:\n",
    "            break\n",
    "        pal = s[left:right+1]\n",
    "        left -=1\n",
    "        right +=1\n",
    "    return pal"
   ]
  },
  {
   "cell_type": "code",
   "execution_count": 279,
   "id": "144b842f",
   "metadata": {},
   "outputs": [
    {
     "data": {
      "text/plain": [
       "'bab'"
      ]
     },
     "execution_count": 279,
     "metadata": {},
     "output_type": "execute_result"
    }
   ],
   "source": [
    "s = \"babad\"\n",
    "longestPalindrome(s)"
   ]
  },
  {
   "cell_type": "code",
   "execution_count": 280,
   "id": "9b30d3a9",
   "metadata": {},
   "outputs": [
    {
     "data": {
      "text/plain": [
       "'bb'"
      ]
     },
     "execution_count": 280,
     "metadata": {},
     "output_type": "execute_result"
    }
   ],
   "source": [
    "s = \"cbbd\"\n",
    "longestPalindrome(s)"
   ]
  },
  {
   "cell_type": "code",
   "execution_count": 281,
   "id": "70d3e33b",
   "metadata": {},
   "outputs": [
    {
     "data": {
      "text/plain": [
       "'a'"
      ]
     },
     "execution_count": 281,
     "metadata": {},
     "output_type": "execute_result"
    }
   ],
   "source": [
    "s = \"a\"\n",
    "longestPalindrome(s)"
   ]
  },
  {
   "cell_type": "code",
   "execution_count": 282,
   "id": "a2aef9e5",
   "metadata": {},
   "outputs": [
    {
     "data": {
      "text/plain": [
       "'a'"
      ]
     },
     "execution_count": 282,
     "metadata": {},
     "output_type": "execute_result"
    }
   ],
   "source": [
    "s = \"ac\"\n",
    "longestPalindrome(s)"
   ]
  },
  {
   "cell_type": "code",
   "execution_count": 283,
   "id": "022f87f4",
   "metadata": {},
   "outputs": [
    {
     "data": {
      "text/plain": [
       "''"
      ]
     },
     "execution_count": 283,
     "metadata": {},
     "output_type": "execute_result"
    }
   ],
   "source": [
    "s = \"\"\n",
    "longestPalindrome(s)"
   ]
  },
  {
   "cell_type": "code",
   "execution_count": 284,
   "id": "1954f0e8",
   "metadata": {},
   "outputs": [
    {
     "data": {
      "text/plain": [
       "'bb'"
      ]
     },
     "execution_count": 284,
     "metadata": {},
     "output_type": "execute_result"
    }
   ],
   "source": [
    "s = \"bb\"\n",
    "longestPalindrome(s)"
   ]
  },
  {
   "cell_type": "code",
   "execution_count": 285,
   "id": "8e2fa899",
   "metadata": {},
   "outputs": [
    {
     "data": {
      "text/plain": [
       "'xnnx'"
      ]
     },
     "execution_count": 285,
     "metadata": {},
     "output_type": "execute_result"
    }
   ],
   "source": [
    "s = \"borcdubqiupahpwjizjjbkncelfazeqynfbrnzuvbhjnyvrlkdyfyjjxnprfocrmisugizsgvhszooktdwhehojbrdbtgkiwkhpfjfcstwcajiuediebdhukqnroxbgtvottummbypokdljjvnthcbesoyigscekrqswdpalnjnhcnqrarxuufzzmkwizptyvjhpfidgmskuaggtpxqisdlyloznkarxofzeeyvteynluofuhbllyiszszbwnsglqjkignusarxsjvctpgiwnhdufmfpanfwxjwlmhgllzsmdpncbwnsbdtsvrjybynifywkulqnzprcxockbhrhvnwxrkvwumyieazclcviumvormynbryaziijpdinwatwqppamfiqfiojgwkvfzyxadyfjrgmtttvlgkqghgbcfhkigfojjkhskzenlpasyozcsuccdxhulcubsgomvcrbqwakrraesfifecmoztayrdjicypakrrneulfbqqxtrdelggedvloebqaztmfyfkhuonrognejxpesmwgnmnnnamvkxqvzrgzdqtvuhccryeowywmbixktnkqnwzlzfvloyqcageugmjqihyjxhssmhkfzxpzxmgpjgsduogfolnkkqizitbvvgrkczmojxnabruwwzxxqcevdwvtiigwckpxnnxxxdhxpgomncttjutrsvyrqcfwxhexhaguddkiesmfrqfjfdaqbkeqinwicphktffuwcazlmerdhraufbpcznbuipmymipxbsdhuesmcwnkdvilqbnkaglloswcpqzdggnhjdkkumfuzihilrpcvemwllicoqiugobhrwdxtoefynqmccamhdtxujfudbglmiwqklriolqfkknbmindxtljulnxhipsieyohnczddabrxzjmompbtnnxvivmoyfzfrxlufowtqzojfclmatthjtbhotdoheusnpirwicbtyrcuojsdmfcx\"\n",
    "longestPalindrome(s)"
   ]
  },
  {
   "cell_type": "markdown",
   "id": "6ee5a361",
   "metadata": {},
   "source": [
    "40% faster\n",
    "\n",
    "---"
   ]
  },
  {
   "cell_type": "code",
   "execution_count": null,
   "id": "f2505a87",
   "metadata": {},
   "outputs": [],
   "source": [
    "def convert(self, s: str, numRows: int) -> str:\n",
    "    "
   ]
  },
  {
   "cell_type": "code",
   "execution_count": 287,
   "id": "7f460049",
   "metadata": {},
   "outputs": [
    {
     "data": {
      "text/plain": [
       "('P', 'A', 'H', 'N')"
      ]
     },
     "execution_count": 287,
     "metadata": {},
     "output_type": "execute_result"
    }
   ],
   "source": [
    "s = \"PAYPALISHIRING\"\n",
    "numRows = 3\n",
    "#n+(n-2)\n",
    "s[0], s[4], s[8], s[12]#, s[16]\n"
   ]
  },
  {
   "cell_type": "markdown",
   "id": "4e24dd3a",
   "metadata": {},
   "source": [
    "### atoi"
   ]
  },
  {
   "cell_type": "code",
   "execution_count": 348,
   "id": "d42c6f76",
   "metadata": {},
   "outputs": [],
   "source": [
    "def atoi(s: str) -> int:\n",
    "    s = s.strip()\n",
    "    if not s: return 0\n",
    "    if s[0] in ('-', '+'):\n",
    "        neg = '-' if s[0] == '-' else ''\n",
    "        s = s[1:]\n",
    "    else:\n",
    "        neg = ''\n",
    "    \n",
    "    digits = ''\n",
    "    for i in s:\n",
    "        if not i.isdigit(): break\n",
    "        else: digits += i\n",
    "    if not digits: return 0\n",
    "    \n",
    "    print(neg, digits)\n",
    "    num = int(neg+digits)\n",
    "    if -2**31 > num: return -2**31\n",
    "    elif num > (2**31) - 1: return 2**31 -1\n",
    "    else: return num\n",
    "        "
   ]
  },
  {
   "cell_type": "code",
   "execution_count": null,
   "id": "1d65b908",
   "metadata": {},
   "outputs": [],
   "source": []
  },
  {
   "cell_type": "code",
   "execution_count": 336,
   "id": "d8982ec8",
   "metadata": {},
   "outputs": [
    {
     "name": "stdout",
     "output_type": "stream",
     "text": [
      " 42\n"
     ]
    },
    {
     "data": {
      "text/plain": [
       "42"
      ]
     },
     "execution_count": 336,
     "metadata": {},
     "output_type": "execute_result"
    }
   ],
   "source": [
    "s = \"42\"\n",
    "atoi(s)"
   ]
  },
  {
   "cell_type": "code",
   "execution_count": 337,
   "id": "9d43bd8a",
   "metadata": {},
   "outputs": [
    {
     "name": "stdout",
     "output_type": "stream",
     "text": [
      "- 42\n"
     ]
    },
    {
     "data": {
      "text/plain": [
       "-42"
      ]
     },
     "execution_count": 337,
     "metadata": {},
     "output_type": "execute_result"
    }
   ],
   "source": [
    "s = \"   -42\"\n",
    "atoi(s)"
   ]
  },
  {
   "cell_type": "code",
   "execution_count": 338,
   "id": "9120fa8d",
   "metadata": {},
   "outputs": [
    {
     "name": "stdout",
     "output_type": "stream",
     "text": [
      " 4193\n"
     ]
    },
    {
     "data": {
      "text/plain": [
       "4193"
      ]
     },
     "execution_count": 338,
     "metadata": {},
     "output_type": "execute_result"
    }
   ],
   "source": [
    "s = \"4193 with words\"\n",
    "atoi(s)"
   ]
  },
  {
   "cell_type": "code",
   "execution_count": 339,
   "id": "8e433de6",
   "metadata": {},
   "outputs": [
    {
     "data": {
      "text/plain": [
       "0"
      ]
     },
     "execution_count": 339,
     "metadata": {},
     "output_type": "execute_result"
    }
   ],
   "source": [
    "s = \"words and 987\"\n",
    "atoi(s)"
   ]
  },
  {
   "cell_type": "code",
   "execution_count": 340,
   "id": "2d7284d0",
   "metadata": {},
   "outputs": [
    {
     "name": "stdout",
     "output_type": "stream",
     "text": [
      "- 91283472332\n"
     ]
    },
    {
     "data": {
      "text/plain": [
       "-2147483648"
      ]
     },
     "execution_count": 340,
     "metadata": {},
     "output_type": "execute_result"
    }
   ],
   "source": [
    "s = \"-91283472332\"\n",
    "atoi(s)"
   ]
  },
  {
   "cell_type": "code",
   "execution_count": 349,
   "id": "b7dd3874",
   "metadata": {},
   "outputs": [
    {
     "data": {
      "text/plain": [
       "0"
      ]
     },
     "execution_count": 349,
     "metadata": {},
     "output_type": "execute_result"
    }
   ],
   "source": [
    "s = \" \"\n",
    "atoi(s)"
   ]
  },
  {
   "cell_type": "code",
   "execution_count": 351,
   "id": "50dd876c",
   "metadata": {},
   "outputs": [
    {
     "data": {
      "text/plain": [
       "False"
      ]
     },
     "execution_count": 351,
     "metadata": {},
     "output_type": "execute_result"
    }
   ],
   "source": [
    "\"+\".isdigit()"
   ]
  },
  {
   "cell_type": "markdown",
   "id": "8d3cc1a5",
   "metadata": {},
   "source": [
    "45% faster\n",
    "\n",
    "---"
   ]
  },
  {
   "cell_type": "code",
   "execution_count": null,
   "id": "3eee6d2d",
   "metadata": {},
   "outputs": [],
   "source": []
  }
 ],
 "metadata": {
  "kernelspec": {
   "display_name": "Python 3 (ipykernel)",
   "language": "python",
   "name": "python3"
  },
  "language_info": {
   "codemirror_mode": {
    "name": "ipython",
    "version": 3
   },
   "file_extension": ".py",
   "mimetype": "text/x-python",
   "name": "python",
   "nbconvert_exporter": "python",
   "pygments_lexer": "ipython3",
   "version": "3.8.5"
  }
 },
 "nbformat": 4,
 "nbformat_minor": 5
}
