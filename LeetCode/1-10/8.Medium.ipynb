{
 "cells": [
  {
   "cell_type": "markdown",
   "id": "c613b2bd",
   "metadata": {},
   "source": [
    "### 29. 3 sum"
   ]
  },
  {
   "cell_type": "code",
   "execution_count": 3,
   "id": "54f3c4bc",
   "metadata": {},
   "outputs": [],
   "source": [
    "class Solution:\n",
    "    def threeSum(self, nums: list) -> list:\n",
    "        triplets = []\n",
    "        nums.sort()\n",
    "        for i in range(len(nums)-2):\n",
    "            if nums[i] > 0: break\n",
    "            if i > 0 and nums[i] == nums[i-1]: continue\n",
    "            j = i+1\n",
    "            k = len(nums)-1\n",
    "            while j < k:\n",
    "                s = nums[i] + nums[j] + nums[k]\n",
    "                if s > 0: k -= 1\n",
    "                elif s < 0: j += 1\n",
    "                else:\n",
    "                    triplets.append([nums[i], nums[j], nums[k]])\n",
    "                    while j < k and nums[j] == nums[j+1]: j += 1\n",
    "                    while j < k and nums[k] == nums[k-1]: k -= 1\n",
    "                    j += 1\n",
    "                    k -= 1\n",
    "        return triplets\n"
   ]
  },
  {
   "cell_type": "code",
   "execution_count": null,
   "id": "93000b25",
   "metadata": {},
   "outputs": [],
   "source": []
  },
  {
   "cell_type": "markdown",
   "id": "c6f5c122",
   "metadata": {},
   "source": [
    "### 30. 3sum Closest"
   ]
  },
  {
   "cell_type": "code",
   "execution_count": 5,
   "id": "e6279d48",
   "metadata": {},
   "outputs": [],
   "source": [
    "class Solution:\n",
    "    def threeSumClosest(self, nums: list, target: int) -> int:\n",
    "        nums.sort()\n",
    "        closest = float('inf')\n",
    "        for i in range(len(nums)-2):\n",
    "            j, k = i + 1, len(nums)-1\n",
    "            while j < k:\n",
    "                val = nums[i] + nums[j] + nums[k]\n",
    "                print(val)\n",
    "                if abs(closest-target) > abs(val-target):\n",
    "                    closest = val\n",
    "                if val > target:\n",
    "                    k -= 1\n",
    "                elif val < target:\n",
    "                    j += 1\n",
    "                elif val == target:\n",
    "                    return val\n",
    "        return closest"
   ]
  },
  {
   "cell_type": "code",
   "execution_count": 7,
   "id": "2d6cbcc3",
   "metadata": {},
   "outputs": [],
   "source": [
    "nums = [-1,2,1,-4]\n",
    "target = 1\n"
   ]
  },
  {
   "cell_type": "markdown",
   "id": "cbdd19f7",
   "metadata": {},
   "source": [
    "### 31. 4 sum"
   ]
  },
  {
   "cell_type": "code",
   "execution_count": null,
   "id": "fa792a9c",
   "metadata": {},
   "outputs": [],
   "source": []
  },
  {
   "cell_type": "markdown",
   "id": "4923f8e7",
   "metadata": {},
   "source": [
    "### 32. Find First and Last Position of Element in Sorted Array"
   ]
  },
  {
   "cell_type": "code",
   "execution_count": 131,
   "id": "eda90aff",
   "metadata": {},
   "outputs": [],
   "source": [
    "class Solution:\n",
    "    def searchRange(self, nums: list, target: int) -> list:\n",
    "        if not nums: return -1, -1\n",
    "        occr = self.find_item(nums, target)\n",
    "        print(occr)\n",
    "        if occr == 0: return 0, self.find_ends(nums, occr, start=False)\n",
    "        if occr == -1: return [-1, -1]\n",
    "        return self.find_ends(nums, occr), self.find_ends(nums, occr, start=False)\n",
    "        \n",
    "    def find_ends(self, nums, occr, start=True):\n",
    "        if start:\n",
    "            if 0 <= occr - 1 < len(nums) and nums[occr - 1] != nums[occr]: return occr\n",
    "            if nums[occr - 1] == nums[occr]: return self.find_ends(nums, occr-1, start=True)\n",
    "        else:\n",
    "            if occr + 1 >= len(nums): return occr\n",
    "            if occr + 1 < len(nums) and nums[occr + 1] != nums[occr]: return occr\n",
    "            if nums[occr + 1] == nums[occr]: return self.find_ends(nums, occr+1, start=False)\n",
    "    \n",
    "    def find_item(self, nums, target):\n",
    "        if target == nums[0]:\n",
    "            return 0\n",
    "        low = 0\n",
    "        high = len(nums)-1\n",
    "        mid = (low + high)//2\n",
    "        while low <= high:\n",
    "            mid = (low + high)//2\n",
    "            if nums[mid] == target:\n",
    "                return mid\n",
    "            if nums[mid] > target:\n",
    "                high = mid - 1\n",
    "            else:\n",
    "                low = mid + 1\n",
    "        return -1\n",
    "    \n",
    "        "
   ]
  },
  {
   "cell_type": "code",
   "execution_count": 132,
   "id": "9c2b45d7",
   "metadata": {},
   "outputs": [
    {
     "name": "stdout",
     "output_type": "stream",
     "text": [
      "4\n"
     ]
    },
    {
     "data": {
      "text/plain": [
       "(3, 4)"
      ]
     },
     "execution_count": 132,
     "metadata": {},
     "output_type": "execute_result"
    }
   ],
   "source": [
    "nums = [5,7,7,8,8,10]\n",
    "target = 8\n",
    "s = Solution()\n",
    "s.searchRange(nums, target)"
   ]
  },
  {
   "cell_type": "code",
   "execution_count": 133,
   "id": "52515561",
   "metadata": {},
   "outputs": [
    {
     "name": "stdout",
     "output_type": "stream",
     "text": [
      "-1\n"
     ]
    },
    {
     "data": {
      "text/plain": [
       "[-1, -1]"
      ]
     },
     "execution_count": 133,
     "metadata": {},
     "output_type": "execute_result"
    }
   ],
   "source": [
    "nums = [5,7,7,8,8,10]\n",
    "target = 6\n",
    "s.searchRange(nums, target)"
   ]
  },
  {
   "cell_type": "code",
   "execution_count": 134,
   "id": "a76b4662",
   "metadata": {},
   "outputs": [
    {
     "data": {
      "text/plain": [
       "(-1, -1)"
      ]
     },
     "execution_count": 134,
     "metadata": {},
     "output_type": "execute_result"
    }
   ],
   "source": [
    "nums = []\n",
    "target = 0\n",
    "s.searchRange(nums, target)"
   ]
  },
  {
   "cell_type": "code",
   "execution_count": 135,
   "id": "c6523a98",
   "metadata": {},
   "outputs": [
    {
     "name": "stdout",
     "output_type": "stream",
     "text": [
      "0\n"
     ]
    },
    {
     "data": {
      "text/plain": [
       "(0, 0)"
      ]
     },
     "execution_count": 135,
     "metadata": {},
     "output_type": "execute_result"
    }
   ],
   "source": [
    "nums = [1]\n",
    "target = 1\n",
    "s.searchRange(nums, target)"
   ]
  },
  {
   "cell_type": "code",
   "execution_count": null,
   "id": "2c5f5ef2",
   "metadata": {},
   "outputs": [],
   "source": []
  }
 ],
 "metadata": {
  "kernelspec": {
   "display_name": "Python 3 (ipykernel)",
   "language": "python",
   "name": "python3"
  },
  "language_info": {
   "codemirror_mode": {
    "name": "ipython",
    "version": 3
   },
   "file_extension": ".py",
   "mimetype": "text/x-python",
   "name": "python",
   "nbconvert_exporter": "python",
   "pygments_lexer": "ipython3",
   "version": "3.8.5"
  }
 },
 "nbformat": 4,
 "nbformat_minor": 5
}
