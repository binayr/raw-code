{
 "cells": [
  {
   "cell_type": "markdown",
   "id": "99b3d55a",
   "metadata": {},
   "source": [
    "### 33.Next Permutation"
   ]
  },
  {
   "cell_type": "code",
   "execution_count": 46,
   "id": "1c33656e",
   "metadata": {},
   "outputs": [],
   "source": [
    "import itertools\n",
    "class Solution:\n",
    "    def nextPermutation(self, nums: list) -> None:\n",
    "        \"\"\"\n",
    "        Do not return anything, modify nums in-place instead.\n",
    "        \"\"\"\n",
    "        converted = [''.join(map(str, i)) for i in itertools.permutations(nums)]\n",
    "        num = \"\".join(map(str, nums))\n",
    "        _id = converted.index(num)\n",
    "        if _id == len(converted) -1:\n",
    "            return self.str_to_num(converted[0])\n",
    "        else:\n",
    "            return self.str_to_num(converted[_id +1])\n",
    "    \n",
    "    def str_to_num(self, num):\n",
    "        return list(map(int, list(num)))\n",
    "        "
   ]
  },
  {
   "cell_type": "code",
   "execution_count": 47,
   "id": "3fa9c115",
   "metadata": {},
   "outputs": [
    {
     "data": {
      "text/plain": [
       "[1, 3, 2]"
      ]
     },
     "execution_count": 47,
     "metadata": {},
     "output_type": "execute_result"
    }
   ],
   "source": [
    "s = Solution()\n",
    "s.nextPermutation([1,2,3])"
   ]
  },
  {
   "cell_type": "code",
   "execution_count": 42,
   "id": "a60b5038",
   "metadata": {},
   "outputs": [
    {
     "data": {
      "text/plain": [
       "[3, 1, 2]"
      ]
     },
     "execution_count": 42,
     "metadata": {},
     "output_type": "execute_result"
    }
   ],
   "source": [
    "nums = [3,2,1]\n",
    "s.nextPermutation(nums)"
   ]
  },
  {
   "cell_type": "code",
   "execution_count": 43,
   "id": "6c8ea063",
   "metadata": {},
   "outputs": [
    {
     "data": {
      "text/plain": [
       "[1, 5, 1]"
      ]
     },
     "execution_count": 43,
     "metadata": {},
     "output_type": "execute_result"
    }
   ],
   "source": [
    "nums = [1,1,5]\n",
    "s.nextPermutation(nums)"
   ]
  },
  {
   "cell_type": "code",
   "execution_count": 44,
   "id": "d471d484",
   "metadata": {},
   "outputs": [
    {
     "data": {
      "text/plain": [
       "[1]"
      ]
     },
     "execution_count": 44,
     "metadata": {},
     "output_type": "execute_result"
    }
   ],
   "source": [
    "nums = [1]\n",
    "s.nextPermutation(nums)"
   ]
  },
  {
   "cell_type": "code",
   "execution_count": 45,
   "id": "cc7bb9a0",
   "metadata": {},
   "outputs": [
    {
     "data": {
      "text/plain": [
       "[]"
      ]
     },
     "execution_count": 45,
     "metadata": {},
     "output_type": "execute_result"
    }
   ],
   "source": [
    "nums = []\n",
    "s.nextPermutation(nums)"
   ]
  },
  {
   "cell_type": "code",
   "execution_count": 79,
   "id": "12dd4abd",
   "metadata": {},
   "outputs": [],
   "source": [
    "nums = [1,2,3]\n",
    "def next_per(nums):\n",
    "    num, hold = arr_to_num(nums), arr_to_num(nums)\n",
    "    n = i = len(nums) - 1\n",
    "    while n>=0:\n",
    "        if nums[n] > nums[n-1]:\n",
    "            nums[n], nums[n-1] = nums[n-1], nums[n]\n",
    "            hold = arr_to_num(nums)\n",
    "            i = len(nums) - 1\n",
    "            while i >= 1:\n",
    "                nums[i], nums[i-1] = nums[i-1], nums[i]\n",
    "                if num < arr_to_num(nums) < hold:\n",
    "                    hold = arr_to_num(nums)\n",
    "                i -= 1\n",
    "        n -=1\n",
    "    return hold\n",
    "    \n",
    "def arr_to_num(arr):\n",
    "    return int(\"\".join(map(str, arr)))"
   ]
  },
  {
   "cell_type": "code",
   "execution_count": 80,
   "id": "fd0d2f73",
   "metadata": {},
   "outputs": [
    {
     "data": {
      "text/plain": [
       "132"
      ]
     },
     "execution_count": 80,
     "metadata": {},
     "output_type": "execute_result"
    }
   ],
   "source": [
    "next_per(nums)"
   ]
  },
  {
   "cell_type": "code",
   "execution_count": 81,
   "id": "5d8b524e",
   "metadata": {},
   "outputs": [
    {
     "data": {
      "text/plain": [
       "123"
      ]
     },
     "execution_count": 81,
     "metadata": {},
     "output_type": "execute_result"
    }
   ],
   "source": [
    "nums = [3,2,1]\n",
    "next_per(nums)"
   ]
  },
  {
   "cell_type": "code",
   "execution_count": 82,
   "id": "d89bb523",
   "metadata": {},
   "outputs": [
    {
     "data": {
      "text/plain": [
       "151"
      ]
     },
     "execution_count": 82,
     "metadata": {},
     "output_type": "execute_result"
    }
   ],
   "source": [
    "nums = [1,1,5]\n",
    "next_per(nums)"
   ]
  },
  {
   "cell_type": "code",
   "execution_count": 83,
   "id": "e659fe9e",
   "metadata": {},
   "outputs": [
    {
     "data": {
      "text/plain": [
       "132"
      ]
     },
     "execution_count": 83,
     "metadata": {},
     "output_type": "execute_result"
    }
   ],
   "source": [
    "nums = [1,3,2]\n",
    "next_per(nums)"
   ]
  },
  {
   "cell_type": "code",
   "execution_count": 84,
   "id": "34b73eb4",
   "metadata": {},
   "outputs": [],
   "source": [
    "def nextPermutation(nums: list) -> None:\n",
    "        swap_index = -1\n",
    "        for i in reversed(range(1, len(nums))):\n",
    "            if nums[i] > nums[i-1]: \n",
    "                swap_index = i-1\n",
    "                break\n",
    "        if swap_index == -1: \n",
    "            nums.reverse()\n",
    "            return nums\n",
    "        for i in reversed(range(swap_index, len(nums))):\n",
    "            if nums[i] > nums[swap_index]: \n",
    "                nums[i], nums[swap_index] = nums[swap_index], nums[i]\n",
    "                break\n",
    "        def reverse(arr, l, r):\n",
    "            while l < r:\n",
    "                arr[l], arr[r] = arr[r], arr[l]\n",
    "                l += 1\n",
    "                r -= 1\n",
    "        reverse(nums, swap_index+1, len(nums)-1)\n",
    "        return nums"
   ]
  },
  {
   "cell_type": "code",
   "execution_count": 85,
   "id": "a307d14d",
   "metadata": {},
   "outputs": [
    {
     "data": {
      "text/plain": [
       "[2, 3, 1]"
      ]
     },
     "execution_count": 85,
     "metadata": {},
     "output_type": "execute_result"
    }
   ],
   "source": [
    "nextPermutation(nums)"
   ]
  },
  {
   "cell_type": "markdown",
   "id": "4c4d2793",
   "metadata": {},
   "source": [
    "### 34. find object in rotated sorted array"
   ]
  },
  {
   "cell_type": "code",
   "execution_count": 87,
   "id": "db1dd722",
   "metadata": {},
   "outputs": [],
   "source": [
    "class Solution(object):\n",
    "    \n",
    "    \n",
    "    def findPivot(self, nums):\n",
    "        \n",
    "        lo, hi = 0, len(nums)-1\n",
    "        \n",
    "        while(lo < hi):\n",
    "            mid = lo + ((hi-lo)/2)\n",
    "            if mid > 0 and nums[mid-1] > nums[mid]:\n",
    "                return mid\n",
    "            \n",
    "            if nums[0] > nums[mid]:\n",
    "                hi = mid-1\n",
    "                \n",
    "            else:\n",
    "                lo = mid+1\n",
    "                \n",
    "        return lo\n",
    "\n",
    "    def findIndex(self, nums, start, end, target):\n",
    "        \n",
    "        lo, hi = start, end\n",
    "        while(lo <= hi):\n",
    "            mid = lo + ((hi-lo)/2)\n",
    "            if nums[mid]==target:\n",
    "                return mid\n",
    "            elif nums[mid] > target:\n",
    "                hi = mid-1\n",
    "            else:\n",
    "                lo = mid+1\n",
    "                \n",
    "        return -1\n",
    "\n",
    "    def search(self, nums, target):\n",
    "        \"\"\"\n",
    "        :type nums: List[int]\n",
    "        :type target: int\n",
    "        :rtype: int\n",
    "        \"\"\"\n",
    "        \n",
    "        \n",
    "        pi = self.findPivot(nums)\n",
    "        if nums[pi] == target:\n",
    "            return pi\n",
    "        \n",
    "        loc1 = self.findIndex(nums, 0, pi-1, target)\n",
    "        if loc1!=-1:\n",
    "            return loc1\n",
    "        loc2 = self.findIndex(nums, pi+1, len(nums)-1, target)\n",
    "        return loc2"
   ]
  },
  {
   "cell_type": "markdown",
   "id": "34f0a635",
   "metadata": {},
   "source": [
    "### 35. Valid Sudoku"
   ]
  },
  {
   "cell_type": "code",
   "execution_count": 128,
   "id": "691d2312",
   "metadata": {},
   "outputs": [],
   "source": [
    "class Solution:\n",
    "    def isValidSudoku(self, board: list) -> bool:\n",
    "        hashmap = {}\n",
    "        mapper = {\n",
    "            (0,0): \"box_1\", (0,1): \"box_2\", (0,2): \"box_3\", (1,0): \"box_4\", (1,1): \"box_5\",\n",
    "            (1,2): \"box_6\", (2,0): \"box_7\", (2,1): \"box_8\", (2,2): \"box_9\",  (0,3): \"box\", (1,3): \"box\", (2,3): \"box\",\n",
    "        }\n",
    "        for row in range(1, len(board[0])+1):\n",
    "            row_key = \"row_{}\".format(row)\n",
    "            row_box = row // 3\n",
    "            if not row_key in hashmap: hashmap[row_key] = [0 for i in range(len(board[0])+1)]\n",
    "            for col in range(1, len(board[0])+1):\n",
    "                col_key = \"col_{}\".format(col)\n",
    "                col_box = col // 3\n",
    "\n",
    "                box_key = mapper[((row-1)//3, (col-1)//3)]\n",
    "                if not box_key in hashmap: hashmap[box_key] = [0 for i in range(len(board[0])+1)]\n",
    "\n",
    "                if not col_key in hashmap: hashmap[col_key] = [0 for i in range(len(board[0])+1)]\n",
    "\n",
    "                try:\n",
    "                    if hashmap[row_key][int(board[row-1][col-1])]:\n",
    "                        return False\n",
    "                    else:\n",
    "                        hashmap[row_key][int(board[row-1][col-1])] = board[row-1][col-1]\n",
    "                except:\n",
    "                    pass\n",
    "\n",
    "                try:\n",
    "                    if hashmap[col_key][int(board[row-1][col-1])]:\n",
    "                        return False\n",
    "                    else:\n",
    "                        hashmap[col_key][int(board[row-1][col-1])] = board[row-1][col-1]\n",
    "                except:\n",
    "                    pass\n",
    "\n",
    "                try:\n",
    "                    if hashmap[box_key][int(board[row-1][col-1])]:\n",
    "                        return False\n",
    "                    else:\n",
    "                        hashmap[box_key][int(board[row-1][col-1])] = board[row-1][col-1]\n",
    "                except:\n",
    "                    pass\n",
    "        #return hashmap\n",
    "        return True\n",
    "\n",
    "s = Solution()"
   ]
  },
  {
   "cell_type": "code",
   "execution_count": 124,
   "id": "6e27876c",
   "metadata": {},
   "outputs": [
    {
     "data": {
      "text/plain": [
       "[['5', '3', '.', '.', '7', '.', '.', '.', '.'],\n",
       " ['6', '.', '.', '1', '9', '5', '.', '.', '.'],\n",
       " ['.', '9', '8', '.', '.', '.', '.', '6', '.'],\n",
       " ['8', '.', '.', '.', '6', '.', '.', '.', '3'],\n",
       " ['4', '.', '.', '8', '.', '3', '.', '.', '1'],\n",
       " ['7', '.', '.', '.', '2', '.', '.', '.', '6'],\n",
       " ['.', '6', '.', '.', '.', '.', '2', '8', '.'],\n",
       " ['.', '.', '.', '4', '1', '9', '.', '.', '5'],\n",
       " ['.', '.', '.', '.', '8', '.', '.', '7', '9']]"
      ]
     },
     "execution_count": 124,
     "metadata": {},
     "output_type": "execute_result"
    }
   ],
   "source": [
    "board = [[\"5\",\"3\",\".\",\".\",\"7\",\".\",\".\",\".\",\".\"]\n",
    ",[\"6\",\".\",\".\",\"1\",\"9\",\"5\",\".\",\".\",\".\"]\n",
    ",[\".\",\"9\",\"8\",\".\",\".\",\".\",\".\",\"6\",\".\"]\n",
    ",[\"8\",\".\",\".\",\".\",\"6\",\".\",\".\",\".\",\"3\"]\n",
    ",[\"4\",\".\",\".\",\"8\",\".\",\"3\",\".\",\".\",\"1\"]\n",
    ",[\"7\",\".\",\".\",\".\",\"2\",\".\",\".\",\".\",\"6\"]\n",
    ",[\".\",\"6\",\".\",\".\",\".\",\".\",\"2\",\"8\",\".\"]\n",
    ",[\".\",\".\",\".\",\"4\",\"1\",\"9\",\".\",\".\",\"5\"]\n",
    ",[\".\",\".\",\".\",\".\",\"8\",\".\",\".\",\"7\",\"9\"]]\n",
    "board"
   ]
  },
  {
   "cell_type": "code",
   "execution_count": 129,
   "id": "f9aafb23",
   "metadata": {},
   "outputs": [
    {
     "data": {
      "text/plain": [
       "True"
      ]
     },
     "execution_count": 129,
     "metadata": {},
     "output_type": "execute_result"
    }
   ],
   "source": [
    "s.isValidSudoku(board)"
   ]
  },
  {
   "cell_type": "code",
   "execution_count": 130,
   "id": "16f57f35",
   "metadata": {},
   "outputs": [
    {
     "data": {
      "text/plain": [
       "[['8', '3', '.', '.', '7', '.', '.', '.', '.'],\n",
       " ['6', '.', '.', '1', '9', '5', '.', '.', '.'],\n",
       " ['.', '9', '8', '.', '.', '.', '.', '6', '.'],\n",
       " ['8', '.', '.', '.', '6', '.', '.', '.', '3'],\n",
       " ['4', '.', '.', '8', '.', '3', '.', '.', '1'],\n",
       " ['7', '.', '.', '.', '2', '.', '.', '.', '6'],\n",
       " ['.', '6', '.', '.', '.', '.', '2', '8', '.'],\n",
       " ['.', '.', '.', '4', '1', '9', '.', '.', '5'],\n",
       " ['.', '.', '.', '.', '8', '.', '.', '7', '9']]"
      ]
     },
     "execution_count": 130,
     "metadata": {},
     "output_type": "execute_result"
    }
   ],
   "source": [
    "board = [[\"8\",\"3\",\".\",\".\",\"7\",\".\",\".\",\".\",\".\"]\n",
    ",[\"6\",\".\",\".\",\"1\",\"9\",\"5\",\".\",\".\",\".\"]\n",
    ",[\".\",\"9\",\"8\",\".\",\".\",\".\",\".\",\"6\",\".\"]\n",
    ",[\"8\",\".\",\".\",\".\",\"6\",\".\",\".\",\".\",\"3\"]\n",
    ",[\"4\",\".\",\".\",\"8\",\".\",\"3\",\".\",\".\",\"1\"]\n",
    ",[\"7\",\".\",\".\",\".\",\"2\",\".\",\".\",\".\",\"6\"]\n",
    ",[\".\",\"6\",\".\",\".\",\".\",\".\",\"2\",\"8\",\".\"]\n",
    ",[\".\",\".\",\".\",\"4\",\"1\",\"9\",\".\",\".\",\"5\"]\n",
    ",[\".\",\".\",\".\",\".\",\"8\",\".\",\".\",\"7\",\"9\"]]\n",
    "board"
   ]
  },
  {
   "cell_type": "code",
   "execution_count": 131,
   "id": "0f1e8ff2",
   "metadata": {},
   "outputs": [
    {
     "data": {
      "text/plain": [
       "False"
      ]
     },
     "execution_count": 131,
     "metadata": {},
     "output_type": "execute_result"
    }
   ],
   "source": [
    "s.isValidSudoku(board)"
   ]
  },
  {
   "cell_type": "markdown",
   "id": "e28eb4f5",
   "metadata": {},
   "source": [
    "### 36.Combination Sum II"
   ]
  },
  {
   "cell_type": "code",
   "execution_count": 140,
   "id": "c5e4657a",
   "metadata": {},
   "outputs": [],
   "source": [
    "from pprint import pprint"
   ]
  },
  {
   "cell_type": "code",
   "execution_count": 153,
   "id": "bf578336",
   "metadata": {},
   "outputs": [],
   "source": [
    "class Solution:\n",
    "    def combinationSum2(self, candidates: list, target: int) -> list:\n",
    "        \n",
    "\t\t# stores solution of 1 to target\n",
    "        dp = [ [] for _ in range(target+1)]\n",
    "        \n",
    "\t\t# Loop to generate solutions for 1 to target\n",
    "        for to_sum in range(target+1):\n",
    "            \n",
    "            sol = []\n",
    "\t\t\t\n",
    "            for candidate in candidates:\n",
    "                if candidate > target:\n",
    "                    continue\n",
    "\n",
    "                if candidate == to_sum and [candidate] not in sol:\n",
    "                    sol.append([candidate])\n",
    "                else:\n",
    "\t\t\t\t\t# find the solution for to_sum-candidate and just append candidate\n",
    "                    for sol_arr in dp[to_sum-candidate]:\n",
    "\t\t\t\t\t\t\n",
    "\t\t\t\t\t\t# this is to prevent duplicates in the simble combinationSum problem\n",
    "                        if candidate <= sol_arr[0]:\n",
    "                            combo = [candidate]\n",
    "                            combo += sol_arr\n",
    "\t\t\t\t\t\t\t# check count of candidates. \n",
    "\t\t\t\t\t\t\t# we know that we will loop through all candidates and will therefore check\n",
    "\t\t\t\t\t\t\t# all candidates for count. This part slows down the algorithm.\n",
    "                            if candidates.count(candidate) >= combo.count(candidate) \\\n",
    "\t\t\t\t\t\t\t   and combo not in sol:\n",
    "                                    sol.append(combo)\n",
    "                    \n",
    "            dp[to_sum] += sol\n",
    "        print(dp)\n",
    "        return dp[target]"
   ]
  },
  {
   "cell_type": "code",
   "execution_count": 154,
   "id": "2b27cde4",
   "metadata": {},
   "outputs": [],
   "source": [
    "s = Solution()"
   ]
  },
  {
   "cell_type": "code",
   "execution_count": 156,
   "id": "d4ef89b5",
   "metadata": {},
   "outputs": [
    {
     "name": "stdout",
     "output_type": "stream",
     "text": [
      "[[], [[1]], [[1, 1], [2]], [[1, 2]], [[1, 1, 2]], [[5]], [[1, 5], [6]], [[1, 1, 5], [1, 6], [2, 5], [7]], [[1, 1, 6], [1, 2, 5], [1, 7], [2, 6]]]\n"
     ]
    },
    {
     "data": {
      "text/plain": [
       "[[1, 1, 6], [1, 2, 5], [1, 7], [2, 6]]"
      ]
     },
     "execution_count": 156,
     "metadata": {},
     "output_type": "execute_result"
    }
   ],
   "source": [
    "candidates = [10,1,2,7,6,1,5]\n",
    "target = 8\n",
    "s.combinationSum2(candidates, target)"
   ]
  },
  {
   "cell_type": "code",
   "execution_count": null,
   "id": "f5b9d463",
   "metadata": {},
   "outputs": [],
   "source": []
  },
  {
   "cell_type": "code",
   "execution_count": 157,
   "id": "e1919f9f",
   "metadata": {},
   "outputs": [
    {
     "data": {
      "text/plain": [
       "48"
      ]
     },
     "execution_count": 157,
     "metadata": {},
     "output_type": "execute_result"
    }
   ],
   "source": [
    "ord('0')"
   ]
  },
  {
   "cell_type": "code",
   "execution_count": 160,
   "id": "0797cb1f",
   "metadata": {},
   "outputs": [
    {
     "data": {
      "text/plain": [
       "57"
      ]
     },
     "execution_count": 160,
     "metadata": {},
     "output_type": "execute_result"
    }
   ],
   "source": [
    "ord('9')"
   ]
  },
  {
   "cell_type": "code",
   "execution_count": 181,
   "id": "204440b5",
   "metadata": {},
   "outputs": [],
   "source": [
    "def toint(num):\n",
    "    n, i = len(num), 0\n",
    "    _sum = 0\n",
    "    while n > i:\n",
    "        _sum += (ord(num[i]) - ord('0')) * 10**(n-(i+1))\n",
    "        i +=1\n",
    "    return _sum"
   ]
  },
  {
   "cell_type": "code",
   "execution_count": 182,
   "id": "65ca6bd3",
   "metadata": {},
   "outputs": [
    {
     "data": {
      "text/plain": [
       "10010"
      ]
     },
     "execution_count": 182,
     "metadata": {},
     "output_type": "execute_result"
    }
   ],
   "source": [
    "toint('010010')"
   ]
  },
  {
   "cell_type": "code",
   "execution_count": 183,
   "id": "0d1bef01",
   "metadata": {},
   "outputs": [],
   "source": [
    "class Solution:\n",
    "    def multiply(self, num1: str, num2: str) -> str:\n",
    "        def toint(num):\n",
    "            n, i = len(num), 0\n",
    "            _sum = 0\n",
    "            while n > i:\n",
    "                _sum += (ord(num[i]) - ord('0')) * 10**(n-(i+1))\n",
    "                i +=1\n",
    "            return _sum\n",
    "        return toint(num1) * toint(num2)"
   ]
  },
  {
   "cell_type": "code",
   "execution_count": 184,
   "id": "387e9c44",
   "metadata": {},
   "outputs": [],
   "source": [
    "s = Solution()"
   ]
  },
  {
   "cell_type": "code",
   "execution_count": 185,
   "id": "c7f7b2d8",
   "metadata": {},
   "outputs": [
    {
     "data": {
      "text/plain": [
       "6"
      ]
     },
     "execution_count": 185,
     "metadata": {},
     "output_type": "execute_result"
    }
   ],
   "source": [
    "num1 = \"2\"\n",
    "num2 = \"3\"\n",
    "s.multiply(num1, num2)"
   ]
  },
  {
   "cell_type": "code",
   "execution_count": 186,
   "id": "8b87b6ce",
   "metadata": {},
   "outputs": [
    {
     "data": {
      "text/plain": [
       "56088"
      ]
     },
     "execution_count": 186,
     "metadata": {},
     "output_type": "execute_result"
    }
   ],
   "source": [
    "num1 = \"123\"\n",
    "num2 = \"456\"\n",
    "s.multiply(num1, num2)"
   ]
  },
  {
   "cell_type": "code",
   "execution_count": null,
   "id": "774c42ab",
   "metadata": {},
   "outputs": [],
   "source": []
  }
 ],
 "metadata": {
  "kernelspec": {
   "display_name": "Python 3 (ipykernel)",
   "language": "python",
   "name": "python3"
  },
  "language_info": {
   "codemirror_mode": {
    "name": "ipython",
    "version": 3
   },
   "file_extension": ".py",
   "mimetype": "text/x-python",
   "name": "python",
   "nbconvert_exporter": "python",
   "pygments_lexer": "ipython3",
   "version": "3.8.5"
  }
 },
 "nbformat": 4,
 "nbformat_minor": 5
}
